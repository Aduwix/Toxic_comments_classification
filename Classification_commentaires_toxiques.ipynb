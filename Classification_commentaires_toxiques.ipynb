{
  "nbformat": 4,
  "nbformat_minor": 0,
  "metadata": {
    "colab": {
      "name": "Classification_commentaires_toxiques.ipynb",
      "provenance": [],
      "collapsed_sections": [],
      "include_colab_link": true
    },
    "kernelspec": {
      "name": "python3",
      "display_name": "Python 3"
    },
    "language_info": {
      "name": "python"
    },
    "accelerator": "GPU"
  },
  "cells": [
    {
      "cell_type": "markdown",
      "metadata": {
        "id": "view-in-github",
        "colab_type": "text"
      },
      "source": [
        "<a href=\"https://colab.research.google.com/github/Aduwix/Toxic_comments_classification/blob/main/Classification_commentaires_toxiques.ipynb\" target=\"_parent\"><img src=\"https://colab.research.google.com/assets/colab-badge.svg\" alt=\"Open In Colab\"/></a>"
      ]
    },
    {
      "cell_type": "markdown",
      "source": [
        "# Importation des packages"
      ],
      "metadata": {
        "id": "_lyJzHuKRNWX"
      }
    },
    {
      "cell_type": "code",
      "execution_count": 32,
      "metadata": {
        "id": "MUj96QiIQsJ_"
      },
      "outputs": [],
      "source": [
        "import numpy as np\n",
        "import pandas as pd\n",
        "import matplotlib.pyplot as plt\n",
        "import tensorflow as tf\n",
        "\n",
        "import re\n",
        "import string\n",
        "import nltk\n",
        "\n",
        "from nltk.corpus import stopwords\n",
        "from nltk.tokenize import word_tokenize\n",
        "\n",
        "from sklearn.feature_extraction.text import TfidfVectorizer \n",
        "from sklearn.model_selection import train_test_split\n",
        "from sklearn.ensemble import RandomForestClassifier\n",
        "from sklearn.metrics import classification_report, confusion_matrix, accuracy_score"
      ]
    },
    {
      "cell_type": "markdown",
      "source": [
        "# Importation des données"
      ],
      "metadata": {
        "id": "xZLpUMItRWc0"
      }
    },
    {
      "cell_type": "markdown",
      "source": [
        "Ajoutez un raccourci de ce dossier à votre google drive :\n",
        "\n",
        "https://drive.google.com/drive/folders/1mx-CAzT10YKrmxHfYDP_1Oef7PVGUr7s?usp=sharing"
      ],
      "metadata": {
        "id": "cbE3MzVKRaV2"
      }
    },
    {
      "cell_type": "code",
      "source": [
        "from google.colab import drive\n",
        "drive.mount('/content/drive', force_remount=True)"
      ],
      "metadata": {
        "colab": {
          "base_uri": "https://localhost:8080/"
        },
        "id": "4FktfCVaRVrs",
        "outputId": "5e153a69-a323-4840-89ee-91261031a4ee"
      },
      "execution_count": 33,
      "outputs": [
        {
          "output_type": "stream",
          "name": "stdout",
          "text": [
            "Mounted at /content/drive\n"
          ]
        }
      ]
    },
    {
      "cell_type": "code",
      "source": [
        "data = pd.read_csv('/content/drive/MyDrive/data_classification_commentaires_toxiques/train.csv')\n",
        "data.head()"
      ],
      "metadata": {
        "colab": {
          "base_uri": "https://localhost:8080/",
          "height": 204
        },
        "id": "qky64Lq8Rocy",
        "outputId": "f0bb2fdf-5789-4152-fe3d-9ad67dc5d309"
      },
      "execution_count": 34,
      "outputs": [
        {
          "output_type": "execute_result",
          "data": {
            "text/plain": [
              "                 id                                       comment_text  toxic  \\\n",
              "0  0000997932d777bf  Explanation\\nWhy the edits made under my usern...      0   \n",
              "1  000103f0d9cfb60f  D'aww! He matches this background colour I'm s...      0   \n",
              "2  000113f07ec002fd  Hey man, I'm really not trying to edit war. It...      0   \n",
              "3  0001b41b1c6bb37e  \"\\nMore\\nI can't make any real suggestions on ...      0   \n",
              "4  0001d958c54c6e35  You, sir, are my hero. Any chance you remember...      0   \n",
              "\n",
              "   severe_toxic  obscene  threat  insult  identity_hate  \n",
              "0             0        0       0       0              0  \n",
              "1             0        0       0       0              0  \n",
              "2             0        0       0       0              0  \n",
              "3             0        0       0       0              0  \n",
              "4             0        0       0       0              0  "
            ],
            "text/html": [
              "\n",
              "  <div id=\"df-0ee5beeb-3fe0-44db-9aca-50c513f918e8\">\n",
              "    <div class=\"colab-df-container\">\n",
              "      <div>\n",
              "<style scoped>\n",
              "    .dataframe tbody tr th:only-of-type {\n",
              "        vertical-align: middle;\n",
              "    }\n",
              "\n",
              "    .dataframe tbody tr th {\n",
              "        vertical-align: top;\n",
              "    }\n",
              "\n",
              "    .dataframe thead th {\n",
              "        text-align: right;\n",
              "    }\n",
              "</style>\n",
              "<table border=\"1\" class=\"dataframe\">\n",
              "  <thead>\n",
              "    <tr style=\"text-align: right;\">\n",
              "      <th></th>\n",
              "      <th>id</th>\n",
              "      <th>comment_text</th>\n",
              "      <th>toxic</th>\n",
              "      <th>severe_toxic</th>\n",
              "      <th>obscene</th>\n",
              "      <th>threat</th>\n",
              "      <th>insult</th>\n",
              "      <th>identity_hate</th>\n",
              "    </tr>\n",
              "  </thead>\n",
              "  <tbody>\n",
              "    <tr>\n",
              "      <th>0</th>\n",
              "      <td>0000997932d777bf</td>\n",
              "      <td>Explanation\\nWhy the edits made under my usern...</td>\n",
              "      <td>0</td>\n",
              "      <td>0</td>\n",
              "      <td>0</td>\n",
              "      <td>0</td>\n",
              "      <td>0</td>\n",
              "      <td>0</td>\n",
              "    </tr>\n",
              "    <tr>\n",
              "      <th>1</th>\n",
              "      <td>000103f0d9cfb60f</td>\n",
              "      <td>D'aww! He matches this background colour I'm s...</td>\n",
              "      <td>0</td>\n",
              "      <td>0</td>\n",
              "      <td>0</td>\n",
              "      <td>0</td>\n",
              "      <td>0</td>\n",
              "      <td>0</td>\n",
              "    </tr>\n",
              "    <tr>\n",
              "      <th>2</th>\n",
              "      <td>000113f07ec002fd</td>\n",
              "      <td>Hey man, I'm really not trying to edit war. It...</td>\n",
              "      <td>0</td>\n",
              "      <td>0</td>\n",
              "      <td>0</td>\n",
              "      <td>0</td>\n",
              "      <td>0</td>\n",
              "      <td>0</td>\n",
              "    </tr>\n",
              "    <tr>\n",
              "      <th>3</th>\n",
              "      <td>0001b41b1c6bb37e</td>\n",
              "      <td>\"\\nMore\\nI can't make any real suggestions on ...</td>\n",
              "      <td>0</td>\n",
              "      <td>0</td>\n",
              "      <td>0</td>\n",
              "      <td>0</td>\n",
              "      <td>0</td>\n",
              "      <td>0</td>\n",
              "    </tr>\n",
              "    <tr>\n",
              "      <th>4</th>\n",
              "      <td>0001d958c54c6e35</td>\n",
              "      <td>You, sir, are my hero. Any chance you remember...</td>\n",
              "      <td>0</td>\n",
              "      <td>0</td>\n",
              "      <td>0</td>\n",
              "      <td>0</td>\n",
              "      <td>0</td>\n",
              "      <td>0</td>\n",
              "    </tr>\n",
              "  </tbody>\n",
              "</table>\n",
              "</div>\n",
              "      <button class=\"colab-df-convert\" onclick=\"convertToInteractive('df-0ee5beeb-3fe0-44db-9aca-50c513f918e8')\"\n",
              "              title=\"Convert this dataframe to an interactive table.\"\n",
              "              style=\"display:none;\">\n",
              "        \n",
              "  <svg xmlns=\"http://www.w3.org/2000/svg\" height=\"24px\"viewBox=\"0 0 24 24\"\n",
              "       width=\"24px\">\n",
              "    <path d=\"M0 0h24v24H0V0z\" fill=\"none\"/>\n",
              "    <path d=\"M18.56 5.44l.94 2.06.94-2.06 2.06-.94-2.06-.94-.94-2.06-.94 2.06-2.06.94zm-11 1L8.5 8.5l.94-2.06 2.06-.94-2.06-.94L8.5 2.5l-.94 2.06-2.06.94zm10 10l.94 2.06.94-2.06 2.06-.94-2.06-.94-.94-2.06-.94 2.06-2.06.94z\"/><path d=\"M17.41 7.96l-1.37-1.37c-.4-.4-.92-.59-1.43-.59-.52 0-1.04.2-1.43.59L10.3 9.45l-7.72 7.72c-.78.78-.78 2.05 0 2.83L4 21.41c.39.39.9.59 1.41.59.51 0 1.02-.2 1.41-.59l7.78-7.78 2.81-2.81c.8-.78.8-2.07 0-2.86zM5.41 20L4 18.59l7.72-7.72 1.47 1.35L5.41 20z\"/>\n",
              "  </svg>\n",
              "      </button>\n",
              "      \n",
              "  <style>\n",
              "    .colab-df-container {\n",
              "      display:flex;\n",
              "      flex-wrap:wrap;\n",
              "      gap: 12px;\n",
              "    }\n",
              "\n",
              "    .colab-df-convert {\n",
              "      background-color: #E8F0FE;\n",
              "      border: none;\n",
              "      border-radius: 50%;\n",
              "      cursor: pointer;\n",
              "      display: none;\n",
              "      fill: #1967D2;\n",
              "      height: 32px;\n",
              "      padding: 0 0 0 0;\n",
              "      width: 32px;\n",
              "    }\n",
              "\n",
              "    .colab-df-convert:hover {\n",
              "      background-color: #E2EBFA;\n",
              "      box-shadow: 0px 1px 2px rgba(60, 64, 67, 0.3), 0px 1px 3px 1px rgba(60, 64, 67, 0.15);\n",
              "      fill: #174EA6;\n",
              "    }\n",
              "\n",
              "    [theme=dark] .colab-df-convert {\n",
              "      background-color: #3B4455;\n",
              "      fill: #D2E3FC;\n",
              "    }\n",
              "\n",
              "    [theme=dark] .colab-df-convert:hover {\n",
              "      background-color: #434B5C;\n",
              "      box-shadow: 0px 1px 3px 1px rgba(0, 0, 0, 0.15);\n",
              "      filter: drop-shadow(0px 1px 2px rgba(0, 0, 0, 0.3));\n",
              "      fill: #FFFFFF;\n",
              "    }\n",
              "  </style>\n",
              "\n",
              "      <script>\n",
              "        const buttonEl =\n",
              "          document.querySelector('#df-0ee5beeb-3fe0-44db-9aca-50c513f918e8 button.colab-df-convert');\n",
              "        buttonEl.style.display =\n",
              "          google.colab.kernel.accessAllowed ? 'block' : 'none';\n",
              "\n",
              "        async function convertToInteractive(key) {\n",
              "          const element = document.querySelector('#df-0ee5beeb-3fe0-44db-9aca-50c513f918e8');\n",
              "          const dataTable =\n",
              "            await google.colab.kernel.invokeFunction('convertToInteractive',\n",
              "                                                     [key], {});\n",
              "          if (!dataTable) return;\n",
              "\n",
              "          const docLinkHtml = 'Like what you see? Visit the ' +\n",
              "            '<a target=\"_blank\" href=https://colab.research.google.com/notebooks/data_table.ipynb>data table notebook</a>'\n",
              "            + ' to learn more about interactive tables.';\n",
              "          element.innerHTML = '';\n",
              "          dataTable['output_type'] = 'display_data';\n",
              "          await google.colab.output.renderOutput(dataTable, element);\n",
              "          const docLink = document.createElement('div');\n",
              "          docLink.innerHTML = docLinkHtml;\n",
              "          element.appendChild(docLink);\n",
              "        }\n",
              "      </script>\n",
              "    </div>\n",
              "  </div>\n",
              "  "
            ]
          },
          "metadata": {},
          "execution_count": 34
        }
      ]
    },
    {
      "cell_type": "markdown",
      "source": [
        "On ne prend pas la totalité du dataset pour l'entraînement pour ne pas passer trop de temps sur l'apprentissage."
      ],
      "metadata": {
        "id": "fABUqgIWwHYt"
      }
    },
    {
      "cell_type": "code",
      "source": [
        "len(data.index)\n",
        "data = data.iloc[:20000, :]"
      ],
      "metadata": {
        "id": "RSPSuakVwFPu"
      },
      "execution_count": 35,
      "outputs": []
    },
    {
      "cell_type": "markdown",
      "source": [
        "# Etude du jeu de données"
      ],
      "metadata": {
        "id": "-kUWzBzISpsK"
      }
    },
    {
      "cell_type": "markdown",
      "source": [
        "Une première étape consiste à enlever certains caractères spéciaux présents dans les commentaires."
      ],
      "metadata": {
        "id": "p0ktlV3DwnZg"
      }
    },
    {
      "cell_type": "code",
      "source": [
        "data['comment_text'] = data['comment_text'].apply(lambda x : x.replace('\\ufeff', ''))\n",
        "data['comment_text'] = data['comment_text'].apply(lambda x : x.replace('\\xa0', ''))\n",
        "data['comment_text'] = data['comment_text'].apply(lambda x : x.replace('&#39;', ' '))"
      ],
      "metadata": {
        "id": "CAexGL7jS-VF"
      },
      "execution_count": 36,
      "outputs": []
    },
    {
      "cell_type": "markdown",
      "source": [
        "On veut maintenant essayer de comprendre notre jeu de données avec différentes caractéristiques, on commence par la fréquence des commentaires selon leur classe type."
      ],
      "metadata": {
        "id": "oJrkCk5nwtqY"
      }
    },
    {
      "cell_type": "code",
      "source": [
        "fig = plt.figure()\n",
        "ax = fig.add_axes([0,0,1,1])\n",
        "types = [\"Normal\", \"Toxic\", \"Severe Toxic\", \"Obscene\", \"Threat\", \"Insult\", \"Identity Hate\"]\n",
        "\n",
        "#On définit nos différents labels\n",
        "labels = data.columns[2:]\n",
        "\n",
        "values = [len(data[(data['toxic'] == 0) & (data['severe_toxic'] == 0) & (data['obscene'] == 0) & (data['threat'] == 0) & (data['insult'] == 0) & (data['identity_hate'] == 0)])]\n",
        "for column in labels:\n",
        "  values.append(data[column].value_counts().to_numpy()[1])\n",
        "\n",
        "ax.bar(types,values)\n",
        "plt.show()"
      ],
      "metadata": {
        "colab": {
          "base_uri": "https://localhost:8080/",
          "height": 336
        },
        "id": "73VmTHbCwucT",
        "outputId": "e8d189e5-489f-41c3-8eed-9d77ea430b70"
      },
      "execution_count": 37,
      "outputs": [
        {
          "output_type": "display_data",
          "data": {
            "text/plain": [
              "<Figure size 432x288 with 1 Axes>"
            ],
            "image/png": "[encoded data removed]"
          },
          "metadata": {
            "needs_background": "light"
          }
        }
      ]
    },
    {
      "cell_type": "markdown",
      "source": [
        "On remarque ici que le nombre de commentaires dits \"normaux\" est bien supérieur au nombre de commentaires toxiques de tous types. On remarque aussi que certaines classes sont plus présentes que d'autres: 'toxic', 'obscene' et 'insult' ont plus d'exemples que 'severe_toxic', 'threat' et 'identity hate'."
      ],
      "metadata": {
        "id": "xS9OmFkXwyFB"
      }
    },
    {
      "cell_type": "markdown",
      "source": [
        "# Préparation des données"
      ],
      "metadata": {
        "id": "YIzpSrAjSsAM"
      }
    },
    {
      "cell_type": "markdown",
      "source": [
        "L'objectif est maintenant de nettoyer le jeu de données. On va notamment essayer de remplacer les contractions et abreviations les plus courantes."
      ],
      "metadata": {
        "id": "kEVsO7quw0yq"
      }
    },
    {
      "cell_type": "code",
      "source": [
        "nltk.download('stopwords')\n",
        "nltk.download('punkt')\n",
        "stop_words = nltk.corpus.stopwords.words('english')\n",
        "corpus = []"
      ],
      "metadata": {
        "id": "1WMk85t8S_zX",
        "colab": {
          "base_uri": "https://localhost:8080/"
        },
        "outputId": "1c2cc5cb-5057-4e5f-afd5-4d0c5496e084"
      },
      "execution_count": 38,
      "outputs": [
        {
          "output_type": "stream",
          "name": "stdout",
          "text": [
            "[nltk_data] Downloading package stopwords to /root/nltk_data...\n",
            "[nltk_data]   Package stopwords is already up-to-date!\n",
            "[nltk_data] Downloading package punkt to /root/nltk_data...\n",
            "[nltk_data]   Package punkt is already up-to-date!\n"
          ]
        }
      ]
    },
    {
      "cell_type": "markdown",
      "source": [
        "On définit plusieurs fonctions nous permettant de nettoyer les commentaires."
      ],
      "metadata": {
        "id": "ulN4woGfw5gS"
      }
    },
    {
      "cell_type": "code",
      "source": [
        "def clean(comment): \n",
        "            \n",
        "    # Contractions\n",
        "    comment = re.sub(r\"he's\", \"he is\", comment)\n",
        "    comment = re.sub(r\"there's\", \"there is\", comment)\n",
        "    comment = re.sub(r\"We're\", \"We are\", comment)\n",
        "    comment = re.sub(r\"That's\", \"That is\", comment)\n",
        "    comment = re.sub(r\"won't\", \"will not\", comment)\n",
        "    comment = re.sub(r\"they're\", \"they are\", comment)\n",
        "    comment = re.sub(r\"Can't\", \"Cannot\", comment)\n",
        "    comment = re.sub(r\"wasn't\", \"was not\", comment)\n",
        "    comment = re.sub(r\"don\\x89Ûªt\", \"do not\", comment)\n",
        "    comment = re.sub(r\"aren't\", \"are not\", comment)\n",
        "    comment = re.sub(r\"isn't\", \"is not\", comment)\n",
        "    comment = re.sub(r\"What's\", \"What is\", comment)\n",
        "    comment = re.sub(r\"haven't\", \"have not\", comment)\n",
        "    comment = re.sub(r\"hasn't\", \"has not\", comment)\n",
        "    comment = re.sub(r\"There's\", \"There is\", comment)\n",
        "    comment = re.sub(r\"He's\", \"He is\", comment)\n",
        "    comment = re.sub(r\"It's\", \"It is\", comment)\n",
        "    comment = re.sub(r\"You're\", \"You are\", comment)\n",
        "    comment = re.sub(r\"I'M\", \"I am\", comment)\n",
        "    comment = re.sub(r\"shouldn't\", \"should not\", comment)\n",
        "    comment = re.sub(r\"wouldn't\", \"would not\", comment)\n",
        "    comment = re.sub(r\"i'm\", \"I am\", comment)\n",
        "    comment = re.sub(r\"I\\x89Ûªm\", \"I am\", comment)\n",
        "    comment = re.sub(r\"I'm\", \"I am\", comment)\n",
        "    comment = re.sub(r\"Isn't\", \"is not\", comment)\n",
        "    comment = re.sub(r\"Here's\", \"Here is\", comment)\n",
        "    comment = re.sub(r\"you've\", \"you have\", comment)\n",
        "    comment = re.sub(r\"you\\x89Ûªve\", \"you have\", comment)\n",
        "    comment = re.sub(r\"we're\", \"we are\", comment)\n",
        "    comment = re.sub(r\"what's\", \"what is\", comment)\n",
        "    comment = re.sub(r\"couldn't\", \"could not\", comment)\n",
        "    comment = re.sub(r\"we've\", \"we have\", comment)\n",
        "    comment = re.sub(r\"it\\x89Ûªs\", \"it is\", comment)\n",
        "    comment = re.sub(r\"doesn\\x89Ûªt\", \"does not\", comment)\n",
        "    comment = re.sub(r\"It\\x89Ûªs\", \"It is\", comment)\n",
        "    comment = re.sub(r\"Here\\x89Ûªs\", \"Here is\", comment)\n",
        "    comment = re.sub(r\"who's\", \"who is\", comment)\n",
        "    comment = re.sub(r\"I\\x89Ûªve\", \"I have\", comment)\n",
        "    comment = re.sub(r\"y'all\", \"you all\", comment)\n",
        "    comment = re.sub(r\"can\\x89Ûªt\", \"cannot\", comment)\n",
        "    comment = re.sub(r\"would've\", \"would have\", comment)\n",
        "    comment = re.sub(r\"it'll\", \"it will\", comment)\n",
        "    comment = re.sub(r\"we'll\", \"we will\", comment)\n",
        "    comment = re.sub(r\"wouldn\\x89Ûªt\", \"would not\", comment)\n",
        "    comment = re.sub(r\"We've\", \"We have\", comment)\n",
        "    comment = re.sub(r\"he'll\", \"he will\", comment)\n",
        "    comment = re.sub(r\"Y'all\", \"You all\", comment)\n",
        "    comment = re.sub(r\"Weren't\", \"Were not\", comment)\n",
        "    comment = re.sub(r\"Didn't\", \"Did not\", comment)\n",
        "    comment = re.sub(r\"they'll\", \"they will\", comment)\n",
        "    comment = re.sub(r\"they'd\", \"they would\", comment)\n",
        "    comment = re.sub(r\"DON'T\", \"DO NOT\", comment)\n",
        "    comment = re.sub(r\"That\\x89Ûªs\", \"That is\", comment)\n",
        "    comment = re.sub(r\"they've\", \"they have\", comment)\n",
        "    comment = re.sub(r\"i'd\", \"I would\", comment)\n",
        "    comment = re.sub(r\"should've\", \"should have\", comment)\n",
        "    comment = re.sub(r\"You\\x89Ûªre\", \"You are\", comment)\n",
        "    comment = re.sub(r\"where's\", \"where is\", comment)\n",
        "    comment = re.sub(r\"Don\\x89Ûªt\", \"Do not\", comment)\n",
        "    comment = re.sub(r\"we'd\", \"we would\", comment)\n",
        "    comment = re.sub(r\"i'll\", \"I will\", comment)\n",
        "    comment = re.sub(r\"weren't\", \"were not\", comment)\n",
        "    comment = re.sub(r\"They're\", \"They are\", comment)\n",
        "    comment = re.sub(r\"Can\\x89Ûªt\", \"Cannot\", comment)\n",
        "    comment = re.sub(r\"you\\x89Ûªll\", \"you will\", comment)\n",
        "    comment = re.sub(r\"I\\x89Ûªd\", \"I would\", comment)\n",
        "    comment = re.sub(r\"let's\", \"let us\", comment)\n",
        "    comment = re.sub(r\"it's\", \"it is\", comment)\n",
        "    comment = re.sub(r\"can't\", \"cannot\", comment)\n",
        "    comment = re.sub(r\"don't\", \"do not\", comment)\n",
        "    comment = re.sub(r\"you're\", \"you are\", comment)\n",
        "    comment = re.sub(r\"i've\", \"I have\", comment)\n",
        "    comment = re.sub(r\"that's\", \"that is\", comment)\n",
        "    comment = re.sub(r\"i'll\", \"I will\", comment)\n",
        "    comment = re.sub(r\"doesn't\", \"does not\", comment)\n",
        "    comment = re.sub(r\"i'd\", \"I would\", comment)\n",
        "    comment = re.sub(r\"didn't\", \"did not\", comment)\n",
        "    comment = re.sub(r\"ain't\", \"am not\", comment)\n",
        "    comment = re.sub(r\"you'll\", \"you will\", comment)\n",
        "    comment = re.sub(r\"I've\", \"I have\", comment)\n",
        "    comment = re.sub(r\"Don't\", \"do not\", comment)\n",
        "    comment = re.sub(r\"I'll\", \"I will\", comment)\n",
        "    comment = re.sub(r\"I'd\", \"I would\", comment)\n",
        "    comment = re.sub(r\"Let's\", \"Let us\", comment)\n",
        "    comment = re.sub(r\"you'd\", \"You would\", comment)\n",
        "    comment = re.sub(r\"It's\", \"It is\", comment)\n",
        "    comment = re.sub(r\"Ain't\", \"am not\", comment)\n",
        "    comment = re.sub(r\"Haven't\", \"Have not\", comment)\n",
        "    comment = re.sub(r\"Could've\", \"Could have\", comment)\n",
        "    comment = re.sub(r\"youve\", \"you have\", comment)  \n",
        "    comment = re.sub(r\"donå«t\", \"do not\", comment)  \n",
        "    \n",
        "    comment = re.sub(r\"some1\", \"someone\", comment)\n",
        "    comment = re.sub(r\"yrs\", \"years\", comment)\n",
        "    comment = re.sub(r\"hrs\", \"hours\", comment)\n",
        "    comment = re.sub(r\"2morow|2moro\", \"tomorrow\", comment)\n",
        "    comment = re.sub(r\"2day\", \"today\", comment)\n",
        "    comment = re.sub(r\"4got|4gotten\", \"forget\", comment)\n",
        "    comment = re.sub(r\"b-day|bday\", \"b-day\", comment)\n",
        "    comment = re.sub(r\"mother's\", \"mother\", comment)\n",
        "    comment = re.sub(r\"mom's\", \"mom\", comment)\n",
        "    comment = re.sub(r\"dad's\", \"dad\", comment)\n",
        "    comment = re.sub(r\"hahah|hahaha|hahahaha\", \"haha\", comment)\n",
        "    comment = re.sub(r\"lmao|lolz|rofl\", \"lol\", comment)\n",
        "    comment = re.sub(r\"thanx|thnx\", \"thanks\", comment)\n",
        "    comment = re.sub(r\"goood\", \"good\", comment)\n",
        "    comment = re.sub(r\"some1\", \"someone\", comment)\n",
        "    comment = re.sub(r\"some1\", \"someone\", comment)\n",
        "    # Character entity references\n",
        "    comment = re.sub(r\"&gt;\", \">\", comment)\n",
        "    comment = re.sub(r\"&lt;\", \"<\", comment)\n",
        "    comment = re.sub(r\"&amp;\", \"&\", comment)\n",
        "    # Typos, slang and informal abbreviations\n",
        "    comment = re.sub(r\"w/e\", \"whatever\", comment)\n",
        "    comment = re.sub(r\"w/\", \"with\", comment)\n",
        "    comment = re.sub(r\"<3\", \"love\", comment)\n",
        "    # Urls\n",
        "    comment = re.sub(r\"http\\S+\", \"\", comment)\n",
        "    # Numbers\n",
        "    comment = re.sub(r'[0-9]', '', comment)\n",
        "    # Eliminating the mentions\n",
        "    comment = re.sub(\"(@[A-Za-z0-9_]+)\",\"\", comment)\n",
        "    # Remove punctuation and special chars (keep '!')\n",
        "    for p in string.punctuation.replace('!', ''):\n",
        "        comment = comment.replace(p, '')\n",
        "        \n",
        "    # ... and ..\n",
        "    comment = comment.replace('...', ' ... ')\n",
        "    if '...' not in comment:\n",
        "        comment = comment.replace('..', ' ... ')\n",
        "        \n",
        "    # Tokenize\n",
        "    comment_words = word_tokenize(comment)\n",
        "    \n",
        "    # Eliminating the word if its length is less than 3\n",
        "    comment = [w for w in comment_words if len(w)>2]\n",
        "    \n",
        "    # remove stopwords\n",
        "    comment = [w.lower() for w in comment if not w in stop_words]  \n",
        "    \n",
        "    corpus.append(comment)\n",
        "    \n",
        "    # join back\n",
        "    comment = ' '.join(comment)\n",
        "        \n",
        "        \n",
        "    return comment"
      ],
      "metadata": {
        "id": "1ea2Vnv1w58k"
      },
      "execution_count": 39,
      "outputs": []
    },
    {
      "cell_type": "code",
      "source": [
        "variable_name = \"\"\n",
        "abbreviations = {\n",
        "    \"$\" : \" dollar \",\n",
        "    \"€\" : \" euro \",\n",
        "    \"4ao\" : \"for adults only\",\n",
        "    \"a.m\" : \"before midday\",\n",
        "    \"a3\" : \"anytime anywhere anyplace\",\n",
        "    \"aamof\" : \"as a matter of fact\",\n",
        "    \"acct\" : \"account\",\n",
        "    \"adih\" : \"another day in hell\",\n",
        "    \"afaic\" : \"as far as i am concerned\",\n",
        "    \"afaict\" : \"as far as i can tell\",\n",
        "    \"afaik\" : \"as far as i know\",\n",
        "    \"afair\" : \"as far as i remember\",\n",
        "    \"afk\" : \"away from keyboard\",\n",
        "    \"app\" : \"application\",\n",
        "    \"approx\" : \"approximately\",\n",
        "    \"apps\" : \"applications\",\n",
        "    \"asap\" : \"as soon as possible\",\n",
        "    \"asl\" : \"age, sex, location\",\n",
        "    \"atk\" : \"at the keyboard\",\n",
        "    \"ave.\" : \"avenue\",\n",
        "    \"aymm\" : \"are you my mother\",\n",
        "    \"ayor\" : \"at your own risk\", \n",
        "    \"b&b\" : \"bed and breakfast\",\n",
        "    \"b+b\" : \"bed and breakfast\",\n",
        "    \"b.c\" : \"before christ\",\n",
        "    \"b2b\" : \"business to business\",\n",
        "    \"b2c\" : \"business to customer\",\n",
        "    \"b4\" : \"before\",\n",
        "    \"b4n\" : \"bye for now\",\n",
        "    \"b@u\" : \"back at you\",\n",
        "    \"bae\" : \"before anyone else\",\n",
        "    \"bak\" : \"back at keyboard\",\n",
        "    \"bbbg\" : \"bye bye be good\",\n",
        "    \"bbc\" : \"british broadcasting corporation\",\n",
        "    \"bbias\" : \"be back in a second\",\n",
        "    \"bbl\" : \"be back later\",\n",
        "    \"bbs\" : \"be back soon\",\n",
        "    \"be4\" : \"before\",\n",
        "    \"bfn\" : \"bye for now\",\n",
        "    \"blvd\" : \"boulevard\",\n",
        "    \"bout\" : \"about\",\n",
        "    \"brb\" : \"be right back\",\n",
        "    \"bros\" : \"brothers\",\n",
        "    \"brt\" : \"be right there\",\n",
        "    \"bsaaw\" : \"big smile and a wink\",\n",
        "    \"btw\" : \"by the way\",\n",
        "    \"bwl\" : \"bursting with laughter\",\n",
        "    \"c/o\" : \"care of\",\n",
        "    \"cet\" : \"central european time\",\n",
        "    \"cf\" : \"compare\",\n",
        "    \"cia\" : \"central intelligence agency\",\n",
        "    \"csl\" : \"can not stop laughing\",\n",
        "    \"cu\" : \"see you\",\n",
        "    \"cul8r\" : \"see you later\",\n",
        "    \"cv\" : \"curriculum vitae\",\n",
        "    \"cwot\" : \"complete waste of time\",\n",
        "    \"cya\" : \"see you\",\n",
        "    \"cyt\" : \"see you tomorrow\",\n",
        "    \"dae\" : \"does anyone else\",\n",
        "    \"dbmib\" : \"do not bother me i am busy\",\n",
        "    \"diy\" : \"do it yourself\",\n",
        "    \"dm\" : \"direct message\",\n",
        "    \"dwh\" : \"during work hours\",\n",
        "    \"e123\" : \"easy as one two three\",\n",
        "    \"eet\" : \"eastern european time\",\n",
        "    \"eg\" : \"example\",\n",
        "    \"embm\" : \"early morning business meeting\",\n",
        "    \"encl\" : \"enclosed\",\n",
        "    \"encl.\" : \"enclosed\",\n",
        "    \"etc\" : \"and so on\",\n",
        "    \"faq\" : \"frequently asked questions\",\n",
        "    \"fawc\" : \"for anyone who cares\",\n",
        "    \"fb\" : \"facebook\",\n",
        "    \"fc\" : \"fingers crossed\",\n",
        "    \"fig\" : \"figure\",\n",
        "    \"fimh\" : \"forever in my heart\", \n",
        "    \"ft.\" : \"feet\",\n",
        "    \"ft\" : \"featuring\",\n",
        "    \"ftl\" : \"for the loss\",\n",
        "    \"ftw\" : \"for the win\",\n",
        "    \"fwiw\" : \"for what it is worth\",\n",
        "    \"fyi\" : \"for your information\",\n",
        "    \"g9\" : \"genius\",\n",
        "    \"gahoy\" : \"get a hold of yourself\",\n",
        "    \"gal\" : \"get a life\",\n",
        "    \"gcse\" : \"general certificate of secondary education\",\n",
        "    \"gfn\" : \"gone for now\",\n",
        "    \"gg\" : \"good game\",\n",
        "    \"gl\" : \"good luck\",\n",
        "    \"glhf\" : \"good luck have fun\",\n",
        "    \"gmt\" : \"greenwich mean time\",\n",
        "    \"gmta\" : \"great minds think alike\",\n",
        "    \"gn\" : \"good night\",\n",
        "    \"g.o.a.t\" : \"greatest of all time\",\n",
        "    \"goat\" : \"greatest of all time\",\n",
        "    \"goi\" : \"get over it\",\n",
        "    \"gps\" : \"global positioning system\",\n",
        "    \"gr8\" : \"great\",\n",
        "    \"gratz\" : \"congratulations\",\n",
        "    \"gyal\" : \"girl\",\n",
        "    \"h&c\" : \"hot and cold\",\n",
        "    \"hp\" : \"horsepower\",\n",
        "    \"hr\" : \"hour\",\n",
        "    \"hrh\" : \"his royal highness\",\n",
        "    \"ht\" : \"height\",\n",
        "    \"ibrb\" : \"i will be right back\",\n",
        "    \"ic\" : \"i see\",\n",
        "    \"icq\" : \"i seek you\",\n",
        "    \"icymi\" : \"in case you missed it\",\n",
        "    \"idc\" : \"i do not care\",\n",
        "    \"idgadf\" : \"i do not give a damn fuck\",\n",
        "    \"idgaf\" : \"i do not give a fuck\",\n",
        "    \"idk\" : \"i do not know\",\n",
        "    \"ie\" : \"that is\",\n",
        "    \"i.e\" : \"that is\",\n",
        "    \"ifyp\" : \"i feel your pain\",\n",
        "    \"IG\" : \"instagram\",\n",
        "    \"iirc\" : \"if i remember correctly\",\n",
        "    \"ilu\" : \"i love you\",\n",
        "    \"ily\" : \"i love you\",\n",
        "    \"imho\" : \"in my humble opinion\",\n",
        "    \"imo\" : \"in my opinion\",\n",
        "    \"imu\" : \"i miss you\",\n",
        "    \"iow\" : \"in other words\",\n",
        "    \"irl\" : \"in real life\",\n",
        "    \"j4f\" : \"just for fun\",\n",
        "    \"jic\" : \"just in case\",\n",
        "    \"jk\" : \"just kidding\",\n",
        "    \"jsyk\" : \"just so you know\",\n",
        "    \"l8r\" : \"later\",\n",
        "    \"lb\" : \"pound\",\n",
        "    \"lbs\" : \"pounds\",\n",
        "    \"ldr\" : \"long distance relationship\",\n",
        "    \"lmao\" : \"laugh my ass off\",\n",
        "    \"lmfao\" : \"laugh my fucking ass off\",\n",
        "    \"lol\" : \"laughing out loud\",\n",
        "    \"ltd\" : \"limited\",\n",
        "    \"ltns\" : \"long time no see\",\n",
        "    \"m8\" : \"mate\",\n",
        "    \"mf\" : \"motherfucker\",\n",
        "    \"mfs\" : \"motherfuckers\",\n",
        "    \"mfw\" : \"my face when\",\n",
        "    \"mofo\" : \"motherfucker\",\n",
        "    \"mph\" : \"miles per hour\",\n",
        "    \"mr\" : \"mister\",\n",
        "    \"mrw\" : \"my reaction when\",\n",
        "    \"ms\" : \"miss\",\n",
        "    \"mte\" : \"my thoughts exactly\",\n",
        "    \"nagi\" : \"not a good idea\",\n",
        "    \"nbc\" : \"national broadcasting company\",\n",
        "    \"nbd\" : \"not big deal\",\n",
        "    \"nfs\" : \"not for sale\",\n",
        "    \"ngl\" : \"not going to lie\",\n",
        "    \"nhs\" : \"national health service\",\n",
        "    \"nrn\" : \"no reply necessary\",\n",
        "    \"nsfl\" : \"not safe for life\",\n",
        "    \"nsfw\" : \"not safe for work\",\n",
        "    \"nth\" : \"nice to have\",\n",
        "    \"nvr\" : \"never\",\n",
        "    \"nyc\" : \"new york city\",\n",
        "    \"oc\" : \"original content\",\n",
        "    \"og\" : \"original\",\n",
        "    \"ohp\" : \"overhead projector\",\n",
        "    \"oic\" : \"oh i see\",\n",
        "    \"omdb\" : \"over my dead body\",\n",
        "    \"omg\" : \"oh my god\",\n",
        "    \"omw\" : \"on my way\",\n",
        "    \"p.a\" : \"per annum\",\n",
        "    \"p.m\" : \"after midday\",\n",
        "    \"pm\" : \"prime minister\",\n",
        "    \"poc\" : \"people of color\",\n",
        "    \"pov\" : \"point of view\",\n",
        "    \"pp\" : \"pages\",\n",
        "    \"ppl\" : \"people\",\n",
        "    \"prw\" : \"parents are watching\",\n",
        "    \"ps\" : \"postscript\",\n",
        "    \"pt\" : \"point\",\n",
        "    \"ptb\" : \"please text back\",\n",
        "    \"pto\" : \"please turn over\",\n",
        "    \"qpsa\" : \"what happens\", \n",
        "    \"ratchet\" : \"rude\",\n",
        "    \"rbtl\" : \"read between the lines\",\n",
        "    \"rlrt\" : \"real life retweet\", \n",
        "    \"rofl\" : \"rolling on the floor laughing\",\n",
        "    \"roflol\" : \"rolling on the floor laughing out loud\",\n",
        "    \"rotflmao\" : \"rolling on the floor laughing my ass off\",\n",
        "    \"rt\" : \"retweet\",\n",
        "    \"ruok\" : \"are you ok\",\n",
        "    \"sfw\" : \"safe for work\",\n",
        "     \"sk8\" : \"skate\",\n",
        "    \"smh\" : \"shake my head\",\n",
        "    \"sq\" : \"square\",\n",
        "    \"srsly\" : \"seriously\", \n",
        "    \"ssdd\" : \"same stuff different day\",\n",
        "    \"tbh\" : \"to be honest\",\n",
        "    \"tbs\" : \"tablespooful\",\n",
        "    \"tbsp\" : \"tablespooful\",\n",
        "    \"tfw\" : \"that feeling when\",\n",
        "    \"thks\" : \"thank you\",\n",
        "    \"tho\" : \"though\",\n",
        "    \"thx\" : \"thank you\",\n",
        "    \"tia\" : \"thanks in advance\",\n",
        "    \"til\" : \"today i learned\",\n",
        "    \"tl;dr\" : \"too long i did not read\",\n",
        "    \"tldr\" : \"too long i did not read\",\n",
        "    \"tmb\" : \"tweet me back\",\n",
        "    \"tntl\" : \"trying not to laugh\",\n",
        "    \"ttyl\" : \"talk to you later\",\n",
        "    \"u\" : \"you\",\n",
        "    \"u2\" : \"you too\",\n",
        "    \"u4e\" : \"yours for ever\",\n",
        "    \"utc\" : \"coordinated universal time\",\n",
        "    \"w/\" : \"with\",\n",
        "    \"w/o\" : \"without\",\n",
        "    \"w8\" : \"wait\",\n",
        "    \"wassup\" : \"what is up\",\n",
        "    \"wb\" : \"welcome back\",\n",
        "    \"wtf\" : \"what the fuck\",\n",
        "    \"wtg\" : \"way to go\",\n",
        "    \"wtpa\" : \"where the party at\",\n",
        "    \"wuf\" : \"where are you from\",\n",
        "    \"wuzup\" : \"what is up\",\n",
        "    \"wywh\" : \"wish you were here\",\n",
        "    \"yd\" : \"yard\",\n",
        "    \"ygtr\" : \"you got that right\",\n",
        "    \"ynk\" : \"you never know\",\n",
        "    \"zzz\" : \"sleeping bored and tired\"\n",
        "}\n",
        "\n",
        "def convert_abbrev_in_text(comment):\n",
        "    t=[]\n",
        "    words=comment.split()\n",
        "    t = [abbreviations[w.lower()] if w.lower() in abbreviations.keys() else w for w in words]\n",
        "    return ' '.join(t) "
      ],
      "metadata": {
        "id": "zR4rjLDQw82b"
      },
      "execution_count": 40,
      "outputs": []
    },
    {
      "cell_type": "markdown",
      "source": [
        "La fonction prepare_string permet d'appliquer les deux traitements définis précédemment pour netoyer les commentaires."
      ],
      "metadata": {
        "id": "RQzYqwwxw_ZN"
      }
    },
    {
      "cell_type": "code",
      "source": [
        "def prepare_string(comment):\n",
        "  comment = clean(comment)\n",
        "  comment = convert_abbrev_in_text(comment)\n",
        "  return comment"
      ],
      "metadata": {
        "id": "1Na_5KzcxAv7"
      },
      "execution_count": 41,
      "outputs": []
    },
    {
      "cell_type": "code",
      "source": [
        "%%time\n",
        "data['comment_text'] = data['comment_text'].apply(lambda s : prepare_string(s))\n",
        "\n",
        "# Drop empty values from dataframe\n",
        "data['comment_text'].replace('', np.nan, inplace=True)\n",
        "data.dropna(subset=['comment_text'], inplace=True)"
      ],
      "metadata": {
        "colab": {
          "base_uri": "https://localhost:8080/"
        },
        "id": "SKbnzpjTxB6D",
        "outputId": "b12a283f-07e1-4179-8a4f-4bcf47cf7d91"
      },
      "execution_count": 42,
      "outputs": [
        {
          "output_type": "stream",
          "name": "stdout",
          "text": [
            "CPU times: user 12.2 s, sys: 27.7 ms, total: 12.3 s\n",
            "Wall time: 12.3 s\n"
          ]
        }
      ]
    },
    {
      "cell_type": "code",
      "source": [
        "data.head(10)"
      ],
      "metadata": {
        "colab": {
          "base_uri": "https://localhost:8080/",
          "height": 359
        },
        "id": "DWTQi3ibxEe5",
        "outputId": "89bbf0ab-f9aa-4749-c7c6-3a01c765eb51"
      },
      "execution_count": 43,
      "outputs": [
        {
          "output_type": "execute_result",
          "data": {
            "text/plain": [
              "                 id                                       comment_text  toxic  \\\n",
              "0  0000997932d777bf  explanation why edits made username hardcore m...      0   \n",
              "1  000103f0d9cfb60f  daww matches background colour seemingly stuck...      0   \n",
              "2  000113f07ec002fd  hey man really trying edit war guy constantly ...      0   \n",
              "3  0001b41b1c6bb37e  more make real suggestions improvement wondere...      0   \n",
              "4  0001d958c54c6e35              you sir hero any chance remember page      0   \n",
              "5  00025465d4725e87           congratulations well use tools well talk      0   \n",
              "6  0002bcb3da6cb337             cocksucker before you piss around work      1   \n",
              "7  00031b1e95af7921  your vandalism matt shirvington article revert...      0   \n",
              "8  00037261f536c51d  sorry word nonsense offensive anyway intending...      0   \n",
              "9  00040093b2687caa               alignment subject contrary dulithgow      0   \n",
              "\n",
              "   severe_toxic  obscene  threat  insult  identity_hate  \n",
              "0             0        0       0       0              0  \n",
              "1             0        0       0       0              0  \n",
              "2             0        0       0       0              0  \n",
              "3             0        0       0       0              0  \n",
              "4             0        0       0       0              0  \n",
              "5             0        0       0       0              0  \n",
              "6             1        1       0       1              0  \n",
              "7             0        0       0       0              0  \n",
              "8             0        0       0       0              0  \n",
              "9             0        0       0       0              0  "
            ],
            "text/html": [
              "\n",
              "  <div id=\"df-736fc409-474e-4ffe-bc91-2b3b8a84f866\">\n",
              "    <div class=\"colab-df-container\">\n",
              "      <div>\n",
              "<style scoped>\n",
              "    .dataframe tbody tr th:only-of-type {\n",
              "        vertical-align: middle;\n",
              "    }\n",
              "\n",
              "    .dataframe tbody tr th {\n",
              "        vertical-align: top;\n",
              "    }\n",
              "\n",
              "    .dataframe thead th {\n",
              "        text-align: right;\n",
              "    }\n",
              "</style>\n",
              "<table border=\"1\" class=\"dataframe\">\n",
              "  <thead>\n",
              "    <tr style=\"text-align: right;\">\n",
              "      <th></th>\n",
              "      <th>id</th>\n",
              "      <th>comment_text</th>\n",
              "      <th>toxic</th>\n",
              "      <th>severe_toxic</th>\n",
              "      <th>obscene</th>\n",
              "      <th>threat</th>\n",
              "      <th>insult</th>\n",
              "      <th>identity_hate</th>\n",
              "    </tr>\n",
              "  </thead>\n",
              "  <tbody>\n",
              "    <tr>\n",
              "      <th>0</th>\n",
              "      <td>0000997932d777bf</td>\n",
              "      <td>explanation why edits made username hardcore m...</td>\n",
              "      <td>0</td>\n",
              "      <td>0</td>\n",
              "      <td>0</td>\n",
              "      <td>0</td>\n",
              "      <td>0</td>\n",
              "      <td>0</td>\n",
              "    </tr>\n",
              "    <tr>\n",
              "      <th>1</th>\n",
              "      <td>000103f0d9cfb60f</td>\n",
              "      <td>daww matches background colour seemingly stuck...</td>\n",
              "      <td>0</td>\n",
              "      <td>0</td>\n",
              "      <td>0</td>\n",
              "      <td>0</td>\n",
              "      <td>0</td>\n",
              "      <td>0</td>\n",
              "    </tr>\n",
              "    <tr>\n",
              "      <th>2</th>\n",
              "      <td>000113f07ec002fd</td>\n",
              "      <td>hey man really trying edit war guy constantly ...</td>\n",
              "      <td>0</td>\n",
              "      <td>0</td>\n",
              "      <td>0</td>\n",
              "      <td>0</td>\n",
              "      <td>0</td>\n",
              "      <td>0</td>\n",
              "    </tr>\n",
              "    <tr>\n",
              "      <th>3</th>\n",
              "      <td>0001b41b1c6bb37e</td>\n",
              "      <td>more make real suggestions improvement wondere...</td>\n",
              "      <td>0</td>\n",
              "      <td>0</td>\n",
              "      <td>0</td>\n",
              "      <td>0</td>\n",
              "      <td>0</td>\n",
              "      <td>0</td>\n",
              "    </tr>\n",
              "    <tr>\n",
              "      <th>4</th>\n",
              "      <td>0001d958c54c6e35</td>\n",
              "      <td>you sir hero any chance remember page</td>\n",
              "      <td>0</td>\n",
              "      <td>0</td>\n",
              "      <td>0</td>\n",
              "      <td>0</td>\n",
              "      <td>0</td>\n",
              "      <td>0</td>\n",
              "    </tr>\n",
              "    <tr>\n",
              "      <th>5</th>\n",
              "      <td>00025465d4725e87</td>\n",
              "      <td>congratulations well use tools well talk</td>\n",
              "      <td>0</td>\n",
              "      <td>0</td>\n",
              "      <td>0</td>\n",
              "      <td>0</td>\n",
              "      <td>0</td>\n",
              "      <td>0</td>\n",
              "    </tr>\n",
              "    <tr>\n",
              "      <th>6</th>\n",
              "      <td>0002bcb3da6cb337</td>\n",
              "      <td>cocksucker before you piss around work</td>\n",
              "      <td>1</td>\n",
              "      <td>1</td>\n",
              "      <td>1</td>\n",
              "      <td>0</td>\n",
              "      <td>1</td>\n",
              "      <td>0</td>\n",
              "    </tr>\n",
              "    <tr>\n",
              "      <th>7</th>\n",
              "      <td>00031b1e95af7921</td>\n",
              "      <td>your vandalism matt shirvington article revert...</td>\n",
              "      <td>0</td>\n",
              "      <td>0</td>\n",
              "      <td>0</td>\n",
              "      <td>0</td>\n",
              "      <td>0</td>\n",
              "      <td>0</td>\n",
              "    </tr>\n",
              "    <tr>\n",
              "      <th>8</th>\n",
              "      <td>00037261f536c51d</td>\n",
              "      <td>sorry word nonsense offensive anyway intending...</td>\n",
              "      <td>0</td>\n",
              "      <td>0</td>\n",
              "      <td>0</td>\n",
              "      <td>0</td>\n",
              "      <td>0</td>\n",
              "      <td>0</td>\n",
              "    </tr>\n",
              "    <tr>\n",
              "      <th>9</th>\n",
              "      <td>00040093b2687caa</td>\n",
              "      <td>alignment subject contrary dulithgow</td>\n",
              "      <td>0</td>\n",
              "      <td>0</td>\n",
              "      <td>0</td>\n",
              "      <td>0</td>\n",
              "      <td>0</td>\n",
              "      <td>0</td>\n",
              "    </tr>\n",
              "  </tbody>\n",
              "</table>\n",
              "</div>\n",
              "      <button class=\"colab-df-convert\" onclick=\"convertToInteractive('df-736fc409-474e-4ffe-bc91-2b3b8a84f866')\"\n",
              "              title=\"Convert this dataframe to an interactive table.\"\n",
              "              style=\"display:none;\">\n",
              "        \n",
              "  <svg xmlns=\"http://www.w3.org/2000/svg\" height=\"24px\"viewBox=\"0 0 24 24\"\n",
              "       width=\"24px\">\n",
              "    <path d=\"M0 0h24v24H0V0z\" fill=\"none\"/>\n",
              "    <path d=\"M18.56 5.44l.94 2.06.94-2.06 2.06-.94-2.06-.94-.94-2.06-.94 2.06-2.06.94zm-11 1L8.5 8.5l.94-2.06 2.06-.94-2.06-.94L8.5 2.5l-.94 2.06-2.06.94zm10 10l.94 2.06.94-2.06 2.06-.94-2.06-.94-.94-2.06-.94 2.06-2.06.94z\"/><path d=\"M17.41 7.96l-1.37-1.37c-.4-.4-.92-.59-1.43-.59-.52 0-1.04.2-1.43.59L10.3 9.45l-7.72 7.72c-.78.78-.78 2.05 0 2.83L4 21.41c.39.39.9.59 1.41.59.51 0 1.02-.2 1.41-.59l7.78-7.78 2.81-2.81c.8-.78.8-2.07 0-2.86zM5.41 20L4 18.59l7.72-7.72 1.47 1.35L5.41 20z\"/>\n",
              "  </svg>\n",
              "      </button>\n",
              "      \n",
              "  <style>\n",
              "    .colab-df-container {\n",
              "      display:flex;\n",
              "      flex-wrap:wrap;\n",
              "      gap: 12px;\n",
              "    }\n",
              "\n",
              "    .colab-df-convert {\n",
              "      background-color: #E8F0FE;\n",
              "      border: none;\n",
              "      border-radius: 50%;\n",
              "      cursor: pointer;\n",
              "      display: none;\n",
              "      fill: #1967D2;\n",
              "      height: 32px;\n",
              "      padding: 0 0 0 0;\n",
              "      width: 32px;\n",
              "    }\n",
              "\n",
              "    .colab-df-convert:hover {\n",
              "      background-color: #E2EBFA;\n",
              "      box-shadow: 0px 1px 2px rgba(60, 64, 67, 0.3), 0px 1px 3px 1px rgba(60, 64, 67, 0.15);\n",
              "      fill: #174EA6;\n",
              "    }\n",
              "\n",
              "    [theme=dark] .colab-df-convert {\n",
              "      background-color: #3B4455;\n",
              "      fill: #D2E3FC;\n",
              "    }\n",
              "\n",
              "    [theme=dark] .colab-df-convert:hover {\n",
              "      background-color: #434B5C;\n",
              "      box-shadow: 0px 1px 3px 1px rgba(0, 0, 0, 0.15);\n",
              "      filter: drop-shadow(0px 1px 2px rgba(0, 0, 0, 0.3));\n",
              "      fill: #FFFFFF;\n",
              "    }\n",
              "  </style>\n",
              "\n",
              "      <script>\n",
              "        const buttonEl =\n",
              "          document.querySelector('#df-736fc409-474e-4ffe-bc91-2b3b8a84f866 button.colab-df-convert');\n",
              "        buttonEl.style.display =\n",
              "          google.colab.kernel.accessAllowed ? 'block' : 'none';\n",
              "\n",
              "        async function convertToInteractive(key) {\n",
              "          const element = document.querySelector('#df-736fc409-474e-4ffe-bc91-2b3b8a84f866');\n",
              "          const dataTable =\n",
              "            await google.colab.kernel.invokeFunction('convertToInteractive',\n",
              "                                                     [key], {});\n",
              "          if (!dataTable) return;\n",
              "\n",
              "          const docLinkHtml = 'Like what you see? Visit the ' +\n",
              "            '<a target=\"_blank\" href=https://colab.research.google.com/notebooks/data_table.ipynb>data table notebook</a>'\n",
              "            + ' to learn more about interactive tables.';\n",
              "          element.innerHTML = '';\n",
              "          dataTable['output_type'] = 'display_data';\n",
              "          await google.colab.output.renderOutput(dataTable, element);\n",
              "          const docLink = document.createElement('div');\n",
              "          docLink.innerHTML = docLinkHtml;\n",
              "          element.appendChild(docLink);\n",
              "        }\n",
              "      </script>\n",
              "    </div>\n",
              "  </div>\n",
              "  "
            ]
          },
          "metadata": {},
          "execution_count": 43
        }
      ]
    },
    {
      "cell_type": "markdown",
      "source": [
        "Nos commentaires sont maintenant nettoyés et prêts à être traités."
      ],
      "metadata": {
        "id": "StU2bgttxF-d"
      }
    },
    {
      "cell_type": "markdown",
      "source": [
        "# Passage du texte dans un format structuré"
      ],
      "metadata": {
        "id": "-8AEuTKsSuLs"
      }
    },
    {
      "cell_type": "code",
      "source": [
        "corpus_size = int(10000)\n",
        "#corpus_size = int(800)\n",
        "#On va maintenant prendre un échantillon de notre dataset car TfidfVectorizer() a besoin d'énormément de ram pour ses calculs si on prend le dataset entier\n",
        "\n",
        "sample_data = data.iloc[:corpus_size, :]\n",
        "\n",
        "comments = sample_data['comment_text']\n",
        "\n",
        "#On récupère maintenant les labels\n",
        "y = sample_data.drop(columns=[\"comment_text\", \"id\"]).values[:int(corpus_size)]\n",
        "\n",
        "\n",
        "tfIdfVectorizer = TfidfVectorizer()\n",
        "X = tfIdfVectorizer.fit_transform(comments).toarray()\n",
        "\n"
      ],
      "metadata": {
        "id": "AfiItZEITBK3"
      },
      "execution_count": 44,
      "outputs": []
    },
    {
      "cell_type": "code",
      "source": [
        "X_train, X_test, y_train, y_test = train_test_split(X, y, test_size=.20, random_state=0)"
      ],
      "metadata": {
        "id": "ikFPX1HHxNnU"
      },
      "execution_count": 45,
      "outputs": []
    },
    {
      "cell_type": "markdown",
      "source": [
        "# Entraînement du modèle baseline"
      ],
      "metadata": {
        "id": "LxNIQgESTCmE"
      }
    },
    {
      "cell_type": "code",
      "source": [
        "#toxic_classifier = RandomForestClassifier(n_estimators=15, random_state=1) \n",
        "#severe_toxic_classifier = RandomForestClassifier(n_estimators=15, random_state=1)\n",
        "#obscene_classifier = RandomForestClassifier(n_estimators=15, random_state=1)\n",
        "#threat_classifier = RandomForestClassifier(n_estimators=15, random_state=1)\n",
        "#insult_classifier = RandomForestClassifier(n_estimators=15, random_state=1)\n",
        "#identity_hate_classifier = RandomForestClassifier(n_estimators=15, random_state=1)\n",
        "\n",
        "from sklearn.linear_model import LogisticRegression\n",
        "from sklearn.pipeline import Pipeline\n",
        "from sklearn.metrics import accuracy_score\n",
        "from sklearn.multiclass import OneVsRestClassifier\n",
        "# Using pipeline for applying logistic regression and one vs rest classifier\n",
        "#LogReg_pipeline = Pipeline([\n",
        "#                ('clf', OneVsRestClassifier(LogisticRegression(solver='sag'), n_jobs=-1)),\n",
        "#            ])\n",
        "model = OneVsRestClassifier(RandomForestClassifier(n_estimators=15, random_state=1), n_jobs=-1)\n",
        "for i, label in enumerate(labels):\n",
        "    print('**Processing {} comments...**'.format(label))\n",
        "    \n",
        "    # Training logistic regression model on train data\n",
        "    print(y_train[:, i])\n",
        "    model.fit(X_train, y_train[:, i])\n",
        "    \n",
        "    # calculating test accuracy\n",
        "    prediction = model.predict(X_test)\n",
        "    print('Test accuracy is {}'.format(accuracy_score(y_test[:, i], prediction)))\n",
        "    print(\"\\n\")\n",
        "#text_classifier = RandomForestClassifier(n_estimators=15, random_state=1)\n",
        "#text_classifier.fit(X_train, y_train)"
      ],
      "metadata": {
        "id": "YgkPpzIzSQUi",
        "colab": {
          "base_uri": "https://localhost:8080/"
        },
        "outputId": "c08e8e87-222f-403e-9228-5a0f25cb8224"
      },
      "execution_count": 64,
      "outputs": [
        {
          "output_type": "stream",
          "name": "stdout",
          "text": [
            "**Processing toxic comments...**\n",
            "[0 1 0 ... 0 0 0]\n",
            "Test accuracy is 0.939\n",
            "\n",
            "\n",
            "**Processing severe_toxic comments...**\n",
            "[0 0 0 ... 0 0 0]\n",
            "Test accuracy is 0.989\n",
            "\n",
            "\n",
            "**Processing obscene comments...**\n",
            "[0 1 0 ... 0 0 0]\n",
            "Test accuracy is 0.9665\n",
            "\n",
            "\n",
            "**Processing threat comments...**\n",
            "[0 0 0 ... 0 0 0]\n",
            "Test accuracy is 0.996\n",
            "\n",
            "\n",
            "**Processing insult comments...**\n",
            "[0 0 0 ... 0 0 0]\n",
            "Test accuracy is 0.949\n",
            "\n",
            "\n",
            "**Processing identity_hate comments...**\n",
            "[0 0 0 ... 0 0 0]\n",
            "Test accuracy is 0.9875\n",
            "\n",
            "\n"
          ]
        }
      ]
    },
    {
      "cell_type": "markdown",
      "source": [
        "On analyse maintenant les performances de notre modèle baseline"
      ],
      "metadata": {
        "id": "aX3lCL2YxSwb"
      }
    },
    {
      "cell_type": "code",
      "source": [
        "model.predict([X[6]])"
      ],
      "metadata": {
        "id": "rjsi6kgaf3Wq",
        "outputId": "d182bea7-f05b-499c-8653-604789cfc7b9",
        "colab": {
          "base_uri": "https://localhost:8080/"
        }
      },
      "execution_count": 69,
      "outputs": [
        {
          "output_type": "execute_result",
          "data": {
            "text/plain": [
              "array([0])"
            ]
          },
          "metadata": {},
          "execution_count": 69
        }
      ]
    },
    {
      "cell_type": "code",
      "source": [
        "predictions = text_classifier.predict(X_test)\n",
        "probas = text_classifier.predict_proba(X_test)\n",
        "print(probas[0][:20])\n",
        "print(classification_report(y_test,predictions, zero_division = 1))  \n",
        "\n",
        "print(accuracy_score(y_test, predictions))\n",
        "\n",
        "print(predictions[20:40])\n",
        "print(y_test[20:40])"
      ],
      "metadata": {
        "colab": {
          "base_uri": "https://localhost:8080/"
        },
        "id": "86TfrwPyxSDq",
        "outputId": "fc3f118e-65c7-426f-e664-6e532ef6c864"
      },
      "execution_count": 55,
      "outputs": [
        {
          "output_type": "stream",
          "name": "stdout",
          "text": [
            "[[1.         0.        ]\n",
            " [1.         0.        ]\n",
            " [0.8        0.2       ]\n",
            " [1.         0.        ]\n",
            " [0.8        0.2       ]\n",
            " [0.86666667 0.13333333]\n",
            " [1.         0.        ]\n",
            " [0.93333333 0.06666667]\n",
            " [1.         0.        ]\n",
            " [1.         0.        ]\n",
            " [1.         0.        ]\n",
            " [1.         0.        ]\n",
            " [1.         0.        ]\n",
            " [1.         0.        ]\n",
            " [0.86666667 0.13333333]\n",
            " [0.8        0.2       ]\n",
            " [0.93333333 0.06666667]\n",
            " [1.         0.        ]\n",
            " [1.         0.        ]\n",
            " [1.         0.        ]]\n",
            "              precision    recall  f1-score   support\n",
            "\n",
            "           0       0.97      0.52      0.68       203\n",
            "           1       0.33      0.04      0.08        23\n",
            "           2       0.91      0.53      0.67       110\n",
            "           3       1.00      0.00      0.00         8\n",
            "           4       0.83      0.29      0.43       119\n",
            "           5       1.00      0.00      0.00        25\n",
            "\n",
            "   micro avg       0.92      0.41      0.56       488\n",
            "   macro avg       0.84      0.23      0.31       488\n",
            "weighted avg       0.90      0.41      0.54       488\n",
            " samples avg       1.00      0.93      0.93       488\n",
            "\n",
            "0.907\n",
            "[[0 0 0 0 0 0]\n",
            " [0 0 0 0 0 0]\n",
            " [0 0 0 0 0 0]\n",
            " [0 0 0 0 0 0]\n",
            " [0 0 0 0 0 0]\n",
            " [0 0 0 0 0 0]\n",
            " [0 0 0 0 0 0]\n",
            " [0 0 0 0 0 0]\n",
            " [0 0 0 0 0 0]\n",
            " [0 0 0 0 0 0]\n",
            " [0 0 0 0 0 0]\n",
            " [0 0 0 0 0 0]\n",
            " [0 0 0 0 0 0]\n",
            " [0 0 0 0 0 0]\n",
            " [0 0 0 0 0 0]\n",
            " [0 0 0 0 0 0]\n",
            " [0 0 0 0 0 0]\n",
            " [0 0 0 0 0 0]\n",
            " [0 0 0 0 0 0]\n",
            " [0 0 0 0 0 0]]\n",
            "[[0 0 0 0 0 0]\n",
            " [0 0 0 0 0 0]\n",
            " [0 0 0 0 0 0]\n",
            " [0 0 0 0 0 0]\n",
            " [0 0 0 0 0 0]\n",
            " [1 0 0 0 0 0]\n",
            " [0 0 0 0 0 0]\n",
            " [0 0 0 0 0 0]\n",
            " [1 0 1 0 1 0]\n",
            " [0 0 0 0 0 0]\n",
            " [0 0 0 0 0 0]\n",
            " [0 0 0 0 0 0]\n",
            " [1 0 0 0 0 0]\n",
            " [0 0 0 0 0 0]\n",
            " [1 0 0 0 0 0]\n",
            " [0 0 0 0 0 0]\n",
            " [0 0 0 0 0 0]\n",
            " [0 0 0 0 0 0]\n",
            " [0 0 0 0 0 0]\n",
            " [0 0 0 0 0 0]]\n"
          ]
        }
      ]
    },
    {
      "cell_type": "markdown",
      "source": [
        "On remarque que nous avons une accuracy de 90%. Cela peut sembler correct mais on peut penser que, la dataset ayant en majorité des commentaires normaux, le modèle prédit qu'un commentaire est normal pour chaque type de commentaire."
      ],
      "metadata": {
        "id": "DN_K3-wXxWRC"
      }
    },
    {
      "cell_type": "code",
      "source": [
        "def analysePredictions(predictions, y_test):\n",
        "  num_col = len(predictions[0])\n",
        "  num_rows = len(predictions)\n",
        "\n",
        "  report = []\n",
        "\n",
        "  for label in range(num_col):\n",
        "    true_positive = false_positive = true_negative = false_negative = count = 0\n",
        "    for i in range(num_rows):\n",
        "      pred = predictions[i][label]\n",
        "      answer = y_test[i][label]\n",
        "      if pred == 1:\n",
        "        if answer == 1:\n",
        "          count += 1\n",
        "          true_positive += 1\n",
        "        else:\n",
        "          false_positive += 1\n",
        "      else:\n",
        "        if answer == 0:\n",
        "          true_negative += 1\n",
        "        else:\n",
        "          count += 1\n",
        "          false_negative += 1\n",
        "    report.append({\n",
        "        'COUNT': count,\n",
        "        'TP': true_positive,\n",
        "        'FP': false_positive,\n",
        "        'TN': true_negative,\n",
        "        'FN': false_negative\n",
        "    })\n",
        "  return report"
      ],
      "metadata": {
        "id": "yt2SiDX2xYl7"
      },
      "execution_count": 48,
      "outputs": []
    },
    {
      "cell_type": "code",
      "source": [
        "report = analysePredictions(predictions, y_test)\n",
        "\n",
        "for i, label in enumerate(labels):\n",
        "  print(\n",
        "  \"\"\"\n",
        "  {}:\n",
        "      Count: {}\n",
        "      \n",
        "        -True positive: {}\n",
        "        -False positive: {}\n",
        "        -True negative: {}\n",
        "        -False negative: {} \n",
        "\n",
        "{}\n",
        "  \"\"\".format(label, report[i]['COUNT'], report[i]['TP'], report[i]['FP'], report[i]['TN'], report[i]['FN'], confusion_matrix(y_test[:, i], predictions[:,i]))#On a aussi la possibilité d'utiliser confusion_matrix pour déterminer ces valeurs\n",
        "  )"
      ],
      "metadata": {
        "colab": {
          "base_uri": "https://localhost:8080/"
        },
        "id": "o0pXZ9qqyyLL",
        "outputId": "629ee8bc-88a3-43b6-9dfc-654d4447d74d"
      },
      "execution_count": 49,
      "outputs": [
        {
          "output_type": "stream",
          "name": "stdout",
          "text": [
            "\n",
            "  toxic:\n",
            "      Count: 203\n",
            "      \n",
            "        -True positive: 105\n",
            "        -False positive: 3\n",
            "        -True negative: 1794\n",
            "        -False negative: 98 \n",
            "\n",
            "[[1794    3]\n",
            " [  98  105]]\n",
            "  \n",
            "\n",
            "  severe_toxic:\n",
            "      Count: 23\n",
            "      \n",
            "        -True positive: 1\n",
            "        -False positive: 2\n",
            "        -True negative: 1975\n",
            "        -False negative: 22 \n",
            "\n",
            "[[1975    2]\n",
            " [  22    1]]\n",
            "  \n",
            "\n",
            "  obscene:\n",
            "      Count: 110\n",
            "      \n",
            "        -True positive: 58\n",
            "        -False positive: 6\n",
            "        -True negative: 1884\n",
            "        -False negative: 52 \n",
            "\n",
            "[[1884    6]\n",
            " [  52   58]]\n",
            "  \n",
            "\n",
            "  threat:\n",
            "      Count: 8\n",
            "      \n",
            "        -True positive: 0\n",
            "        -False positive: 0\n",
            "        -True negative: 1992\n",
            "        -False negative: 8 \n",
            "\n",
            "[[1992    0]\n",
            " [   8    0]]\n",
            "  \n",
            "\n",
            "  insult:\n",
            "      Count: 119\n",
            "      \n",
            "        -True positive: 35\n",
            "        -False positive: 7\n",
            "        -True negative: 1874\n",
            "        -False negative: 84 \n",
            "\n",
            "[[1874    7]\n",
            " [  84   35]]\n",
            "  \n",
            "\n",
            "  identity_hate:\n",
            "      Count: 25\n",
            "      \n",
            "        -True positive: 0\n",
            "        -False positive: 0\n",
            "        -True negative: 1975\n",
            "        -False negative: 25 \n",
            "\n",
            "[[1975    0]\n",
            " [  25    0]]\n",
            "  \n"
          ]
        }
      ]
    },
    {
      "cell_type": "markdown",
      "source": [
        "En analysant ces indicateurs, on se rend alors compte qu'en réalité, le modèle n'arrive pas à classer les commentaires toxiques en général.\n",
        "La bonne accuracy provient ici du fait que la majorité des commentaires étant normaux et du fait que le modèle considère la grande majorité des commentaires comme normaux même s'ils certains toxiques.\n",
        "Le modèle n'est donc pas performant."
      ],
      "metadata": {
        "id": "_LV5xeI7754P"
      }
    },
    {
      "cell_type": "markdown",
      "source": [
        "# Itération de la modélisation "
      ],
      "metadata": {
        "id": "2a8IWbTFTHXh"
      }
    },
    {
      "cell_type": "markdown",
      "source": [
        "On remarque alors que le nombre de faux négatifs est souvent élevé, le modèle n'arrive pas à classer un commentaire toxique lorsque l'on lui en présente un.\n",
        "On peut alors essayer de modifier le dataset pour avoir un maximum de commentaires toxiques.\n",
        "On va prendre un dataset de taille 10 000 (car TFIDF nous restreint en taille) avec tous les commentaires toxiques puis on complètera par des commentaires normaux."
      ],
      "metadata": {
        "id": "3t8HWRnWLiqM"
      }
    },
    {
      "cell_type": "code",
      "source": [
        "data = pd.read_csv('/content/drive/MyDrive/data_classification_commentaires_toxiques/train.csv')  #on reprend la dataset original\n",
        "print(len(data))\n",
        "toxic = data[(data['toxic'] == 1)]\n",
        "severe_toxic = data[(data['severe_toxic'] == 1)]\n",
        "obscene = data[(data['obscene'] == 1)]\n",
        "threat = data[(data['threat'] == 1)]\n",
        "insult = data[(data['insult'] == 1)]\n",
        "identity_hate = data[(data['identity_hate'] == 1)]\n",
        "normal = data[(data['toxic'] == 0) & (data['severe_toxic'] == 0) & (data['obscene'] == 0) & (data['threat'] == 0) & (data['insult'] == 0) & (data['identity_hate'] == 0)]\n",
        "\n",
        "print(\"toxic: {}\".format(len(toxic)))\n",
        "print(\"severe_toxic: {}\".format(len(severe_toxic)))\n",
        "print(\"obscene: {}\".format(len(obscene)))\n",
        "print(\"threat: {}\".format(len(threat)))\n",
        "print(\"insult: {}\".format(len(insult)))\n",
        "print(\"identity_hate: {}\".format(len(identity_hate)))\n",
        "print(\"normal: {}\".format(len(normal)))\n",
        "\n",
        "#On essaie d'avoir un maximum de commentaires par classe, par exemple, on veut tous les commentaires 'threat'\n",
        "\n",
        "data = pd.concat([threat, identity_hate, severe_toxic, identity_hate])\n",
        "print(len(data))\n",
        "\n",
        "print(data.head(25))\n",
        "data.drop_duplicates()\n",
        "print(len(data))"
      ],
      "metadata": {
        "id": "rVR0eCkoTQSI",
        "colab": {
          "base_uri": "https://localhost:8080/"
        },
        "outputId": "da733dc4-bc68-452a-c29f-b4fab1e7b0e9"
      },
      "execution_count": 50,
      "outputs": [
        {
          "output_type": "stream",
          "name": "stdout",
          "text": [
            "159571\n",
            "toxic: 15294\n",
            "severe_toxic: 1595\n",
            "obscene: 8449\n",
            "threat: 478\n",
            "insult: 7877\n",
            "identity_hate: 1405\n",
            "normal: 143346\n",
            "4883\n",
            "                    id                                       comment_text  \\\n",
            "79    003217c3eb469ba9  Hi! I am back again!\\nLast warning!\\nStop undo...   \n",
            "176   006b94add72ed61c  I think that your a Fagget get a oife and burn...   \n",
            "600   0199d6af27b715f3  I'm also a sock puppet of this account...SUPRI...   \n",
            "802   02230885017a50c5  Fuck you, Smith. Please have me notified when ...   \n",
            "1017  02c6e41e4b317ac3  WOULDN'T BE THE FIRST TIME BITCH. FUCK YOU I'L...   \n",
            "1085  02f77830b4d71c0f    Whoever put a notices on my page. I will kill u   \n",
            "1312  039296aa294ee10b  SHUT UP, YOU FAT POOP, OR I WILL KICK YOUR ASS!!!   \n",
            "1535  0420f5f4e950566b  Demonte Morton \\n\\nU bastard stop deletin' my ...   \n",
            "1878  0512f33cf8807fa2  Aaron Swartz \\n\\nStop fucking reverting my god...   \n",
            "2018  057894cf4738a5d8  You are a gay homo. I hope you choke on your p...   \n",
            "2373  06611b9bcca6dfd3  Go kill yourself \\n\\nYou should be ashamed of ...   \n",
            "2485  069f7c2315031b40  important \\n\\nyou and your family shall burn! ...   \n",
            "2894  07cec10ca35fe5f8                        go to  die \\n\\nson of  bich   \n",
            "2915  07e0346aeda107bd  WHAT'S WRONG WITH YOU?\\nGO KILL YOURSELF, YOU ...   \n",
            "3029  082dbb113b6db6ab  mothafucka! \\n\\nYou son of a bitch, shup up!\\n...   \n",
            "3712  09eb7d87b8c24ca5  Please stop. If you continue to ignore our pol...   \n",
            "3884  0a61094152de467f  Last warning, Mark! Anymore defiant arguments ...   \n",
            "4712  0c7c341727488579  do go fuck off bastard\\nDo Yyou Have a life?\\n...   \n",
            "4733  0c8c45cc1a037baf  Why are you still here? Can you not find anyth...   \n",
            "4888  0cf27594013bb708  \"\\n Ain't bothering me, I'm not required to si...   \n",
            "5397  0e640c74529f24aa  Wtf, Why You deleting Maashel? Bad things will...   \n",
            "5569  0ee454e997194378  How dare you send me such abuse you fucking co...   \n",
            "5934  0fdaa305356f4129  To Huldra \\n\\nI sincerely hope you die. 124.18...   \n",
            "6316  10dcd8f485bd06f4  \"\\n\\n Lock Down \\n\\nI don't know about the \"\"B...   \n",
            "6613  11a1703cf04cd84e  Who the HELL do you think you are? \\n\\nHow dar...   \n",
            "\n",
            "      toxic  severe_toxic  obscene  threat  insult  identity_hate  \n",
            "79        1             0        0       1       0              0  \n",
            "176       1             0        1       1       1              1  \n",
            "600       1             0        0       1       0              0  \n",
            "802       1             0        1       1       1              0  \n",
            "1017      1             1        1       1       1              1  \n",
            "1085      1             0        0       1       0              0  \n",
            "1312      1             1        1       1       1              1  \n",
            "1535      1             0        1       1       1              1  \n",
            "1878      1             0        1       1       1              1  \n",
            "2018      1             0        1       1       1              1  \n",
            "2373      1             0        1       1       1              0  \n",
            "2485      1             0        0       1       0              0  \n",
            "2894      1             1        1       1       1              0  \n",
            "2915      1             0        0       1       0              0  \n",
            "3029      1             0        1       1       1              0  \n",
            "3712      0             0        0       1       0              0  \n",
            "3884      1             0        0       1       0              0  \n",
            "4712      1             1        1       1       1              0  \n",
            "4733      1             0        0       1       0              0  \n",
            "4888      1             0        0       1       0              0  \n",
            "5397      1             0        0       1       0              0  \n",
            "5569      1             1        1       1       1              0  \n",
            "5934      1             0        0       1       0              0  \n",
            "6316      0             0        1       1       0              0  \n",
            "6613      1             0        0       1       0              0  \n",
            "4883\n"
          ]
        }
      ]
    }
  ]
}