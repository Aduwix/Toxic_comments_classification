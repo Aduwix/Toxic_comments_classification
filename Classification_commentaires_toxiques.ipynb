{
  "nbformat": 4,
  "nbformat_minor": 0,
  "metadata": {
    "colab": {
      "name": "Classification_commentaires_toxiques.ipynb",
      "provenance": [],
      "collapsed_sections": [],
      "include_colab_link": true
    },
    "kernelspec": {
      "name": "python3",
      "display_name": "Python 3"
    },
    "language_info": {
      "name": "python"
    },
    "accelerator": "GPU"
  },
  "cells": [
    {
      "cell_type": "markdown",
      "metadata": {
        "id": "view-in-github",
        "colab_type": "text"
      },
      "source": [
        "<a href=\"https://colab.research.google.com/github/Aduwix/Toxic_comments_classification/blob/main/Classification_commentaires_toxiques.ipynb\" target=\"_parent\"><img src=\"https://colab.research.google.com/assets/colab-badge.svg\" alt=\"Open In Colab\"/></a>"
      ]
    },
    {
      "cell_type": "markdown",
      "source": [
        "# Sommaire\n",
        "1. [Introduction](#introduction)\n",
        "2. [Importation des packages](#ImportPackages)\n",
        "3. [Importation des données](#ImportData)\n",
        "4. [Etude du jeu de données](#StudyData)\n",
        "5. [Préparation des données](#PrepareData)\n",
        "6. [Passage du texte dans un format structuré](#StructureData)\n",
        "7. [Entraînement du modèle baseline](#FirstModel)\n",
        "8. [Deep Learning](#DL)\n",
        "  1. [Première approche \"*from scratch*\"](#FromScratch)\n",
        "  2. [Avec une couche d'embedding déjà entrainée](#GloVe)"
      ],
      "metadata": {
        "id": "HrF4By68oqFU"
      }
    },
    {
      "cell_type": "markdown",
      "source": [
        "# Introduction <a name=\"introduction\"></a>\n",
        "\n",
        "Dans ce notebook, nous allons tenter de classifier des commentaires dits toxiques.\n",
        "Nous allons dans un premier temps étudier notre jeu de données pour comprendre ce que nous allons traiter.\n",
        "\n",
        "Ensuite, avant de passer à la classification, il est nécessaire de préparer nos données. On s'occupe des contractions de mots, des abréviations et d'autres traitements avec notamment les stop words.\n",
        "\n",
        "L'étape suivante correspond à l'élaboration de la matrice reprenant les TFIDF pour obtenir une représentation structurée de nos données. \n",
        "\n",
        "\n",
        "## Modèle de Machine Learning classique\n",
        "\n",
        "Pour une première tentative de classification des commentaires, on part sur un algorithme de Machine Learning classique permettant de faire de la classification multi-label car un commentaire peut-être à la fois *severe_toxic* et *obscene*.\n",
        "\n",
        "On obtient alors une précision d'environ 90%.\n",
        "\n",
        "**Notre objectif est donc d'obtenir un modèle de deep learning ayant une précision du même ordre voire supérieure**\n",
        "\n",
        "## Deep Learning\n",
        "\n",
        "### From scratch\n",
        "\n",
        "Dans cette première approche, on part d'un réseau de neurones à 3 couches:\n",
        "  - Une couche d'embedding\n",
        "  - Une couche GRU de taille 64\n",
        "  - Une couche Dense de sortie\n",
        "\n",
        "### Avec une couche d'embedding déjà entrainée: GloVe\n",
        "\n",
        "Avec cette deuxième approche, on utilise une couche d'embedding déjà entrainée, GloVe."
      ],
      "metadata": {
        "id": "SCci21dcidEJ"
      }
    },
    {
      "cell_type": "markdown",
      "source": [
        "# Importation des packages <a name=\"ImportPackages\"></a>"
      ],
      "metadata": {
        "id": "_lyJzHuKRNWX"
      }
    },
    {
      "cell_type": "code",
      "execution_count": 46,
      "metadata": {
        "id": "MUj96QiIQsJ_"
      },
      "outputs": [],
      "source": [
        "import numpy as np\n",
        "import pandas as pd\n",
        "import matplotlib.pyplot as plt\n",
        "import tensorflow as tf\n",
        "\n",
        "import re\n",
        "import string\n",
        "import nltk\n",
        "\n",
        "from nltk.corpus import stopwords\n",
        "from nltk.tokenize import word_tokenize\n",
        "\n",
        "from sklearn.feature_extraction.text import TfidfVectorizer \n",
        "from sklearn.model_selection import train_test_split\n",
        "from sklearn.ensemble import RandomForestClassifier\n",
        "from sklearn.multiclass import OneVsRestClassifier\n",
        "from sklearn.metrics import classification_report, confusion_matrix, accuracy_score\n",
        "\n",
        "#Réseaux de neurones\n",
        "from tensorflow.keras.preprocessing.sequence import pad_sequences\n",
        "from tensorflow.keras.layers import Embedding, LSTM, Dense, Dropout, Bidirectional\n",
        "from tensorflow.keras.preprocessing.text import Tokenizer\n",
        "from tensorflow.keras.models import Sequential\n",
        "from tensorflow.keras.optimizers import Adam\n",
        "from tensorflow.keras import regularizers\n",
        "\n",
        "from tensorflow.keras.preprocessing.text import Tokenizer\n",
        "from tensorflow.keras.preprocessing.sequence import pad_sequences"
      ]
    },
    {
      "cell_type": "markdown",
      "source": [
        "# Importation des données <a name=\"ImportData\"></a>"
      ],
      "metadata": {
        "id": "xZLpUMItRWc0"
      }
    },
    {
      "cell_type": "markdown",
      "source": [
        "Ajoutez un raccourci de ce dossier à votre google drive :\n",
        "\n",
        "https://drive.google.com/drive/folders/1mx-CAzT10YKrmxHfYDP_1Oef7PVGUr7s?usp=sharing"
      ],
      "metadata": {
        "id": "cbE3MzVKRaV2"
      }
    },
    {
      "cell_type": "code",
      "source": [
        "from google.colab import drive\n",
        "drive.mount('/content/drive', force_remount=True)"
      ],
      "metadata": {
        "colab": {
          "base_uri": "https://localhost:8080/"
        },
        "id": "4FktfCVaRVrs",
        "outputId": "61b50853-6d67-491f-aa8c-a1cd1c604b92"
      },
      "execution_count": 47,
      "outputs": [
        {
          "output_type": "stream",
          "name": "stdout",
          "text": [
            "Mounted at /content/drive\n"
          ]
        }
      ]
    },
    {
      "cell_type": "code",
      "source": [
        "data = pd.read_csv('/content/drive/MyDrive/data_classification_commentaires_toxiques/train.csv')\n",
        "data.head()"
      ],
      "metadata": {
        "colab": {
          "base_uri": "https://localhost:8080/",
          "height": 204
        },
        "id": "qky64Lq8Rocy",
        "outputId": "c9935829-28f1-4bdf-84ee-1324ed135b6d"
      },
      "execution_count": 48,
      "outputs": [
        {
          "output_type": "execute_result",
          "data": {
            "text/plain": [
              "                 id                                       comment_text  toxic  \\\n",
              "0  0000997932d777bf  Explanation\\nWhy the edits made under my usern...      0   \n",
              "1  000103f0d9cfb60f  D'aww! He matches this background colour I'm s...      0   \n",
              "2  000113f07ec002fd  Hey man, I'm really not trying to edit war. It...      0   \n",
              "3  0001b41b1c6bb37e  \"\\nMore\\nI can't make any real suggestions on ...      0   \n",
              "4  0001d958c54c6e35  You, sir, are my hero. Any chance you remember...      0   \n",
              "\n",
              "   severe_toxic  obscene  threat  insult  identity_hate  \n",
              "0             0        0       0       0              0  \n",
              "1             0        0       0       0              0  \n",
              "2             0        0       0       0              0  \n",
              "3             0        0       0       0              0  \n",
              "4             0        0       0       0              0  "
            ],
            "text/html": [
              "\n",
              "  <div id=\"df-22f0fd74-ab92-4890-82ca-fd4b61907dde\">\n",
              "    <div class=\"colab-df-container\">\n",
              "      <div>\n",
              "<style scoped>\n",
              "    .dataframe tbody tr th:only-of-type {\n",
              "        vertical-align: middle;\n",
              "    }\n",
              "\n",
              "    .dataframe tbody tr th {\n",
              "        vertical-align: top;\n",
              "    }\n",
              "\n",
              "    .dataframe thead th {\n",
              "        text-align: right;\n",
              "    }\n",
              "</style>\n",
              "<table border=\"1\" class=\"dataframe\">\n",
              "  <thead>\n",
              "    <tr style=\"text-align: right;\">\n",
              "      <th></th>\n",
              "      <th>id</th>\n",
              "      <th>comment_text</th>\n",
              "      <th>toxic</th>\n",
              "      <th>severe_toxic</th>\n",
              "      <th>obscene</th>\n",
              "      <th>threat</th>\n",
              "      <th>insult</th>\n",
              "      <th>identity_hate</th>\n",
              "    </tr>\n",
              "  </thead>\n",
              "  <tbody>\n",
              "    <tr>\n",
              "      <th>0</th>\n",
              "      <td>0000997932d777bf</td>\n",
              "      <td>Explanation\\nWhy the edits made under my usern...</td>\n",
              "      <td>0</td>\n",
              "      <td>0</td>\n",
              "      <td>0</td>\n",
              "      <td>0</td>\n",
              "      <td>0</td>\n",
              "      <td>0</td>\n",
              "    </tr>\n",
              "    <tr>\n",
              "      <th>1</th>\n",
              "      <td>000103f0d9cfb60f</td>\n",
              "      <td>D'aww! He matches this background colour I'm s...</td>\n",
              "      <td>0</td>\n",
              "      <td>0</td>\n",
              "      <td>0</td>\n",
              "      <td>0</td>\n",
              "      <td>0</td>\n",
              "      <td>0</td>\n",
              "    </tr>\n",
              "    <tr>\n",
              "      <th>2</th>\n",
              "      <td>000113f07ec002fd</td>\n",
              "      <td>Hey man, I'm really not trying to edit war. It...</td>\n",
              "      <td>0</td>\n",
              "      <td>0</td>\n",
              "      <td>0</td>\n",
              "      <td>0</td>\n",
              "      <td>0</td>\n",
              "      <td>0</td>\n",
              "    </tr>\n",
              "    <tr>\n",
              "      <th>3</th>\n",
              "      <td>0001b41b1c6bb37e</td>\n",
              "      <td>\"\\nMore\\nI can't make any real suggestions on ...</td>\n",
              "      <td>0</td>\n",
              "      <td>0</td>\n",
              "      <td>0</td>\n",
              "      <td>0</td>\n",
              "      <td>0</td>\n",
              "      <td>0</td>\n",
              "    </tr>\n",
              "    <tr>\n",
              "      <th>4</th>\n",
              "      <td>0001d958c54c6e35</td>\n",
              "      <td>You, sir, are my hero. Any chance you remember...</td>\n",
              "      <td>0</td>\n",
              "      <td>0</td>\n",
              "      <td>0</td>\n",
              "      <td>0</td>\n",
              "      <td>0</td>\n",
              "      <td>0</td>\n",
              "    </tr>\n",
              "  </tbody>\n",
              "</table>\n",
              "</div>\n",
              "      <button class=\"colab-df-convert\" onclick=\"convertToInteractive('df-22f0fd74-ab92-4890-82ca-fd4b61907dde')\"\n",
              "              title=\"Convert this dataframe to an interactive table.\"\n",
              "              style=\"display:none;\">\n",
              "        \n",
              "  <svg xmlns=\"http://www.w3.org/2000/svg\" height=\"24px\"viewBox=\"0 0 24 24\"\n",
              "       width=\"24px\">\n",
              "    <path d=\"M0 0h24v24H0V0z\" fill=\"none\"/>\n",
              "    <path d=\"M18.56 5.44l.94 2.06.94-2.06 2.06-.94-2.06-.94-.94-2.06-.94 2.06-2.06.94zm-11 1L8.5 8.5l.94-2.06 2.06-.94-2.06-.94L8.5 2.5l-.94 2.06-2.06.94zm10 10l.94 2.06.94-2.06 2.06-.94-2.06-.94-.94-2.06-.94 2.06-2.06.94z\"/><path d=\"M17.41 7.96l-1.37-1.37c-.4-.4-.92-.59-1.43-.59-.52 0-1.04.2-1.43.59L10.3 9.45l-7.72 7.72c-.78.78-.78 2.05 0 2.83L4 21.41c.39.39.9.59 1.41.59.51 0 1.02-.2 1.41-.59l7.78-7.78 2.81-2.81c.8-.78.8-2.07 0-2.86zM5.41 20L4 18.59l7.72-7.72 1.47 1.35L5.41 20z\"/>\n",
              "  </svg>\n",
              "      </button>\n",
              "      \n",
              "  <style>\n",
              "    .colab-df-container {\n",
              "      display:flex;\n",
              "      flex-wrap:wrap;\n",
              "      gap: 12px;\n",
              "    }\n",
              "\n",
              "    .colab-df-convert {\n",
              "      background-color: #E8F0FE;\n",
              "      border: none;\n",
              "      border-radius: 50%;\n",
              "      cursor: pointer;\n",
              "      display: none;\n",
              "      fill: #1967D2;\n",
              "      height: 32px;\n",
              "      padding: 0 0 0 0;\n",
              "      width: 32px;\n",
              "    }\n",
              "\n",
              "    .colab-df-convert:hover {\n",
              "      background-color: #E2EBFA;\n",
              "      box-shadow: 0px 1px 2px rgba(60, 64, 67, 0.3), 0px 1px 3px 1px rgba(60, 64, 67, 0.15);\n",
              "      fill: #174EA6;\n",
              "    }\n",
              "\n",
              "    [theme=dark] .colab-df-convert {\n",
              "      background-color: #3B4455;\n",
              "      fill: #D2E3FC;\n",
              "    }\n",
              "\n",
              "    [theme=dark] .colab-df-convert:hover {\n",
              "      background-color: #434B5C;\n",
              "      box-shadow: 0px 1px 3px 1px rgba(0, 0, 0, 0.15);\n",
              "      filter: drop-shadow(0px 1px 2px rgba(0, 0, 0, 0.3));\n",
              "      fill: #FFFFFF;\n",
              "    }\n",
              "  </style>\n",
              "\n",
              "      <script>\n",
              "        const buttonEl =\n",
              "          document.querySelector('#df-22f0fd74-ab92-4890-82ca-fd4b61907dde button.colab-df-convert');\n",
              "        buttonEl.style.display =\n",
              "          google.colab.kernel.accessAllowed ? 'block' : 'none';\n",
              "\n",
              "        async function convertToInteractive(key) {\n",
              "          const element = document.querySelector('#df-22f0fd74-ab92-4890-82ca-fd4b61907dde');\n",
              "          const dataTable =\n",
              "            await google.colab.kernel.invokeFunction('convertToInteractive',\n",
              "                                                     [key], {});\n",
              "          if (!dataTable) return;\n",
              "\n",
              "          const docLinkHtml = 'Like what you see? Visit the ' +\n",
              "            '<a target=\"_blank\" href=https://colab.research.google.com/notebooks/data_table.ipynb>data table notebook</a>'\n",
              "            + ' to learn more about interactive tables.';\n",
              "          element.innerHTML = '';\n",
              "          dataTable['output_type'] = 'display_data';\n",
              "          await google.colab.output.renderOutput(dataTable, element);\n",
              "          const docLink = document.createElement('div');\n",
              "          docLink.innerHTML = docLinkHtml;\n",
              "          element.appendChild(docLink);\n",
              "        }\n",
              "      </script>\n",
              "    </div>\n",
              "  </div>\n",
              "  "
            ]
          },
          "metadata": {},
          "execution_count": 48
        }
      ]
    },
    {
      "cell_type": "markdown",
      "source": [
        "On ne prend pas la totalité du dataset pour l'entraînement pour ne pas passer trop de temps sur l'apprentissage."
      ],
      "metadata": {
        "id": "fABUqgIWwHYt"
      }
    },
    {
      "cell_type": "code",
      "source": [
        "len(data.index)\n",
        "data = data.iloc[:100000, :]"
      ],
      "metadata": {
        "id": "RSPSuakVwFPu"
      },
      "execution_count": 49,
      "outputs": []
    },
    {
      "cell_type": "markdown",
      "source": [
        "# Etude du jeu de données <a name=\"StudyData\"></a>"
      ],
      "metadata": {
        "id": "-kUWzBzISpsK"
      }
    },
    {
      "cell_type": "markdown",
      "source": [
        "Une première étape consiste à enlever certains caractères spéciaux présents dans les commentaires."
      ],
      "metadata": {
        "id": "p0ktlV3DwnZg"
      }
    },
    {
      "cell_type": "code",
      "source": [
        "data['comment_text'] = data['comment_text'].apply(lambda x : x.replace('\\ufeff', ''))\n",
        "data['comment_text'] = data['comment_text'].apply(lambda x : x.replace('\\xa0', ''))\n",
        "data['comment_text'] = data['comment_text'].apply(lambda x : x.replace('&#39;', ' '))"
      ],
      "metadata": {
        "id": "CAexGL7jS-VF"
      },
      "execution_count": 50,
      "outputs": []
    },
    {
      "cell_type": "markdown",
      "source": [
        "On veut maintenant essayer de comprendre notre jeu de données avec différentes caractéristiques, on commence par la fréquence des commentaires selon leur classe type."
      ],
      "metadata": {
        "id": "oJrkCk5nwtqY"
      }
    },
    {
      "cell_type": "code",
      "source": [
        "fig = plt.figure()\n",
        "ax = fig.add_axes([0,0,1,1])\n",
        "types = [\"Normal\", \"Toxic\", \"Severe Toxic\", \"Obscene\", \"Threat\", \"Insult\", \"Identity Hate\"]\n",
        "\n",
        "#On définit nos différents labels\n",
        "labels = data.columns[2:]\n",
        "\n",
        "values = [len(data[(data['toxic'] == 0) & (data['severe_toxic'] == 0) & (data['obscene'] == 0) & (data['threat'] == 0) & (data['insult'] == 0) & (data['identity_hate'] == 0)])]\n",
        "for column in labels:\n",
        "  values.append(data[column].value_counts().to_numpy()[1])\n",
        "\n",
        "ax.bar(types,values)\n",
        "plt.show()"
      ],
      "metadata": {
        "colab": {
          "base_uri": "https://localhost:8080/",
          "height": 336
        },
        "id": "73VmTHbCwucT",
        "outputId": "95595aca-962d-446b-cfcb-8c67f3ac3517"
      },
      "execution_count": 51,
      "outputs": [
        {
          "output_type": "display_data",
          "data": {
            "text/plain": [
              "<Figure size 432x288 with 1 Axes>"
            ],
            "image/png": "[encoded data removed]"
          },
          "metadata": {
            "needs_background": "light"
          }
        }
      ]
    },
    {
      "cell_type": "markdown",
      "source": [
        "On remarque ici que le nombre de commentaires dits \"normaux\" est bien supérieur au nombre de commentaires toxiques de tous types. On remarque aussi que certaines classes sont plus présentes que d'autres: 'toxic', 'obscene' et 'insult' ont plus d'exemples que 'severe_toxic', 'threat' et 'identity hate'."
      ],
      "metadata": {
        "id": "xS9OmFkXwyFB"
      }
    },
    {
      "cell_type": "markdown",
      "source": [
        "On peut aussi regarder la taille de nos commentaires"
      ],
      "metadata": {
        "id": "10HNJENAGmJk"
      }
    },
    {
      "cell_type": "code",
      "source": [
        "length = data['comment_text'].str.len()\n",
        "length.hist()\n",
        "plt.show()"
      ],
      "metadata": {
        "colab": {
          "base_uri": "https://localhost:8080/",
          "height": 265
        },
        "id": "h7rz6_wtGzTY",
        "outputId": "5e7fab7f-0a24-421e-ac12-2e092b4d5276"
      },
      "execution_count": 102,
      "outputs": [
        {
          "output_type": "display_data",
          "data": {
            "text/plain": [
              "<Figure size 432x288 with 1 Axes>"
            ],
            "image/png": "[encoded data removed]"
          },
          "metadata": {
            "needs_background": "light"
          }
        }
      ]
    },
    {
      "cell_type": "markdown",
      "source": [
        "On remarque que la longueur des commentaires (en caractères) est dans la majorité des cas inférieure à 500"
      ],
      "metadata": {
        "id": "0vXSUW2YHvhq"
      }
    },
    {
      "cell_type": "code",
      "source": [
        "print(\"Taille Moyenne d'un commentaire (nombre de caractères): {} \".format(np.mean(data['comment_text'].str.len())))\n",
        "average_size = np.mean([len(comment.split()) for comment in data['comment_text']])\n",
        "print(\"Taille Moyenne d'un commentaire (nombre de mots): {} \".format(average_size))"
      ],
      "metadata": {
        "colab": {
          "base_uri": "https://localhost:8080/"
        },
        "id": "lydp2kAJHsxZ",
        "outputId": "54d909a6-2b76-459a-8a72-5afb3e9d7370"
      },
      "execution_count": 53,
      "outputs": [
        {
          "output_type": "stream",
          "name": "stdout",
          "text": [
            "Taille Moyenne d'un commentaire (nombre de caractères): 396.35155 \n",
            "Taille Moyenne d'un commentaire (nombre de mots): 67.71635 \n"
          ]
        }
      ]
    },
    {
      "cell_type": "code",
      "source": [
        "print(\"Taille Maximale d'un commentaire (nombre de caractères): {} \".format(np.max(data['comment_text'].str.len())))\n",
        "max_size = np.max([len(comment.split()) for comment in data['comment_text']])\n",
        "print(\"Taille Maximale d'un commentaire (nombre de mots): {} \".format(max_size))"
      ],
      "metadata": {
        "colab": {
          "base_uri": "https://localhost:8080/"
        },
        "id": "BSs2L-fWIYtJ",
        "outputId": "de023b83-a8ae-4c8d-ff19-0c30c0dcba65"
      },
      "execution_count": 54,
      "outputs": [
        {
          "output_type": "stream",
          "name": "stdout",
          "text": [
            "Taille Maximale d'un commentaire (nombre de caractères): 5000 \n",
            "Taille Maximale d'un commentaire (nombre de mots): 1403 \n"
          ]
        }
      ]
    },
    {
      "cell_type": "markdown",
      "source": [
        "# Préparation des données <a name=\"PrepareData\"></a>"
      ],
      "metadata": {
        "id": "YIzpSrAjSsAM"
      }
    },
    {
      "cell_type": "markdown",
      "source": [
        "L'objectif est maintenant de nettoyer le jeu de données. On va notamment essayer de remplacer les contractions et abreviations les plus courantes."
      ],
      "metadata": {
        "id": "kEVsO7quw0yq"
      }
    },
    {
      "cell_type": "code",
      "source": [
        "nltk.download('stopwords')\n",
        "nltk.download('punkt')\n",
        "stop_words = nltk.corpus.stopwords.words('english')"
      ],
      "metadata": {
        "id": "1WMk85t8S_zX",
        "colab": {
          "base_uri": "https://localhost:8080/"
        },
        "outputId": "8539bb06-de9e-4e8c-c5ef-f0bbefda6fc8"
      },
      "execution_count": 55,
      "outputs": [
        {
          "output_type": "stream",
          "name": "stdout",
          "text": [
            "[nltk_data] Downloading package stopwords to /root/nltk_data...\n",
            "[nltk_data]   Package stopwords is already up-to-date!\n",
            "[nltk_data] Downloading package punkt to /root/nltk_data...\n",
            "[nltk_data]   Package punkt is already up-to-date!\n"
          ]
        }
      ]
    },
    {
      "cell_type": "markdown",
      "source": [
        "On définit plusieurs fonctions nous permettant de nettoyer les commentaires."
      ],
      "metadata": {
        "id": "ulN4woGfw5gS"
      }
    },
    {
      "cell_type": "code",
      "source": [
        "def clean(comment): \n",
        "            \n",
        "    # Contractions\n",
        "    comment = re.sub(r\"he's\", \"he is\", comment)\n",
        "    comment = re.sub(r\"there's\", \"there is\", comment)\n",
        "    comment = re.sub(r\"We're\", \"We are\", comment)\n",
        "    comment = re.sub(r\"That's\", \"That is\", comment)\n",
        "    comment = re.sub(r\"won't\", \"will not\", comment)\n",
        "    comment = re.sub(r\"they're\", \"they are\", comment)\n",
        "    comment = re.sub(r\"Can't\", \"Cannot\", comment)\n",
        "    comment = re.sub(r\"wasn't\", \"was not\", comment)\n",
        "    comment = re.sub(r\"don\\x89Ûªt\", \"do not\", comment)\n",
        "    comment = re.sub(r\"aren't\", \"are not\", comment)\n",
        "    comment = re.sub(r\"isn't\", \"is not\", comment)\n",
        "    comment = re.sub(r\"What's\", \"What is\", comment)\n",
        "    comment = re.sub(r\"haven't\", \"have not\", comment)\n",
        "    comment = re.sub(r\"hasn't\", \"has not\", comment)\n",
        "    comment = re.sub(r\"There's\", \"There is\", comment)\n",
        "    comment = re.sub(r\"He's\", \"He is\", comment)\n",
        "    comment = re.sub(r\"It's\", \"It is\", comment)\n",
        "    comment = re.sub(r\"You're\", \"You are\", comment)\n",
        "    comment = re.sub(r\"I'M\", \"I am\", comment)\n",
        "    comment = re.sub(r\"shouldn't\", \"should not\", comment)\n",
        "    comment = re.sub(r\"wouldn't\", \"would not\", comment)\n",
        "    comment = re.sub(r\"i'm\", \"I am\", comment)\n",
        "    comment = re.sub(r\"I\\x89Ûªm\", \"I am\", comment)\n",
        "    comment = re.sub(r\"I'm\", \"I am\", comment)\n",
        "    comment = re.sub(r\"Isn't\", \"is not\", comment)\n",
        "    comment = re.sub(r\"Here's\", \"Here is\", comment)\n",
        "    comment = re.sub(r\"you've\", \"you have\", comment)\n",
        "    comment = re.sub(r\"you\\x89Ûªve\", \"you have\", comment)\n",
        "    comment = re.sub(r\"we're\", \"we are\", comment)\n",
        "    comment = re.sub(r\"what's\", \"what is\", comment)\n",
        "    comment = re.sub(r\"couldn't\", \"could not\", comment)\n",
        "    comment = re.sub(r\"we've\", \"we have\", comment)\n",
        "    comment = re.sub(r\"it\\x89Ûªs\", \"it is\", comment)\n",
        "    comment = re.sub(r\"doesn\\x89Ûªt\", \"does not\", comment)\n",
        "    comment = re.sub(r\"It\\x89Ûªs\", \"It is\", comment)\n",
        "    comment = re.sub(r\"Here\\x89Ûªs\", \"Here is\", comment)\n",
        "    comment = re.sub(r\"who's\", \"who is\", comment)\n",
        "    comment = re.sub(r\"I\\x89Ûªve\", \"I have\", comment)\n",
        "    comment = re.sub(r\"y'all\", \"you all\", comment)\n",
        "    comment = re.sub(r\"can\\x89Ûªt\", \"cannot\", comment)\n",
        "    comment = re.sub(r\"would've\", \"would have\", comment)\n",
        "    comment = re.sub(r\"it'll\", \"it will\", comment)\n",
        "    comment = re.sub(r\"we'll\", \"we will\", comment)\n",
        "    comment = re.sub(r\"wouldn\\x89Ûªt\", \"would not\", comment)\n",
        "    comment = re.sub(r\"We've\", \"We have\", comment)\n",
        "    comment = re.sub(r\"he'll\", \"he will\", comment)\n",
        "    comment = re.sub(r\"Y'all\", \"You all\", comment)\n",
        "    comment = re.sub(r\"Weren't\", \"Were not\", comment)\n",
        "    comment = re.sub(r\"Didn't\", \"Did not\", comment)\n",
        "    comment = re.sub(r\"they'll\", \"they will\", comment)\n",
        "    comment = re.sub(r\"they'd\", \"they would\", comment)\n",
        "    comment = re.sub(r\"DON'T\", \"DO NOT\", comment)\n",
        "    comment = re.sub(r\"That\\x89Ûªs\", \"That is\", comment)\n",
        "    comment = re.sub(r\"they've\", \"they have\", comment)\n",
        "    comment = re.sub(r\"i'd\", \"I would\", comment)\n",
        "    comment = re.sub(r\"should've\", \"should have\", comment)\n",
        "    comment = re.sub(r\"You\\x89Ûªre\", \"You are\", comment)\n",
        "    comment = re.sub(r\"where's\", \"where is\", comment)\n",
        "    comment = re.sub(r\"Don\\x89Ûªt\", \"Do not\", comment)\n",
        "    comment = re.sub(r\"we'd\", \"we would\", comment)\n",
        "    comment = re.sub(r\"i'll\", \"I will\", comment)\n",
        "    comment = re.sub(r\"weren't\", \"were not\", comment)\n",
        "    comment = re.sub(r\"They're\", \"They are\", comment)\n",
        "    comment = re.sub(r\"Can\\x89Ûªt\", \"Cannot\", comment)\n",
        "    comment = re.sub(r\"you\\x89Ûªll\", \"you will\", comment)\n",
        "    comment = re.sub(r\"I\\x89Ûªd\", \"I would\", comment)\n",
        "    comment = re.sub(r\"let's\", \"let us\", comment)\n",
        "    comment = re.sub(r\"it's\", \"it is\", comment)\n",
        "    comment = re.sub(r\"can't\", \"cannot\", comment)\n",
        "    comment = re.sub(r\"don't\", \"do not\", comment)\n",
        "    comment = re.sub(r\"you're\", \"you are\", comment)\n",
        "    comment = re.sub(r\"i've\", \"I have\", comment)\n",
        "    comment = re.sub(r\"that's\", \"that is\", comment)\n",
        "    comment = re.sub(r\"i'll\", \"I will\", comment)\n",
        "    comment = re.sub(r\"doesn't\", \"does not\", comment)\n",
        "    comment = re.sub(r\"i'd\", \"I would\", comment)\n",
        "    comment = re.sub(r\"didn't\", \"did not\", comment)\n",
        "    comment = re.sub(r\"ain't\", \"am not\", comment)\n",
        "    comment = re.sub(r\"you'll\", \"you will\", comment)\n",
        "    comment = re.sub(r\"I've\", \"I have\", comment)\n",
        "    comment = re.sub(r\"Don't\", \"do not\", comment)\n",
        "    comment = re.sub(r\"I'll\", \"I will\", comment)\n",
        "    comment = re.sub(r\"I'd\", \"I would\", comment)\n",
        "    comment = re.sub(r\"Let's\", \"Let us\", comment)\n",
        "    comment = re.sub(r\"you'd\", \"You would\", comment)\n",
        "    comment = re.sub(r\"It's\", \"It is\", comment)\n",
        "    comment = re.sub(r\"Ain't\", \"am not\", comment)\n",
        "    comment = re.sub(r\"Haven't\", \"Have not\", comment)\n",
        "    comment = re.sub(r\"Could've\", \"Could have\", comment)\n",
        "    comment = re.sub(r\"youve\", \"you have\", comment)  \n",
        "    comment = re.sub(r\"donå«t\", \"do not\", comment)  \n",
        "    \n",
        "    comment = re.sub(r\"some1\", \"someone\", comment)\n",
        "    comment = re.sub(r\"yrs\", \"years\", comment)\n",
        "    comment = re.sub(r\"hrs\", \"hours\", comment)\n",
        "    comment = re.sub(r\"2morow|2moro\", \"tomorrow\", comment)\n",
        "    comment = re.sub(r\"2day\", \"today\", comment)\n",
        "    comment = re.sub(r\"4got|4gotten\", \"forget\", comment)\n",
        "    comment = re.sub(r\"b-day|bday\", \"b-day\", comment)\n",
        "    comment = re.sub(r\"mother's\", \"mother\", comment)\n",
        "    comment = re.sub(r\"mom's\", \"mom\", comment)\n",
        "    comment = re.sub(r\"dad's\", \"dad\", comment)\n",
        "    comment = re.sub(r\"hahah|hahaha|hahahaha\", \"haha\", comment)\n",
        "    comment = re.sub(r\"lmao|lolz|rofl\", \"lol\", comment)\n",
        "    comment = re.sub(r\"thanx|thnx\", \"thanks\", comment)\n",
        "    comment = re.sub(r\"goood\", \"good\", comment)\n",
        "    comment = re.sub(r\"some1\", \"someone\", comment)\n",
        "    comment = re.sub(r\"some1\", \"someone\", comment)\n",
        "    # Character entity references\n",
        "    comment = re.sub(r\"&gt;\", \">\", comment)\n",
        "    comment = re.sub(r\"&lt;\", \"<\", comment)\n",
        "    comment = re.sub(r\"&amp;\", \"&\", comment)\n",
        "    # Typos, slang and informal abbreviations\n",
        "    comment = re.sub(r\"w/e\", \"whatever\", comment)\n",
        "    comment = re.sub(r\"w/\", \"with\", comment)\n",
        "    comment = re.sub(r\"<3\", \"love\", comment)\n",
        "    # Urls\n",
        "    comment = re.sub(r\"http\\S+\", \"\", comment)\n",
        "    # Numbers\n",
        "    comment = re.sub(r'[0-9]', '', comment)\n",
        "    # Eliminating the mentions\n",
        "    comment = re.sub(\"(@[A-Za-z0-9_]+)\",\"\", comment)\n",
        "    # Remove punctuation and special chars (keep '!')\n",
        "    for p in string.punctuation.replace('!', ''):\n",
        "        comment = comment.replace(p, '')\n",
        "        \n",
        "    # ... and ..\n",
        "    comment = comment.replace('...', ' ... ')\n",
        "    if '...' not in comment:\n",
        "        comment = comment.replace('..', ' ... ')\n",
        "        \n",
        "    # Tokenize\n",
        "    comment_words = word_tokenize(comment)\n",
        "    \n",
        "    # Eliminating the word if its length is less than 3\n",
        "    comment = [w for w in comment_words if len(w)>2]\n",
        "    \n",
        "    # remove stopwords\n",
        "    comment = [w.lower() for w in comment if not w in stop_words]  \n",
        "    \n",
        "    \n",
        "    # join back\n",
        "    comment = ' '.join(comment)\n",
        "        \n",
        "        \n",
        "    return comment"
      ],
      "metadata": {
        "id": "1ea2Vnv1w58k"
      },
      "execution_count": 56,
      "outputs": []
    },
    {
      "cell_type": "code",
      "source": [
        "variable_name = \"\"\n",
        "abbreviations = {\n",
        "    \"$\" : \" dollar \",\n",
        "    \"€\" : \" euro \",\n",
        "    \"4ao\" : \"for adults only\",\n",
        "    \"a.m\" : \"before midday\",\n",
        "    \"a3\" : \"anytime anywhere anyplace\",\n",
        "    \"aamof\" : \"as a matter of fact\",\n",
        "    \"acct\" : \"account\",\n",
        "    \"adih\" : \"another day in hell\",\n",
        "    \"afaic\" : \"as far as i am concerned\",\n",
        "    \"afaict\" : \"as far as i can tell\",\n",
        "    \"afaik\" : \"as far as i know\",\n",
        "    \"afair\" : \"as far as i remember\",\n",
        "    \"afk\" : \"away from keyboard\",\n",
        "    \"app\" : \"application\",\n",
        "    \"approx\" : \"approximately\",\n",
        "    \"apps\" : \"applications\",\n",
        "    \"asap\" : \"as soon as possible\",\n",
        "    \"asl\" : \"age, sex, location\",\n",
        "    \"atk\" : \"at the keyboard\",\n",
        "    \"ave.\" : \"avenue\",\n",
        "    \"aymm\" : \"are you my mother\",\n",
        "    \"ayor\" : \"at your own risk\", \n",
        "    \"b&b\" : \"bed and breakfast\",\n",
        "    \"b+b\" : \"bed and breakfast\",\n",
        "    \"b.c\" : \"before christ\",\n",
        "    \"b2b\" : \"business to business\",\n",
        "    \"b2c\" : \"business to customer\",\n",
        "    \"b4\" : \"before\",\n",
        "    \"b4n\" : \"bye for now\",\n",
        "    \"b@u\" : \"back at you\",\n",
        "    \"bae\" : \"before anyone else\",\n",
        "    \"bak\" : \"back at keyboard\",\n",
        "    \"bbbg\" : \"bye bye be good\",\n",
        "    \"bbc\" : \"british broadcasting corporation\",\n",
        "    \"bbias\" : \"be back in a second\",\n",
        "    \"bbl\" : \"be back later\",\n",
        "    \"bbs\" : \"be back soon\",\n",
        "    \"be4\" : \"before\",\n",
        "    \"bfn\" : \"bye for now\",\n",
        "    \"blvd\" : \"boulevard\",\n",
        "    \"bout\" : \"about\",\n",
        "    \"brb\" : \"be right back\",\n",
        "    \"bros\" : \"brothers\",\n",
        "    \"brt\" : \"be right there\",\n",
        "    \"bsaaw\" : \"big smile and a wink\",\n",
        "    \"btw\" : \"by the way\",\n",
        "    \"bwl\" : \"bursting with laughter\",\n",
        "    \"c/o\" : \"care of\",\n",
        "    \"cet\" : \"central european time\",\n",
        "    \"cf\" : \"compare\",\n",
        "    \"cia\" : \"central intelligence agency\",\n",
        "    \"csl\" : \"can not stop laughing\",\n",
        "    \"cu\" : \"see you\",\n",
        "    \"cul8r\" : \"see you later\",\n",
        "    \"cv\" : \"curriculum vitae\",\n",
        "    \"cwot\" : \"complete waste of time\",\n",
        "    \"cya\" : \"see you\",\n",
        "    \"cyt\" : \"see you tomorrow\",\n",
        "    \"dae\" : \"does anyone else\",\n",
        "    \"dbmib\" : \"do not bother me i am busy\",\n",
        "    \"diy\" : \"do it yourself\",\n",
        "    \"dm\" : \"direct message\",\n",
        "    \"dwh\" : \"during work hours\",\n",
        "    \"e123\" : \"easy as one two three\",\n",
        "    \"eet\" : \"eastern european time\",\n",
        "    \"eg\" : \"example\",\n",
        "    \"embm\" : \"early morning business meeting\",\n",
        "    \"encl\" : \"enclosed\",\n",
        "    \"encl.\" : \"enclosed\",\n",
        "    \"etc\" : \"and so on\",\n",
        "    \"faq\" : \"frequently asked questions\",\n",
        "    \"fawc\" : \"for anyone who cares\",\n",
        "    \"fb\" : \"facebook\",\n",
        "    \"fc\" : \"fingers crossed\",\n",
        "    \"fig\" : \"figure\",\n",
        "    \"fimh\" : \"forever in my heart\", \n",
        "    \"ft.\" : \"feet\",\n",
        "    \"ft\" : \"featuring\",\n",
        "    \"ftl\" : \"for the loss\",\n",
        "    \"ftw\" : \"for the win\",\n",
        "    \"fwiw\" : \"for what it is worth\",\n",
        "    \"fyi\" : \"for your information\",\n",
        "    \"g9\" : \"genius\",\n",
        "    \"gahoy\" : \"get a hold of yourself\",\n",
        "    \"gal\" : \"get a life\",\n",
        "    \"gcse\" : \"general certificate of secondary education\",\n",
        "    \"gfn\" : \"gone for now\",\n",
        "    \"gg\" : \"good game\",\n",
        "    \"gl\" : \"good luck\",\n",
        "    \"glhf\" : \"good luck have fun\",\n",
        "    \"gmt\" : \"greenwich mean time\",\n",
        "    \"gmta\" : \"great minds think alike\",\n",
        "    \"gn\" : \"good night\",\n",
        "    \"g.o.a.t\" : \"greatest of all time\",\n",
        "    \"goat\" : \"greatest of all time\",\n",
        "    \"goi\" : \"get over it\",\n",
        "    \"gps\" : \"global positioning system\",\n",
        "    \"gr8\" : \"great\",\n",
        "    \"gratz\" : \"congratulations\",\n",
        "    \"gyal\" : \"girl\",\n",
        "    \"h&c\" : \"hot and cold\",\n",
        "    \"hp\" : \"horsepower\",\n",
        "    \"hr\" : \"hour\",\n",
        "    \"hrh\" : \"his royal highness\",\n",
        "    \"ht\" : \"height\",\n",
        "    \"ibrb\" : \"i will be right back\",\n",
        "    \"ic\" : \"i see\",\n",
        "    \"icq\" : \"i seek you\",\n",
        "    \"icymi\" : \"in case you missed it\",\n",
        "    \"idc\" : \"i do not care\",\n",
        "    \"idgadf\" : \"i do not give a damn fuck\",\n",
        "    \"idgaf\" : \"i do not give a fuck\",\n",
        "    \"idk\" : \"i do not know\",\n",
        "    \"ie\" : \"that is\",\n",
        "    \"i.e\" : \"that is\",\n",
        "    \"ifyp\" : \"i feel your pain\",\n",
        "    \"IG\" : \"instagram\",\n",
        "    \"iirc\" : \"if i remember correctly\",\n",
        "    \"ilu\" : \"i love you\",\n",
        "    \"ily\" : \"i love you\",\n",
        "    \"imho\" : \"in my humble opinion\",\n",
        "    \"imo\" : \"in my opinion\",\n",
        "    \"imu\" : \"i miss you\",\n",
        "    \"iow\" : \"in other words\",\n",
        "    \"irl\" : \"in real life\",\n",
        "    \"j4f\" : \"just for fun\",\n",
        "    \"jic\" : \"just in case\",\n",
        "    \"jk\" : \"just kidding\",\n",
        "    \"jsyk\" : \"just so you know\",\n",
        "    \"l8r\" : \"later\",\n",
        "    \"lb\" : \"pound\",\n",
        "    \"lbs\" : \"pounds\",\n",
        "    \"ldr\" : \"long distance relationship\",\n",
        "    \"lmao\" : \"laugh my ass off\",\n",
        "    \"lmfao\" : \"laugh my fucking ass off\",\n",
        "    \"lol\" : \"laughing out loud\",\n",
        "    \"ltd\" : \"limited\",\n",
        "    \"ltns\" : \"long time no see\",\n",
        "    \"m8\" : \"mate\",\n",
        "    \"mf\" : \"motherfucker\",\n",
        "    \"mfs\" : \"motherfuckers\",\n",
        "    \"mfw\" : \"my face when\",\n",
        "    \"mofo\" : \"motherfucker\",\n",
        "    \"mph\" : \"miles per hour\",\n",
        "    \"mr\" : \"mister\",\n",
        "    \"mrw\" : \"my reaction when\",\n",
        "    \"ms\" : \"miss\",\n",
        "    \"mte\" : \"my thoughts exactly\",\n",
        "    \"nagi\" : \"not a good idea\",\n",
        "    \"nbc\" : \"national broadcasting company\",\n",
        "    \"nbd\" : \"not big deal\",\n",
        "    \"nfs\" : \"not for sale\",\n",
        "    \"ngl\" : \"not going to lie\",\n",
        "    \"nhs\" : \"national health service\",\n",
        "    \"nrn\" : \"no reply necessary\",\n",
        "    \"nsfl\" : \"not safe for life\",\n",
        "    \"nsfw\" : \"not safe for work\",\n",
        "    \"nth\" : \"nice to have\",\n",
        "    \"nvr\" : \"never\",\n",
        "    \"nyc\" : \"new york city\",\n",
        "    \"oc\" : \"original content\",\n",
        "    \"og\" : \"original\",\n",
        "    \"ohp\" : \"overhead projector\",\n",
        "    \"oic\" : \"oh i see\",\n",
        "    \"omdb\" : \"over my dead body\",\n",
        "    \"omg\" : \"oh my god\",\n",
        "    \"omw\" : \"on my way\",\n",
        "    \"p.a\" : \"per annum\",\n",
        "    \"p.m\" : \"after midday\",\n",
        "    \"pm\" : \"prime minister\",\n",
        "    \"poc\" : \"people of color\",\n",
        "    \"pov\" : \"point of view\",\n",
        "    \"pp\" : \"pages\",\n",
        "    \"ppl\" : \"people\",\n",
        "    \"prw\" : \"parents are watching\",\n",
        "    \"ps\" : \"postscript\",\n",
        "    \"pt\" : \"point\",\n",
        "    \"ptb\" : \"please text back\",\n",
        "    \"pto\" : \"please turn over\",\n",
        "    \"qpsa\" : \"what happens\", \n",
        "    \"ratchet\" : \"rude\",\n",
        "    \"rbtl\" : \"read between the lines\",\n",
        "    \"rlrt\" : \"real life retweet\", \n",
        "    \"rofl\" : \"rolling on the floor laughing\",\n",
        "    \"roflol\" : \"rolling on the floor laughing out loud\",\n",
        "    \"rotflmao\" : \"rolling on the floor laughing my ass off\",\n",
        "    \"rt\" : \"retweet\",\n",
        "    \"ruok\" : \"are you ok\",\n",
        "    \"sfw\" : \"safe for work\",\n",
        "     \"sk8\" : \"skate\",\n",
        "    \"smh\" : \"shake my head\",\n",
        "    \"sq\" : \"square\",\n",
        "    \"srsly\" : \"seriously\", \n",
        "    \"ssdd\" : \"same stuff different day\",\n",
        "    \"tbh\" : \"to be honest\",\n",
        "    \"tbs\" : \"tablespooful\",\n",
        "    \"tbsp\" : \"tablespooful\",\n",
        "    \"tfw\" : \"that feeling when\",\n",
        "    \"thks\" : \"thank you\",\n",
        "    \"tho\" : \"though\",\n",
        "    \"thx\" : \"thank you\",\n",
        "    \"tia\" : \"thanks in advance\",\n",
        "    \"til\" : \"today i learned\",\n",
        "    \"tl;dr\" : \"too long i did not read\",\n",
        "    \"tldr\" : \"too long i did not read\",\n",
        "    \"tmb\" : \"tweet me back\",\n",
        "    \"tntl\" : \"trying not to laugh\",\n",
        "    \"ttyl\" : \"talk to you later\",\n",
        "    \"u\" : \"you\",\n",
        "    \"u2\" : \"you too\",\n",
        "    \"u4e\" : \"yours for ever\",\n",
        "    \"utc\" : \"coordinated universal time\",\n",
        "    \"w/\" : \"with\",\n",
        "    \"w/o\" : \"without\",\n",
        "    \"w8\" : \"wait\",\n",
        "    \"wassup\" : \"what is up\",\n",
        "    \"wb\" : \"welcome back\",\n",
        "    \"wtf\" : \"what the fuck\",\n",
        "    \"wtg\" : \"way to go\",\n",
        "    \"wtpa\" : \"where the party at\",\n",
        "    \"wuf\" : \"where are you from\",\n",
        "    \"wuzup\" : \"what is up\",\n",
        "    \"wywh\" : \"wish you were here\",\n",
        "    \"yd\" : \"yard\",\n",
        "    \"ygtr\" : \"you got that right\",\n",
        "    \"ynk\" : \"you never know\",\n",
        "    \"zzz\" : \"sleeping bored and tired\"\n",
        "}\n",
        "\n",
        "def convert_abbrev_in_text(comment):\n",
        "    t=[]\n",
        "    words=comment.split()\n",
        "    t = [abbreviations[w.lower()] if w.lower() in abbreviations.keys() else w for w in words]\n",
        "    return ' '.join(t) "
      ],
      "metadata": {
        "id": "zR4rjLDQw82b"
      },
      "execution_count": 57,
      "outputs": []
    },
    {
      "cell_type": "markdown",
      "source": [
        "La fonction prepare_string permet d'appliquer les deux traitements définis précédemment pour netoyer les commentaires."
      ],
      "metadata": {
        "id": "RQzYqwwxw_ZN"
      }
    },
    {
      "cell_type": "code",
      "source": [
        "def prepare_string(comment):\n",
        "  comment = clean(comment)\n",
        "  comment = convert_abbrev_in_text(comment)\n",
        "  return comment"
      ],
      "metadata": {
        "id": "1Na_5KzcxAv7"
      },
      "execution_count": 58,
      "outputs": []
    },
    {
      "cell_type": "code",
      "source": [
        "%%time\n",
        "data['comment_text'] = data['comment_text'].apply(lambda s : prepare_string(s))\n",
        "\n",
        "# Drop empty values from dataframe\n",
        "data['comment_text'].replace('', np.nan, inplace=True)\n",
        "data.dropna(subset=['comment_text'], inplace=True)"
      ],
      "metadata": {
        "colab": {
          "base_uri": "https://localhost:8080/"
        },
        "id": "SKbnzpjTxB6D",
        "outputId": "87df94fc-1293-452e-c0c7-eff2ceb733e8"
      },
      "execution_count": 59,
      "outputs": [
        {
          "output_type": "stream",
          "name": "stdout",
          "text": [
            "CPU times: user 18.3 s, sys: 45.7 ms, total: 18.3 s\n",
            "Wall time: 19 s\n"
          ]
        }
      ]
    },
    {
      "cell_type": "code",
      "source": [
        "data.head(20)"
      ],
      "metadata": {
        "id": "DWTQi3ibxEe5",
        "colab": {
          "base_uri": "https://localhost:8080/",
          "height": 1000
        },
        "outputId": "e35f2316-94c5-44d8-d1f6-9dc82a3afcd9"
      },
      "execution_count": 60,
      "outputs": [
        {
          "output_type": "execute_result",
          "data": {
            "text/plain": [
              "                  id                                       comment_text  \\\n",
              "0   0000997932d777bf  explanation why edits made username hardcore m...   \n",
              "1   000103f0d9cfb60f  daww matches background colour seemingly stuck...   \n",
              "2   000113f07ec002fd  hey man really trying edit war guy constantly ...   \n",
              "3   0001b41b1c6bb37e  more make real suggestions improvement wondere...   \n",
              "4   0001d958c54c6e35              you sir hero any chance remember page   \n",
              "5   00025465d4725e87           congratulations well use tools well talk   \n",
              "6   0002bcb3da6cb337             cocksucker before you piss around work   \n",
              "7   00031b1e95af7921  your vandalism matt shirvington article revert...   \n",
              "8   00037261f536c51d  sorry word nonsense offensive anyway intending...   \n",
              "9   00040093b2687caa               alignment subject contrary dulithgow   \n",
              "10  0005300084f90edc  fair use rationale imagewonjujpg thanks upload...   \n",
              "11  00054a5e18b50dd4                 bbq man lets discuss itmaybe phone   \n",
              "12  0005c987bdfc9d4b  hey talk what exclusive group talibanswho good...   \n",
              "13  0006f16e4e9f292e  before start throwing accusations warnings let...   \n",
              "14  00070ef96486d6f9  girl started arguments she stuck nose belong b...   \n",
              "15  00078f8ce7eb276d  juelz santanas age juelz santana years old cam...   \n",
              "16  0007e25b2121310b            bye look come think comming back tosser   \n",
              "17  000897889268bc93     redirect talkvoydan pop georgiev chernodrinski   \n",
              "18  0009801bd85e5806  the mitsurugi point made sense argue include h...   \n",
              "19  0009eaea3325de8c  mean bother see writing something regarding re...   \n",
              "\n",
              "    toxic  severe_toxic  obscene  threat  insult  identity_hate  \n",
              "0       0             0        0       0       0              0  \n",
              "1       0             0        0       0       0              0  \n",
              "2       0             0        0       0       0              0  \n",
              "3       0             0        0       0       0              0  \n",
              "4       0             0        0       0       0              0  \n",
              "5       0             0        0       0       0              0  \n",
              "6       1             1        1       0       1              0  \n",
              "7       0             0        0       0       0              0  \n",
              "8       0             0        0       0       0              0  \n",
              "9       0             0        0       0       0              0  \n",
              "10      0             0        0       0       0              0  \n",
              "11      0             0        0       0       0              0  \n",
              "12      1             0        0       0       0              0  \n",
              "13      0             0        0       0       0              0  \n",
              "14      0             0        0       0       0              0  \n",
              "15      0             0        0       0       0              0  \n",
              "16      1             0        0       0       0              0  \n",
              "17      0             0        0       0       0              0  \n",
              "18      0             0        0       0       0              0  \n",
              "19      0             0        0       0       0              0  "
            ],
            "text/html": [
              "\n",
              "  <div id=\"df-9be8ed07-a8c1-4b94-8a92-018cb107caa2\">\n",
              "    <div class=\"colab-df-container\">\n",
              "      <div>\n",
              "<style scoped>\n",
              "    .dataframe tbody tr th:only-of-type {\n",
              "        vertical-align: middle;\n",
              "    }\n",
              "\n",
              "    .dataframe tbody tr th {\n",
              "        vertical-align: top;\n",
              "    }\n",
              "\n",
              "    .dataframe thead th {\n",
              "        text-align: right;\n",
              "    }\n",
              "</style>\n",
              "<table border=\"1\" class=\"dataframe\">\n",
              "  <thead>\n",
              "    <tr style=\"text-align: right;\">\n",
              "      <th></th>\n",
              "      <th>id</th>\n",
              "      <th>comment_text</th>\n",
              "      <th>toxic</th>\n",
              "      <th>severe_toxic</th>\n",
              "      <th>obscene</th>\n",
              "      <th>threat</th>\n",
              "      <th>insult</th>\n",
              "      <th>identity_hate</th>\n",
              "    </tr>\n",
              "  </thead>\n",
              "  <tbody>\n",
              "    <tr>\n",
              "      <th>0</th>\n",
              "      <td>0000997932d777bf</td>\n",
              "      <td>explanation why edits made username hardcore m...</td>\n",
              "      <td>0</td>\n",
              "      <td>0</td>\n",
              "      <td>0</td>\n",
              "      <td>0</td>\n",
              "      <td>0</td>\n",
              "      <td>0</td>\n",
              "    </tr>\n",
              "    <tr>\n",
              "      <th>1</th>\n",
              "      <td>000103f0d9cfb60f</td>\n",
              "      <td>daww matches background colour seemingly stuck...</td>\n",
              "      <td>0</td>\n",
              "      <td>0</td>\n",
              "      <td>0</td>\n",
              "      <td>0</td>\n",
              "      <td>0</td>\n",
              "      <td>0</td>\n",
              "    </tr>\n",
              "    <tr>\n",
              "      <th>2</th>\n",
              "      <td>000113f07ec002fd</td>\n",
              "      <td>hey man really trying edit war guy constantly ...</td>\n",
              "      <td>0</td>\n",
              "      <td>0</td>\n",
              "      <td>0</td>\n",
              "      <td>0</td>\n",
              "      <td>0</td>\n",
              "      <td>0</td>\n",
              "    </tr>\n",
              "    <tr>\n",
              "      <th>3</th>\n",
              "      <td>0001b41b1c6bb37e</td>\n",
              "      <td>more make real suggestions improvement wondere...</td>\n",
              "      <td>0</td>\n",
              "      <td>0</td>\n",
              "      <td>0</td>\n",
              "      <td>0</td>\n",
              "      <td>0</td>\n",
              "      <td>0</td>\n",
              "    </tr>\n",
              "    <tr>\n",
              "      <th>4</th>\n",
              "      <td>0001d958c54c6e35</td>\n",
              "      <td>you sir hero any chance remember page</td>\n",
              "      <td>0</td>\n",
              "      <td>0</td>\n",
              "      <td>0</td>\n",
              "      <td>0</td>\n",
              "      <td>0</td>\n",
              "      <td>0</td>\n",
              "    </tr>\n",
              "    <tr>\n",
              "      <th>5</th>\n",
              "      <td>00025465d4725e87</td>\n",
              "      <td>congratulations well use tools well talk</td>\n",
              "      <td>0</td>\n",
              "      <td>0</td>\n",
              "      <td>0</td>\n",
              "      <td>0</td>\n",
              "      <td>0</td>\n",
              "      <td>0</td>\n",
              "    </tr>\n",
              "    <tr>\n",
              "      <th>6</th>\n",
              "      <td>0002bcb3da6cb337</td>\n",
              "      <td>cocksucker before you piss around work</td>\n",
              "      <td>1</td>\n",
              "      <td>1</td>\n",
              "      <td>1</td>\n",
              "      <td>0</td>\n",
              "      <td>1</td>\n",
              "      <td>0</td>\n",
              "    </tr>\n",
              "    <tr>\n",
              "      <th>7</th>\n",
              "      <td>00031b1e95af7921</td>\n",
              "      <td>your vandalism matt shirvington article revert...</td>\n",
              "      <td>0</td>\n",
              "      <td>0</td>\n",
              "      <td>0</td>\n",
              "      <td>0</td>\n",
              "      <td>0</td>\n",
              "      <td>0</td>\n",
              "    </tr>\n",
              "    <tr>\n",
              "      <th>8</th>\n",
              "      <td>00037261f536c51d</td>\n",
              "      <td>sorry word nonsense offensive anyway intending...</td>\n",
              "      <td>0</td>\n",
              "      <td>0</td>\n",
              "      <td>0</td>\n",
              "      <td>0</td>\n",
              "      <td>0</td>\n",
              "      <td>0</td>\n",
              "    </tr>\n",
              "    <tr>\n",
              "      <th>9</th>\n",
              "      <td>00040093b2687caa</td>\n",
              "      <td>alignment subject contrary dulithgow</td>\n",
              "      <td>0</td>\n",
              "      <td>0</td>\n",
              "      <td>0</td>\n",
              "      <td>0</td>\n",
              "      <td>0</td>\n",
              "      <td>0</td>\n",
              "    </tr>\n",
              "    <tr>\n",
              "      <th>10</th>\n",
              "      <td>0005300084f90edc</td>\n",
              "      <td>fair use rationale imagewonjujpg thanks upload...</td>\n",
              "      <td>0</td>\n",
              "      <td>0</td>\n",
              "      <td>0</td>\n",
              "      <td>0</td>\n",
              "      <td>0</td>\n",
              "      <td>0</td>\n",
              "    </tr>\n",
              "    <tr>\n",
              "      <th>11</th>\n",
              "      <td>00054a5e18b50dd4</td>\n",
              "      <td>bbq man lets discuss itmaybe phone</td>\n",
              "      <td>0</td>\n",
              "      <td>0</td>\n",
              "      <td>0</td>\n",
              "      <td>0</td>\n",
              "      <td>0</td>\n",
              "      <td>0</td>\n",
              "    </tr>\n",
              "    <tr>\n",
              "      <th>12</th>\n",
              "      <td>0005c987bdfc9d4b</td>\n",
              "      <td>hey talk what exclusive group talibanswho good...</td>\n",
              "      <td>1</td>\n",
              "      <td>0</td>\n",
              "      <td>0</td>\n",
              "      <td>0</td>\n",
              "      <td>0</td>\n",
              "      <td>0</td>\n",
              "    </tr>\n",
              "    <tr>\n",
              "      <th>13</th>\n",
              "      <td>0006f16e4e9f292e</td>\n",
              "      <td>before start throwing accusations warnings let...</td>\n",
              "      <td>0</td>\n",
              "      <td>0</td>\n",
              "      <td>0</td>\n",
              "      <td>0</td>\n",
              "      <td>0</td>\n",
              "      <td>0</td>\n",
              "    </tr>\n",
              "    <tr>\n",
              "      <th>14</th>\n",
              "      <td>00070ef96486d6f9</td>\n",
              "      <td>girl started arguments she stuck nose belong b...</td>\n",
              "      <td>0</td>\n",
              "      <td>0</td>\n",
              "      <td>0</td>\n",
              "      <td>0</td>\n",
              "      <td>0</td>\n",
              "      <td>0</td>\n",
              "    </tr>\n",
              "    <tr>\n",
              "      <th>15</th>\n",
              "      <td>00078f8ce7eb276d</td>\n",
              "      <td>juelz santanas age juelz santana years old cam...</td>\n",
              "      <td>0</td>\n",
              "      <td>0</td>\n",
              "      <td>0</td>\n",
              "      <td>0</td>\n",
              "      <td>0</td>\n",
              "      <td>0</td>\n",
              "    </tr>\n",
              "    <tr>\n",
              "      <th>16</th>\n",
              "      <td>0007e25b2121310b</td>\n",
              "      <td>bye look come think comming back tosser</td>\n",
              "      <td>1</td>\n",
              "      <td>0</td>\n",
              "      <td>0</td>\n",
              "      <td>0</td>\n",
              "      <td>0</td>\n",
              "      <td>0</td>\n",
              "    </tr>\n",
              "    <tr>\n",
              "      <th>17</th>\n",
              "      <td>000897889268bc93</td>\n",
              "      <td>redirect talkvoydan pop georgiev chernodrinski</td>\n",
              "      <td>0</td>\n",
              "      <td>0</td>\n",
              "      <td>0</td>\n",
              "      <td>0</td>\n",
              "      <td>0</td>\n",
              "      <td>0</td>\n",
              "    </tr>\n",
              "    <tr>\n",
              "      <th>18</th>\n",
              "      <td>0009801bd85e5806</td>\n",
              "      <td>the mitsurugi point made sense argue include h...</td>\n",
              "      <td>0</td>\n",
              "      <td>0</td>\n",
              "      <td>0</td>\n",
              "      <td>0</td>\n",
              "      <td>0</td>\n",
              "      <td>0</td>\n",
              "    </tr>\n",
              "    <tr>\n",
              "      <th>19</th>\n",
              "      <td>0009eaea3325de8c</td>\n",
              "      <td>mean bother see writing something regarding re...</td>\n",
              "      <td>0</td>\n",
              "      <td>0</td>\n",
              "      <td>0</td>\n",
              "      <td>0</td>\n",
              "      <td>0</td>\n",
              "      <td>0</td>\n",
              "    </tr>\n",
              "  </tbody>\n",
              "</table>\n",
              "</div>\n",
              "      <button class=\"colab-df-convert\" onclick=\"convertToInteractive('df-9be8ed07-a8c1-4b94-8a92-018cb107caa2')\"\n",
              "              title=\"Convert this dataframe to an interactive table.\"\n",
              "              style=\"display:none;\">\n",
              "        \n",
              "  <svg xmlns=\"http://www.w3.org/2000/svg\" height=\"24px\"viewBox=\"0 0 24 24\"\n",
              "       width=\"24px\">\n",
              "    <path d=\"M0 0h24v24H0V0z\" fill=\"none\"/>\n",
              "    <path d=\"M18.56 5.44l.94 2.06.94-2.06 2.06-.94-2.06-.94-.94-2.06-.94 2.06-2.06.94zm-11 1L8.5 8.5l.94-2.06 2.06-.94-2.06-.94L8.5 2.5l-.94 2.06-2.06.94zm10 10l.94 2.06.94-2.06 2.06-.94-2.06-.94-.94-2.06-.94 2.06-2.06.94z\"/><path d=\"M17.41 7.96l-1.37-1.37c-.4-.4-.92-.59-1.43-.59-.52 0-1.04.2-1.43.59L10.3 9.45l-7.72 7.72c-.78.78-.78 2.05 0 2.83L4 21.41c.39.39.9.59 1.41.59.51 0 1.02-.2 1.41-.59l7.78-7.78 2.81-2.81c.8-.78.8-2.07 0-2.86zM5.41 20L4 18.59l7.72-7.72 1.47 1.35L5.41 20z\"/>\n",
              "  </svg>\n",
              "      </button>\n",
              "      \n",
              "  <style>\n",
              "    .colab-df-container {\n",
              "      display:flex;\n",
              "      flex-wrap:wrap;\n",
              "      gap: 12px;\n",
              "    }\n",
              "\n",
              "    .colab-df-convert {\n",
              "      background-color: #E8F0FE;\n",
              "      border: none;\n",
              "      border-radius: 50%;\n",
              "      cursor: pointer;\n",
              "      display: none;\n",
              "      fill: #1967D2;\n",
              "      height: 32px;\n",
              "      padding: 0 0 0 0;\n",
              "      width: 32px;\n",
              "    }\n",
              "\n",
              "    .colab-df-convert:hover {\n",
              "      background-color: #E2EBFA;\n",
              "      box-shadow: 0px 1px 2px rgba(60, 64, 67, 0.3), 0px 1px 3px 1px rgba(60, 64, 67, 0.15);\n",
              "      fill: #174EA6;\n",
              "    }\n",
              "\n",
              "    [theme=dark] .colab-df-convert {\n",
              "      background-color: #3B4455;\n",
              "      fill: #D2E3FC;\n",
              "    }\n",
              "\n",
              "    [theme=dark] .colab-df-convert:hover {\n",
              "      background-color: #434B5C;\n",
              "      box-shadow: 0px 1px 3px 1px rgba(0, 0, 0, 0.15);\n",
              "      filter: drop-shadow(0px 1px 2px rgba(0, 0, 0, 0.3));\n",
              "      fill: #FFFFFF;\n",
              "    }\n",
              "  </style>\n",
              "\n",
              "      <script>\n",
              "        const buttonEl =\n",
              "          document.querySelector('#df-9be8ed07-a8c1-4b94-8a92-018cb107caa2 button.colab-df-convert');\n",
              "        buttonEl.style.display =\n",
              "          google.colab.kernel.accessAllowed ? 'block' : 'none';\n",
              "\n",
              "        async function convertToInteractive(key) {\n",
              "          const element = document.querySelector('#df-9be8ed07-a8c1-4b94-8a92-018cb107caa2');\n",
              "          const dataTable =\n",
              "            await google.colab.kernel.invokeFunction('convertToInteractive',\n",
              "                                                     [key], {});\n",
              "          if (!dataTable) return;\n",
              "\n",
              "          const docLinkHtml = 'Like what you see? Visit the ' +\n",
              "            '<a target=\"_blank\" href=https://colab.research.google.com/notebooks/data_table.ipynb>data table notebook</a>'\n",
              "            + ' to learn more about interactive tables.';\n",
              "          element.innerHTML = '';\n",
              "          dataTable['output_type'] = 'display_data';\n",
              "          await google.colab.output.renderOutput(dataTable, element);\n",
              "          const docLink = document.createElement('div');\n",
              "          docLink.innerHTML = docLinkHtml;\n",
              "          element.appendChild(docLink);\n",
              "        }\n",
              "      </script>\n",
              "    </div>\n",
              "  </div>\n",
              "  "
            ]
          },
          "metadata": {},
          "execution_count": 60
        }
      ]
    },
    {
      "cell_type": "markdown",
      "source": [
        "Nos commentaires sont maintenant nettoyés et prêts à être traités."
      ],
      "metadata": {
        "id": "StU2bgttxF-d"
      }
    },
    {
      "cell_type": "markdown",
      "source": [
        "# Passage du texte dans un format structuré <a name=\"StructureData\"></a>"
      ],
      "metadata": {
        "id": "-8AEuTKsSuLs"
      }
    },
    {
      "cell_type": "code",
      "source": [
        "corpus_size = int(100000)\n",
        "#corpus_size = int(800)\n",
        "#On va maintenant prendre un échantillon de notre dataset car TfidfVectorizer() a besoin d'énormément de ram pour ses calculs si on prend le dataset entier\n",
        "\n",
        "sample_data = data.iloc[:corpus_size, :]\n",
        "\n",
        "comments = sample_data['comment_text']\n",
        "\n",
        "#On récupère maintenant les labels\n",
        "y = sample_data.drop(columns=[\"comment_text\", \"id\"]).values[:int(corpus_size)]\n",
        "\n",
        "\n",
        "tfIdfVectorizer = TfidfVectorizer(max_features=5000)\n",
        "X = tfIdfVectorizer.fit_transform(comments).toarray()"
      ],
      "metadata": {
        "id": "AfiItZEITBK3"
      },
      "execution_count": 61,
      "outputs": []
    },
    {
      "cell_type": "markdown",
      "source": [
        "# Entraînement du modèle baseline <a name=\"FirstModel\"></a>"
      ],
      "metadata": {
        "id": "LxNIQgESTCmE"
      }
    },
    {
      "cell_type": "markdown",
      "source": [
        "Nous étions à la base partis sur un modèle de RandomForestClassifier comme dans les TP.\n",
        "Nous avons donc constaté le manque de précision du modèle et fait une analyse afin d'améliorer la précision.\n",
        "Mais nous nous sommes finalement rendu compte que ce modèle ne peut sortir qu'une seule classe à la fois. Autrement dit, un commentaire classé comme 'toxic' par le modèle ne sera jamais classé 'obscene' car le modèle ne pourra pas sortir deux labels en même temps.\n",
        "Il faut donc utiliser un modèle permettant de faire de la multi-label classification.\n",
        "On utilise ici OneVsRestClassifier."
      ],
      "metadata": {
        "id": "D442ozw9lS0A"
      }
    },
    {
      "cell_type": "code",
      "source": [
        "X_train, X_test, y_train, y_test = train_test_split(X, y, test_size=.3, random_state=0)"
      ],
      "metadata": {
        "id": "N8ZTeFJqkHEI"
      },
      "execution_count": 62,
      "outputs": []
    },
    {
      "cell_type": "code",
      "source": [
        "model = OneVsRestClassifier(RandomForestClassifier(n_estimators=15, random_state=1), n_jobs=-1)\n",
        "model.fit(X_train, y_train)"
      ],
      "metadata": {
        "id": "YgkPpzIzSQUi",
        "colab": {
          "base_uri": "https://localhost:8080/"
        },
        "outputId": "b6f1a86e-5b67-4941-d828-968934edb170"
      },
      "execution_count": 63,
      "outputs": [
        {
          "output_type": "execute_result",
          "data": {
            "text/plain": [
              "OneVsRestClassifier(estimator=RandomForestClassifier(n_estimators=15,\n",
              "                                                     random_state=1),\n",
              "                    n_jobs=-1)"
            ]
          },
          "metadata": {},
          "execution_count": 63
        }
      ]
    },
    {
      "cell_type": "markdown",
      "source": [
        "On analyse maintenant les performances de notre modèle baseline"
      ],
      "metadata": {
        "id": "aX3lCL2YxSwb"
      }
    },
    {
      "cell_type": "markdown",
      "source": [
        "On regarde tout d'abord les performances sur les données d'entraînement"
      ],
      "metadata": {
        "id": "2bfzWsNK_7EZ"
      }
    },
    {
      "cell_type": "code",
      "source": [
        "print(y_train[4], y_train[10])\n",
        "print(model.predict([X_train[4], X_train[10]]))\n",
        "\n",
        "training_predictions = model.predict(X_train)\n",
        "print(classification_report(y_train,training_predictions, zero_division = 1))   \n",
        "\n",
        "print(accuracy_score(y_train, training_predictions))"
      ],
      "metadata": {
        "id": "yyWRJAlzo-43",
        "colab": {
          "base_uri": "https://localhost:8080/"
        },
        "outputId": "ef1b2aaf-7f37-493c-f9dd-9aa05e97d441"
      },
      "execution_count": 64,
      "outputs": [
        {
          "output_type": "stream",
          "name": "stdout",
          "text": [
            "[0 0 0 0 0 0] [0 0 0 0 0 0]\n",
            "[[0 0 0 0 0 0]\n",
            " [0 0 0 0 0 0]]\n",
            "              precision    recall  f1-score   support\n",
            "\n",
            "           0       1.00      0.97      0.98       667\n",
            "           1       1.00      0.93      0.96        71\n",
            "           2       1.00      0.97      0.99       360\n",
            "           3       1.00      0.78      0.88        23\n",
            "           4       1.00      0.96      0.98       323\n",
            "           5       1.00      0.87      0.93        55\n",
            "\n",
            "   micro avg       1.00      0.96      0.98      1499\n",
            "   macro avg       1.00      0.91      0.95      1499\n",
            "weighted avg       1.00      0.96      0.98      1499\n",
            " samples avg       1.00      1.00      1.00      1499\n",
            "\n",
            "0.9931428571428571\n"
          ]
        }
      ]
    },
    {
      "cell_type": "markdown",
      "source": [
        "On voit ici que nous avons une précision de 99% sur le jeu de données d'entraînement."
      ],
      "metadata": {
        "id": "k_VgD0w6A7dw"
      }
    },
    {
      "cell_type": "markdown",
      "source": [
        "Regardons maintenant les performances du modèle sur des données jamais rencontrées."
      ],
      "metadata": {
        "id": "_jUhEE2I__t7"
      }
    },
    {
      "cell_type": "code",
      "source": [
        "predictions = model.predict(X_test)\n",
        "print(classification_report(y_test,predictions, zero_division = 1))   \n",
        "\n",
        "accuracy0 = accuracy_score(y_test, predictions)\n",
        "print(\"accuracy: {}\".format(accuracy0))"
      ],
      "metadata": {
        "id": "86TfrwPyxSDq",
        "colab": {
          "base_uri": "https://localhost:8080/"
        },
        "outputId": "009b9867-b9a8-4065-956b-362def51d872"
      },
      "execution_count": 65,
      "outputs": [
        {
          "output_type": "stream",
          "name": "stdout",
          "text": [
            "              precision    recall  f1-score   support\n",
            "\n",
            "           0       0.89      0.54      0.67       303\n",
            "           1       0.50      0.03      0.06        29\n",
            "           2       0.92      0.54      0.68       167\n",
            "           3       1.00      0.00      0.00        10\n",
            "           4       0.84      0.30      0.44       171\n",
            "           5       0.50      0.04      0.07        28\n",
            "\n",
            "   micro avg       0.88      0.43      0.58       708\n",
            "   macro avg       0.77      0.24      0.32       708\n",
            "weighted avg       0.85      0.43      0.56       708\n",
            " samples avg       0.99      0.93      0.93       708\n",
            "\n",
            "accuracy: 0.9053333333333333\n"
          ]
        }
      ]
    },
    {
      "cell_type": "markdown",
      "source": [
        "On remarque que nous avons une accuracy de 90%. Cela peut sembler correct mais on peut penser que, la dataset ayant en majorité des commentaires normaux, le modèle prédit qu'un commentaire est normal pour chaque type de commentaire."
      ],
      "metadata": {
        "id": "DN_K3-wXxWRC"
      }
    },
    {
      "cell_type": "code",
      "source": [
        "def analysePredictions(predictions, y_test):\n",
        "  num_col = len(predictions[0])\n",
        "  num_rows = len(predictions)\n",
        "\n",
        "  report = []\n",
        "\n",
        "  for label in range(num_col):\n",
        "    true_positive = false_positive = true_negative = false_negative = count = 0\n",
        "    for i in range(num_rows):\n",
        "      pred = predictions[i][label]\n",
        "      answer = y_test[i][label]\n",
        "      if pred == 1:\n",
        "        if answer == 1:\n",
        "          count += 1\n",
        "          true_positive += 1\n",
        "        else:\n",
        "          false_positive += 1\n",
        "      else:\n",
        "        if answer == 0:\n",
        "          true_negative += 1\n",
        "        else:\n",
        "          count += 1\n",
        "          false_negative += 1\n",
        "    report.append({\n",
        "        'COUNT': count,\n",
        "        'TP': true_positive,\n",
        "        'FP': false_positive,\n",
        "        'TN': true_negative,\n",
        "        'FN': false_negative\n",
        "    })\n",
        "  return report"
      ],
      "metadata": {
        "id": "yt2SiDX2xYl7"
      },
      "execution_count": 66,
      "outputs": []
    },
    {
      "cell_type": "code",
      "source": [
        "report = analysePredictions(predictions, y_test)\n",
        "\n",
        "for i, label in enumerate(labels):\n",
        "  print(\n",
        "  \"\"\"\n",
        "  {}:\n",
        "      Count: {}\n",
        "      \n",
        "        -True positive: {}\n",
        "        -False positive: {}\n",
        "        -True negative: {}\n",
        "        -False negative: {} \n",
        "\n",
        "{}\n",
        "  \"\"\".format(label, report[i]['COUNT'], report[i]['TP'], report[i]['FP'], report[i]['TN'], report[i]['FN'], confusion_matrix(y_test[:, i], predictions[:,i]))#On a aussi la possibilité d'utiliser confusion_matrix pour déterminer ces valeurs\n",
        "  )"
      ],
      "metadata": {
        "id": "o0pXZ9qqyyLL",
        "colab": {
          "base_uri": "https://localhost:8080/"
        },
        "outputId": "f69fac7b-eaf7-438e-b5ba-2c44602aaa41"
      },
      "execution_count": 67,
      "outputs": [
        {
          "output_type": "stream",
          "name": "stdout",
          "text": [
            "\n",
            "  toxic:\n",
            "      Count: 303\n",
            "      \n",
            "        -True positive: 163\n",
            "        -False positive: 21\n",
            "        -True negative: 2676\n",
            "        -False negative: 140 \n",
            "\n",
            "[[2676   21]\n",
            " [ 140  163]]\n",
            "  \n",
            "\n",
            "  severe_toxic:\n",
            "      Count: 29\n",
            "      \n",
            "        -True positive: 1\n",
            "        -False positive: 1\n",
            "        -True negative: 2970\n",
            "        -False negative: 28 \n",
            "\n",
            "[[2970    1]\n",
            " [  28    1]]\n",
            "  \n",
            "\n",
            "  obscene:\n",
            "      Count: 167\n",
            "      \n",
            "        -True positive: 91\n",
            "        -False positive: 8\n",
            "        -True negative: 2825\n",
            "        -False negative: 76 \n",
            "\n",
            "[[2825    8]\n",
            " [  76   91]]\n",
            "  \n",
            "\n",
            "  threat:\n",
            "      Count: 10\n",
            "      \n",
            "        -True positive: 0\n",
            "        -False positive: 0\n",
            "        -True negative: 2990\n",
            "        -False negative: 10 \n",
            "\n",
            "[[2990    0]\n",
            " [  10    0]]\n",
            "  \n",
            "\n",
            "  insult:\n",
            "      Count: 171\n",
            "      \n",
            "        -True positive: 51\n",
            "        -False positive: 10\n",
            "        -True negative: 2819\n",
            "        -False negative: 120 \n",
            "\n",
            "[[2819   10]\n",
            " [ 120   51]]\n",
            "  \n",
            "\n",
            "  identity_hate:\n",
            "      Count: 28\n",
            "      \n",
            "        -True positive: 1\n",
            "        -False positive: 1\n",
            "        -True negative: 2971\n",
            "        -False negative: 27 \n",
            "\n",
            "[[2971    1]\n",
            " [  27    1]]\n",
            "  \n"
          ]
        }
      ]
    },
    {
      "cell_type": "markdown",
      "source": [
        "En analysant ces indicateurs, on se rend alors compte qu'en réalité, le modèle n'arrive pas à bien classer les commentaires toxiques en général, ceux qu'il n'a jamais rencontré.\n",
        "On voit notamment que nous avons beaucoup de faux négatifs.\n",
        "La méthode utilisant le tfidf ne semble pas être réellement performante pour de nouvelles données.\n",
        "En effet, le modèle ne semble pas être capable de généraliser."
      ],
      "metadata": {
        "id": "_LV5xeI7754P"
      }
    },
    {
      "cell_type": "markdown",
      "source": [
        "# Deep Learning <a name=\"DL\"></a>"
      ],
      "metadata": {
        "id": "dUoUF1XVuVMZ"
      }
    },
    {
      "cell_type": "markdown",
      "source": [
        "## Première approche \"*from scratch*\" <a name=\"FromScratch\"></a>"
      ],
      "metadata": {
        "id": "2a8IWbTFTHXh"
      }
    },
    {
      "cell_type": "markdown",
      "source": [
        "Nous allons maintenant tenter d'améliorer les performances de notre modèle en passant par un réseau de neurones.\n",
        "\n",
        "Nous avons pour objectif d'obtenir une précision d'au moins 90%."
      ],
      "metadata": {
        "id": "K8XHIfOnCO_R"
      }
    },
    {
      "cell_type": "markdown",
      "source": [
        "Hyperparamètres"
      ],
      "metadata": {
        "id": "pzjEU3y9CmS_"
      }
    },
    {
      "cell_type": "code",
      "source": [
        "embedding_dim = 100    # Dimensions used for glove6b100\n",
        "max_length = 500        # Maximum size of a comment\n",
        "truncating='post'      # Truncates the comment if it is longer than max_length\n",
        "padding='post'    # Adds padding to the end of the comment if it is shorter than max_length\n",
        "oov_token = \"<OOV>\"      # Token \"<OOV>\" replaces words that are not part of the vocabulary (Out Of Vocabulary)\n",
        "training_size=len(data)\n",
        "test_portion=.25"
      ],
      "metadata": {
        "id": "rVR0eCkoTQSI"
      },
      "execution_count": 103,
      "outputs": []
    },
    {
      "cell_type": "code",
      "source": [
        "data = pd.read_csv('/content/drive/MyDrive/data_classification_commentaires_toxiques/train.csv')\n",
        "data = data.iloc[:50000, :]"
      ],
      "metadata": {
        "id": "sKUbv1u4zU-V"
      },
      "execution_count": 104,
      "outputs": []
    },
    {
      "cell_type": "code",
      "source": [
        "%%time\n",
        "data['comment_text'] = data['comment_text'].apply(lambda s : prepare_string(s))\n",
        "\n",
        "# Drop empty values from dataframe\n",
        "data['comment_text'].replace('', np.nan, inplace=True)\n",
        "data.dropna(subset=['comment_text'], inplace=True)"
      ],
      "metadata": {
        "id": "epx8uQYbzIUt",
        "colab": {
          "base_uri": "https://localhost:8080/"
        },
        "outputId": "2a5a862d-612d-4a80-9a8f-0da14bd718a2"
      },
      "execution_count": 105,
      "outputs": [
        {
          "output_type": "stream",
          "name": "stdout",
          "text": [
            "CPU times: user 39.7 s, sys: 70.8 ms, total: 39.7 s\n",
            "Wall time: 42.9 s\n"
          ]
        }
      ]
    },
    {
      "cell_type": "code",
      "source": [
        "tokenizer = Tokenizer(oov_token=oov_token)\n",
        "tokenizer.fit_on_texts(data[\"comment_text\"])"
      ],
      "metadata": {
        "id": "Qca8GmCNJMl5"
      },
      "execution_count": 106,
      "outputs": []
    },
    {
      "cell_type": "markdown",
      "source": [
        "On a maintenant un vecteur de mapping avec nos mots de notre vocabulaire"
      ],
      "metadata": {
        "id": "XqoaKJabJf6T"
      }
    },
    {
      "cell_type": "code",
      "source": [
        "word_index = tokenizer.word_index"
      ],
      "metadata": {
        "id": "WmGYM4wDJj-6"
      },
      "execution_count": 107,
      "outputs": []
    },
    {
      "cell_type": "code",
      "source": [
        "vocab_size = len(tokenizer.word_index)\n",
        "print(vocab_size)"
      ],
      "metadata": {
        "id": "RVn--yvgMzZA",
        "colab": {
          "base_uri": "https://localhost:8080/"
        },
        "outputId": "951e06fc-96a3-4d46-cd50-c6a36cf2ac2a"
      },
      "execution_count": 108,
      "outputs": [
        {
          "output_type": "stream",
          "name": "stdout",
          "text": [
            "103948\n"
          ]
        }
      ]
    },
    {
      "cell_type": "code",
      "source": [
        "sequences = tokenizer.texts_to_sequences(data[\"comment_text\"])\n",
        "x = pad_sequences(sequences, truncating=truncating, padding=padding, maxlen=max_length)\n",
        "#x = np.asarray(x).astype(np.float32)"
      ],
      "metadata": {
        "id": "xSVFYxX7KCR4"
      },
      "execution_count": 109,
      "outputs": []
    },
    {
      "cell_type": "code",
      "source": [
        "sequences[0]"
      ],
      "metadata": {
        "id": "N_68MFukKJIn",
        "colab": {
          "base_uri": "https://localhost:8080/"
        },
        "outputId": "d5185f61-6f0e-4a1c-a42d-284689ef803a"
      },
      "execution_count": 110,
      "outputs": [
        {
          "output_type": "execute_result",
          "data": {
            "text/plain": [
              "[555,\n",
              " 127,\n",
              " 49,\n",
              " 50,\n",
              " 508,\n",
              " 4795,\n",
              " 10274,\n",
              " 671,\n",
              " 214,\n",
              " 218,\n",
              " 8921,\n",
              " 5611,\n",
              " 2351,\n",
              " 2701,\n",
              " 40,\n",
              " 941,\n",
              " 12404,\n",
              " 2433,\n",
              " 23,\n",
              " 9,\n",
              " 149,\n",
              " 332,\n",
              " 8,\n",
              " 4,\n",
              " 59,\n",
              " 3498]"
            ]
          },
          "metadata": {},
          "execution_count": 110
        }
      ]
    },
    {
      "cell_type": "markdown",
      "source": [
        "### Initialisation du modèle"
      ],
      "metadata": {
        "id": "KYrKBi1MNBqv"
      }
    },
    {
      "cell_type": "markdown",
      "source": [
        "Nous allons dans un premier temps créer un modèle à partir de rien."
      ],
      "metadata": {
        "id": "DoRUCu_4NH4i"
      }
    },
    {
      "cell_type": "code",
      "source": [
        "tf.keras.utils.set_random_seed(123)\n",
        "\n",
        "model = tf.keras.Sequential(\n",
        "    [\n",
        "     tf.keras.layers.Embedding(input_dim=vocab_size+1, output_dim=embedding_dim, input_length=max_length),\n",
        "     tf.keras.layers.GRU(64),\n",
        "     tf.keras.layers.Dense(len(labels), activation='sigmoid')\n",
        "    ]\n",
        ")\n",
        "\n",
        "model.compile(loss='binary_crossentropy', optimizer=Adam(learning_rate=0.005),metrics=['accuracy'])\n",
        "\n",
        "model.summary()"
      ],
      "metadata": {
        "id": "sPmMJ-_hKMPk",
        "colab": {
          "base_uri": "https://localhost:8080/"
        },
        "outputId": "8eda8518-6f1d-49ae-c345-3823f9f5750a"
      },
      "execution_count": 111,
      "outputs": [
        {
          "output_type": "stream",
          "name": "stdout",
          "text": [
            "Model: \"sequential_5\"\n",
            "_________________________________________________________________\n",
            " Layer (type)                Output Shape              Param #   \n",
            "=================================================================\n",
            " embedding_5 (Embedding)     (None, 500, 100)          10394900  \n",
            "                                                                 \n",
            " gru_5 (GRU)                 (None, 64)                31872     \n",
            "                                                                 \n",
            " dense_6 (Dense)             (None, 6)                 390       \n",
            "                                                                 \n",
            "=================================================================\n",
            "Total params: 10,427,162\n",
            "Trainable params: 10,427,162\n",
            "Non-trainable params: 0\n",
            "_________________________________________________________________\n"
          ]
        }
      ]
    },
    {
      "cell_type": "markdown",
      "source": [
        "On a notre modèle. Il faut maintenant l'entraîner."
      ],
      "metadata": {
        "id": "xWVZpUVgP0df"
      }
    },
    {
      "cell_type": "code",
      "source": [
        "num_epochs = 30"
      ],
      "metadata": {
        "id": "6Z691LquQYIa"
      },
      "execution_count": 112,
      "outputs": []
    },
    {
      "cell_type": "markdown",
      "source": [
        "On définit nos ensembles d'entraînement et de test."
      ],
      "metadata": {
        "id": "EVDBzzvYQxTj"
      }
    },
    {
      "cell_type": "code",
      "source": [
        "y = data.drop(columns=[\"comment_text\", \"id\"]).values[:len(x)]\n",
        "X_train, X_test, y_train, y_test = train_test_split(x, y, test_size=test_portion)"
      ],
      "metadata": {
        "id": "4E4KaGebQYsM"
      },
      "execution_count": 113,
      "outputs": []
    },
    {
      "cell_type": "markdown",
      "source": [
        "On entraîne le modèle."
      ],
      "metadata": {
        "id": "9aKfBH9cRbLt"
      }
    },
    {
      "cell_type": "code",
      "source": [
        "history = model.fit(np.array(X_train), np.array(y_train), batch_size=256, epochs = num_epochs, validation_data = (np.array(X_test), np.array(y_test)) ,verbose=1)\n",
        "print(\"Training Complete\")"
      ],
      "metadata": {
        "id": "WocmfnvURdJV",
        "colab": {
          "base_uri": "https://localhost:8080/"
        },
        "outputId": "794e9488-e8b5-46ec-f90d-6b86aa7f2520"
      },
      "execution_count": 114,
      "outputs": [
        {
          "output_type": "stream",
          "name": "stdout",
          "text": [
            "Epoch 1/30\n",
            "147/147 [==============================] - 18s 106ms/step - loss: 0.1587 - accuracy: 0.9263 - val_loss: 0.1427 - val_accuracy: 0.9948\n",
            "Epoch 2/30\n",
            "147/147 [==============================] - 15s 102ms/step - loss: 0.1427 - accuracy: 0.9939 - val_loss: 0.1414 - val_accuracy: 0.9950\n",
            "Epoch 3/30\n",
            "147/147 [==============================] - 15s 101ms/step - loss: 0.1001 - accuracy: 0.9790 - val_loss: 0.0596 - val_accuracy: 0.9949\n",
            "Epoch 4/30\n",
            "147/147 [==============================] - 15s 102ms/step - loss: 0.0477 - accuracy: 0.9942 - val_loss: 0.0529 - val_accuracy: 0.9946\n",
            "Epoch 5/30\n",
            "147/147 [==============================] - 15s 102ms/step - loss: 0.0330 - accuracy: 0.9941 - val_loss: 0.0573 - val_accuracy: 0.9940\n",
            "Epoch 6/30\n",
            "147/147 [==============================] - 15s 102ms/step - loss: 0.0255 - accuracy: 0.9934 - val_loss: 0.0651 - val_accuracy: 0.9947\n",
            "Epoch 7/30\n",
            "147/147 [==============================] - 15s 102ms/step - loss: 0.0207 - accuracy: 0.9830 - val_loss: 0.0670 - val_accuracy: 0.9762\n",
            "Epoch 8/30\n",
            "147/147 [==============================] - 15s 102ms/step - loss: 0.0160 - accuracy: 0.9664 - val_loss: 0.0749 - val_accuracy: 0.9579\n",
            "Epoch 9/30\n",
            "147/147 [==============================] - 15s 102ms/step - loss: 0.0119 - accuracy: 0.8327 - val_loss: 0.0802 - val_accuracy: 0.9562\n",
            "Epoch 10/30\n",
            "147/147 [==============================] - 15s 105ms/step - loss: 0.0095 - accuracy: 0.7470 - val_loss: 0.0883 - val_accuracy: 0.6149\n",
            "Epoch 11/30\n",
            "147/147 [==============================] - 15s 104ms/step - loss: 0.0070 - accuracy: 0.3913 - val_loss: 0.0935 - val_accuracy: 0.3266\n",
            "Epoch 12/30\n",
            "147/147 [==============================] - 15s 104ms/step - loss: 0.0053 - accuracy: 0.2612 - val_loss: 0.1027 - val_accuracy: 0.2323\n",
            "Epoch 13/30\n",
            "147/147 [==============================] - 16s 106ms/step - loss: 0.0042 - accuracy: 0.1939 - val_loss: 0.1080 - val_accuracy: 0.2065\n",
            "Epoch 14/30\n",
            "147/147 [==============================] - 15s 102ms/step - loss: 0.0034 - accuracy: 0.1880 - val_loss: 0.1070 - val_accuracy: 0.4227\n",
            "Epoch 15/30\n",
            "147/147 [==============================] - 15s 101ms/step - loss: 0.0029 - accuracy: 0.2515 - val_loss: 0.1142 - val_accuracy: 0.3030\n",
            "Epoch 16/30\n",
            "147/147 [==============================] - 15s 102ms/step - loss: 0.0025 - accuracy: 0.1646 - val_loss: 0.1225 - val_accuracy: 0.1582\n",
            "Epoch 17/30\n",
            "147/147 [==============================] - 15s 103ms/step - loss: 0.0022 - accuracy: 0.1974 - val_loss: 0.1223 - val_accuracy: 0.2653\n",
            "Epoch 18/30\n",
            "147/147 [==============================] - 15s 101ms/step - loss: 0.0023 - accuracy: 0.1982 - val_loss: 0.1230 - val_accuracy: 0.2574\n",
            "Epoch 19/30\n",
            "147/147 [==============================] - 15s 101ms/step - loss: 0.0020 - accuracy: 0.2653 - val_loss: 0.1308 - val_accuracy: 0.4995\n",
            "Epoch 20/30\n",
            "147/147 [==============================] - 15s 101ms/step - loss: 0.0021 - accuracy: 0.3464 - val_loss: 0.1303 - val_accuracy: 0.3278\n",
            "Epoch 21/30\n",
            "147/147 [==============================] - 15s 101ms/step - loss: 0.0018 - accuracy: 0.2818 - val_loss: 0.1314 - val_accuracy: 0.3923\n",
            "Epoch 22/30\n",
            "147/147 [==============================] - 15s 101ms/step - loss: 0.0022 - accuracy: 0.3040 - val_loss: 0.1286 - val_accuracy: 0.3134\n",
            "Epoch 23/30\n",
            "147/147 [==============================] - 15s 101ms/step - loss: 0.0026 - accuracy: 0.3294 - val_loss: 0.1229 - val_accuracy: 0.3073\n",
            "Epoch 24/30\n",
            "147/147 [==============================] - 15s 102ms/step - loss: 0.0020 - accuracy: 0.3367 - val_loss: 0.1327 - val_accuracy: 0.3906\n",
            "Epoch 25/30\n",
            "147/147 [==============================] - 15s 101ms/step - loss: 0.0018 - accuracy: 0.3326 - val_loss: 0.1304 - val_accuracy: 0.3103\n",
            "Epoch 26/30\n",
            "147/147 [==============================] - 15s 103ms/step - loss: 0.0013 - accuracy: 0.2789 - val_loss: 0.1460 - val_accuracy: 0.2601\n",
            "Epoch 27/30\n",
            "147/147 [==============================] - 15s 105ms/step - loss: 0.0012 - accuracy: 0.2880 - val_loss: 0.1369 - val_accuracy: 0.3277\n",
            "Epoch 28/30\n",
            "147/147 [==============================] - 15s 103ms/step - loss: 9.3212e-04 - accuracy: 0.2995 - val_loss: 0.1416 - val_accuracy: 0.3288\n",
            "Epoch 29/30\n",
            "147/147 [==============================] - 15s 103ms/step - loss: 0.0013 - accuracy: 0.3138 - val_loss: 0.1439 - val_accuracy: 0.5088\n",
            "Epoch 30/30\n",
            "147/147 [==============================] - 15s 101ms/step - loss: 0.0014 - accuracy: 0.3664 - val_loss: 0.1407 - val_accuracy: 0.4260\n",
            "Training Complete\n"
          ]
        }
      ]
    },
    {
      "cell_type": "code",
      "source": [
        "predictions = model.predict(X_test)\n",
        "predictions = (predictions >= .5)\n",
        "accuracy1 = accuracy_score(y_test, predictions)\n",
        "print(\"accuracy: {}\".format(accuracy1))\n",
        "\n",
        "report = analysePredictions(predictions, y_test)\n",
        "\n",
        "for i, label in enumerate(labels):\n",
        "  print(\n",
        "  \"\"\"\n",
        "{}:\n",
        "    Count: {}\n",
        "      \n",
        "      -True positive: {}\n",
        "      -False positive: {}\n",
        "      -True negative: {}\n",
        "      -False negative: {} \n",
        "\n",
        "{}\n",
        "  \"\"\".format(label, report[i]['COUNT'], report[i]['TP'], report[i]['FP'], report[i]['TN'], report[i]['FN'], confusion_matrix(y_test[:, i], predictions[:,i]))#On a aussi la possibilité d'utiliser confusion_matrix pour déterminer ces valeurs\n",
        "  )"
      ],
      "metadata": {
        "id": "_hx_8HZ7tWpn",
        "colab": {
          "base_uri": "https://localhost:8080/"
        },
        "outputId": "2560055f-013e-43b9-b853-11eb51e4a540"
      },
      "execution_count": 115,
      "outputs": [
        {
          "output_type": "stream",
          "name": "stdout",
          "text": [
            "accuracy: 0.8975754181003441\n",
            "\n",
            "toxic:\n",
            "    Count: 1234\n",
            "      \n",
            "      -True positive: 839\n",
            "      -False positive: 292\n",
            "      -True negative: 10971\n",
            "      -False negative: 395 \n",
            "\n",
            "[[10971   292]\n",
            " [  395   839]]\n",
            "  \n",
            "\n",
            "severe_toxic:\n",
            "    Count: 130\n",
            "      \n",
            "      -True positive: 52\n",
            "      -False positive: 48\n",
            "      -True negative: 12319\n",
            "      -False negative: 78 \n",
            "\n",
            "[[12319    48]\n",
            " [   78    52]]\n",
            "  \n",
            "\n",
            "obscene:\n",
            "    Count: 637\n",
            "      \n",
            "      -True positive: 429\n",
            "      -False positive: 88\n",
            "      -True negative: 11772\n",
            "      -False negative: 208 \n",
            "\n",
            "[[11772    88]\n",
            " [  208   429]]\n",
            "  \n",
            "\n",
            "threat:\n",
            "    Count: 44\n",
            "      \n",
            "      -True positive: 8\n",
            "      -False positive: 21\n",
            "      -True negative: 12432\n",
            "      -False negative: 36 \n",
            "\n",
            "[[12432    21]\n",
            " [   36     8]]\n",
            "  \n",
            "\n",
            "insult:\n",
            "    Count: 617\n",
            "      \n",
            "      -True positive: 290\n",
            "      -False positive: 131\n",
            "      -True negative: 11749\n",
            "      -False negative: 327 \n",
            "\n",
            "[[11749   131]\n",
            " [  327   290]]\n",
            "  \n",
            "\n",
            "identity_hate:\n",
            "    Count: 108\n",
            "      \n",
            "      -True positive: 28\n",
            "      -False positive: 23\n",
            "      -True negative: 12366\n",
            "      -False negative: 80 \n",
            "\n",
            "[[12366    23]\n",
            " [   80    28]]\n",
            "  \n"
          ]
        }
      ]
    },
    {
      "cell_type": "markdown",
      "source": [
        "On remarque ici que notre modèle basé sur un réseau de neurones avec une couche d'embeddings, une couche LSTM et une simple couche dense de sortie nous permet d'avoir une précision de l'ordre de 90%, comme un modèle de machine learning classique.\n",
        "On voit aussi que nous avons encore un grand nombre de faux négatifs sur les classes peu représentées."
      ],
      "metadata": {
        "id": "s6GhNBX6iLNm"
      }
    },
    {
      "cell_type": "markdown",
      "source": [
        "Voici ci-dessous une fonction de permettant de classifier un ou plusieurs commentaires"
      ],
      "metadata": {
        "id": "KM2ryw93mW1t"
      }
    },
    {
      "cell_type": "code",
      "source": [
        "def analyseComments(comments):\n",
        "  if isinstance(comments, str): #La fonction peut prendre en paramètre une simple string \n",
        "    comments = [comments]\n",
        "  sequences = tokenizer.texts_to_sequences(comments)\n",
        "  x = pad_sequences(sequences, truncating=truncating, padding=padding, maxlen=max_length)\n",
        "\n",
        "  predictions = model.predict(x)\n",
        "  predictions = (predictions >= .5)\n",
        "\n",
        "  result = []\n",
        "\n",
        "  for i, pred in enumerate(predictions):\n",
        "    tmp = []\n",
        "    for j, label in enumerate(labels):\n",
        "      if pred[j]:\n",
        "        tmp.append(label)\n",
        "    \n",
        "    if not tmp: #Si aucun label n'est choisi, alors le commentaire est normal\n",
        "      tmp.append('normal')\n",
        "\n",
        "    result.append(tmp)\n",
        "  \n",
        "  return result"
      ],
      "metadata": {
        "id": "EMotP-iCiJZA"
      },
      "execution_count": 116,
      "outputs": []
    },
    {
      "cell_type": "markdown",
      "source": [
        "Un exemple d'utilisation de cette fonction"
      ],
      "metadata": {
        "id": "pSv3096ZsI5_"
      }
    },
    {
      "cell_type": "code",
      "source": [
        "comments = [\"cocksucker before you piss around work\", \"bad video bitch\", \"cool video dude i love you\"]\n",
        "result = analyseComments(comments)\n",
        "\n",
        "for i, comment in enumerate(comments):\n",
        "  print(\"'{}':\".format(comment))\n",
        "  for res in result[i]:\n",
        "    print(\"\\t-{}\".format(res))\n",
        "  print(\"\\n\")"
      ],
      "metadata": {
        "id": "2OvvnAjtr8wT",
        "colab": {
          "base_uri": "https://localhost:8080/"
        },
        "outputId": "333c0a28-28ec-480d-af61-3ce267d18c93"
      },
      "execution_count": 117,
      "outputs": [
        {
          "output_type": "stream",
          "name": "stdout",
          "text": [
            "'cocksucker before you piss around work':\n",
            "\t-toxic\n",
            "\t-severe_toxic\n",
            "\t-obscene\n",
            "\t-insult\n",
            "\n",
            "\n",
            "'bad video bitch':\n",
            "\t-toxic\n",
            "\t-obscene\n",
            "\t-insult\n",
            "\n",
            "\n",
            "'cool video dude i love you':\n",
            "\t-normal\n",
            "\n",
            "\n"
          ]
        }
      ]
    },
    {
      "cell_type": "markdown",
      "source": [
        "On peut aussi traiter un seul commentaire."
      ],
      "metadata": {
        "id": "wuuqBpYktJiw"
      }
    },
    {
      "cell_type": "code",
      "source": [
        "analyseComments(\"cocksucker before you piss around work\")[0]"
      ],
      "metadata": {
        "id": "a0SWX0CLtOHo",
        "colab": {
          "base_uri": "https://localhost:8080/"
        },
        "outputId": "9abce098-f753-4c8f-cbeb-a02ea4bde66a"
      },
      "execution_count": 118,
      "outputs": [
        {
          "output_type": "execute_result",
          "data": {
            "text/plain": [
              "['toxic', 'severe_toxic', 'obscene', 'insult']"
            ]
          },
          "metadata": {},
          "execution_count": 118
        }
      ]
    },
    {
      "cell_type": "markdown",
      "source": [
        "## Avec une couche d'embedding déjà entrainée <a name=\"GloVe\"></a>"
      ],
      "metadata": {
        "id": "xjHb2RD5wGcO"
      }
    },
    {
      "cell_type": "markdown",
      "source": [
        "Nous allons maintenant essayer d'améliorer notre modèle précédent à l'aide d'une couche d'embedding déjà entraînée"
      ],
      "metadata": {
        "id": "nU_1KuFNwJxk"
      }
    },
    {
      "cell_type": "code",
      "source": [
        "embeddings_index = {};\n",
        "\n",
        "with open('/content/drive/MyDrive/RNN_sentiment_dataset/glove.6B.100d.txt') as f:\n",
        "    for line in f:\n",
        "        values = line.split();\n",
        "        word = values[0];\n",
        "        coefs = np.asarray(values[1:], dtype='float32');\n",
        "        embeddings_index[word] = coefs;\n",
        "\n",
        "embeddings_matrix = np.zeros((vocab_size+1, embedding_dim));\n",
        "for word, i in word_index.items():\n",
        "    embedding_vector = embeddings_index.get(word);\n",
        "    if embedding_vector is not None:\n",
        "        embeddings_matrix[i] = embedding_vector;"
      ],
      "metadata": {
        "id": "fHTifX4nwSLC"
      },
      "execution_count": 119,
      "outputs": []
    },
    {
      "cell_type": "markdown",
      "source": [
        "Initialisation du modèle"
      ],
      "metadata": {
        "id": "yaQ4Q3F0wmc4"
      }
    },
    {
      "cell_type": "code",
      "source": [
        "tf.keras.utils.set_random_seed(123)\n",
        "model_emb = tf.keras.Sequential(\n",
        "    [\n",
        "     tf.keras.layers.Embedding(input_dim=vocab_size+1, output_dim=embedding_dim, input_length=max_length, weights=[embeddings_matrix], trainable=False),\n",
        "     tf.keras.layers.GRU(64),\n",
        "     tf.keras.layers.Dense(len(labels), activation='sigmoid')\n",
        "    ]\n",
        ")"
      ],
      "metadata": {
        "id": "Zk1Lw0QjwmJS"
      },
      "execution_count": 120,
      "outputs": []
    },
    {
      "cell_type": "markdown",
      "source": [
        "Compilation du modèle"
      ],
      "metadata": {
        "id": "bK6avdILw19W"
      }
    },
    {
      "cell_type": "code",
      "source": [
        "model_emb.compile(loss='binary_crossentropy', optimizer=Adam(learning_rate=0.005),metrics=['accuracy'])"
      ],
      "metadata": {
        "id": "ItTawUlIwsJK"
      },
      "execution_count": 121,
      "outputs": []
    },
    {
      "cell_type": "code",
      "source": [
        "model_emb.summary()"
      ],
      "metadata": {
        "id": "XvnsXl-nw99d",
        "colab": {
          "base_uri": "https://localhost:8080/"
        },
        "outputId": "9722e3b1-5b8c-42c4-9f00-36761a1fc733"
      },
      "execution_count": 122,
      "outputs": [
        {
          "output_type": "stream",
          "name": "stdout",
          "text": [
            "Model: \"sequential_6\"\n",
            "_________________________________________________________________\n",
            " Layer (type)                Output Shape              Param #   \n",
            "=================================================================\n",
            " embedding_6 (Embedding)     (None, 500, 100)          10394900  \n",
            "                                                                 \n",
            " gru_6 (GRU)                 (None, 64)                31872     \n",
            "                                                                 \n",
            " dense_7 (Dense)             (None, 6)                 390       \n",
            "                                                                 \n",
            "=================================================================\n",
            "Total params: 10,427,162\n",
            "Trainable params: 32,262\n",
            "Non-trainable params: 10,394,900\n",
            "_________________________________________________________________\n"
          ]
        }
      ]
    },
    {
      "cell_type": "markdown",
      "source": [
        "Entraînement du modèle"
      ],
      "metadata": {
        "id": "Kh4VAMelxDZD"
      }
    },
    {
      "cell_type": "code",
      "source": [
        "history = model_emb.fit(np.array(X_train), np.array(y_train), batch_size=256, epochs = num_epochs, validation_data = (np.array(X_test), np.array(y_test)) ,verbose=1)\n",
        "  \n",
        "print(\"Training Complete\")"
      ],
      "metadata": {
        "id": "GiTsHyxAxE7E",
        "colab": {
          "base_uri": "https://localhost:8080/"
        },
        "outputId": "b0411fd7-5f50-4243-c477-8c50d0f93076"
      },
      "execution_count": 123,
      "outputs": [
        {
          "output_type": "stream",
          "name": "stdout",
          "text": [
            "Epoch 1/30\n",
            "147/147 [==============================] - 15s 92ms/step - loss: 0.1682 - accuracy: 0.8924 - val_loss: 0.1424 - val_accuracy: 0.9951\n",
            "Epoch 2/30\n",
            "147/147 [==============================] - 13s 88ms/step - loss: 0.1385 - accuracy: 0.9943 - val_loss: 0.0997 - val_accuracy: 0.9952\n",
            "Epoch 3/30\n",
            "147/147 [==============================] - 13s 87ms/step - loss: 0.0669 - accuracy: 0.9943 - val_loss: 0.0572 - val_accuracy: 0.9952\n",
            "Epoch 4/30\n",
            "147/147 [==============================] - 13s 88ms/step - loss: 0.0536 - accuracy: 0.9943 - val_loss: 0.0547 - val_accuracy: 0.9952\n",
            "Epoch 5/30\n",
            "147/147 [==============================] - 13s 88ms/step - loss: 0.0486 - accuracy: 0.9936 - val_loss: 0.0535 - val_accuracy: 0.9926\n",
            "Epoch 6/30\n",
            "147/147 [==============================] - 13s 88ms/step - loss: 0.0441 - accuracy: 0.9923 - val_loss: 0.0560 - val_accuracy: 0.9952\n",
            "Epoch 7/30\n",
            "147/147 [==============================] - 13s 88ms/step - loss: 0.0405 - accuracy: 0.9911 - val_loss: 0.0562 - val_accuracy: 0.9899\n",
            "Epoch 8/30\n",
            "147/147 [==============================] - 13s 88ms/step - loss: 0.0375 - accuracy: 0.9898 - val_loss: 0.0573 - val_accuracy: 0.9770\n",
            "Epoch 9/30\n",
            "147/147 [==============================] - 13s 88ms/step - loss: 0.0349 - accuracy: 0.9882 - val_loss: 0.0590 - val_accuracy: 0.9912\n",
            "Epoch 10/30\n",
            "147/147 [==============================] - 13s 87ms/step - loss: 0.0321 - accuracy: 0.9870 - val_loss: 0.0633 - val_accuracy: 0.9920\n",
            "Epoch 11/30\n",
            "147/147 [==============================] - 13s 87ms/step - loss: 0.0297 - accuracy: 0.9886 - val_loss: 0.0611 - val_accuracy: 0.9652\n",
            "Epoch 12/30\n",
            "147/147 [==============================] - 13s 87ms/step - loss: 0.0278 - accuracy: 0.9798 - val_loss: 0.0682 - val_accuracy: 0.9283\n",
            "Epoch 13/30\n",
            "147/147 [==============================] - 13s 87ms/step - loss: 0.0262 - accuracy: 0.9750 - val_loss: 0.0693 - val_accuracy: 0.9601\n",
            "Epoch 14/30\n",
            "147/147 [==============================] - 13s 87ms/step - loss: 0.0255 - accuracy: 0.9501 - val_loss: 0.0763 - val_accuracy: 0.9801\n",
            "Epoch 15/30\n",
            "147/147 [==============================] - 13s 87ms/step - loss: 0.0240 - accuracy: 0.9472 - val_loss: 0.0761 - val_accuracy: 0.9776\n",
            "Epoch 16/30\n",
            "147/147 [==============================] - 13s 88ms/step - loss: 0.0235 - accuracy: 0.9187 - val_loss: 0.0734 - val_accuracy: 0.9632\n",
            "Epoch 17/30\n",
            "147/147 [==============================] - 13s 88ms/step - loss: 0.0216 - accuracy: 0.9410 - val_loss: 0.0819 - val_accuracy: 0.8002\n",
            "Epoch 18/30\n",
            "147/147 [==============================] - 13s 88ms/step - loss: 0.0206 - accuracy: 0.8430 - val_loss: 0.0805 - val_accuracy: 0.7762\n",
            "Epoch 19/30\n",
            "147/147 [==============================] - 13s 87ms/step - loss: 0.0196 - accuracy: 0.8883 - val_loss: 0.0822 - val_accuracy: 0.8009\n",
            "Epoch 20/30\n",
            "147/147 [==============================] - 13s 88ms/step - loss: 0.0189 - accuracy: 0.8243 - val_loss: 0.0829 - val_accuracy: 0.9106\n",
            "Epoch 21/30\n",
            "147/147 [==============================] - 13s 87ms/step - loss: 0.0182 - accuracy: 0.8043 - val_loss: 0.0846 - val_accuracy: 0.7432\n",
            "Epoch 22/30\n",
            "147/147 [==============================] - 13s 87ms/step - loss: 0.0174 - accuracy: 0.8601 - val_loss: 0.0908 - val_accuracy: 0.8960\n",
            "Epoch 23/30\n",
            "147/147 [==============================] - 13s 87ms/step - loss: 0.0168 - accuracy: 0.8323 - val_loss: 0.0872 - val_accuracy: 0.8911\n",
            "Epoch 24/30\n",
            "147/147 [==============================] - 13s 87ms/step - loss: 0.0155 - accuracy: 0.8072 - val_loss: 0.0906 - val_accuracy: 0.8550\n",
            "Epoch 25/30\n",
            "147/147 [==============================] - 13s 88ms/step - loss: 0.0155 - accuracy: 0.8616 - val_loss: 0.0922 - val_accuracy: 0.8588\n",
            "Epoch 26/30\n",
            "147/147 [==============================] - 13s 87ms/step - loss: 0.0153 - accuracy: 0.7307 - val_loss: 0.0930 - val_accuracy: 0.8156\n",
            "Epoch 27/30\n",
            "147/147 [==============================] - 13s 87ms/step - loss: 0.0145 - accuracy: 0.7726 - val_loss: 0.0966 - val_accuracy: 0.8061\n",
            "Epoch 28/30\n",
            "147/147 [==============================] - 13s 87ms/step - loss: 0.0137 - accuracy: 0.8027 - val_loss: 0.0989 - val_accuracy: 0.8408\n",
            "Epoch 29/30\n",
            "147/147 [==============================] - 13s 87ms/step - loss: 0.0127 - accuracy: 0.7897 - val_loss: 0.1018 - val_accuracy: 0.7886\n",
            "Epoch 30/30\n",
            "147/147 [==============================] - 13s 87ms/step - loss: 0.0122 - accuracy: 0.7660 - val_loss: 0.1008 - val_accuracy: 0.8474\n",
            "Training Complete\n"
          ]
        }
      ]
    },
    {
      "cell_type": "code",
      "source": [
        "predictions = model_emb.predict(X_test)\n",
        "predictions = (predictions >= .5)\n",
        "accuracy2 = accuracy_score(y_test, predictions)\n",
        "print(\"accuracy: {}\".format(accuracy2))\n",
        "\n",
        "report = analysePredictions(predictions, y_test)\n",
        "\n",
        "for i, label in enumerate(labels):\n",
        "  print(\n",
        "  \"\"\"\n",
        "{}:\n",
        "    Count: {}\n",
        "      \n",
        "      -True positive: {}\n",
        "      -False positive: {}\n",
        "      -True negative: {}\n",
        "      -False negative: {} \n",
        "\n",
        "{}\n",
        "  \"\"\".format(label, report[i]['COUNT'], report[i]['TP'], report[i]['FP'], report[i]['TN'], report[i]['FN'], confusion_matrix(y_test[:, i], predictions[:,i]))#On a aussi la possibilité d'utiliser confusion_matrix pour déterminer ces valeurs\n",
        "  )"
      ],
      "metadata": {
        "id": "mzap8CtvxFwr",
        "colab": {
          "base_uri": "https://localhost:8080/"
        },
        "outputId": "61f14157-43cd-4b0f-a641-cb45274f305a"
      },
      "execution_count": 124,
      "outputs": [
        {
          "output_type": "stream",
          "name": "stdout",
          "text": [
            "accuracy: 0.8972553412819076\n",
            "\n",
            "toxic:\n",
            "    Count: 1234\n",
            "      \n",
            "      -True positive: 872\n",
            "      -False positive: 376\n",
            "      -True negative: 10887\n",
            "      -False negative: 362 \n",
            "\n",
            "[[10887   376]\n",
            " [  362   872]]\n",
            "  \n",
            "\n",
            "severe_toxic:\n",
            "    Count: 130\n",
            "      \n",
            "      -True positive: 48\n",
            "      -False positive: 39\n",
            "      -True negative: 12328\n",
            "      -False negative: 82 \n",
            "\n",
            "[[12328    39]\n",
            " [   82    48]]\n",
            "  \n",
            "\n",
            "obscene:\n",
            "    Count: 637\n",
            "      \n",
            "      -True positive: 454\n",
            "      -False positive: 104\n",
            "      -True negative: 11756\n",
            "      -False negative: 183 \n",
            "\n",
            "[[11756   104]\n",
            " [  183   454]]\n",
            "  \n",
            "\n",
            "threat:\n",
            "    Count: 44\n",
            "      \n",
            "      -True positive: 7\n",
            "      -False positive: 15\n",
            "      -True negative: 12438\n",
            "      -False negative: 37 \n",
            "\n",
            "[[12438    15]\n",
            " [   37     7]]\n",
            "  \n",
            "\n",
            "insult:\n",
            "    Count: 617\n",
            "      \n",
            "      -True positive: 345\n",
            "      -False positive: 162\n",
            "      -True negative: 11718\n",
            "      -False negative: 272 \n",
            "\n",
            "[[11718   162]\n",
            " [  272   345]]\n",
            "  \n",
            "\n",
            "identity_hate:\n",
            "    Count: 108\n",
            "      \n",
            "      -True positive: 45\n",
            "      -False positive: 38\n",
            "      -True negative: 12351\n",
            "      -False negative: 63 \n",
            "\n",
            "[[12351    38]\n",
            " [   63    45]]\n",
            "  \n"
          ]
        }
      ]
    },
    {
      "cell_type": "code",
      "source": [
        "print(\"Accuracy du modèle baseline: {}\".format(accuracy0))\n",
        "print(\"Accuracy du modèle DL from scratch: {}\".format(accuracy1))\n",
        "print(\"Accuracy du modèle DL avec couche d'embedding entrainée: {}\".format(accuracy2))"
      ],
      "metadata": {
        "id": "vytuPlAuwJEB",
        "outputId": "4c8bffc5-e8e5-4725-f20f-29b2599bc9b3",
        "colab": {
          "base_uri": "https://localhost:8080/"
        }
      },
      "execution_count": 125,
      "outputs": [
        {
          "output_type": "stream",
          "name": "stdout",
          "text": [
            "Accuracy du modèle baseline: 0.9053333333333333\n",
            "Accuracy du modèle DL from scratch: 0.8975754181003441\n",
            "Accuracy du modèle DL avec couche d'embedding entrainée: 0.8972553412819076\n"
          ]
        }
      ]
    },
    {
      "cell_type": "markdown",
      "source": [
        "## GRU Bidirectionnel et dropout"
      ],
      "metadata": {
        "id": "nBBiPXWNxf7D"
      }
    },
    {
      "cell_type": "code",
      "source": [
        "model_drop = tf.keras.Sequential(\n",
        "    [\n",
        "     tf.keras.layers.Embedding(input_dim=vocab_size+1, output_dim=embedding_dim, input_length=max_length, weights=[embeddings_matrix], trainable=False),\n",
        "     tf.keras.layers.Dropout(.2),\n",
        "     tf.keras.layers.Bidirectional(tf.keras.layers.LSTM(128)),\n",
        "     tf.keras.layers.Bidirectional(tf.keras.layers.LSTM(128))\n",
        "     tf.keras.layers.Dense(len(labels), activation='sigmoid')\n",
        "    ]\n",
        ")\n",
        "\n",
        "model_drop.compile(loss='binary_crossentropy', optimizer=Adam(learning_rate=0.005),metrics=['accuracy'])"
      ],
      "metadata": {
        "id": "k1ne0o3Lydev"
      },
      "execution_count": 126,
      "outputs": []
    },
    {
      "cell_type": "code",
      "source": [
        "model_drop.summary()"
      ],
      "metadata": {
        "id": "t9lCFJXMy_UN",
        "outputId": "b96700e8-c8fd-44c8-99f8-fc1ad5f2256a",
        "colab": {
          "base_uri": "https://localhost:8080/"
        }
      },
      "execution_count": 127,
      "outputs": [
        {
          "output_type": "stream",
          "name": "stdout",
          "text": [
            "Model: \"sequential_7\"\n",
            "_________________________________________________________________\n",
            " Layer (type)                Output Shape              Param #   \n",
            "=================================================================\n",
            " embedding_7 (Embedding)     (None, 500, 100)          10394900  \n",
            "                                                                 \n",
            " bidirectional_1 (Bidirectio  (None, 128)              63744     \n",
            " nal)                                                            \n",
            "                                                                 \n",
            " dropout_1 (Dropout)         (None, 128)               0         \n",
            "                                                                 \n",
            " dense_8 (Dense)             (None, 10)                1290      \n",
            "                                                                 \n",
            " dense_9 (Dense)             (None, 6)                 66        \n",
            "                                                                 \n",
            "=================================================================\n",
            "Total params: 10,460,000\n",
            "Trainable params: 65,100\n",
            "Non-trainable params: 10,394,900\n",
            "_________________________________________________________________\n"
          ]
        }
      ]
    },
    {
      "cell_type": "code",
      "source": [
        "history = model_drop.fit(np.array(X_train), np.array(y_train), batch_size=512, epochs = num_epochs, validation_data = (np.array(X_test), np.array(y_test)) ,verbose=1)\n",
        "  \n",
        "print(\"Training Complete\")"
      ],
      "metadata": {
        "id": "nhDixAQwzC6k",
        "outputId": "8915ea88-c217-44c3-b22f-556726afd9ff",
        "colab": {
          "base_uri": "https://localhost:8080/"
        }
      },
      "execution_count": 128,
      "outputs": [
        {
          "output_type": "stream",
          "name": "stdout",
          "text": [
            "Epoch 1/30\n",
            "147/147 [==============================] - 31s 186ms/step - loss: 0.1023 - accuracy: 0.6442 - val_loss: 0.0619 - val_accuracy: 0.9729\n",
            "Epoch 2/30\n",
            "147/147 [==============================] - 26s 179ms/step - loss: 0.0588 - accuracy: 0.9115 - val_loss: 0.0563 - val_accuracy: 0.9951\n",
            "Epoch 3/30\n",
            "147/147 [==============================] - 27s 180ms/step - loss: 0.0543 - accuracy: 0.9323 - val_loss: 0.0531 - val_accuracy: 0.9486\n",
            "Epoch 4/30\n",
            "147/147 [==============================] - 26s 179ms/step - loss: 0.0508 - accuracy: 0.9278 - val_loss: 0.0521 - val_accuracy: 0.8793\n",
            "Epoch 5/30\n",
            "147/147 [==============================] - 26s 179ms/step - loss: 0.0486 - accuracy: 0.9065 - val_loss: 0.0514 - val_accuracy: 0.9414\n",
            "Epoch 6/30\n",
            "147/147 [==============================] - 26s 180ms/step - loss: 0.0456 - accuracy: 0.8762 - val_loss: 0.0514 - val_accuracy: 0.9424\n",
            "Epoch 7/30\n",
            "147/147 [==============================] - 26s 180ms/step - loss: 0.0429 - accuracy: 0.8712 - val_loss: 0.0516 - val_accuracy: 0.9701\n",
            "Epoch 8/30\n",
            "147/147 [==============================] - 26s 180ms/step - loss: 0.0407 - accuracy: 0.8509 - val_loss: 0.0538 - val_accuracy: 0.6943\n",
            "Epoch 9/30\n",
            "147/147 [==============================] - 26s 180ms/step - loss: 0.0385 - accuracy: 0.7932 - val_loss: 0.0538 - val_accuracy: 0.8969\n",
            "Epoch 10/30\n",
            "147/147 [==============================] - 27s 181ms/step - loss: 0.0362 - accuracy: 0.7880 - val_loss: 0.0564 - val_accuracy: 0.9614\n",
            "Epoch 11/30\n",
            "147/147 [==============================] - 27s 181ms/step - loss: 0.0342 - accuracy: 0.7701 - val_loss: 0.0561 - val_accuracy: 0.8448\n",
            "Epoch 12/30\n",
            "147/147 [==============================] - 27s 181ms/step - loss: 0.0328 - accuracy: 0.7911 - val_loss: 0.0592 - val_accuracy: 0.7395\n",
            "Epoch 13/30\n",
            "147/147 [==============================] - 27s 181ms/step - loss: 0.0311 - accuracy: 0.7456 - val_loss: 0.0616 - val_accuracy: 0.7851\n",
            "Epoch 14/30\n",
            "147/147 [==============================] - 27s 181ms/step - loss: 0.0297 - accuracy: 0.7372 - val_loss: 0.0652 - val_accuracy: 0.6904\n",
            "Epoch 15/30\n",
            "147/147 [==============================] - 26s 180ms/step - loss: 0.0275 - accuracy: 0.6675 - val_loss: 0.0631 - val_accuracy: 0.7995\n",
            "Epoch 16/30\n",
            "147/147 [==============================] - 26s 178ms/step - loss: 0.0264 - accuracy: 0.6788 - val_loss: 0.0684 - val_accuracy: 0.7855\n",
            "Epoch 17/30\n",
            "147/147 [==============================] - 27s 181ms/step - loss: 0.0248 - accuracy: 0.6253 - val_loss: 0.0684 - val_accuracy: 0.5709\n",
            "Epoch 18/30\n",
            "147/147 [==============================] - 27s 182ms/step - loss: 0.0233 - accuracy: 0.5667 - val_loss: 0.0716 - val_accuracy: 0.5814\n",
            "Epoch 19/30\n",
            "147/147 [==============================] - 27s 181ms/step - loss: 0.0219 - accuracy: 0.5863 - val_loss: 0.0724 - val_accuracy: 0.5911\n",
            "Epoch 20/30\n",
            "147/147 [==============================] - 27s 181ms/step - loss: 0.0206 - accuracy: 0.5302 - val_loss: 0.0757 - val_accuracy: 0.6272\n",
            "Epoch 21/30\n",
            "147/147 [==============================] - 27s 181ms/step - loss: 0.0202 - accuracy: 0.4799 - val_loss: 0.0783 - val_accuracy: 0.4612\n",
            "Epoch 22/30\n",
            "147/147 [==============================] - 26s 180ms/step - loss: 0.0195 - accuracy: 0.4687 - val_loss: 0.0789 - val_accuracy: 0.4939\n",
            "Epoch 23/30\n",
            "147/147 [==============================] - 27s 180ms/step - loss: 0.0204 - accuracy: 0.4873 - val_loss: 0.0797 - val_accuracy: 0.6318\n",
            "Epoch 24/30\n",
            "147/147 [==============================] - 27s 181ms/step - loss: 0.0189 - accuracy: 0.4735 - val_loss: 0.0843 - val_accuracy: 0.5199\n",
            "Epoch 25/30\n",
            "147/147 [==============================] - 26s 180ms/step - loss: 0.0172 - accuracy: 0.4882 - val_loss: 0.0853 - val_accuracy: 0.5422\n",
            "Epoch 26/30\n",
            "147/147 [==============================] - 27s 181ms/step - loss: 0.0169 - accuracy: 0.4187 - val_loss: 0.0883 - val_accuracy: 0.3386\n",
            "Epoch 27/30\n",
            "147/147 [==============================] - 27s 181ms/step - loss: 0.0164 - accuracy: 0.4136 - val_loss: 0.0902 - val_accuracy: 0.5108\n",
            "Epoch 28/30\n",
            "147/147 [==============================] - 27s 181ms/step - loss: 0.0164 - accuracy: 0.3827 - val_loss: 0.0910 - val_accuracy: 0.3537\n",
            "Epoch 29/30\n",
            "147/147 [==============================] - 27s 182ms/step - loss: 0.0166 - accuracy: 0.4614 - val_loss: 0.0977 - val_accuracy: 0.3940\n",
            "Epoch 30/30\n",
            "147/147 [==============================] - 27s 181ms/step - loss: 0.0159 - accuracy: 0.4264 - val_loss: 0.0881 - val_accuracy: 0.5103\n",
            "Training Complete\n"
          ]
        }
      ]
    },
    {
      "cell_type": "code",
      "source": [
        "predictions = model_drop.predict(X_test)\n",
        "predictions = (predictions >= .75)\n",
        "accuracy2 = accuracy_score(y_test, predictions)\n",
        "print(\"accuracy: {}\".format(accuracy2))\n",
        "\n",
        "report = analysePredictions(predictions, y_test)\n",
        "\n",
        "for i, label in enumerate(labels):\n",
        "  print(\n",
        "  \"\"\"\n",
        "{}:\n",
        "    Count: {}\n",
        "      \n",
        "      -True positive: {}\n",
        "      -False positive: {}\n",
        "      -True negative: {}\n",
        "      -False negative: {} \n",
        "\n",
        "{}\n",
        "  \"\"\".format(label, report[i]['COUNT'], report[i]['TP'], report[i]['FP'], report[i]['TN'], report[i]['FN'], confusion_matrix(y_test[:, i], predictions[:,i]))#On a aussi la possibilité d'utiliser confusion_matrix pour déterminer ces valeurs\n",
        "  )"
      ],
      "metadata": {
        "id": "p7jc4RxzzEy3",
        "outputId": "416c5272-ebc7-44a9-bfb8-34a93efe7c22",
        "colab": {
          "base_uri": "https://localhost:8080/"
        }
      },
      "execution_count": 129,
      "outputs": [
        {
          "output_type": "stream",
          "name": "stdout",
          "text": [
            "accuracy: 0.9060574537889093\n",
            "\n",
            "toxic:\n",
            "    Count: 1234\n",
            "      \n",
            "      -True positive: 837\n",
            "      -False positive: 213\n",
            "      -True negative: 11050\n",
            "      -False negative: 397 \n",
            "\n",
            "[[11050   213]\n",
            " [  397   837]]\n",
            "  \n",
            "\n",
            "severe_toxic:\n",
            "    Count: 130\n",
            "      \n",
            "      -True positive: 13\n",
            "      -False positive: 11\n",
            "      -True negative: 12356\n",
            "      -False negative: 117 \n",
            "\n",
            "[[12356    11]\n",
            " [  117    13]]\n",
            "  \n",
            "\n",
            "obscene:\n",
            "    Count: 637\n",
            "      \n",
            "      -True positive: 430\n",
            "      -False positive: 92\n",
            "      -True negative: 11768\n",
            "      -False negative: 207 \n",
            "\n",
            "[[11768    92]\n",
            " [  207   430]]\n",
            "  \n",
            "\n",
            "threat:\n",
            "    Count: 44\n",
            "      \n",
            "      -True positive: 8\n",
            "      -False positive: 8\n",
            "      -True negative: 12445\n",
            "      -False negative: 36 \n",
            "\n",
            "[[12445     8]\n",
            " [   36     8]]\n",
            "  \n",
            "\n",
            "insult:\n",
            "    Count: 617\n",
            "      \n",
            "      -True positive: 281\n",
            "      -False positive: 85\n",
            "      -True negative: 11795\n",
            "      -False negative: 336 \n",
            "\n",
            "[[11795    85]\n",
            " [  336   281]]\n",
            "  \n",
            "\n",
            "identity_hate:\n",
            "    Count: 108\n",
            "      \n",
            "      -True positive: 38\n",
            "      -False positive: 31\n",
            "      -True negative: 12358\n",
            "      -False negative: 70 \n",
            "\n",
            "[[12358    31]\n",
            " [   70    38]]\n",
            "  \n"
          ]
        }
      ]
    },
    {
      "cell_type": "code",
      "source": [
        ""
      ],
      "metadata": {
        "id": "f_Loq6vG2yjo"
      },
      "execution_count": 129,
      "outputs": []
    }
  ]
}