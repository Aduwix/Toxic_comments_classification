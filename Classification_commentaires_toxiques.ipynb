{
  "nbformat": 4,
  "nbformat_minor": 0,
  "metadata": {
    "colab": {
      "name": "Classification_commentaires_toxiques.ipynb",
      "provenance": [],
      "collapsed_sections": [],
      "include_colab_link": true
    },
    "kernelspec": {
      "name": "python3",
      "display_name": "Python 3"
    },
    "language_info": {
      "name": "python"
    },
    "accelerator": "GPU"
  },
  "cells": [
    {
      "cell_type": "markdown",
      "metadata": {
        "id": "view-in-github",
        "colab_type": "text"
      },
      "source": [
        "<a href=\"https://colab.research.google.com/github/Aduwix/Toxic_comments_classification/blob/main/Classification_commentaires_toxiques.ipynb\" target=\"_parent\"><img src=\"https://colab.research.google.com/assets/colab-badge.svg\" alt=\"Open In Colab\"/></a>"
      ]
    },
    {
      "cell_type": "markdown",
      "source": [
        "# Sommaire\n",
        "1. [Introduction](#introduction)\n",
        "2. [Importation des packages](#ImportPackages)\n",
        "3. [Importation des données](#ImportData)\n",
        "4. [Etude du jeu de données](#StudyData)\n",
        "5. [Préparation des données](#PrepareData)\n",
        "6. [Passage du texte dans un format structuré](#StructureData)\n",
        "7. [Entraînement du modèle baseline](#FirstModel)\n",
        "8. [Deep Learning](#DL)\n",
        "  1. [Première approche \"*from scratch*\"](#FromScratch)\n",
        "  2. [Avec une couche d'embedding déjà entrainée](#GloVe)\n",
        "  2. [LSTM bidirectionnel et Dropout](#Bidirectionnal)"
      ],
      "metadata": {
        "id": "HrF4By68oqFU"
      }
    },
    {
      "cell_type": "markdown",
      "source": [
        "# Introduction <a name=\"introduction\"></a>\n",
        "\n",
        "Dans ce notebook, nous allons tenter de classifier des commentaires dits toxiques.\n",
        "Nous allons dans un premier temps étudier notre jeu de données pour comprendre ce que nous allons traiter.\n",
        "\n",
        "Ensuite, avant de passer à la classification, il est nécessaire de préparer nos données. On s'occupe des contractions de mots, des abréviations et d'autres traitements avec notamment les stop words.\n",
        "\n",
        "L'étape suivante correspond à l'élaboration de la matrice reprenant les TFIDF pour obtenir une représentation structurée de nos données. \n",
        "\n",
        "\n",
        "## Modèle de Machine Learning classique\n",
        "\n",
        "Pour une première tentative de classification des commentaires, on part sur un algorithme de Machine Learning classique permettant de faire de la classification multi-label car un commentaire peut-être à la fois *severe_toxic* et *obscene*.\n",
        "\n",
        "On obtient alors une précision d'environ 90%.\n",
        "\n",
        "**Notre objectif est donc d'obtenir un modèle de deep learning ayant une précision du même ordre voire supérieure**\n",
        "\n",
        "## Deep Learning\n",
        "\n",
        "### From scratch\n",
        "\n",
        "Dans cette première approche, on part d'un réseau de neurones à 3 couches:\n",
        "  - Une couche d'embedding\n",
        "  - Une couche GRU de taille 64\n",
        "  - Une couche Dense de sortie\n",
        "\n",
        "### Avec une couche d'embedding déjà entrainée: GloVe\n",
        "\n",
        "Avec cette deuxième approche, on utilise une couche d'embedding déjà entrainée, GloVe."
      ],
      "metadata": {
        "id": "SCci21dcidEJ"
      }
    },
    {
      "cell_type": "markdown",
      "source": [
        "# Importation des packages <a name=\"ImportPackages\"></a>"
      ],
      "metadata": {
        "id": "_lyJzHuKRNWX"
      }
    },
    {
      "cell_type": "code",
      "execution_count": null,
      "metadata": {
        "id": "MUj96QiIQsJ_"
      },
      "outputs": [],
      "source": [
        "import numpy as np\n",
        "import pandas as pd\n",
        "import matplotlib.pyplot as plt\n",
        "import tensorflow as tf\n",
        "\n",
        "import re\n",
        "import string\n",
        "import nltk\n",
        "\n",
        "from nltk.corpus import stopwords\n",
        "from nltk.tokenize import word_tokenize\n",
        "\n",
        "from sklearn.feature_extraction.text import TfidfVectorizer \n",
        "from sklearn.model_selection import train_test_split\n",
        "from sklearn.ensemble import RandomForestClassifier\n",
        "from sklearn.multiclass import OneVsRestClassifier\n",
        "from sklearn.metrics import classification_report, confusion_matrix, accuracy_score\n",
        "\n",
        "#Réseaux de neurones\n",
        "from tensorflow.keras.preprocessing.sequence import pad_sequences\n",
        "from tensorflow.keras.layers import Embedding, LSTM, Dense, Dropout, Bidirectional\n",
        "from tensorflow.keras.preprocessing.text import Tokenizer\n",
        "from tensorflow.keras.models import Sequential\n",
        "from tensorflow.keras.optimizers import Adam\n",
        "from tensorflow.keras import regularizers\n",
        "\n",
        "from tensorflow.keras.preprocessing.text import Tokenizer\n",
        "from tensorflow.keras.preprocessing.sequence import pad_sequences"
      ]
    },
    {
      "cell_type": "markdown",
      "source": [
        "# Importation des données <a name=\"ImportData\"></a>"
      ],
      "metadata": {
        "id": "xZLpUMItRWc0"
      }
    },
    {
      "cell_type": "markdown",
      "source": [
        "Ajoutez un raccourci de ce dossier à votre google drive :\n",
        "\n",
        "https://drive.google.com/drive/folders/1mx-CAzT10YKrmxHfYDP_1Oef7PVGUr7s?usp=sharing"
      ],
      "metadata": {
        "id": "cbE3MzVKRaV2"
      }
    },
    {
      "cell_type": "code",
      "source": [
        "from google.colab import drive\n",
        "drive.mount('/content/drive', force_remount=True)"
      ],
      "metadata": {
        "colab": {
          "base_uri": "https://localhost:8080/"
        },
        "id": "4FktfCVaRVrs",
        "outputId": "d6ced454-e326-42d5-9c94-956ffd7d3154"
      },
      "execution_count": null,
      "outputs": [
        {
          "output_type": "stream",
          "name": "stdout",
          "text": [
            "Mounted at /content/drive\n"
          ]
        }
      ]
    },
    {
      "cell_type": "code",
      "source": [
        "data = pd.read_csv('/content/drive/MyDrive/data_classification_commentaires_toxiques/train.csv')\n",
        "data.head()"
      ],
      "metadata": {
        "colab": {
          "base_uri": "https://localhost:8080/",
          "height": 206
        },
        "id": "qky64Lq8Rocy",
        "outputId": "83e80c4a-4fec-48f3-ece8-6615087159aa"
      },
      "execution_count": null,
      "outputs": [
        {
          "output_type": "execute_result",
          "data": {
            "text/plain": [
              "                 id                                       comment_text  toxic  \\\n",
              "0  0000997932d777bf  Explanation\\nWhy the edits made under my usern...      0   \n",
              "1  000103f0d9cfb60f  D'aww! He matches this background colour I'm s...      0   \n",
              "2  000113f07ec002fd  Hey man, I'm really not trying to edit war. It...      0   \n",
              "3  0001b41b1c6bb37e  \"\\nMore\\nI can't make any real suggestions on ...      0   \n",
              "4  0001d958c54c6e35  You, sir, are my hero. Any chance you remember...      0   \n",
              "\n",
              "   severe_toxic  obscene  threat  insult  identity_hate  \n",
              "0             0        0       0       0              0  \n",
              "1             0        0       0       0              0  \n",
              "2             0        0       0       0              0  \n",
              "3             0        0       0       0              0  \n",
              "4             0        0       0       0              0  "
            ],
            "text/html": [
              "\n",
              "  <div id=\"df-6231efa3-88a5-4b1e-b718-f5aadd9bd06e\">\n",
              "    <div class=\"colab-df-container\">\n",
              "      <div>\n",
              "<style scoped>\n",
              "    .dataframe tbody tr th:only-of-type {\n",
              "        vertical-align: middle;\n",
              "    }\n",
              "\n",
              "    .dataframe tbody tr th {\n",
              "        vertical-align: top;\n",
              "    }\n",
              "\n",
              "    .dataframe thead th {\n",
              "        text-align: right;\n",
              "    }\n",
              "</style>\n",
              "<table border=\"1\" class=\"dataframe\">\n",
              "  <thead>\n",
              "    <tr style=\"text-align: right;\">\n",
              "      <th></th>\n",
              "      <th>id</th>\n",
              "      <th>comment_text</th>\n",
              "      <th>toxic</th>\n",
              "      <th>severe_toxic</th>\n",
              "      <th>obscene</th>\n",
              "      <th>threat</th>\n",
              "      <th>insult</th>\n",
              "      <th>identity_hate</th>\n",
              "    </tr>\n",
              "  </thead>\n",
              "  <tbody>\n",
              "    <tr>\n",
              "      <th>0</th>\n",
              "      <td>0000997932d777bf</td>\n",
              "      <td>Explanation\\nWhy the edits made under my usern...</td>\n",
              "      <td>0</td>\n",
              "      <td>0</td>\n",
              "      <td>0</td>\n",
              "      <td>0</td>\n",
              "      <td>0</td>\n",
              "      <td>0</td>\n",
              "    </tr>\n",
              "    <tr>\n",
              "      <th>1</th>\n",
              "      <td>000103f0d9cfb60f</td>\n",
              "      <td>D'aww! He matches this background colour I'm s...</td>\n",
              "      <td>0</td>\n",
              "      <td>0</td>\n",
              "      <td>0</td>\n",
              "      <td>0</td>\n",
              "      <td>0</td>\n",
              "      <td>0</td>\n",
              "    </tr>\n",
              "    <tr>\n",
              "      <th>2</th>\n",
              "      <td>000113f07ec002fd</td>\n",
              "      <td>Hey man, I'm really not trying to edit war. It...</td>\n",
              "      <td>0</td>\n",
              "      <td>0</td>\n",
              "      <td>0</td>\n",
              "      <td>0</td>\n",
              "      <td>0</td>\n",
              "      <td>0</td>\n",
              "    </tr>\n",
              "    <tr>\n",
              "      <th>3</th>\n",
              "      <td>0001b41b1c6bb37e</td>\n",
              "      <td>\"\\nMore\\nI can't make any real suggestions on ...</td>\n",
              "      <td>0</td>\n",
              "      <td>0</td>\n",
              "      <td>0</td>\n",
              "      <td>0</td>\n",
              "      <td>0</td>\n",
              "      <td>0</td>\n",
              "    </tr>\n",
              "    <tr>\n",
              "      <th>4</th>\n",
              "      <td>0001d958c54c6e35</td>\n",
              "      <td>You, sir, are my hero. Any chance you remember...</td>\n",
              "      <td>0</td>\n",
              "      <td>0</td>\n",
              "      <td>0</td>\n",
              "      <td>0</td>\n",
              "      <td>0</td>\n",
              "      <td>0</td>\n",
              "    </tr>\n",
              "  </tbody>\n",
              "</table>\n",
              "</div>\n",
              "      <button class=\"colab-df-convert\" onclick=\"convertToInteractive('df-6231efa3-88a5-4b1e-b718-f5aadd9bd06e')\"\n",
              "              title=\"Convert this dataframe to an interactive table.\"\n",
              "              style=\"display:none;\">\n",
              "        \n",
              "  <svg xmlns=\"http://www.w3.org/2000/svg\" height=\"24px\"viewBox=\"0 0 24 24\"\n",
              "       width=\"24px\">\n",
              "    <path d=\"M0 0h24v24H0V0z\" fill=\"none\"/>\n",
              "    <path d=\"M18.56 5.44l.94 2.06.94-2.06 2.06-.94-2.06-.94-.94-2.06-.94 2.06-2.06.94zm-11 1L8.5 8.5l.94-2.06 2.06-.94-2.06-.94L8.5 2.5l-.94 2.06-2.06.94zm10 10l.94 2.06.94-2.06 2.06-.94-2.06-.94-.94-2.06-.94 2.06-2.06.94z\"/><path d=\"M17.41 7.96l-1.37-1.37c-.4-.4-.92-.59-1.43-.59-.52 0-1.04.2-1.43.59L10.3 9.45l-7.72 7.72c-.78.78-.78 2.05 0 2.83L4 21.41c.39.39.9.59 1.41.59.51 0 1.02-.2 1.41-.59l7.78-7.78 2.81-2.81c.8-.78.8-2.07 0-2.86zM5.41 20L4 18.59l7.72-7.72 1.47 1.35L5.41 20z\"/>\n",
              "  </svg>\n",
              "      </button>\n",
              "      \n",
              "  <style>\n",
              "    .colab-df-container {\n",
              "      display:flex;\n",
              "      flex-wrap:wrap;\n",
              "      gap: 12px;\n",
              "    }\n",
              "\n",
              "    .colab-df-convert {\n",
              "      background-color: #E8F0FE;\n",
              "      border: none;\n",
              "      border-radius: 50%;\n",
              "      cursor: pointer;\n",
              "      display: none;\n",
              "      fill: #1967D2;\n",
              "      height: 32px;\n",
              "      padding: 0 0 0 0;\n",
              "      width: 32px;\n",
              "    }\n",
              "\n",
              "    .colab-df-convert:hover {\n",
              "      background-color: #E2EBFA;\n",
              "      box-shadow: 0px 1px 2px rgba(60, 64, 67, 0.3), 0px 1px 3px 1px rgba(60, 64, 67, 0.15);\n",
              "      fill: #174EA6;\n",
              "    }\n",
              "\n",
              "    [theme=dark] .colab-df-convert {\n",
              "      background-color: #3B4455;\n",
              "      fill: #D2E3FC;\n",
              "    }\n",
              "\n",
              "    [theme=dark] .colab-df-convert:hover {\n",
              "      background-color: #434B5C;\n",
              "      box-shadow: 0px 1px 3px 1px rgba(0, 0, 0, 0.15);\n",
              "      filter: drop-shadow(0px 1px 2px rgba(0, 0, 0, 0.3));\n",
              "      fill: #FFFFFF;\n",
              "    }\n",
              "  </style>\n",
              "\n",
              "      <script>\n",
              "        const buttonEl =\n",
              "          document.querySelector('#df-6231efa3-88a5-4b1e-b718-f5aadd9bd06e button.colab-df-convert');\n",
              "        buttonEl.style.display =\n",
              "          google.colab.kernel.accessAllowed ? 'block' : 'none';\n",
              "\n",
              "        async function convertToInteractive(key) {\n",
              "          const element = document.querySelector('#df-6231efa3-88a5-4b1e-b718-f5aadd9bd06e');\n",
              "          const dataTable =\n",
              "            await google.colab.kernel.invokeFunction('convertToInteractive',\n",
              "                                                     [key], {});\n",
              "          if (!dataTable) return;\n",
              "\n",
              "          const docLinkHtml = 'Like what you see? Visit the ' +\n",
              "            '<a target=\"_blank\" href=https://colab.research.google.com/notebooks/data_table.ipynb>data table notebook</a>'\n",
              "            + ' to learn more about interactive tables.';\n",
              "          element.innerHTML = '';\n",
              "          dataTable['output_type'] = 'display_data';\n",
              "          await google.colab.output.renderOutput(dataTable, element);\n",
              "          const docLink = document.createElement('div');\n",
              "          docLink.innerHTML = docLinkHtml;\n",
              "          element.appendChild(docLink);\n",
              "        }\n",
              "      </script>\n",
              "    </div>\n",
              "  </div>\n",
              "  "
            ]
          },
          "metadata": {},
          "execution_count": 108
        }
      ]
    },
    {
      "cell_type": "markdown",
      "source": [
        "On ne prend pas la totalité du dataset pour l'entraînement pour ne pas passer trop de temps sur l'apprentissage."
      ],
      "metadata": {
        "id": "fABUqgIWwHYt"
      }
    },
    {
      "cell_type": "code",
      "source": [
        "len(data.index)\n",
        "data = data.iloc[:30000, :]"
      ],
      "metadata": {
        "id": "RSPSuakVwFPu"
      },
      "execution_count": null,
      "outputs": []
    },
    {
      "cell_type": "markdown",
      "source": [
        "# Etude du jeu de données <a name=\"StudyData\"></a>"
      ],
      "metadata": {
        "id": "-kUWzBzISpsK"
      }
    },
    {
      "cell_type": "markdown",
      "source": [
        "Une première étape consiste à enlever certains caractères spéciaux présents dans les commentaires."
      ],
      "metadata": {
        "id": "p0ktlV3DwnZg"
      }
    },
    {
      "cell_type": "code",
      "source": [
        "data['comment_text'] = data['comment_text'].apply(lambda x : x.replace('\\ufeff', ''))\n",
        "data['comment_text'] = data['comment_text'].apply(lambda x : x.replace('\\xa0', ''))\n",
        "data['comment_text'] = data['comment_text'].apply(lambda x : x.replace('&#39;', ' '))"
      ],
      "metadata": {
        "id": "CAexGL7jS-VF",
        "colab": {
          "base_uri": "https://localhost:8080/"
        },
        "outputId": "dbba2a71-d4fa-4897-e5d6-d81ed7c7943f"
      },
      "execution_count": null,
      "outputs": [
        {
          "output_type": "stream",
          "name": "stderr",
          "text": [
            "/usr/local/lib/python3.7/dist-packages/ipykernel_launcher.py:1: SettingWithCopyWarning: \n",
            "A value is trying to be set on a copy of a slice from a DataFrame.\n",
            "Try using .loc[row_indexer,col_indexer] = value instead\n",
            "\n",
            "See the caveats in the documentation: https://pandas.pydata.org/pandas-docs/stable/user_guide/indexing.html#returning-a-view-versus-a-copy\n",
            "  \"\"\"Entry point for launching an IPython kernel.\n",
            "/usr/local/lib/python3.7/dist-packages/ipykernel_launcher.py:2: SettingWithCopyWarning: \n",
            "A value is trying to be set on a copy of a slice from a DataFrame.\n",
            "Try using .loc[row_indexer,col_indexer] = value instead\n",
            "\n",
            "See the caveats in the documentation: https://pandas.pydata.org/pandas-docs/stable/user_guide/indexing.html#returning-a-view-versus-a-copy\n",
            "  \n",
            "/usr/local/lib/python3.7/dist-packages/ipykernel_launcher.py:3: SettingWithCopyWarning: \n",
            "A value is trying to be set on a copy of a slice from a DataFrame.\n",
            "Try using .loc[row_indexer,col_indexer] = value instead\n",
            "\n",
            "See the caveats in the documentation: https://pandas.pydata.org/pandas-docs/stable/user_guide/indexing.html#returning-a-view-versus-a-copy\n",
            "  This is separate from the ipykernel package so we can avoid doing imports until\n"
          ]
        }
      ]
    },
    {
      "cell_type": "markdown",
      "source": [
        "On veut maintenant essayer de comprendre notre jeu de données avec différentes caractéristiques, on commence par la fréquence des commentaires selon leur classe type."
      ],
      "metadata": {
        "id": "oJrkCk5nwtqY"
      }
    },
    {
      "cell_type": "code",
      "source": [
        "fig = plt.figure()\n",
        "ax = fig.add_axes([0,0,1,1])\n",
        "types = [\"Normal\", \"Toxic\", \"Severe Toxic\", \"Obscene\", \"Threat\", \"Insult\", \"Identity Hate\"]\n",
        "\n",
        "#On définit nos différents labels\n",
        "labels = data.columns[2:]\n",
        "\n",
        "values = [len(data[(data['toxic'] == 0) & (data['severe_toxic'] == 0) & (data['obscene'] == 0) & (data['threat'] == 0) & (data['insult'] == 0) & (data['identity_hate'] == 0)])]\n",
        "for column in labels:\n",
        "  values.append(data[column].value_counts().to_numpy()[1])\n",
        "\n",
        "ax.bar(types,values)\n",
        "plt.show()"
      ],
      "metadata": {
        "colab": {
          "base_uri": "https://localhost:8080/",
          "height": 336
        },
        "id": "73VmTHbCwucT",
        "outputId": "7e002fe2-e5c1-481d-d9fc-fa15dfe330e3"
      },
      "execution_count": null,
      "outputs": [
        {
          "output_type": "display_data",
          "data": {
            "text/plain": [
              "<Figure size 432x288 with 1 Axes>"
            ],
            "image/png": "[encoded data removed]"
          },
          "metadata": {
            "needs_background": "light"
          }
        }
      ]
    },
    {
      "cell_type": "markdown",
      "source": [
        "On remarque ici que le nombre de commentaires dits \"normaux\" est bien supérieur au nombre de commentaires toxiques de tous types. On remarque aussi que certaines classes sont plus présentes que d'autres: 'toxic', 'obscene' et 'insult' ont plus d'exemples que 'severe_toxic', 'threat' et 'identity hate'."
      ],
      "metadata": {
        "id": "xS9OmFkXwyFB"
      }
    },
    {
      "cell_type": "markdown",
      "source": [
        "On peut aussi regarder la taille de nos commentaires"
      ],
      "metadata": {
        "id": "10HNJENAGmJk"
      }
    },
    {
      "cell_type": "code",
      "source": [
        "length = data['comment_text'].str.len()\n",
        "length.hist()\n",
        "plt.show()"
      ],
      "metadata": {
        "colab": {
          "base_uri": "https://localhost:8080/",
          "height": 265
        },
        "id": "h7rz6_wtGzTY",
        "outputId": "236727fb-6332-44e2-f69c-7e059af61526"
      },
      "execution_count": null,
      "outputs": [
        {
          "output_type": "display_data",
          "data": {
            "text/plain": [
              "<Figure size 432x288 with 1 Axes>"
            ],
            "image/png": "[encoded data removed]"
          },
          "metadata": {
            "needs_background": "light"
          }
        }
      ]
    },
    {
      "cell_type": "markdown",
      "source": [
        "On remarque que la longueur des commentaires (en caractères) est dans la majorité des cas inférieure à 500"
      ],
      "metadata": {
        "id": "0vXSUW2YHvhq"
      }
    },
    {
      "cell_type": "code",
      "source": [
        "print(\"Taille Moyenne d'un commentaire (nombre de caractères): {} \".format(np.mean(data['comment_text'].str.len())))\n",
        "average_size = np.mean([len(comment.split()) for comment in data['comment_text']])\n",
        "print(\"Taille Moyenne d'un commentaire (nombre de mots): {} \".format(average_size))"
      ],
      "metadata": {
        "colab": {
          "base_uri": "https://localhost:8080/"
        },
        "id": "lydp2kAJHsxZ",
        "outputId": "32fe209a-aad1-47fb-e01f-c269820abbd4"
      },
      "execution_count": null,
      "outputs": [
        {
          "output_type": "stream",
          "name": "stdout",
          "text": [
            "Taille Moyenne d'un commentaire (nombre de caractères): 393.14113333333336 \n",
            "Taille Moyenne d'un commentaire (nombre de mots): 67.1352 \n"
          ]
        }
      ]
    },
    {
      "cell_type": "code",
      "source": [
        "print(\"Taille Maximale d'un commentaire (nombre de caractères): {} \".format(np.max(data['comment_text'].str.len())))\n",
        "max_size = np.max([len(comment.split()) for comment in data['comment_text']])\n",
        "print(\"Taille Maximale d'un commentaire (nombre de mots): {} \".format(max_size))"
      ],
      "metadata": {
        "colab": {
          "base_uri": "https://localhost:8080/"
        },
        "id": "BSs2L-fWIYtJ",
        "outputId": "939a3a73-538c-46e0-a6a4-f6100d1701d2"
      },
      "execution_count": null,
      "outputs": [
        {
          "output_type": "stream",
          "name": "stdout",
          "text": [
            "Taille Maximale d'un commentaire (nombre de caractères): 5000 \n",
            "Taille Maximale d'un commentaire (nombre de mots): 1403 \n"
          ]
        }
      ]
    },
    {
      "cell_type": "markdown",
      "source": [
        "# Préparation des données <a name=\"PrepareData\"></a>"
      ],
      "metadata": {
        "id": "YIzpSrAjSsAM"
      }
    },
    {
      "cell_type": "markdown",
      "source": [
        "L'objectif est maintenant de nettoyer le jeu de données. On va notamment essayer de remplacer les contractions et abreviations les plus courantes."
      ],
      "metadata": {
        "id": "kEVsO7quw0yq"
      }
    },
    {
      "cell_type": "code",
      "source": [
        "nltk.download('stopwords')\n",
        "nltk.download('punkt')\n",
        "stop_words = nltk.corpus.stopwords.words('english')"
      ],
      "metadata": {
        "id": "1WMk85t8S_zX",
        "colab": {
          "base_uri": "https://localhost:8080/"
        },
        "outputId": "4c64f1e5-ea67-479b-a68a-8832be2968dc"
      },
      "execution_count": null,
      "outputs": [
        {
          "output_type": "stream",
          "name": "stdout",
          "text": [
            "[nltk_data] Downloading package stopwords to /root/nltk_data...\n",
            "[nltk_data]   Package stopwords is already up-to-date!\n",
            "[nltk_data] Downloading package punkt to /root/nltk_data...\n",
            "[nltk_data]   Package punkt is already up-to-date!\n"
          ]
        }
      ]
    },
    {
      "cell_type": "markdown",
      "source": [
        "On définit plusieurs fonctions nous permettant de nettoyer les commentaires."
      ],
      "metadata": {
        "id": "ulN4woGfw5gS"
      }
    },
    {
      "cell_type": "code",
      "source": [
        "def clean(comment): \n",
        "            \n",
        "    # Contractions\n",
        "    comment = re.sub(r\"he's\", \"he is\", comment)\n",
        "    comment = re.sub(r\"there's\", \"there is\", comment)\n",
        "    comment = re.sub(r\"We're\", \"We are\", comment)\n",
        "    comment = re.sub(r\"That's\", \"That is\", comment)\n",
        "    comment = re.sub(r\"won't\", \"will not\", comment)\n",
        "    comment = re.sub(r\"they're\", \"they are\", comment)\n",
        "    comment = re.sub(r\"Can't\", \"Cannot\", comment)\n",
        "    comment = re.sub(r\"wasn't\", \"was not\", comment)\n",
        "    comment = re.sub(r\"don\\x89Ûªt\", \"do not\", comment)\n",
        "    comment = re.sub(r\"aren't\", \"are not\", comment)\n",
        "    comment = re.sub(r\"isn't\", \"is not\", comment)\n",
        "    comment = re.sub(r\"What's\", \"What is\", comment)\n",
        "    comment = re.sub(r\"haven't\", \"have not\", comment)\n",
        "    comment = re.sub(r\"hasn't\", \"has not\", comment)\n",
        "    comment = re.sub(r\"There's\", \"There is\", comment)\n",
        "    comment = re.sub(r\"He's\", \"He is\", comment)\n",
        "    comment = re.sub(r\"It's\", \"It is\", comment)\n",
        "    comment = re.sub(r\"You're\", \"You are\", comment)\n",
        "    comment = re.sub(r\"I'M\", \"I am\", comment)\n",
        "    comment = re.sub(r\"shouldn't\", \"should not\", comment)\n",
        "    comment = re.sub(r\"wouldn't\", \"would not\", comment)\n",
        "    comment = re.sub(r\"i'm\", \"I am\", comment)\n",
        "    comment = re.sub(r\"I\\x89Ûªm\", \"I am\", comment)\n",
        "    comment = re.sub(r\"I'm\", \"I am\", comment)\n",
        "    comment = re.sub(r\"Isn't\", \"is not\", comment)\n",
        "    comment = re.sub(r\"Here's\", \"Here is\", comment)\n",
        "    comment = re.sub(r\"you've\", \"you have\", comment)\n",
        "    comment = re.sub(r\"you\\x89Ûªve\", \"you have\", comment)\n",
        "    comment = re.sub(r\"we're\", \"we are\", comment)\n",
        "    comment = re.sub(r\"what's\", \"what is\", comment)\n",
        "    comment = re.sub(r\"couldn't\", \"could not\", comment)\n",
        "    comment = re.sub(r\"we've\", \"we have\", comment)\n",
        "    comment = re.sub(r\"it\\x89Ûªs\", \"it is\", comment)\n",
        "    comment = re.sub(r\"doesn\\x89Ûªt\", \"does not\", comment)\n",
        "    comment = re.sub(r\"It\\x89Ûªs\", \"It is\", comment)\n",
        "    comment = re.sub(r\"Here\\x89Ûªs\", \"Here is\", comment)\n",
        "    comment = re.sub(r\"who's\", \"who is\", comment)\n",
        "    comment = re.sub(r\"I\\x89Ûªve\", \"I have\", comment)\n",
        "    comment = re.sub(r\"y'all\", \"you all\", comment)\n",
        "    comment = re.sub(r\"can\\x89Ûªt\", \"cannot\", comment)\n",
        "    comment = re.sub(r\"would've\", \"would have\", comment)\n",
        "    comment = re.sub(r\"it'll\", \"it will\", comment)\n",
        "    comment = re.sub(r\"we'll\", \"we will\", comment)\n",
        "    comment = re.sub(r\"wouldn\\x89Ûªt\", \"would not\", comment)\n",
        "    comment = re.sub(r\"We've\", \"We have\", comment)\n",
        "    comment = re.sub(r\"he'll\", \"he will\", comment)\n",
        "    comment = re.sub(r\"Y'all\", \"You all\", comment)\n",
        "    comment = re.sub(r\"Weren't\", \"Were not\", comment)\n",
        "    comment = re.sub(r\"Didn't\", \"Did not\", comment)\n",
        "    comment = re.sub(r\"they'll\", \"they will\", comment)\n",
        "    comment = re.sub(r\"they'd\", \"they would\", comment)\n",
        "    comment = re.sub(r\"DON'T\", \"DO NOT\", comment)\n",
        "    comment = re.sub(r\"That\\x89Ûªs\", \"That is\", comment)\n",
        "    comment = re.sub(r\"they've\", \"they have\", comment)\n",
        "    comment = re.sub(r\"i'd\", \"I would\", comment)\n",
        "    comment = re.sub(r\"should've\", \"should have\", comment)\n",
        "    comment = re.sub(r\"You\\x89Ûªre\", \"You are\", comment)\n",
        "    comment = re.sub(r\"where's\", \"where is\", comment)\n",
        "    comment = re.sub(r\"Don\\x89Ûªt\", \"Do not\", comment)\n",
        "    comment = re.sub(r\"we'd\", \"we would\", comment)\n",
        "    comment = re.sub(r\"i'll\", \"I will\", comment)\n",
        "    comment = re.sub(r\"weren't\", \"were not\", comment)\n",
        "    comment = re.sub(r\"They're\", \"They are\", comment)\n",
        "    comment = re.sub(r\"Can\\x89Ûªt\", \"Cannot\", comment)\n",
        "    comment = re.sub(r\"you\\x89Ûªll\", \"you will\", comment)\n",
        "    comment = re.sub(r\"I\\x89Ûªd\", \"I would\", comment)\n",
        "    comment = re.sub(r\"let's\", \"let us\", comment)\n",
        "    comment = re.sub(r\"it's\", \"it is\", comment)\n",
        "    comment = re.sub(r\"can't\", \"cannot\", comment)\n",
        "    comment = re.sub(r\"don't\", \"do not\", comment)\n",
        "    comment = re.sub(r\"you're\", \"you are\", comment)\n",
        "    comment = re.sub(r\"i've\", \"I have\", comment)\n",
        "    comment = re.sub(r\"that's\", \"that is\", comment)\n",
        "    comment = re.sub(r\"i'll\", \"I will\", comment)\n",
        "    comment = re.sub(r\"doesn't\", \"does not\", comment)\n",
        "    comment = re.sub(r\"i'd\", \"I would\", comment)\n",
        "    comment = re.sub(r\"didn't\", \"did not\", comment)\n",
        "    comment = re.sub(r\"ain't\", \"am not\", comment)\n",
        "    comment = re.sub(r\"you'll\", \"you will\", comment)\n",
        "    comment = re.sub(r\"I've\", \"I have\", comment)\n",
        "    comment = re.sub(r\"Don't\", \"do not\", comment)\n",
        "    comment = re.sub(r\"I'll\", \"I will\", comment)\n",
        "    comment = re.sub(r\"I'd\", \"I would\", comment)\n",
        "    comment = re.sub(r\"Let's\", \"Let us\", comment)\n",
        "    comment = re.sub(r\"you'd\", \"You would\", comment)\n",
        "    comment = re.sub(r\"It's\", \"It is\", comment)\n",
        "    comment = re.sub(r\"Ain't\", \"am not\", comment)\n",
        "    comment = re.sub(r\"Haven't\", \"Have not\", comment)\n",
        "    comment = re.sub(r\"Could've\", \"Could have\", comment)\n",
        "    comment = re.sub(r\"youve\", \"you have\", comment)  \n",
        "    comment = re.sub(r\"donå«t\", \"do not\", comment)  \n",
        "    \n",
        "    comment = re.sub(r\"some1\", \"someone\", comment)\n",
        "    comment = re.sub(r\"yrs\", \"years\", comment)\n",
        "    comment = re.sub(r\"hrs\", \"hours\", comment)\n",
        "    comment = re.sub(r\"2morow|2moro\", \"tomorrow\", comment)\n",
        "    comment = re.sub(r\"2day\", \"today\", comment)\n",
        "    comment = re.sub(r\"4got|4gotten\", \"forget\", comment)\n",
        "    comment = re.sub(r\"b-day|bday\", \"b-day\", comment)\n",
        "    comment = re.sub(r\"mother's\", \"mother\", comment)\n",
        "    comment = re.sub(r\"mom's\", \"mom\", comment)\n",
        "    comment = re.sub(r\"dad's\", \"dad\", comment)\n",
        "    comment = re.sub(r\"hahah|hahaha|hahahaha\", \"haha\", comment)\n",
        "    comment = re.sub(r\"lmao|lolz|rofl\", \"lol\", comment)\n",
        "    comment = re.sub(r\"thanx|thnx\", \"thanks\", comment)\n",
        "    comment = re.sub(r\"goood\", \"good\", comment)\n",
        "    comment = re.sub(r\"some1\", \"someone\", comment)\n",
        "    comment = re.sub(r\"some1\", \"someone\", comment)\n",
        "    # Character entity references\n",
        "    comment = re.sub(r\"&gt;\", \">\", comment)\n",
        "    comment = re.sub(r\"&lt;\", \"<\", comment)\n",
        "    comment = re.sub(r\"&amp;\", \"&\", comment)\n",
        "    # Typos, slang and informal abbreviations\n",
        "    comment = re.sub(r\"w/e\", \"whatever\", comment)\n",
        "    comment = re.sub(r\"w/\", \"with\", comment)\n",
        "    comment = re.sub(r\"<3\", \"love\", comment)\n",
        "    # Urls\n",
        "    comment = re.sub(r\"http\\S+\", \"\", comment)\n",
        "    # Numbers\n",
        "    comment = re.sub(r'[0-9]', '', comment)\n",
        "    # Eliminating the mentions\n",
        "    comment = re.sub(\"(@[A-Za-z0-9_]+)\",\"\", comment)\n",
        "    # Remove punctuation and special chars (keep '!')\n",
        "    for p in string.punctuation.replace('!', ''):\n",
        "        comment = comment.replace(p, '')\n",
        "        \n",
        "    # ... and ..\n",
        "    comment = comment.replace('...', ' ... ')\n",
        "    if '...' not in comment:\n",
        "        comment = comment.replace('..', ' ... ')\n",
        "        \n",
        "    # Tokenize\n",
        "    comment_words = word_tokenize(comment)\n",
        "    \n",
        "    # Eliminating the word if its length is less than 3\n",
        "    comment = [w for w in comment_words if len(w)>2]\n",
        "    \n",
        "    # remove stopwords\n",
        "    comment = [w.lower() for w in comment if not w in stop_words]  \n",
        "    \n",
        "    \n",
        "    # join back\n",
        "    comment = ' '.join(comment)\n",
        "        \n",
        "        \n",
        "    return comment"
      ],
      "metadata": {
        "id": "1ea2Vnv1w58k"
      },
      "execution_count": null,
      "outputs": []
    },
    {
      "cell_type": "code",
      "source": [
        "variable_name = \"\"\n",
        "abbreviations = {\n",
        "    \"$\" : \" dollar \",\n",
        "    \"€\" : \" euro \",\n",
        "    \"4ao\" : \"for adults only\",\n",
        "    \"a.m\" : \"before midday\",\n",
        "    \"a3\" : \"anytime anywhere anyplace\",\n",
        "    \"aamof\" : \"as a matter of fact\",\n",
        "    \"acct\" : \"account\",\n",
        "    \"adih\" : \"another day in hell\",\n",
        "    \"afaic\" : \"as far as i am concerned\",\n",
        "    \"afaict\" : \"as far as i can tell\",\n",
        "    \"afaik\" : \"as far as i know\",\n",
        "    \"afair\" : \"as far as i remember\",\n",
        "    \"afk\" : \"away from keyboard\",\n",
        "    \"app\" : \"application\",\n",
        "    \"approx\" : \"approximately\",\n",
        "    \"apps\" : \"applications\",\n",
        "    \"asap\" : \"as soon as possible\",\n",
        "    \"asl\" : \"age, sex, location\",\n",
        "    \"atk\" : \"at the keyboard\",\n",
        "    \"ave.\" : \"avenue\",\n",
        "    \"aymm\" : \"are you my mother\",\n",
        "    \"ayor\" : \"at your own risk\", \n",
        "    \"b&b\" : \"bed and breakfast\",\n",
        "    \"b+b\" : \"bed and breakfast\",\n",
        "    \"b.c\" : \"before christ\",\n",
        "    \"b2b\" : \"business to business\",\n",
        "    \"b2c\" : \"business to customer\",\n",
        "    \"b4\" : \"before\",\n",
        "    \"b4n\" : \"bye for now\",\n",
        "    \"b@u\" : \"back at you\",\n",
        "    \"bae\" : \"before anyone else\",\n",
        "    \"bak\" : \"back at keyboard\",\n",
        "    \"bbbg\" : \"bye bye be good\",\n",
        "    \"bbc\" : \"british broadcasting corporation\",\n",
        "    \"bbias\" : \"be back in a second\",\n",
        "    \"bbl\" : \"be back later\",\n",
        "    \"bbs\" : \"be back soon\",\n",
        "    \"be4\" : \"before\",\n",
        "    \"bfn\" : \"bye for now\",\n",
        "    \"blvd\" : \"boulevard\",\n",
        "    \"bout\" : \"about\",\n",
        "    \"brb\" : \"be right back\",\n",
        "    \"bros\" : \"brothers\",\n",
        "    \"brt\" : \"be right there\",\n",
        "    \"bsaaw\" : \"big smile and a wink\",\n",
        "    \"btw\" : \"by the way\",\n",
        "    \"bwl\" : \"bursting with laughter\",\n",
        "    \"c/o\" : \"care of\",\n",
        "    \"cet\" : \"central european time\",\n",
        "    \"cf\" : \"compare\",\n",
        "    \"cia\" : \"central intelligence agency\",\n",
        "    \"csl\" : \"can not stop laughing\",\n",
        "    \"cu\" : \"see you\",\n",
        "    \"cul8r\" : \"see you later\",\n",
        "    \"cv\" : \"curriculum vitae\",\n",
        "    \"cwot\" : \"complete waste of time\",\n",
        "    \"cya\" : \"see you\",\n",
        "    \"cyt\" : \"see you tomorrow\",\n",
        "    \"dae\" : \"does anyone else\",\n",
        "    \"dbmib\" : \"do not bother me i am busy\",\n",
        "    \"diy\" : \"do it yourself\",\n",
        "    \"dm\" : \"direct message\",\n",
        "    \"dwh\" : \"during work hours\",\n",
        "    \"e123\" : \"easy as one two three\",\n",
        "    \"eet\" : \"eastern european time\",\n",
        "    \"eg\" : \"example\",\n",
        "    \"embm\" : \"early morning business meeting\",\n",
        "    \"encl\" : \"enclosed\",\n",
        "    \"encl.\" : \"enclosed\",\n",
        "    \"etc\" : \"and so on\",\n",
        "    \"faq\" : \"frequently asked questions\",\n",
        "    \"fawc\" : \"for anyone who cares\",\n",
        "    \"fb\" : \"facebook\",\n",
        "    \"fc\" : \"fingers crossed\",\n",
        "    \"fig\" : \"figure\",\n",
        "    \"fimh\" : \"forever in my heart\", \n",
        "    \"ft.\" : \"feet\",\n",
        "    \"ft\" : \"featuring\",\n",
        "    \"ftl\" : \"for the loss\",\n",
        "    \"ftw\" : \"for the win\",\n",
        "    \"fwiw\" : \"for what it is worth\",\n",
        "    \"fyi\" : \"for your information\",\n",
        "    \"g9\" : \"genius\",\n",
        "    \"gahoy\" : \"get a hold of yourself\",\n",
        "    \"gal\" : \"get a life\",\n",
        "    \"gcse\" : \"general certificate of secondary education\",\n",
        "    \"gfn\" : \"gone for now\",\n",
        "    \"gg\" : \"good game\",\n",
        "    \"gl\" : \"good luck\",\n",
        "    \"glhf\" : \"good luck have fun\",\n",
        "    \"gmt\" : \"greenwich mean time\",\n",
        "    \"gmta\" : \"great minds think alike\",\n",
        "    \"gn\" : \"good night\",\n",
        "    \"g.o.a.t\" : \"greatest of all time\",\n",
        "    \"goat\" : \"greatest of all time\",\n",
        "    \"goi\" : \"get over it\",\n",
        "    \"gps\" : \"global positioning system\",\n",
        "    \"gr8\" : \"great\",\n",
        "    \"gratz\" : \"congratulations\",\n",
        "    \"gyal\" : \"girl\",\n",
        "    \"h&c\" : \"hot and cold\",\n",
        "    \"hp\" : \"horsepower\",\n",
        "    \"hr\" : \"hour\",\n",
        "    \"hrh\" : \"his royal highness\",\n",
        "    \"ht\" : \"height\",\n",
        "    \"ibrb\" : \"i will be right back\",\n",
        "    \"ic\" : \"i see\",\n",
        "    \"icq\" : \"i seek you\",\n",
        "    \"icymi\" : \"in case you missed it\",\n",
        "    \"idc\" : \"i do not care\",\n",
        "    \"idgadf\" : \"i do not give a damn fuck\",\n",
        "    \"idgaf\" : \"i do not give a fuck\",\n",
        "    \"idk\" : \"i do not know\",\n",
        "    \"ie\" : \"that is\",\n",
        "    \"i.e\" : \"that is\",\n",
        "    \"ifyp\" : \"i feel your pain\",\n",
        "    \"IG\" : \"instagram\",\n",
        "    \"iirc\" : \"if i remember correctly\",\n",
        "    \"ilu\" : \"i love you\",\n",
        "    \"ily\" : \"i love you\",\n",
        "    \"imho\" : \"in my humble opinion\",\n",
        "    \"imo\" : \"in my opinion\",\n",
        "    \"imu\" : \"i miss you\",\n",
        "    \"iow\" : \"in other words\",\n",
        "    \"irl\" : \"in real life\",\n",
        "    \"j4f\" : \"just for fun\",\n",
        "    \"jic\" : \"just in case\",\n",
        "    \"jk\" : \"just kidding\",\n",
        "    \"jsyk\" : \"just so you know\",\n",
        "    \"l8r\" : \"later\",\n",
        "    \"lb\" : \"pound\",\n",
        "    \"lbs\" : \"pounds\",\n",
        "    \"ldr\" : \"long distance relationship\",\n",
        "    \"lmao\" : \"laugh my ass off\",\n",
        "    \"lmfao\" : \"laugh my fucking ass off\",\n",
        "    \"lol\" : \"laughing out loud\",\n",
        "    \"ltd\" : \"limited\",\n",
        "    \"ltns\" : \"long time no see\",\n",
        "    \"m8\" : \"mate\",\n",
        "    \"mf\" : \"motherfucker\",\n",
        "    \"mfs\" : \"motherfuckers\",\n",
        "    \"mfw\" : \"my face when\",\n",
        "    \"mofo\" : \"motherfucker\",\n",
        "    \"mph\" : \"miles per hour\",\n",
        "    \"mr\" : \"mister\",\n",
        "    \"mrw\" : \"my reaction when\",\n",
        "    \"ms\" : \"miss\",\n",
        "    \"mte\" : \"my thoughts exactly\",\n",
        "    \"nagi\" : \"not a good idea\",\n",
        "    \"nbc\" : \"national broadcasting company\",\n",
        "    \"nbd\" : \"not big deal\",\n",
        "    \"nfs\" : \"not for sale\",\n",
        "    \"ngl\" : \"not going to lie\",\n",
        "    \"nhs\" : \"national health service\",\n",
        "    \"nrn\" : \"no reply necessary\",\n",
        "    \"nsfl\" : \"not safe for life\",\n",
        "    \"nsfw\" : \"not safe for work\",\n",
        "    \"nth\" : \"nice to have\",\n",
        "    \"nvr\" : \"never\",\n",
        "    \"nyc\" : \"new york city\",\n",
        "    \"oc\" : \"original content\",\n",
        "    \"og\" : \"original\",\n",
        "    \"ohp\" : \"overhead projector\",\n",
        "    \"oic\" : \"oh i see\",\n",
        "    \"omdb\" : \"over my dead body\",\n",
        "    \"omg\" : \"oh my god\",\n",
        "    \"omw\" : \"on my way\",\n",
        "    \"p.a\" : \"per annum\",\n",
        "    \"p.m\" : \"after midday\",\n",
        "    \"pm\" : \"prime minister\",\n",
        "    \"poc\" : \"people of color\",\n",
        "    \"pov\" : \"point of view\",\n",
        "    \"pp\" : \"pages\",\n",
        "    \"ppl\" : \"people\",\n",
        "    \"prw\" : \"parents are watching\",\n",
        "    \"ps\" : \"postscript\",\n",
        "    \"pt\" : \"point\",\n",
        "    \"ptb\" : \"please text back\",\n",
        "    \"pto\" : \"please turn over\",\n",
        "    \"qpsa\" : \"what happens\", \n",
        "    \"ratchet\" : \"rude\",\n",
        "    \"rbtl\" : \"read between the lines\",\n",
        "    \"rlrt\" : \"real life retweet\", \n",
        "    \"rofl\" : \"rolling on the floor laughing\",\n",
        "    \"roflol\" : \"rolling on the floor laughing out loud\",\n",
        "    \"rotflmao\" : \"rolling on the floor laughing my ass off\",\n",
        "    \"rt\" : \"retweet\",\n",
        "    \"ruok\" : \"are you ok\",\n",
        "    \"sfw\" : \"safe for work\",\n",
        "     \"sk8\" : \"skate\",\n",
        "    \"smh\" : \"shake my head\",\n",
        "    \"sq\" : \"square\",\n",
        "    \"srsly\" : \"seriously\", \n",
        "    \"ssdd\" : \"same stuff different day\",\n",
        "    \"tbh\" : \"to be honest\",\n",
        "    \"tbs\" : \"tablespooful\",\n",
        "    \"tbsp\" : \"tablespooful\",\n",
        "    \"tfw\" : \"that feeling when\",\n",
        "    \"thks\" : \"thank you\",\n",
        "    \"tho\" : \"though\",\n",
        "    \"thx\" : \"thank you\",\n",
        "    \"tia\" : \"thanks in advance\",\n",
        "    \"til\" : \"today i learned\",\n",
        "    \"tl;dr\" : \"too long i did not read\",\n",
        "    \"tldr\" : \"too long i did not read\",\n",
        "    \"tmb\" : \"tweet me back\",\n",
        "    \"tntl\" : \"trying not to laugh\",\n",
        "    \"ttyl\" : \"talk to you later\",\n",
        "    \"u\" : \"you\",\n",
        "    \"u2\" : \"you too\",\n",
        "    \"u4e\" : \"yours for ever\",\n",
        "    \"utc\" : \"coordinated universal time\",\n",
        "    \"w/\" : \"with\",\n",
        "    \"w/o\" : \"without\",\n",
        "    \"w8\" : \"wait\",\n",
        "    \"wassup\" : \"what is up\",\n",
        "    \"wb\" : \"welcome back\",\n",
        "    \"wtf\" : \"what the fuck\",\n",
        "    \"wtg\" : \"way to go\",\n",
        "    \"wtpa\" : \"where the party at\",\n",
        "    \"wuf\" : \"where are you from\",\n",
        "    \"wuzup\" : \"what is up\",\n",
        "    \"wywh\" : \"wish you were here\",\n",
        "    \"yd\" : \"yard\",\n",
        "    \"ygtr\" : \"you got that right\",\n",
        "    \"ynk\" : \"you never know\",\n",
        "    \"zzz\" : \"sleeping bored and tired\"\n",
        "}\n",
        "\n",
        "def convert_abbrev_in_text(comment):\n",
        "    t=[]\n",
        "    words=comment.split()\n",
        "    t = [abbreviations[w.lower()] if w.lower() in abbreviations.keys() else w for w in words]\n",
        "    return ' '.join(t) "
      ],
      "metadata": {
        "id": "zR4rjLDQw82b"
      },
      "execution_count": null,
      "outputs": []
    },
    {
      "cell_type": "markdown",
      "source": [
        "La fonction prepare_string permet d'appliquer les deux traitements définis précédemment pour netoyer les commentaires."
      ],
      "metadata": {
        "id": "RQzYqwwxw_ZN"
      }
    },
    {
      "cell_type": "code",
      "source": [
        "def prepare_string(comment):\n",
        "  comment = clean(comment)\n",
        "  comment = convert_abbrev_in_text(comment)\n",
        "  return comment"
      ],
      "metadata": {
        "id": "1Na_5KzcxAv7"
      },
      "execution_count": null,
      "outputs": []
    },
    {
      "cell_type": "code",
      "source": [
        "%%time\n",
        "data['comment_text'] = data['comment_text'].apply(lambda s : prepare_string(s))\n",
        "\n",
        "# Drop empty values from dataframe\n",
        "data['comment_text'].replace('', np.nan, inplace=True)\n",
        "data.dropna(subset=['comment_text'], inplace=True)"
      ],
      "metadata": {
        "colab": {
          "base_uri": "https://localhost:8080/"
        },
        "id": "SKbnzpjTxB6D",
        "outputId": "dc902901-a16d-41d5-c8be-b4ccf383686c"
      },
      "execution_count": null,
      "outputs": [
        {
          "output_type": "stream",
          "name": "stdout",
          "text": [
            "CPU times: user 20.9 s, sys: 55.3 ms, total: 20.9 s\n",
            "Wall time: 20.9 s\n"
          ]
        }
      ]
    },
    {
      "cell_type": "code",
      "source": [
        "data.head(20)"
      ],
      "metadata": {
        "id": "DWTQi3ibxEe5",
        "colab": {
          "base_uri": "https://localhost:8080/",
          "height": 677
        },
        "outputId": "16fb8d7e-08a9-474d-85dd-249f256dc29f"
      },
      "execution_count": null,
      "outputs": [
        {
          "output_type": "execute_result",
          "data": {
            "text/plain": [
              "                  id                                       comment_text  \\\n",
              "0   0000997932d777bf  explanation why edits made username hardcore m...   \n",
              "1   000103f0d9cfb60f  daww matches background colour seemingly stuck...   \n",
              "2   000113f07ec002fd  hey man really trying edit war guy constantly ...   \n",
              "3   0001b41b1c6bb37e  more make real suggestions improvement wondere...   \n",
              "4   0001d958c54c6e35              you sir hero any chance remember page   \n",
              "5   00025465d4725e87           congratulations well use tools well talk   \n",
              "6   0002bcb3da6cb337             cocksucker before you piss around work   \n",
              "7   00031b1e95af7921  your vandalism matt shirvington article revert...   \n",
              "8   00037261f536c51d  sorry word nonsense offensive anyway intending...   \n",
              "9   00040093b2687caa               alignment subject contrary dulithgow   \n",
              "10  0005300084f90edc  fair use rationale imagewonjujpg thanks upload...   \n",
              "11  00054a5e18b50dd4                 bbq man lets discuss itmaybe phone   \n",
              "12  0005c987bdfc9d4b  hey talk what exclusive group talibanswho good...   \n",
              "13  0006f16e4e9f292e  before start throwing accusations warnings let...   \n",
              "14  00070ef96486d6f9  girl started arguments she stuck nose belong b...   \n",
              "15  00078f8ce7eb276d  juelz santanas age juelz santana years old cam...   \n",
              "16  0007e25b2121310b            bye look come think comming back tosser   \n",
              "17  000897889268bc93     redirect talkvoydan pop georgiev chernodrinski   \n",
              "18  0009801bd85e5806  the mitsurugi point made sense argue include h...   \n",
              "19  0009eaea3325de8c  mean bother see writing something regarding re...   \n",
              "\n",
              "    toxic  severe_toxic  obscene  threat  insult  identity_hate  \n",
              "0       0             0        0       0       0              0  \n",
              "1       0             0        0       0       0              0  \n",
              "2       0             0        0       0       0              0  \n",
              "3       0             0        0       0       0              0  \n",
              "4       0             0        0       0       0              0  \n",
              "5       0             0        0       0       0              0  \n",
              "6       1             1        1       0       1              0  \n",
              "7       0             0        0       0       0              0  \n",
              "8       0             0        0       0       0              0  \n",
              "9       0             0        0       0       0              0  \n",
              "10      0             0        0       0       0              0  \n",
              "11      0             0        0       0       0              0  \n",
              "12      1             0        0       0       0              0  \n",
              "13      0             0        0       0       0              0  \n",
              "14      0             0        0       0       0              0  \n",
              "15      0             0        0       0       0              0  \n",
              "16      1             0        0       0       0              0  \n",
              "17      0             0        0       0       0              0  \n",
              "18      0             0        0       0       0              0  \n",
              "19      0             0        0       0       0              0  "
            ],
            "text/html": [
              "\n",
              "  <div id=\"df-27ae06b3-9d99-4662-b2ec-466a71dbfa75\">\n",
              "    <div class=\"colab-df-container\">\n",
              "      <div>\n",
              "<style scoped>\n",
              "    .dataframe tbody tr th:only-of-type {\n",
              "        vertical-align: middle;\n",
              "    }\n",
              "\n",
              "    .dataframe tbody tr th {\n",
              "        vertical-align: top;\n",
              "    }\n",
              "\n",
              "    .dataframe thead th {\n",
              "        text-align: right;\n",
              "    }\n",
              "</style>\n",
              "<table border=\"1\" class=\"dataframe\">\n",
              "  <thead>\n",
              "    <tr style=\"text-align: right;\">\n",
              "      <th></th>\n",
              "      <th>id</th>\n",
              "      <th>comment_text</th>\n",
              "      <th>toxic</th>\n",
              "      <th>severe_toxic</th>\n",
              "      <th>obscene</th>\n",
              "      <th>threat</th>\n",
              "      <th>insult</th>\n",
              "      <th>identity_hate</th>\n",
              "    </tr>\n",
              "  </thead>\n",
              "  <tbody>\n",
              "    <tr>\n",
              "      <th>0</th>\n",
              "      <td>0000997932d777bf</td>\n",
              "      <td>explanation why edits made username hardcore m...</td>\n",
              "      <td>0</td>\n",
              "      <td>0</td>\n",
              "      <td>0</td>\n",
              "      <td>0</td>\n",
              "      <td>0</td>\n",
              "      <td>0</td>\n",
              "    </tr>\n",
              "    <tr>\n",
              "      <th>1</th>\n",
              "      <td>000103f0d9cfb60f</td>\n",
              "      <td>daww matches background colour seemingly stuck...</td>\n",
              "      <td>0</td>\n",
              "      <td>0</td>\n",
              "      <td>0</td>\n",
              "      <td>0</td>\n",
              "      <td>0</td>\n",
              "      <td>0</td>\n",
              "    </tr>\n",
              "    <tr>\n",
              "      <th>2</th>\n",
              "      <td>000113f07ec002fd</td>\n",
              "      <td>hey man really trying edit war guy constantly ...</td>\n",
              "      <td>0</td>\n",
              "      <td>0</td>\n",
              "      <td>0</td>\n",
              "      <td>0</td>\n",
              "      <td>0</td>\n",
              "      <td>0</td>\n",
              "    </tr>\n",
              "    <tr>\n",
              "      <th>3</th>\n",
              "      <td>0001b41b1c6bb37e</td>\n",
              "      <td>more make real suggestions improvement wondere...</td>\n",
              "      <td>0</td>\n",
              "      <td>0</td>\n",
              "      <td>0</td>\n",
              "      <td>0</td>\n",
              "      <td>0</td>\n",
              "      <td>0</td>\n",
              "    </tr>\n",
              "    <tr>\n",
              "      <th>4</th>\n",
              "      <td>0001d958c54c6e35</td>\n",
              "      <td>you sir hero any chance remember page</td>\n",
              "      <td>0</td>\n",
              "      <td>0</td>\n",
              "      <td>0</td>\n",
              "      <td>0</td>\n",
              "      <td>0</td>\n",
              "      <td>0</td>\n",
              "    </tr>\n",
              "    <tr>\n",
              "      <th>5</th>\n",
              "      <td>00025465d4725e87</td>\n",
              "      <td>congratulations well use tools well talk</td>\n",
              "      <td>0</td>\n",
              "      <td>0</td>\n",
              "      <td>0</td>\n",
              "      <td>0</td>\n",
              "      <td>0</td>\n",
              "      <td>0</td>\n",
              "    </tr>\n",
              "    <tr>\n",
              "      <th>6</th>\n",
              "      <td>0002bcb3da6cb337</td>\n",
              "      <td>cocksucker before you piss around work</td>\n",
              "      <td>1</td>\n",
              "      <td>1</td>\n",
              "      <td>1</td>\n",
              "      <td>0</td>\n",
              "      <td>1</td>\n",
              "      <td>0</td>\n",
              "    </tr>\n",
              "    <tr>\n",
              "      <th>7</th>\n",
              "      <td>00031b1e95af7921</td>\n",
              "      <td>your vandalism matt shirvington article revert...</td>\n",
              "      <td>0</td>\n",
              "      <td>0</td>\n",
              "      <td>0</td>\n",
              "      <td>0</td>\n",
              "      <td>0</td>\n",
              "      <td>0</td>\n",
              "    </tr>\n",
              "    <tr>\n",
              "      <th>8</th>\n",
              "      <td>00037261f536c51d</td>\n",
              "      <td>sorry word nonsense offensive anyway intending...</td>\n",
              "      <td>0</td>\n",
              "      <td>0</td>\n",
              "      <td>0</td>\n",
              "      <td>0</td>\n",
              "      <td>0</td>\n",
              "      <td>0</td>\n",
              "    </tr>\n",
              "    <tr>\n",
              "      <th>9</th>\n",
              "      <td>00040093b2687caa</td>\n",
              "      <td>alignment subject contrary dulithgow</td>\n",
              "      <td>0</td>\n",
              "      <td>0</td>\n",
              "      <td>0</td>\n",
              "      <td>0</td>\n",
              "      <td>0</td>\n",
              "      <td>0</td>\n",
              "    </tr>\n",
              "    <tr>\n",
              "      <th>10</th>\n",
              "      <td>0005300084f90edc</td>\n",
              "      <td>fair use rationale imagewonjujpg thanks upload...</td>\n",
              "      <td>0</td>\n",
              "      <td>0</td>\n",
              "      <td>0</td>\n",
              "      <td>0</td>\n",
              "      <td>0</td>\n",
              "      <td>0</td>\n",
              "    </tr>\n",
              "    <tr>\n",
              "      <th>11</th>\n",
              "      <td>00054a5e18b50dd4</td>\n",
              "      <td>bbq man lets discuss itmaybe phone</td>\n",
              "      <td>0</td>\n",
              "      <td>0</td>\n",
              "      <td>0</td>\n",
              "      <td>0</td>\n",
              "      <td>0</td>\n",
              "      <td>0</td>\n",
              "    </tr>\n",
              "    <tr>\n",
              "      <th>12</th>\n",
              "      <td>0005c987bdfc9d4b</td>\n",
              "      <td>hey talk what exclusive group talibanswho good...</td>\n",
              "      <td>1</td>\n",
              "      <td>0</td>\n",
              "      <td>0</td>\n",
              "      <td>0</td>\n",
              "      <td>0</td>\n",
              "      <td>0</td>\n",
              "    </tr>\n",
              "    <tr>\n",
              "      <th>13</th>\n",
              "      <td>0006f16e4e9f292e</td>\n",
              "      <td>before start throwing accusations warnings let...</td>\n",
              "      <td>0</td>\n",
              "      <td>0</td>\n",
              "      <td>0</td>\n",
              "      <td>0</td>\n",
              "      <td>0</td>\n",
              "      <td>0</td>\n",
              "    </tr>\n",
              "    <tr>\n",
              "      <th>14</th>\n",
              "      <td>00070ef96486d6f9</td>\n",
              "      <td>girl started arguments she stuck nose belong b...</td>\n",
              "      <td>0</td>\n",
              "      <td>0</td>\n",
              "      <td>0</td>\n",
              "      <td>0</td>\n",
              "      <td>0</td>\n",
              "      <td>0</td>\n",
              "    </tr>\n",
              "    <tr>\n",
              "      <th>15</th>\n",
              "      <td>00078f8ce7eb276d</td>\n",
              "      <td>juelz santanas age juelz santana years old cam...</td>\n",
              "      <td>0</td>\n",
              "      <td>0</td>\n",
              "      <td>0</td>\n",
              "      <td>0</td>\n",
              "      <td>0</td>\n",
              "      <td>0</td>\n",
              "    </tr>\n",
              "    <tr>\n",
              "      <th>16</th>\n",
              "      <td>0007e25b2121310b</td>\n",
              "      <td>bye look come think comming back tosser</td>\n",
              "      <td>1</td>\n",
              "      <td>0</td>\n",
              "      <td>0</td>\n",
              "      <td>0</td>\n",
              "      <td>0</td>\n",
              "      <td>0</td>\n",
              "    </tr>\n",
              "    <tr>\n",
              "      <th>17</th>\n",
              "      <td>000897889268bc93</td>\n",
              "      <td>redirect talkvoydan pop georgiev chernodrinski</td>\n",
              "      <td>0</td>\n",
              "      <td>0</td>\n",
              "      <td>0</td>\n",
              "      <td>0</td>\n",
              "      <td>0</td>\n",
              "      <td>0</td>\n",
              "    </tr>\n",
              "    <tr>\n",
              "      <th>18</th>\n",
              "      <td>0009801bd85e5806</td>\n",
              "      <td>the mitsurugi point made sense argue include h...</td>\n",
              "      <td>0</td>\n",
              "      <td>0</td>\n",
              "      <td>0</td>\n",
              "      <td>0</td>\n",
              "      <td>0</td>\n",
              "      <td>0</td>\n",
              "    </tr>\n",
              "    <tr>\n",
              "      <th>19</th>\n",
              "      <td>0009eaea3325de8c</td>\n",
              "      <td>mean bother see writing something regarding re...</td>\n",
              "      <td>0</td>\n",
              "      <td>0</td>\n",
              "      <td>0</td>\n",
              "      <td>0</td>\n",
              "      <td>0</td>\n",
              "      <td>0</td>\n",
              "    </tr>\n",
              "  </tbody>\n",
              "</table>\n",
              "</div>\n",
              "      <button class=\"colab-df-convert\" onclick=\"convertToInteractive('df-27ae06b3-9d99-4662-b2ec-466a71dbfa75')\"\n",
              "              title=\"Convert this dataframe to an interactive table.\"\n",
              "              style=\"display:none;\">\n",
              "        \n",
              "  <svg xmlns=\"http://www.w3.org/2000/svg\" height=\"24px\"viewBox=\"0 0 24 24\"\n",
              "       width=\"24px\">\n",
              "    <path d=\"M0 0h24v24H0V0z\" fill=\"none\"/>\n",
              "    <path d=\"M18.56 5.44l.94 2.06.94-2.06 2.06-.94-2.06-.94-.94-2.06-.94 2.06-2.06.94zm-11 1L8.5 8.5l.94-2.06 2.06-.94-2.06-.94L8.5 2.5l-.94 2.06-2.06.94zm10 10l.94 2.06.94-2.06 2.06-.94-2.06-.94-.94-2.06-.94 2.06-2.06.94z\"/><path d=\"M17.41 7.96l-1.37-1.37c-.4-.4-.92-.59-1.43-.59-.52 0-1.04.2-1.43.59L10.3 9.45l-7.72 7.72c-.78.78-.78 2.05 0 2.83L4 21.41c.39.39.9.59 1.41.59.51 0 1.02-.2 1.41-.59l7.78-7.78 2.81-2.81c.8-.78.8-2.07 0-2.86zM5.41 20L4 18.59l7.72-7.72 1.47 1.35L5.41 20z\"/>\n",
              "  </svg>\n",
              "      </button>\n",
              "      \n",
              "  <style>\n",
              "    .colab-df-container {\n",
              "      display:flex;\n",
              "      flex-wrap:wrap;\n",
              "      gap: 12px;\n",
              "    }\n",
              "\n",
              "    .colab-df-convert {\n",
              "      background-color: #E8F0FE;\n",
              "      border: none;\n",
              "      border-radius: 50%;\n",
              "      cursor: pointer;\n",
              "      display: none;\n",
              "      fill: #1967D2;\n",
              "      height: 32px;\n",
              "      padding: 0 0 0 0;\n",
              "      width: 32px;\n",
              "    }\n",
              "\n",
              "    .colab-df-convert:hover {\n",
              "      background-color: #E2EBFA;\n",
              "      box-shadow: 0px 1px 2px rgba(60, 64, 67, 0.3), 0px 1px 3px 1px rgba(60, 64, 67, 0.15);\n",
              "      fill: #174EA6;\n",
              "    }\n",
              "\n",
              "    [theme=dark] .colab-df-convert {\n",
              "      background-color: #3B4455;\n",
              "      fill: #D2E3FC;\n",
              "    }\n",
              "\n",
              "    [theme=dark] .colab-df-convert:hover {\n",
              "      background-color: #434B5C;\n",
              "      box-shadow: 0px 1px 3px 1px rgba(0, 0, 0, 0.15);\n",
              "      filter: drop-shadow(0px 1px 2px rgba(0, 0, 0, 0.3));\n",
              "      fill: #FFFFFF;\n",
              "    }\n",
              "  </style>\n",
              "\n",
              "      <script>\n",
              "        const buttonEl =\n",
              "          document.querySelector('#df-27ae06b3-9d99-4662-b2ec-466a71dbfa75 button.colab-df-convert');\n",
              "        buttonEl.style.display =\n",
              "          google.colab.kernel.accessAllowed ? 'block' : 'none';\n",
              "\n",
              "        async function convertToInteractive(key) {\n",
              "          const element = document.querySelector('#df-27ae06b3-9d99-4662-b2ec-466a71dbfa75');\n",
              "          const dataTable =\n",
              "            await google.colab.kernel.invokeFunction('convertToInteractive',\n",
              "                                                     [key], {});\n",
              "          if (!dataTable) return;\n",
              "\n",
              "          const docLinkHtml = 'Like what you see? Visit the ' +\n",
              "            '<a target=\"_blank\" href=https://colab.research.google.com/notebooks/data_table.ipynb>data table notebook</a>'\n",
              "            + ' to learn more about interactive tables.';\n",
              "          element.innerHTML = '';\n",
              "          dataTable['output_type'] = 'display_data';\n",
              "          await google.colab.output.renderOutput(dataTable, element);\n",
              "          const docLink = document.createElement('div');\n",
              "          docLink.innerHTML = docLinkHtml;\n",
              "          element.appendChild(docLink);\n",
              "        }\n",
              "      </script>\n",
              "    </div>\n",
              "  </div>\n",
              "  "
            ]
          },
          "metadata": {},
          "execution_count": 120
        }
      ]
    },
    {
      "cell_type": "markdown",
      "source": [
        "Nos commentaires sont maintenant nettoyés et prêts à être traités."
      ],
      "metadata": {
        "id": "StU2bgttxF-d"
      }
    },
    {
      "cell_type": "markdown",
      "source": [
        "# Passage du texte dans un format structuré <a name=\"StructureData\"></a>"
      ],
      "metadata": {
        "id": "-8AEuTKsSuLs"
      }
    },
    {
      "cell_type": "code",
      "source": [
        "corpus_size = int(100000)\n",
        "#corpus_size = int(800)\n",
        "#On va maintenant prendre un échantillon de notre dataset car TfidfVectorizer() a besoin d'énormément de ram pour ses calculs si on prend le dataset entier\n",
        "\n",
        "sample_data = data.iloc[:corpus_size, :]\n",
        "\n",
        "comments = sample_data['comment_text']\n",
        "\n",
        "#On récupère maintenant les labels\n",
        "y = sample_data.drop(columns=[\"comment_text\", \"id\"]).values[:int(corpus_size)]\n",
        "\n",
        "\n",
        "tfIdfVectorizer = TfidfVectorizer(max_features=5000)\n",
        "X = tfIdfVectorizer.fit_transform(comments).toarray()"
      ],
      "metadata": {
        "id": "AfiItZEITBK3"
      },
      "execution_count": null,
      "outputs": []
    },
    {
      "cell_type": "markdown",
      "source": [
        "# Entraînement du modèle baseline <a name=\"FirstModel\"></a>"
      ],
      "metadata": {
        "id": "LxNIQgESTCmE"
      }
    },
    {
      "cell_type": "markdown",
      "source": [
        "Nous étions à la base partis sur un modèle de RandomForestClassifier comme dans les TP.\n",
        "Nous avons donc constaté le manque de précision du modèle et fait une analyse afin d'améliorer la précision.\n",
        "Mais nous nous sommes finalement rendu compte que ce modèle ne peut sortir qu'une seule classe à la fois. Autrement dit, un commentaire classé comme 'toxic' par le modèle ne sera jamais classé 'obscene' car le modèle ne pourra pas sortir deux labels en même temps.\n",
        "Il faut donc utiliser un modèle permettant de faire de la multi-label classification.\n",
        "On utilise ici OneVsRestClassifier."
      ],
      "metadata": {
        "id": "D442ozw9lS0A"
      }
    },
    {
      "cell_type": "code",
      "source": [
        "X_train, X_test, y_train, y_test = train_test_split(X, y, test_size=.3, random_state=0)"
      ],
      "metadata": {
        "id": "N8ZTeFJqkHEI"
      },
      "execution_count": null,
      "outputs": []
    },
    {
      "cell_type": "code",
      "source": [
        "model = OneVsRestClassifier(RandomForestClassifier(n_estimators=15, random_state=1), n_jobs=-1)\n",
        "model.fit(X_train, y_train)"
      ],
      "metadata": {
        "id": "YgkPpzIzSQUi",
        "colab": {
          "base_uri": "https://localhost:8080/"
        },
        "outputId": "a45e05a9-e521-44fb-df1c-5f931a4b2644"
      },
      "execution_count": null,
      "outputs": [
        {
          "output_type": "stream",
          "name": "stderr",
          "text": [
            "/usr/local/lib/python3.7/dist-packages/joblib/externals/loky/process_executor.py:705: UserWarning: A worker stopped while some jobs were given to the executor. This can be caused by a too short worker timeout or by a memory leak.\n",
            "  \"timeout or by a memory leak.\", UserWarning\n"
          ]
        },
        {
          "output_type": "execute_result",
          "data": {
            "text/plain": [
              "OneVsRestClassifier(estimator=RandomForestClassifier(n_estimators=15,\n",
              "                                                     random_state=1),\n",
              "                    n_jobs=-1)"
            ]
          },
          "metadata": {},
          "execution_count": 123
        }
      ]
    },
    {
      "cell_type": "markdown",
      "source": [
        "On analyse maintenant les performances de notre modèle baseline"
      ],
      "metadata": {
        "id": "aX3lCL2YxSwb"
      }
    },
    {
      "cell_type": "markdown",
      "source": [
        "On regarde tout d'abord les performances sur les données d'entraînement"
      ],
      "metadata": {
        "id": "2bfzWsNK_7EZ"
      }
    },
    {
      "cell_type": "code",
      "source": [
        "print(y_train[4], y_train[10])\n",
        "print(model.predict([X_train[4], X_train[10]]))\n",
        "\n",
        "training_predictions = model.predict(X_train)\n",
        "print(classification_report(y_train,training_predictions, zero_division = 1))   \n",
        "\n",
        "print(accuracy_score(y_train, training_predictions))"
      ],
      "metadata": {
        "id": "yyWRJAlzo-43",
        "colab": {
          "base_uri": "https://localhost:8080/"
        },
        "outputId": "5029c6db-99bd-484f-cddb-3832a55f83ee"
      },
      "execution_count": null,
      "outputs": [
        {
          "output_type": "stream",
          "name": "stdout",
          "text": [
            "[1 0 1 0 0 0] [0 0 0 0 0 0]\n",
            "[[1 0 1 0 0 0]\n",
            " [0 0 0 0 0 0]]\n",
            "              precision    recall  f1-score   support\n",
            "\n",
            "           0       0.99      0.97      0.98      2052\n",
            "           1       1.00      0.87      0.93       223\n",
            "           2       1.00      0.97      0.98      1098\n",
            "           3       1.00      0.85      0.92        74\n",
            "           4       1.00      0.97      0.98      1031\n",
            "           5       0.99      0.91      0.95       182\n",
            "\n",
            "   micro avg       1.00      0.96      0.98      4660\n",
            "   macro avg       1.00      0.92      0.96      4660\n",
            "weighted avg       1.00      0.96      0.98      4660\n",
            " samples avg       1.00      1.00      1.00      4660\n",
            "\n",
            "0.9926649202190998\n"
          ]
        }
      ]
    },
    {
      "cell_type": "markdown",
      "source": [
        "On voit ici que nous avons une précision de 99% sur le jeu de données d'entraînement."
      ],
      "metadata": {
        "id": "k_VgD0w6A7dw"
      }
    },
    {
      "cell_type": "markdown",
      "source": [
        "Regardons maintenant les performances du modèle sur des données jamais rencontrées."
      ],
      "metadata": {
        "id": "_jUhEE2I__t7"
      }
    },
    {
      "cell_type": "code",
      "source": [
        "predictions = model.predict(X_test)\n",
        "print(classification_report(y_test,predictions, zero_division = 1))   \n",
        "\n",
        "accuracy0 = accuracy_score(y_test, predictions)\n",
        "print(\"accuracy: {}\".format(accuracy0))"
      ],
      "metadata": {
        "id": "86TfrwPyxSDq",
        "colab": {
          "base_uri": "https://localhost:8080/"
        },
        "outputId": "6e17f037-1ee6-4099-ec58-a19bcc3ab029"
      },
      "execution_count": null,
      "outputs": [
        {
          "output_type": "stream",
          "name": "stdout",
          "text": [
            "              precision    recall  f1-score   support\n",
            "\n",
            "           0       0.85      0.58      0.69       903\n",
            "           1       0.23      0.03      0.06        93\n",
            "           2       0.87      0.68      0.76       494\n",
            "           3       0.00      0.00      0.00        25\n",
            "           4       0.79      0.45      0.58       468\n",
            "           5       0.90      0.11      0.20        82\n",
            "\n",
            "   micro avg       0.84      0.52      0.64      2065\n",
            "   macro avg       0.61      0.31      0.38      2065\n",
            "weighted avg       0.81      0.52      0.62      2065\n",
            " samples avg       0.99      0.94      0.93      2065\n",
            "\n",
            "accuracy: 0.9085352300511225\n"
          ]
        }
      ]
    },
    {
      "cell_type": "markdown",
      "source": [
        "On remarque que nous avons une accuracy de 90%. Cela peut sembler correct mais on peut penser que, la dataset ayant en majorité des commentaires normaux, le modèle prédit qu'un commentaire est normal pour chaque type de commentaire."
      ],
      "metadata": {
        "id": "DN_K3-wXxWRC"
      }
    },
    {
      "cell_type": "code",
      "source": [
        "def analysePredictions(predictions, y_test):\n",
        "  num_col = len(predictions[0])\n",
        "  num_rows = len(predictions)\n",
        "\n",
        "  report = []\n",
        "\n",
        "  for label in range(num_col):\n",
        "    true_positive = false_positive = true_negative = false_negative = count = 0\n",
        "    for i in range(num_rows):\n",
        "      pred = predictions[i][label]\n",
        "      answer = y_test[i][label]\n",
        "      if pred == 1:\n",
        "        if answer == 1:\n",
        "          count += 1\n",
        "          true_positive += 1\n",
        "        else:\n",
        "          false_positive += 1\n",
        "      else:\n",
        "        if answer == 0:\n",
        "          true_negative += 1\n",
        "        else:\n",
        "          count += 1\n",
        "          false_negative += 1\n",
        "    report.append({\n",
        "        'COUNT': count,\n",
        "        'TP': true_positive,\n",
        "        'FP': false_positive,\n",
        "        'TN': true_negative,\n",
        "        'FN': false_negative\n",
        "    })\n",
        "  return report"
      ],
      "metadata": {
        "id": "yt2SiDX2xYl7"
      },
      "execution_count": null,
      "outputs": []
    },
    {
      "cell_type": "code",
      "source": [
        "report = analysePredictions(predictions, y_test)\n",
        "\n",
        "for i, label in enumerate(labels):\n",
        "  print(\n",
        "  \"\"\"\n",
        "  {}:\n",
        "      Count: {}\n",
        "      \n",
        "        -True positive: {}\n",
        "        -False positive: {}\n",
        "        -True negative: {}\n",
        "        -False negative: {} \n",
        "\n",
        "{}\n",
        "  \"\"\".format(label, report[i]['COUNT'], report[i]['TP'], report[i]['FP'], report[i]['TN'], report[i]['FN'], confusion_matrix(y_test[:, i], predictions[:,i]))#On a aussi la possibilité d'utiliser confusion_matrix pour déterminer ces valeurs\n",
        "  )"
      ],
      "metadata": {
        "id": "o0pXZ9qqyyLL",
        "colab": {
          "base_uri": "https://localhost:8080/"
        },
        "outputId": "8cf493db-b5c9-406d-814f-2b1db5b2c6f7"
      },
      "execution_count": null,
      "outputs": [
        {
          "output_type": "stream",
          "name": "stdout",
          "text": [
            "\n",
            "  toxic:\n",
            "      Count: 903\n",
            "      \n",
            "        -True positive: 522\n",
            "        -False positive: 89\n",
            "        -True negative: 8006\n",
            "        -False negative: 381 \n",
            "\n",
            "[[8006   89]\n",
            " [ 381  522]]\n",
            "  \n",
            "\n",
            "  severe_toxic:\n",
            "      Count: 93\n",
            "      \n",
            "        -True positive: 3\n",
            "        -False positive: 10\n",
            "        -True negative: 8895\n",
            "        -False negative: 90 \n",
            "\n",
            "[[8895   10]\n",
            " [  90    3]]\n",
            "  \n",
            "\n",
            "  obscene:\n",
            "      Count: 494\n",
            "      \n",
            "        -True positive: 335\n",
            "        -False positive: 52\n",
            "        -True negative: 8452\n",
            "        -False negative: 159 \n",
            "\n",
            "[[8452   52]\n",
            " [ 159  335]]\n",
            "  \n",
            "\n",
            "  threat:\n",
            "      Count: 25\n",
            "      \n",
            "        -True positive: 0\n",
            "        -False positive: 1\n",
            "        -True negative: 8972\n",
            "        -False negative: 25 \n",
            "\n",
            "[[8972    1]\n",
            " [  25    0]]\n",
            "  \n",
            "\n",
            "  insult:\n",
            "      Count: 468\n",
            "      \n",
            "        -True positive: 212\n",
            "        -False positive: 55\n",
            "        -True negative: 8475\n",
            "        -False negative: 256 \n",
            "\n",
            "[[8475   55]\n",
            " [ 256  212]]\n",
            "  \n",
            "\n",
            "  identity_hate:\n",
            "      Count: 82\n",
            "      \n",
            "        -True positive: 9\n",
            "        -False positive: 1\n",
            "        -True negative: 8915\n",
            "        -False negative: 73 \n",
            "\n",
            "[[8915    1]\n",
            " [  73    9]]\n",
            "  \n"
          ]
        }
      ]
    },
    {
      "cell_type": "markdown",
      "source": [
        "En analysant ces indicateurs, on se rend alors compte qu'en réalité, le modèle n'arrive pas à bien classer les commentaires toxiques en général, ceux qu'il n'a jamais rencontré.\n",
        "On voit notamment que nous avons beaucoup de faux négatifs.\n",
        "La méthode utilisant le tfidf ne semble pas être réellement performante pour de nouvelles données.\n",
        "En effet, le modèle ne semble pas être capable de généraliser."
      ],
      "metadata": {
        "id": "_LV5xeI7754P"
      }
    },
    {
      "cell_type": "markdown",
      "source": [
        "# Deep Learning <a name=\"DL\"></a>"
      ],
      "metadata": {
        "id": "dUoUF1XVuVMZ"
      }
    },
    {
      "cell_type": "markdown",
      "source": [
        "## Première approche \"*from scratch*\" <a name=\"FromScratch\"></a>"
      ],
      "metadata": {
        "id": "2a8IWbTFTHXh"
      }
    },
    {
      "cell_type": "markdown",
      "source": [
        "Nous allons maintenant tenter d'améliorer les performances de notre modèle en passant par un réseau de neurones.\n",
        "\n",
        "Nous avons pour objectif d'obtenir une précision d'au moins 90%."
      ],
      "metadata": {
        "id": "K8XHIfOnCO_R"
      }
    },
    {
      "cell_type": "markdown",
      "source": [
        "Hyperparamètres"
      ],
      "metadata": {
        "id": "pzjEU3y9CmS_"
      }
    },
    {
      "cell_type": "code",
      "source": [
        "embedding_dim = 100    # Dimensions used for glove6b100\n",
        "max_length = 70        # Maximum size of a comment\n",
        "truncating='post'      # Truncates the comment if it is longer than max_length\n",
        "padding='post'    # Adds padding to the end of the comment if it is shorter than max_length\n",
        "oov_token = \"<OOV>\"      # Token \"<OOV>\" replaces words that are not part of the vocabulary (Out Of Vocabulary)\n",
        "training_size=len(data)\n",
        "test_portion=.25"
      ],
      "metadata": {
        "id": "rVR0eCkoTQSI"
      },
      "execution_count": null,
      "outputs": []
    },
    {
      "cell_type": "code",
      "source": [
        "data = pd.read_csv('/content/drive/MyDrive/data_classification_commentaires_toxiques/train.csv')\n",
        "data = data.iloc[:50000, :]"
      ],
      "metadata": {
        "id": "sKUbv1u4zU-V"
      },
      "execution_count": null,
      "outputs": []
    },
    {
      "cell_type": "code",
      "source": [
        "%%time\n",
        "data['comment_text'] = data['comment_text'].apply(lambda s : prepare_string(s))\n",
        "\n",
        "# Drop empty values from dataframe\n",
        "data['comment_text'].replace('', np.nan, inplace=True)\n",
        "data.dropna(subset=['comment_text'], inplace=True)"
      ],
      "metadata": {
        "id": "epx8uQYbzIUt",
        "colab": {
          "base_uri": "https://localhost:8080/"
        },
        "outputId": "6d0e5beb-858d-4975-9fdb-7f19c25f07f5"
      },
      "execution_count": null,
      "outputs": [
        {
          "output_type": "stream",
          "name": "stdout",
          "text": [
            "CPU times: user 35.6 s, sys: 117 ms, total: 35.7 s\n",
            "Wall time: 35.7 s\n"
          ]
        }
      ]
    },
    {
      "cell_type": "code",
      "source": [
        "tokenizer = Tokenizer(oov_token=oov_token)\n",
        "tokenizer.fit_on_texts(data[\"comment_text\"])"
      ],
      "metadata": {
        "id": "Qca8GmCNJMl5"
      },
      "execution_count": null,
      "outputs": []
    },
    {
      "cell_type": "markdown",
      "source": [
        "On a maintenant un vecteur de mapping avec nos mots de notre vocabulaire"
      ],
      "metadata": {
        "id": "XqoaKJabJf6T"
      }
    },
    {
      "cell_type": "code",
      "source": [
        "word_index = tokenizer.word_index"
      ],
      "metadata": {
        "id": "WmGYM4wDJj-6"
      },
      "execution_count": null,
      "outputs": []
    },
    {
      "cell_type": "code",
      "source": [
        "vocab_size = len(tokenizer.word_index)\n",
        "print(vocab_size)"
      ],
      "metadata": {
        "id": "RVn--yvgMzZA",
        "colab": {
          "base_uri": "https://localhost:8080/"
        },
        "outputId": "52239a25-0185-4bd1-bd34-3e23957c986b"
      },
      "execution_count": null,
      "outputs": [
        {
          "output_type": "stream",
          "name": "stdout",
          "text": [
            "103948\n"
          ]
        }
      ]
    },
    {
      "cell_type": "code",
      "source": [
        "sequences = tokenizer.texts_to_sequences(data[\"comment_text\"])\n",
        "x = pad_sequences(sequences, truncating=truncating, padding=padding, maxlen=max_length)\n",
        "#x = np.asarray(x).astype(np.float32)"
      ],
      "metadata": {
        "id": "xSVFYxX7KCR4"
      },
      "execution_count": null,
      "outputs": []
    },
    {
      "cell_type": "code",
      "source": [
        "sequences[0]"
      ],
      "metadata": {
        "id": "N_68MFukKJIn",
        "colab": {
          "base_uri": "https://localhost:8080/"
        },
        "outputId": "48a4621e-c3b7-4ab2-df26-4caa5a089813"
      },
      "execution_count": null,
      "outputs": [
        {
          "output_type": "execute_result",
          "data": {
            "text/plain": [
              "[555,\n",
              " 127,\n",
              " 49,\n",
              " 50,\n",
              " 508,\n",
              " 4795,\n",
              " 10274,\n",
              " 671,\n",
              " 214,\n",
              " 218,\n",
              " 8921,\n",
              " 5611,\n",
              " 2351,\n",
              " 2701,\n",
              " 40,\n",
              " 941,\n",
              " 12404,\n",
              " 2433,\n",
              " 23,\n",
              " 9,\n",
              " 149,\n",
              " 332,\n",
              " 8,\n",
              " 4,\n",
              " 59,\n",
              " 3498]"
            ]
          },
          "metadata": {},
          "execution_count": 135
        }
      ]
    },
    {
      "cell_type": "markdown",
      "source": [
        "### Initialisation du modèle"
      ],
      "metadata": {
        "id": "KYrKBi1MNBqv"
      }
    },
    {
      "cell_type": "markdown",
      "source": [
        "Nous allons dans un premier temps créer un modèle à partir de rien."
      ],
      "metadata": {
        "id": "DoRUCu_4NH4i"
      }
    },
    {
      "cell_type": "code",
      "source": [
        "tf.keras.utils.set_random_seed(123)\n",
        "\n",
        "model = tf.keras.Sequential(\n",
        "    [\n",
        "     tf.keras.layers.Embedding(input_dim=vocab_size+1, output_dim=embedding_dim, input_length=max_length),\n",
        "     tf.keras.layers.GRU(64),\n",
        "     tf.keras.layers.Dense(len(labels), activation='sigmoid')\n",
        "    ]\n",
        ")\n",
        "\n",
        "model.compile(loss='binary_crossentropy', optimizer=Adam(learning_rate=0.005),metrics=['accuracy'])\n",
        "\n",
        "model.summary()"
      ],
      "metadata": {
        "id": "sPmMJ-_hKMPk",
        "colab": {
          "base_uri": "https://localhost:8080/"
        },
        "outputId": "1af217ce-9c63-41b8-9598-57210d2bec69"
      },
      "execution_count": null,
      "outputs": [
        {
          "output_type": "stream",
          "name": "stdout",
          "text": [
            "Model: \"sequential_6\"\n",
            "_________________________________________________________________\n",
            " Layer (type)                Output Shape              Param #   \n",
            "=================================================================\n",
            " embedding_6 (Embedding)     (None, 70, 100)           10394900  \n",
            "                                                                 \n",
            " gru_4 (GRU)                 (None, 64)                31872     \n",
            "                                                                 \n",
            " dense_6 (Dense)             (None, 6)                 390       \n",
            "                                                                 \n",
            "=================================================================\n",
            "Total params: 10,427,162\n",
            "Trainable params: 10,427,162\n",
            "Non-trainable params: 0\n",
            "_________________________________________________________________\n"
          ]
        }
      ]
    },
    {
      "cell_type": "markdown",
      "source": [
        "On a notre modèle. Il faut maintenant l'entraîner."
      ],
      "metadata": {
        "id": "xWVZpUVgP0df"
      }
    },
    {
      "cell_type": "code",
      "source": [
        "num_epochs = 30"
      ],
      "metadata": {
        "id": "6Z691LquQYIa"
      },
      "execution_count": null,
      "outputs": []
    },
    {
      "cell_type": "markdown",
      "source": [
        "On définit nos ensembles d'entraînement et de test."
      ],
      "metadata": {
        "id": "EVDBzzvYQxTj"
      }
    },
    {
      "cell_type": "code",
      "source": [
        "y = data.drop(columns=[\"comment_text\", \"id\"]).values[:len(x)]\n",
        "X_train, X_test, y_train, y_test = train_test_split(x, y, test_size=test_portion)"
      ],
      "metadata": {
        "id": "4E4KaGebQYsM"
      },
      "execution_count": null,
      "outputs": []
    },
    {
      "cell_type": "markdown",
      "source": [
        "On entraîne le modèle."
      ],
      "metadata": {
        "id": "9aKfBH9cRbLt"
      }
    },
    {
      "cell_type": "code",
      "source": [
        "history = model.fit(np.array(X_train), np.array(y_train), batch_size=256, epochs = num_epochs, validation_data = (np.array(X_test), np.array(y_test)) ,verbose=1)\n",
        "print(\"Training Complete\")"
      ],
      "metadata": {
        "id": "WocmfnvURdJV",
        "colab": {
          "base_uri": "https://localhost:8080/"
        },
        "outputId": "151232ca-85a1-4aef-ac59-353c39fa1775"
      },
      "execution_count": null,
      "outputs": [
        {
          "output_type": "stream",
          "name": "stdout",
          "text": [
            "Epoch 1/30\n",
            "147/147 [==============================] - 7s 30ms/step - loss: 0.1580 - accuracy: 0.9259 - val_loss: 0.1170 - val_accuracy: 0.9868\n",
            "Epoch 2/30\n",
            "147/147 [==============================] - 4s 26ms/step - loss: 0.0666 - accuracy: 0.9782 - val_loss: 0.0566 - val_accuracy: 0.9951\n",
            "Epoch 3/30\n",
            "147/147 [==============================] - 4s 26ms/step - loss: 0.0410 - accuracy: 0.9459 - val_loss: 0.0556 - val_accuracy: 0.9690\n",
            "Epoch 4/30\n",
            "147/147 [==============================] - 4s 28ms/step - loss: 0.0304 - accuracy: 0.9420 - val_loss: 0.0609 - val_accuracy: 0.9359\n",
            "Epoch 5/30\n",
            "147/147 [==============================] - 4s 26ms/step - loss: 0.0243 - accuracy: 0.9084 - val_loss: 0.0663 - val_accuracy: 0.9091\n",
            "Epoch 6/30\n",
            "147/147 [==============================] - 4s 26ms/step - loss: 0.0194 - accuracy: 0.8396 - val_loss: 0.0736 - val_accuracy: 0.8580\n",
            "Epoch 7/30\n",
            "147/147 [==============================] - 4s 26ms/step - loss: 0.0149 - accuracy: 0.7435 - val_loss: 0.0772 - val_accuracy: 0.6378\n",
            "Epoch 8/30\n",
            "147/147 [==============================] - 4s 27ms/step - loss: 0.0109 - accuracy: 0.4949 - val_loss: 0.0854 - val_accuracy: 0.7341\n",
            "Epoch 9/30\n",
            "147/147 [==============================] - 4s 25ms/step - loss: 0.0080 - accuracy: 0.5567 - val_loss: 0.0954 - val_accuracy: 0.6459\n",
            "Epoch 10/30\n",
            "147/147 [==============================] - 4s 26ms/step - loss: 0.0062 - accuracy: 0.4461 - val_loss: 0.0974 - val_accuracy: 0.5193\n",
            "Epoch 11/30\n",
            "147/147 [==============================] - 4s 26ms/step - loss: 0.0050 - accuracy: 0.5902 - val_loss: 0.1042 - val_accuracy: 0.7263\n",
            "Epoch 12/30\n",
            "147/147 [==============================] - 4s 26ms/step - loss: 0.0037 - accuracy: 0.5016 - val_loss: 0.1109 - val_accuracy: 0.5772\n",
            "Epoch 13/30\n",
            "147/147 [==============================] - 4s 26ms/step - loss: 0.0029 - accuracy: 0.4496 - val_loss: 0.1160 - val_accuracy: 0.4253\n",
            "Epoch 14/30\n",
            "147/147 [==============================] - 4s 26ms/step - loss: 0.0023 - accuracy: 0.3362 - val_loss: 0.1201 - val_accuracy: 0.3671\n",
            "Epoch 15/30\n",
            "147/147 [==============================] - 4s 26ms/step - loss: 0.0019 - accuracy: 0.2735 - val_loss: 0.1214 - val_accuracy: 0.2840\n",
            "Epoch 16/30\n",
            "147/147 [==============================] - 4s 26ms/step - loss: 0.0018 - accuracy: 0.3142 - val_loss: 0.1259 - val_accuracy: 0.6211\n",
            "Epoch 17/30\n",
            "147/147 [==============================] - 4s 26ms/step - loss: 0.0014 - accuracy: 0.3591 - val_loss: 0.1294 - val_accuracy: 0.4994\n",
            "Epoch 18/30\n",
            "147/147 [==============================] - 4s 27ms/step - loss: 0.0012 - accuracy: 0.4430 - val_loss: 0.1332 - val_accuracy: 0.4255\n",
            "Epoch 19/30\n",
            "147/147 [==============================] - 4s 25ms/step - loss: 9.5807e-04 - accuracy: 0.3641 - val_loss: 0.1362 - val_accuracy: 0.4572\n",
            "Epoch 20/30\n",
            "147/147 [==============================] - 4s 26ms/step - loss: 9.4783e-04 - accuracy: 0.4444 - val_loss: 0.1455 - val_accuracy: 0.5217\n",
            "Epoch 21/30\n",
            "147/147 [==============================] - 4s 26ms/step - loss: 0.0013 - accuracy: 0.4026 - val_loss: 0.1413 - val_accuracy: 0.5427\n",
            "Epoch 22/30\n",
            "147/147 [==============================] - 4s 26ms/step - loss: 0.0017 - accuracy: 0.4524 - val_loss: 0.1374 - val_accuracy: 0.3856\n",
            "Epoch 23/30\n",
            "147/147 [==============================] - 4s 26ms/step - loss: 0.0026 - accuracy: 0.4136 - val_loss: 0.1342 - val_accuracy: 0.5364\n",
            "Epoch 24/30\n",
            "147/147 [==============================] - 4s 26ms/step - loss: 0.0023 - accuracy: 0.3979 - val_loss: 0.1333 - val_accuracy: 0.5802\n",
            "Epoch 25/30\n",
            "147/147 [==============================] - 4s 26ms/step - loss: 0.0016 - accuracy: 0.4227 - val_loss: 0.1409 - val_accuracy: 0.3814\n",
            "Epoch 26/30\n",
            "147/147 [==============================] - 4s 26ms/step - loss: 0.0012 - accuracy: 0.4483 - val_loss: 0.1446 - val_accuracy: 0.3405\n",
            "Epoch 27/30\n",
            "147/147 [==============================] - 4s 26ms/step - loss: 8.2086e-04 - accuracy: 0.3394 - val_loss: 0.1496 - val_accuracy: 0.5216\n",
            "Epoch 28/30\n",
            "147/147 [==============================] - 4s 26ms/step - loss: 6.3512e-04 - accuracy: 0.3984 - val_loss: 0.1532 - val_accuracy: 0.4476\n",
            "Epoch 29/30\n",
            "147/147 [==============================] - 4s 26ms/step - loss: 5.4091e-04 - accuracy: 0.3839 - val_loss: 0.1555 - val_accuracy: 0.4748\n",
            "Epoch 30/30\n",
            "147/147 [==============================] - 4s 26ms/step - loss: 4.8581e-04 - accuracy: 0.3860 - val_loss: 0.1579 - val_accuracy: 0.4535\n",
            "Training Complete\n"
          ]
        }
      ]
    },
    {
      "cell_type": "code",
      "source": [
        "predictions = model.predict(X_test)\n",
        "predictions = (predictions >= .5)\n",
        "accuracy1 = accuracy_score(y_test, predictions)\n",
        "print(\"accuracy: {}\".format(accuracy1))\n",
        "\n",
        "report = analysePredictions(predictions, y_test)\n",
        "\n",
        "for i, label in enumerate(labels):\n",
        "  print(\n",
        "  \"\"\"\n",
        "{}:\n",
        "    Count: {}\n",
        "      \n",
        "      -True positive: {}\n",
        "      -False positive: {}\n",
        "      -True negative: {}\n",
        "      -False negative: {} \n",
        "\n",
        "{}\n",
        "  \"\"\".format(label, report[i]['COUNT'], report[i]['TP'], report[i]['FP'], report[i]['TN'], report[i]['FN'], confusion_matrix(y_test[:, i], predictions[:,i]))#On a aussi la possibilité d'utiliser confusion_matrix pour déterminer ces valeurs\n",
        "  )"
      ],
      "metadata": {
        "id": "_hx_8HZ7tWpn",
        "colab": {
          "base_uri": "https://localhost:8080/"
        },
        "outputId": "5c17330a-dcbf-4b2e-c874-0c56a4e451c3"
      },
      "execution_count": null,
      "outputs": [
        {
          "output_type": "stream",
          "name": "stdout",
          "text": [
            "accuracy: 0.8990157637833079\n",
            "\n",
            "toxic:\n",
            "    Count: 1234\n",
            "      \n",
            "      -True positive: 848\n",
            "      -False positive: 315\n",
            "      -True negative: 10948\n",
            "      -False negative: 386 \n",
            "\n",
            "[[10948   315]\n",
            " [  386   848]]\n",
            "  \n",
            "\n",
            "severe_toxic:\n",
            "    Count: 130\n",
            "      \n",
            "      -True positive: 50\n",
            "      -False positive: 49\n",
            "      -True negative: 12318\n",
            "      -False negative: 80 \n",
            "\n",
            "[[12318    49]\n",
            " [   80    50]]\n",
            "  \n",
            "\n",
            "obscene:\n",
            "    Count: 637\n",
            "      \n",
            "      -True positive: 451\n",
            "      -False positive: 122\n",
            "      -True negative: 11738\n",
            "      -False negative: 186 \n",
            "\n",
            "[[11738   122]\n",
            " [  186   451]]\n",
            "  \n",
            "\n",
            "threat:\n",
            "    Count: 44\n",
            "      \n",
            "      -True positive: 9\n",
            "      -False positive: 16\n",
            "      -True negative: 12437\n",
            "      -False negative: 35 \n",
            "\n",
            "[[12437    16]\n",
            " [   35     9]]\n",
            "  \n",
            "\n",
            "insult:\n",
            "    Count: 617\n",
            "      \n",
            "      -True positive: 352\n",
            "      -False positive: 142\n",
            "      -True negative: 11738\n",
            "      -False negative: 265 \n",
            "\n",
            "[[11738   142]\n",
            " [  265   352]]\n",
            "  \n",
            "\n",
            "identity_hate:\n",
            "    Count: 108\n",
            "      \n",
            "      -True positive: 35\n",
            "      -False positive: 36\n",
            "      -True negative: 12353\n",
            "      -False negative: 73 \n",
            "\n",
            "[[12353    36]\n",
            " [   73    35]]\n",
            "  \n"
          ]
        }
      ]
    },
    {
      "cell_type": "markdown",
      "source": [
        "On remarque ici que notre modèle basé sur un réseau de neurones avec une couche d'embeddings, une couche LSTM et une simple couche dense de sortie nous permet d'avoir une précision de l'ordre de 90%, comme un modèle de machine learning classique.\n",
        "On voit aussi que nous avons encore un grand nombre de faux négatifs sur les classes peu représentées."
      ],
      "metadata": {
        "id": "s6GhNBX6iLNm"
      }
    },
    {
      "cell_type": "markdown",
      "source": [
        "## Avec une couche d'embedding déjà entrainée <a name=\"GloVe\"></a>"
      ],
      "metadata": {
        "id": "xjHb2RD5wGcO"
      }
    },
    {
      "cell_type": "markdown",
      "source": [
        "Nous allons maintenant essayer d'améliorer notre modèle précédent à l'aide d'une couche d'embedding déjà entraînée"
      ],
      "metadata": {
        "id": "nU_1KuFNwJxk"
      }
    },
    {
      "cell_type": "code",
      "source": [
        "embeddings_index = {};\n",
        "\n",
        "with open('/content/drive/MyDrive/RNN_sentiment_dataset/glove.6B.100d.txt') as f:\n",
        "    for line in f:\n",
        "        values = line.split();\n",
        "        word = values[0];\n",
        "        coefs = np.asarray(values[1:], dtype='float32');\n",
        "        embeddings_index[word] = coefs;\n",
        "\n",
        "embeddings_matrix = np.zeros((vocab_size+1, embedding_dim));\n",
        "for word, i in word_index.items():\n",
        "    embedding_vector = embeddings_index.get(word);\n",
        "    if embedding_vector is not None:\n",
        "        embeddings_matrix[i] = embedding_vector;"
      ],
      "metadata": {
        "id": "fHTifX4nwSLC"
      },
      "execution_count": null,
      "outputs": []
    },
    {
      "cell_type": "markdown",
      "source": [
        "Initialisation du modèle"
      ],
      "metadata": {
        "id": "yaQ4Q3F0wmc4"
      }
    },
    {
      "cell_type": "code",
      "source": [
        "tf.keras.utils.set_random_seed(123)\n",
        "model_emb = tf.keras.Sequential(\n",
        "    [\n",
        "     tf.keras.layers.Embedding(input_dim=vocab_size+1, output_dim=embedding_dim, input_length=max_length, weights=[embeddings_matrix], trainable=False),\n",
        "     tf.keras.layers.GRU(64),\n",
        "     tf.keras.layers.Dense(len(labels), activation='sigmoid')\n",
        "    ]\n",
        ")"
      ],
      "metadata": {
        "id": "Zk1Lw0QjwmJS"
      },
      "execution_count": null,
      "outputs": []
    },
    {
      "cell_type": "markdown",
      "source": [
        "Compilation du modèle"
      ],
      "metadata": {
        "id": "bK6avdILw19W"
      }
    },
    {
      "cell_type": "code",
      "source": [
        "model_emb.compile(loss='binary_crossentropy', optimizer=Adam(learning_rate=0.005),metrics=['accuracy'])"
      ],
      "metadata": {
        "id": "ItTawUlIwsJK"
      },
      "execution_count": null,
      "outputs": []
    },
    {
      "cell_type": "code",
      "source": [
        "model_emb.summary()"
      ],
      "metadata": {
        "id": "XvnsXl-nw99d",
        "colab": {
          "base_uri": "https://localhost:8080/"
        },
        "outputId": "e2c73ece-5d38-4466-fc3b-6d352ec62b7c"
      },
      "execution_count": null,
      "outputs": [
        {
          "output_type": "stream",
          "name": "stdout",
          "text": [
            "Model: \"sequential_7\"\n",
            "_________________________________________________________________\n",
            " Layer (type)                Output Shape              Param #   \n",
            "=================================================================\n",
            " embedding_7 (Embedding)     (None, 70, 100)           10394900  \n",
            "                                                                 \n",
            " gru_5 (GRU)                 (None, 64)                31872     \n",
            "                                                                 \n",
            " dense_7 (Dense)             (None, 6)                 390       \n",
            "                                                                 \n",
            "=================================================================\n",
            "Total params: 10,427,162\n",
            "Trainable params: 32,262\n",
            "Non-trainable params: 10,394,900\n",
            "_________________________________________________________________\n"
          ]
        }
      ]
    },
    {
      "cell_type": "markdown",
      "source": [
        "Entraînement du modèle"
      ],
      "metadata": {
        "id": "Kh4VAMelxDZD"
      }
    },
    {
      "cell_type": "code",
      "source": [
        "history = model_emb.fit(np.array(X_train), np.array(y_train), batch_size=256, epochs = num_epochs, validation_data = (np.array(X_test), np.array(y_test)) ,verbose=1)\n",
        "  \n",
        "print(\"Training Complete\")"
      ],
      "metadata": {
        "id": "GiTsHyxAxE7E",
        "colab": {
          "base_uri": "https://localhost:8080/"
        },
        "outputId": "d1d11808-30df-4c45-8bb2-03792e4b8504"
      },
      "execution_count": null,
      "outputs": [
        {
          "output_type": "stream",
          "name": "stdout",
          "text": [
            "Epoch 1/30\n",
            "147/147 [==============================] - 6s 28ms/step - loss: 0.1203 - accuracy: 0.8640 - val_loss: 0.0612 - val_accuracy: 0.9952\n",
            "Epoch 2/30\n",
            "147/147 [==============================] - 3s 23ms/step - loss: 0.0581 - accuracy: 0.9843 - val_loss: 0.0552 - val_accuracy: 0.9925\n",
            "Epoch 3/30\n",
            "147/147 [==============================] - 3s 23ms/step - loss: 0.0525 - accuracy: 0.9599 - val_loss: 0.0533 - val_accuracy: 0.9850\n",
            "Epoch 4/30\n",
            "147/147 [==============================] - 3s 24ms/step - loss: 0.0483 - accuracy: 0.9702 - val_loss: 0.0526 - val_accuracy: 0.9742\n",
            "Epoch 5/30\n",
            "147/147 [==============================] - 3s 23ms/step - loss: 0.0451 - accuracy: 0.9671 - val_loss: 0.0525 - val_accuracy: 0.8851\n",
            "Epoch 6/30\n",
            "147/147 [==============================] - 3s 23ms/step - loss: 0.0417 - accuracy: 0.9530 - val_loss: 0.0554 - val_accuracy: 0.9731\n",
            "Epoch 7/30\n",
            "147/147 [==============================] - 3s 23ms/step - loss: 0.0386 - accuracy: 0.9614 - val_loss: 0.0544 - val_accuracy: 0.9634\n",
            "Epoch 8/30\n",
            "147/147 [==============================] - 3s 23ms/step - loss: 0.0359 - accuracy: 0.9558 - val_loss: 0.0565 - val_accuracy: 0.8841\n",
            "Epoch 9/30\n",
            "147/147 [==============================] - 3s 23ms/step - loss: 0.0354 - accuracy: 0.9060 - val_loss: 0.0560 - val_accuracy: 0.9774\n",
            "Epoch 10/30\n",
            "147/147 [==============================] - 3s 23ms/step - loss: 0.0314 - accuracy: 0.9559 - val_loss: 0.0622 - val_accuracy: 0.9422\n",
            "Epoch 11/30\n",
            "147/147 [==============================] - 3s 23ms/step - loss: 0.0286 - accuracy: 0.9323 - val_loss: 0.0618 - val_accuracy: 0.9044\n",
            "Epoch 12/30\n",
            "147/147 [==============================] - 3s 23ms/step - loss: 0.0264 - accuracy: 0.9238 - val_loss: 0.0667 - val_accuracy: 0.8825\n",
            "Epoch 13/30\n",
            "147/147 [==============================] - 3s 23ms/step - loss: 0.0251 - accuracy: 0.8743 - val_loss: 0.0684 - val_accuracy: 0.8807\n",
            "Epoch 14/30\n",
            "147/147 [==============================] - 3s 23ms/step - loss: 0.0230 - accuracy: 0.8662 - val_loss: 0.0738 - val_accuracy: 0.8511\n",
            "Epoch 15/30\n",
            "147/147 [==============================] - 3s 23ms/step - loss: 0.0215 - accuracy: 0.8575 - val_loss: 0.0743 - val_accuracy: 0.8909\n",
            "Epoch 16/30\n",
            "147/147 [==============================] - 4s 24ms/step - loss: 0.0203 - accuracy: 0.8253 - val_loss: 0.0766 - val_accuracy: 0.9229\n",
            "Epoch 17/30\n",
            "147/147 [==============================] - 3s 23ms/step - loss: 0.0192 - accuracy: 0.8329 - val_loss: 0.0830 - val_accuracy: 0.6644\n",
            "Epoch 18/30\n",
            "147/147 [==============================] - 3s 23ms/step - loss: 0.0176 - accuracy: 0.7462 - val_loss: 0.0826 - val_accuracy: 0.6485\n",
            "Epoch 19/30\n",
            "147/147 [==============================] - 3s 23ms/step - loss: 0.0165 - accuracy: 0.7543 - val_loss: 0.0843 - val_accuracy: 0.7156\n",
            "Epoch 20/30\n",
            "147/147 [==============================] - 4s 25ms/step - loss: 0.0159 - accuracy: 0.6854 - val_loss: 0.0882 - val_accuracy: 0.6981\n",
            "Epoch 21/30\n",
            "147/147 [==============================] - 3s 23ms/step - loss: 0.0155 - accuracy: 0.7364 - val_loss: 0.0904 - val_accuracy: 0.7822\n",
            "Epoch 22/30\n",
            "147/147 [==============================] - 3s 23ms/step - loss: 0.0138 - accuracy: 0.6536 - val_loss: 0.0956 - val_accuracy: 0.6186\n",
            "Epoch 23/30\n",
            "147/147 [==============================] - 3s 23ms/step - loss: 0.0124 - accuracy: 0.6480 - val_loss: 0.0951 - val_accuracy: 0.6366\n",
            "Epoch 24/30\n",
            "147/147 [==============================] - 3s 23ms/step - loss: 0.0124 - accuracy: 0.6382 - val_loss: 0.0996 - val_accuracy: 0.5606\n",
            "Epoch 25/30\n",
            "147/147 [==============================] - 3s 23ms/step - loss: 0.0125 - accuracy: 0.6404 - val_loss: 0.0985 - val_accuracy: 0.6117\n",
            "Epoch 26/30\n",
            "147/147 [==============================] - 3s 23ms/step - loss: 0.0118 - accuracy: 0.6551 - val_loss: 0.1006 - val_accuracy: 0.6771\n",
            "Epoch 27/30\n",
            "147/147 [==============================] - 4s 24ms/step - loss: 0.0106 - accuracy: 0.6843 - val_loss: 0.1078 - val_accuracy: 0.7219\n",
            "Epoch 28/30\n",
            "147/147 [==============================] - 3s 23ms/step - loss: 0.0096 - accuracy: 0.6227 - val_loss: 0.1096 - val_accuracy: 0.5612\n",
            "Epoch 29/30\n",
            "147/147 [==============================] - 3s 23ms/step - loss: 0.0095 - accuracy: 0.6076 - val_loss: 0.1124 - val_accuracy: 0.5934\n",
            "Epoch 30/30\n",
            "147/147 [==============================] - 4s 25ms/step - loss: 0.0095 - accuracy: 0.6124 - val_loss: 0.1149 - val_accuracy: 0.6794\n",
            "Training Complete\n"
          ]
        }
      ]
    },
    {
      "cell_type": "code",
      "source": [
        "predictions = model_emb.predict(X_test)\n",
        "predictions = (predictions >= .5)\n",
        "accuracy2 = accuracy_score(y_test, predictions)\n",
        "print(\"accuracy: {}\".format(accuracy2))\n",
        "\n",
        "report = analysePredictions(predictions, y_test)\n",
        "\n",
        "for i, label in enumerate(labels):\n",
        "  print(\n",
        "  \"\"\"\n",
        "{}:\n",
        "    Count: {}\n",
        "      \n",
        "      -True positive: {}\n",
        "      -False positive: {}\n",
        "      -True negative: {}\n",
        "      -False negative: {} \n",
        "\n",
        "{}\n",
        "  \"\"\".format(label, report[i]['COUNT'], report[i]['TP'], report[i]['FP'], report[i]['TN'], report[i]['FN'], confusion_matrix(y_test[:, i], predictions[:,i]))#On a aussi la possibilité d'utiliser confusion_matrix pour déterminer ces valeurs\n",
        "  )"
      ],
      "metadata": {
        "id": "mzap8CtvxFwr",
        "colab": {
          "base_uri": "https://localhost:8080/"
        },
        "outputId": "02cfa7ec-b219-412d-c40d-da8fe34eea59"
      },
      "execution_count": null,
      "outputs": [
        {
          "output_type": "stream",
          "name": "stdout",
          "text": [
            "accuracy: 0.9012563015123629\n",
            "\n",
            "toxic:\n",
            "    Count: 1234\n",
            "      \n",
            "      -True positive: 872\n",
            "      -False positive: 287\n",
            "      -True negative: 10976\n",
            "      -False negative: 362 \n",
            "\n",
            "[[10976   287]\n",
            " [  362   872]]\n",
            "  \n",
            "\n",
            "severe_toxic:\n",
            "    Count: 130\n",
            "      \n",
            "      -True positive: 32\n",
            "      -False positive: 33\n",
            "      -True negative: 12334\n",
            "      -False negative: 98 \n",
            "\n",
            "[[12334    33]\n",
            " [   98    32]]\n",
            "  \n",
            "\n",
            "obscene:\n",
            "    Count: 637\n",
            "      \n",
            "      -True positive: 437\n",
            "      -False positive: 120\n",
            "      -True negative: 11740\n",
            "      -False negative: 200 \n",
            "\n",
            "[[11740   120]\n",
            " [  200   437]]\n",
            "  \n",
            "\n",
            "threat:\n",
            "    Count: 44\n",
            "      \n",
            "      -True positive: 5\n",
            "      -False positive: 13\n",
            "      -True negative: 12440\n",
            "      -False negative: 39 \n",
            "\n",
            "[[12440    13]\n",
            " [   39     5]]\n",
            "  \n",
            "\n",
            "insult:\n",
            "    Count: 617\n",
            "      \n",
            "      -True positive: 312\n",
            "      -False positive: 124\n",
            "      -True negative: 11756\n",
            "      -False negative: 305 \n",
            "\n",
            "[[11756   124]\n",
            " [  305   312]]\n",
            "  \n",
            "\n",
            "identity_hate:\n",
            "    Count: 108\n",
            "      \n",
            "      -True positive: 38\n",
            "      -False positive: 34\n",
            "      -True negative: 12355\n",
            "      -False negative: 70 \n",
            "\n",
            "[[12355    34]\n",
            " [   70    38]]\n",
            "  \n"
          ]
        }
      ]
    },
    {
      "cell_type": "code",
      "source": [
        "print(\"Accuracy du modèle baseline: {}\".format(accuracy0))\n",
        "print(\"Accuracy du modèle DL from scratch: {}\".format(accuracy1))\n",
        "print(\"Accuracy du modèle DL avec couche d'embedding entrainée: {}\".format(accuracy2))"
      ],
      "metadata": {
        "id": "vytuPlAuwJEB",
        "outputId": "503651d1-0e2d-4b69-d67b-22336493c732",
        "colab": {
          "base_uri": "https://localhost:8080/"
        }
      },
      "execution_count": null,
      "outputs": [
        {
          "output_type": "stream",
          "name": "stdout",
          "text": [
            "Accuracy du modèle baseline: 0.9085352300511225\n",
            "Accuracy du modèle DL from scratch: 0.8990157637833079\n",
            "Accuracy du modèle DL avec couche d'embedding entrainée: 0.9012563015123629\n"
          ]
        }
      ]
    },
    {
      "cell_type": "markdown",
      "source": [
        "On remarque que l'ajout d'une couche d'embedding déjà entrainée de permet pas d'obtenir une meilleure précision. \n",
        "On peut donc garder notre premier modèle de Deep Learning sans problème."
      ],
      "metadata": {
        "id": "lQu5lxBKEy2n"
      }
    },
    {
      "cell_type": "markdown",
      "source": [
        "Ci-dessous une tentative d'amélioration du modèle."
      ],
      "metadata": {
        "id": "_X-bMQgROjUj"
      }
    },
    {
      "cell_type": "markdown",
      "source": [
        "## LSTM Bidirectionnel et dropout <a name=\"Bidirectionnal\">"
      ],
      "metadata": {
        "id": "nBBiPXWNxf7D"
      }
    },
    {
      "cell_type": "markdown",
      "source": [
        "On essaye ici d'améliorer le modèle en le rendant moins susceptible à l'overfit grâce au dropout.\n",
        "On utilise aussi une couche LSTM bidirectionnelle pour essayer d'avoir une meilleure compréhension des commentaires en ayant aussi des informations futures."
      ],
      "metadata": {
        "id": "vv_-amwxXH2h"
      }
    },
    {
      "cell_type": "code",
      "source": [
        "model_drop = tf.keras.Sequential(\n",
        "    [\n",
        "     tf.keras.layers.Embedding(input_dim=vocab_size+1, output_dim=embedding_dim, input_length=max_length, weights=[embeddings_matrix], trainable=False),\n",
        "     tf.keras.layers.Dropout(.4),\n",
        "     tf.keras.layers.Bidirectional(tf.keras.layers.LSTM(128)),\n",
        "     tf.keras.layers.Dense(len(labels), activation='sigmoid')\n",
        "    ]\n",
        ")\n",
        "\n",
        "model_drop.compile(loss='binary_crossentropy', optimizer=Adam(learning_rate=0.001),metrics=['accuracy'])"
      ],
      "metadata": {
        "id": "k1ne0o3Lydev"
      },
      "execution_count": null,
      "outputs": []
    },
    {
      "cell_type": "code",
      "source": [
        "model_drop.summary()"
      ],
      "metadata": {
        "id": "t9lCFJXMy_UN",
        "outputId": "15769467-87fb-4589-d00a-d4b0532b7c18",
        "colab": {
          "base_uri": "https://localhost:8080/"
        }
      },
      "execution_count": null,
      "outputs": [
        {
          "output_type": "stream",
          "name": "stdout",
          "text": [
            "Model: \"sequential_8\"\n",
            "_________________________________________________________________\n",
            " Layer (type)                Output Shape              Param #   \n",
            "=================================================================\n",
            " embedding_8 (Embedding)     (None, 70, 100)           10394900  \n",
            "                                                                 \n",
            " dropout_2 (Dropout)         (None, 70, 100)           0         \n",
            "                                                                 \n",
            " bidirectional_2 (Bidirectio  (None, 256)              234496    \n",
            " nal)                                                            \n",
            "                                                                 \n",
            " dense_8 (Dense)             (None, 6)                 1542      \n",
            "                                                                 \n",
            "=================================================================\n",
            "Total params: 10,630,938\n",
            "Trainable params: 236,038\n",
            "Non-trainable params: 10,394,900\n",
            "_________________________________________________________________\n"
          ]
        }
      ]
    },
    {
      "cell_type": "code",
      "source": [
        "history = model_drop.fit(np.array(X_train), np.array(y_train), batch_size=256, epochs = 60, validation_data = (np.array(X_test), np.array(y_test)) ,verbose=1)\n",
        "  \n",
        "print(\"Training Complete\")"
      ],
      "metadata": {
        "id": "nhDixAQwzC6k",
        "outputId": "b39c6307-06c4-416b-8d85-25cad504c70f",
        "colab": {
          "base_uri": "https://localhost:8080/"
        }
      },
      "execution_count": null,
      "outputs": [
        {
          "output_type": "stream",
          "name": "stdout",
          "text": [
            "Epoch 1/60\n",
            "147/147 [==============================] - 13s 56ms/step - loss: 0.1350 - accuracy: 0.8626 - val_loss: 0.0800 - val_accuracy: 0.9948\n",
            "Epoch 2/60\n",
            "147/147 [==============================] - 7s 49ms/step - loss: 0.0797 - accuracy: 0.9941 - val_loss: 0.0692 - val_accuracy: 0.9952\n",
            "Epoch 3/60\n",
            "147/147 [==============================] - 7s 49ms/step - loss: 0.0712 - accuracy: 0.9942 - val_loss: 0.0641 - val_accuracy: 0.9952\n",
            "Epoch 4/60\n",
            "147/147 [==============================] - 7s 48ms/step - loss: 0.0675 - accuracy: 0.9933 - val_loss: 0.0612 - val_accuracy: 0.9940\n",
            "Epoch 5/60\n",
            "147/147 [==============================] - 7s 48ms/step - loss: 0.0656 - accuracy: 0.9918 - val_loss: 0.0596 - val_accuracy: 0.9888\n",
            "Epoch 6/60\n",
            "147/147 [==============================] - 7s 48ms/step - loss: 0.0642 - accuracy: 0.9880 - val_loss: 0.0589 - val_accuracy: 0.9952\n",
            "Epoch 7/60\n",
            "147/147 [==============================] - 7s 48ms/step - loss: 0.0620 - accuracy: 0.9911 - val_loss: 0.0582 - val_accuracy: 0.9850\n",
            "Epoch 8/60\n",
            "147/147 [==============================] - 7s 48ms/step - loss: 0.0613 - accuracy: 0.9856 - val_loss: 0.0574 - val_accuracy: 0.9814\n",
            "Epoch 9/60\n",
            "147/147 [==============================] - 7s 48ms/step - loss: 0.0592 - accuracy: 0.9822 - val_loss: 0.0576 - val_accuracy: 0.9912\n",
            "Epoch 10/60\n",
            "147/147 [==============================] - 7s 48ms/step - loss: 0.0584 - accuracy: 0.9717 - val_loss: 0.0549 - val_accuracy: 0.9911\n",
            "Epoch 11/60\n",
            "147/147 [==============================] - 7s 48ms/step - loss: 0.0578 - accuracy: 0.9665 - val_loss: 0.0554 - val_accuracy: 0.9857\n",
            "Epoch 12/60\n",
            "147/147 [==============================] - 7s 48ms/step - loss: 0.0564 - accuracy: 0.9773 - val_loss: 0.0560 - val_accuracy: 0.9639\n",
            "Epoch 13/60\n",
            "147/147 [==============================] - 7s 48ms/step - loss: 0.0556 - accuracy: 0.9747 - val_loss: 0.0538 - val_accuracy: 0.9745\n",
            "Epoch 14/60\n",
            "147/147 [==============================] - 7s 49ms/step - loss: 0.0543 - accuracy: 0.9645 - val_loss: 0.0542 - val_accuracy: 0.9427\n",
            "Epoch 15/60\n",
            "147/147 [==============================] - 7s 48ms/step - loss: 0.0542 - accuracy: 0.9707 - val_loss: 0.0533 - val_accuracy: 0.9454\n",
            "Epoch 16/60\n",
            "147/147 [==============================] - 7s 48ms/step - loss: 0.0536 - accuracy: 0.9510 - val_loss: 0.0531 - val_accuracy: 0.9717\n",
            "Epoch 17/60\n",
            "147/147 [==============================] - 7s 48ms/step - loss: 0.0531 - accuracy: 0.9602 - val_loss: 0.0552 - val_accuracy: 0.9746\n",
            "Epoch 18/60\n",
            "147/147 [==============================] - 7s 48ms/step - loss: 0.0518 - accuracy: 0.9573 - val_loss: 0.0547 - val_accuracy: 0.8536\n",
            "Epoch 19/60\n",
            "147/147 [==============================] - 8s 52ms/step - loss: 0.0515 - accuracy: 0.9327 - val_loss: 0.0527 - val_accuracy: 0.9212\n",
            "Epoch 20/60\n",
            "147/147 [==============================] - 7s 48ms/step - loss: 0.0509 - accuracy: 0.9394 - val_loss: 0.0517 - val_accuracy: 0.9746\n",
            "Epoch 21/60\n",
            "147/147 [==============================] - 7s 48ms/step - loss: 0.0509 - accuracy: 0.9489 - val_loss: 0.0524 - val_accuracy: 0.9475\n",
            "Epoch 22/60\n",
            "147/147 [==============================] - 7s 48ms/step - loss: 0.0495 - accuracy: 0.9456 - val_loss: 0.0525 - val_accuracy: 0.8909\n",
            "Epoch 23/60\n",
            "147/147 [==============================] - 7s 48ms/step - loss: 0.0483 - accuracy: 0.9404 - val_loss: 0.0518 - val_accuracy: 0.9537\n",
            "Epoch 24/60\n",
            "147/147 [==============================] - 7s 48ms/step - loss: 0.0481 - accuracy: 0.9269 - val_loss: 0.0517 - val_accuracy: 0.9434\n",
            "Epoch 25/60\n",
            "147/147 [==============================] - 7s 48ms/step - loss: 0.0497 - accuracy: 0.9349 - val_loss: 0.0522 - val_accuracy: 0.9283\n",
            "Epoch 26/60\n",
            "147/147 [==============================] - 7s 48ms/step - loss: 0.0484 - accuracy: 0.9407 - val_loss: 0.0518 - val_accuracy: 0.9529\n",
            "Epoch 27/60\n",
            "147/147 [==============================] - 7s 48ms/step - loss: 0.0469 - accuracy: 0.9385 - val_loss: 0.0514 - val_accuracy: 0.9584\n",
            "Epoch 28/60\n",
            "147/147 [==============================] - 7s 48ms/step - loss: 0.0462 - accuracy: 0.9411 - val_loss: 0.0511 - val_accuracy: 0.9594\n",
            "Epoch 29/60\n",
            "147/147 [==============================] - 7s 48ms/step - loss: 0.0460 - accuracy: 0.9336 - val_loss: 0.0512 - val_accuracy: 0.8945\n",
            "Epoch 30/60\n",
            "147/147 [==============================] - 7s 49ms/step - loss: 0.0455 - accuracy: 0.9152 - val_loss: 0.0514 - val_accuracy: 0.9325\n",
            "Epoch 31/60\n",
            "147/147 [==============================] - 7s 48ms/step - loss: 0.0453 - accuracy: 0.9167 - val_loss: 0.0519 - val_accuracy: 0.9349\n",
            "Epoch 32/60\n",
            "147/147 [==============================] - 7s 48ms/step - loss: 0.0443 - accuracy: 0.9381 - val_loss: 0.0519 - val_accuracy: 0.9452\n",
            "Epoch 33/60\n",
            "147/147 [==============================] - 7s 48ms/step - loss: 0.0437 - accuracy: 0.9269 - val_loss: 0.0514 - val_accuracy: 0.9131\n",
            "Epoch 34/60\n",
            "147/147 [==============================] - 7s 48ms/step - loss: 0.0431 - accuracy: 0.9266 - val_loss: 0.0524 - val_accuracy: 0.8606\n",
            "Epoch 35/60\n",
            "147/147 [==============================] - 7s 48ms/step - loss: 0.0428 - accuracy: 0.9017 - val_loss: 0.0517 - val_accuracy: 0.9248\n",
            "Epoch 36/60\n",
            "147/147 [==============================] - 7s 48ms/step - loss: 0.0425 - accuracy: 0.8969 - val_loss: 0.0545 - val_accuracy: 0.9089\n",
            "Epoch 37/60\n",
            "147/147 [==============================] - 7s 48ms/step - loss: 0.0421 - accuracy: 0.9057 - val_loss: 0.0528 - val_accuracy: 0.8712\n",
            "Epoch 38/60\n",
            "147/147 [==============================] - 7s 48ms/step - loss: 0.0412 - accuracy: 0.9028 - val_loss: 0.0530 - val_accuracy: 0.8639\n",
            "Epoch 39/60\n",
            "147/147 [==============================] - 7s 48ms/step - loss: 0.0402 - accuracy: 0.8966 - val_loss: 0.0541 - val_accuracy: 0.8332\n",
            "Epoch 40/60\n",
            "147/147 [==============================] - 7s 48ms/step - loss: 0.0402 - accuracy: 0.8978 - val_loss: 0.0539 - val_accuracy: 0.9357\n",
            "Epoch 41/60\n",
            "147/147 [==============================] - 7s 49ms/step - loss: 0.0396 - accuracy: 0.8956 - val_loss: 0.0532 - val_accuracy: 0.9104\n",
            "Epoch 42/60\n",
            "147/147 [==============================] - 7s 48ms/step - loss: 0.0392 - accuracy: 0.8887 - val_loss: 0.0547 - val_accuracy: 0.8423\n",
            "Epoch 43/60\n",
            "147/147 [==============================] - 7s 48ms/step - loss: 0.0385 - accuracy: 0.8968 - val_loss: 0.0537 - val_accuracy: 0.8969\n",
            "Epoch 44/60\n",
            "147/147 [==============================] - 7s 48ms/step - loss: 0.0380 - accuracy: 0.8996 - val_loss: 0.0556 - val_accuracy: 0.8987\n",
            "Epoch 45/60\n",
            "147/147 [==============================] - 7s 48ms/step - loss: 0.0377 - accuracy: 0.9022 - val_loss: 0.0541 - val_accuracy: 0.8743\n",
            "Epoch 46/60\n",
            "147/147 [==============================] - 7s 48ms/step - loss: 0.0371 - accuracy: 0.8628 - val_loss: 0.0564 - val_accuracy: 0.8205\n",
            "Epoch 47/60\n",
            "147/147 [==============================] - 7s 48ms/step - loss: 0.0368 - accuracy: 0.8765 - val_loss: 0.0560 - val_accuracy: 0.9609\n",
            "Epoch 48/60\n",
            "147/147 [==============================] - 7s 48ms/step - loss: 0.0363 - accuracy: 0.8867 - val_loss: 0.0559 - val_accuracy: 0.8755\n",
            "Epoch 49/60\n",
            "147/147 [==============================] - 7s 48ms/step - loss: 0.0360 - accuracy: 0.8744 - val_loss: 0.0566 - val_accuracy: 0.9161\n",
            "Epoch 50/60\n",
            "147/147 [==============================] - 7s 49ms/step - loss: 0.0346 - accuracy: 0.8809 - val_loss: 0.0561 - val_accuracy: 0.8030\n",
            "Epoch 51/60\n",
            "147/147 [==============================] - 7s 48ms/step - loss: 0.0344 - accuracy: 0.8542 - val_loss: 0.0561 - val_accuracy: 0.8799\n",
            "Epoch 52/60\n",
            "147/147 [==============================] - 7s 48ms/step - loss: 0.0345 - accuracy: 0.8704 - val_loss: 0.0577 - val_accuracy: 0.7980\n",
            "Epoch 53/60\n",
            "147/147 [==============================] - 7s 48ms/step - loss: 0.0337 - accuracy: 0.8643 - val_loss: 0.0583 - val_accuracy: 0.8579\n",
            "Epoch 54/60\n",
            "147/147 [==============================] - 7s 48ms/step - loss: 0.0336 - accuracy: 0.8670 - val_loss: 0.0591 - val_accuracy: 0.8034\n",
            "Epoch 55/60\n",
            "147/147 [==============================] - 7s 48ms/step - loss: 0.0322 - accuracy: 0.8465 - val_loss: 0.0594 - val_accuracy: 0.8414\n",
            "Epoch 56/60\n",
            "147/147 [==============================] - 7s 49ms/step - loss: 0.0322 - accuracy: 0.8663 - val_loss: 0.0586 - val_accuracy: 0.9005\n",
            "Epoch 57/60\n",
            "147/147 [==============================] - 7s 49ms/step - loss: 0.0317 - accuracy: 0.8699 - val_loss: 0.0603 - val_accuracy: 0.8804\n",
            "Epoch 58/60\n",
            "147/147 [==============================] - 7s 48ms/step - loss: 0.0318 - accuracy: 0.8460 - val_loss: 0.0602 - val_accuracy: 0.8608\n",
            "Epoch 59/60\n",
            "147/147 [==============================] - 7s 48ms/step - loss: 0.0309 - accuracy: 0.8414 - val_loss: 0.0609 - val_accuracy: 0.7810\n",
            "Epoch 60/60\n",
            "147/147 [==============================] - 7s 48ms/step - loss: 0.0305 - accuracy: 0.8338 - val_loss: 0.0630 - val_accuracy: 0.8381\n",
            "Training Complete\n"
          ]
        }
      ]
    },
    {
      "cell_type": "code",
      "source": [
        "predictions = model_drop.predict(X_test)\n",
        "predictions = (predictions >= .5)\n",
        "accuracy3 = accuracy_score(y_test, predictions)\n",
        "print(\"accuracy: {}\".format(accuracy3))\n",
        "\n",
        "report = analysePredictions(predictions, y_test)\n",
        "\n",
        "for i, label in enumerate(labels):\n",
        "  print(\n",
        "  \"\"\"\n",
        "{}:\n",
        "    Count: {}\n",
        "      \n",
        "      -True positive: {}\n",
        "      -False positive: {}\n",
        "      -True negative: {}\n",
        "      -False negative: {} \n",
        "\n",
        "{}\n",
        "  \"\"\".format(label, report[i]['COUNT'], report[i]['TP'], report[i]['FP'], report[i]['TN'], report[i]['FN'], confusion_matrix(y_test[:, i], predictions[:,i]))#On a aussi la possibilité d'utiliser confusion_matrix pour déterminer ces valeurs\n",
        "  )"
      ],
      "metadata": {
        "id": "p7jc4RxzzEy3",
        "outputId": "34377e84-dbc1-4bf1-ab35-a26ccf397792",
        "colab": {
          "base_uri": "https://localhost:8080/"
        }
      },
      "execution_count": null,
      "outputs": [
        {
          "output_type": "stream",
          "name": "stdout",
          "text": [
            "accuracy: 0.9117388173161559\n",
            "\n",
            "toxic:\n",
            "    Count: 1234\n",
            "      \n",
            "      -True positive: 832\n",
            "      -False positive: 175\n",
            "      -True negative: 11088\n",
            "      -False negative: 402 \n",
            "\n",
            "[[11088   175]\n",
            " [  402   832]]\n",
            "  \n",
            "\n",
            "severe_toxic:\n",
            "    Count: 130\n",
            "      \n",
            "      -True positive: 47\n",
            "      -False positive: 44\n",
            "      -True negative: 12323\n",
            "      -False negative: 83 \n",
            "\n",
            "[[12323    44]\n",
            " [   83    47]]\n",
            "  \n",
            "\n",
            "obscene:\n",
            "    Count: 637\n",
            "      \n",
            "      -True positive: 464\n",
            "      -False positive: 107\n",
            "      -True negative: 11753\n",
            "      -False negative: 173 \n",
            "\n",
            "[[11753   107]\n",
            " [  173   464]]\n",
            "  \n",
            "\n",
            "threat:\n",
            "    Count: 44\n",
            "      \n",
            "      -True positive: 13\n",
            "      -False positive: 13\n",
            "      -True negative: 12440\n",
            "      -False negative: 31 \n",
            "\n",
            "[[12440    13]\n",
            " [   31    13]]\n",
            "  \n",
            "\n",
            "insult:\n",
            "    Count: 617\n",
            "      \n",
            "      -True positive: 369\n",
            "      -False positive: 138\n",
            "      -True negative: 11742\n",
            "      -False negative: 248 \n",
            "\n",
            "[[11742   138]\n",
            " [  248   369]]\n",
            "  \n",
            "\n",
            "identity_hate:\n",
            "    Count: 108\n",
            "      \n",
            "      -True positive: 41\n",
            "      -False positive: 24\n",
            "      -True negative: 12365\n",
            "      -False negative: 67 \n",
            "\n",
            "[[12365    24]\n",
            " [   67    41]]\n",
            "  \n"
          ]
        }
      ]
    },
    {
      "cell_type": "markdown",
      "source": [
        "On a finalement un modèle un peu plus précis avec environ 91% de précision."
      ],
      "metadata": {
        "id": "5Rma2DGzWxtJ"
      }
    },
    {
      "cell_type": "markdown",
      "source": [
        "Voici ci-dessous une fonction de permettant de classifier un ou plusieurs commentaires"
      ],
      "metadata": {
        "id": "KM2ryw93mW1t"
      }
    },
    {
      "cell_type": "code",
      "source": [
        "def analyseComments(mod, comments):    #mod: modèle utilisé pour les commentaires écris.\n",
        "  if isinstance(comments, str): #La fonction peut prendre en paramètre une simple string \n",
        "    comments = [comments]\n",
        "  sequences = tokenizer.texts_to_sequences(comments)\n",
        "  x = pad_sequences(sequences, truncating=truncating, padding=padding, maxlen=max_length)\n",
        "  if mod == \"scratch\":\n",
        "    predictions = model.predict(x)\n",
        "  elif mod == \"emb\":\n",
        "    predictions = model_emb.predict(x)\n",
        "  elif mod == \"drop\":\n",
        "    predictions = model_drop.predict(x)\n",
        "\n",
        "  predictions = (predictions >= .5)\n",
        "\n",
        "  result = []\n",
        "\n",
        "  for i, pred in enumerate(predictions):\n",
        "    tmp = []\n",
        "    for j, label in enumerate(labels):\n",
        "      if pred[j]:\n",
        "        tmp.append(label)\n",
        "    \n",
        "    if not tmp: #Si aucun label n'est choisi, alors le commentaire est normal\n",
        "      tmp.append('normal')\n",
        "\n",
        "    result.append(tmp)\n",
        "  \n",
        "  return result"
      ],
      "metadata": {
        "id": "EMotP-iCiJZA"
      },
      "execution_count": null,
      "outputs": []
    },
    {
      "cell_type": "markdown",
      "source": [
        "Un exemple d'utilisation de cette fonction"
      ],
      "metadata": {
        "id": "pSv3096ZsI5_"
      }
    },
    {
      "cell_type": "code",
      "source": [
        "comments = [\"cocksucker before you piss around work\", \"bad video bitch\", \"cool video dude i love you\"]\n",
        "result = analyseComments(\"scratch\", comments)\n",
        "\n",
        "for i, comment in enumerate(comments):\n",
        "  print(\"'{}':\".format(comment))\n",
        "  for res in result[i]:\n",
        "    print(\"\\t-{}\".format(res))\n",
        "  print(\"\\n\")"
      ],
      "metadata": {
        "id": "2OvvnAjtr8wT",
        "colab": {
          "base_uri": "https://localhost:8080/"
        },
        "outputId": "d3daf54f-8054-4ddd-e5e6-0db68a702f4c"
      },
      "execution_count": null,
      "outputs": [
        {
          "output_type": "stream",
          "name": "stdout",
          "text": [
            "'cocksucker before you piss around work':\n",
            "\t-toxic\n",
            "\t-severe_toxic\n",
            "\t-obscene\n",
            "\t-insult\n",
            "\n",
            "\n",
            "'bad video bitch':\n",
            "\t-toxic\n",
            "\t-obscene\n",
            "\n",
            "\n",
            "'cool video dude i love you':\n",
            "\t-normal\n",
            "\n",
            "\n"
          ]
        }
      ]
    },
    {
      "cell_type": "markdown",
      "source": [
        "On peut aussi traiter un seul commentaire."
      ],
      "metadata": {
        "id": "wuuqBpYktJiw"
      }
    },
    {
      "cell_type": "code",
      "source": [
        "analyseComments(\"scratch\", \"cocksucker before you piss around work\")[0]"
      ],
      "metadata": {
        "id": "a0SWX0CLtOHo",
        "colab": {
          "base_uri": "https://localhost:8080/"
        },
        "outputId": "c3adb2b8-758c-421e-ec64-231977dd745e"
      },
      "execution_count": null,
      "outputs": [
        {
          "output_type": "execute_result",
          "data": {
            "text/plain": [
              "['toxic', 'severe_toxic', 'obscene', 'insult']"
            ]
          },
          "metadata": {},
          "execution_count": 156
        }
      ]
    },
    {
      "cell_type": "markdown",
      "source": [
        "Test de la fonction pour le modèle avec la couche embedding déjà entrainée"
      ],
      "metadata": {
        "id": "9D3WQuyBzHyn"
      }
    },
    {
      "cell_type": "code",
      "source": [
        "comments = [\"the accuracy of our model is only 90%\", \"this model is shit\", \"This model is really great!\"]\n",
        "result = analyseComments(\"emb\", comments)\n",
        "\n",
        "for i, comment in enumerate(comments):\n",
        "  print(\"'{}':\".format(comment))\n",
        "  for res in result[i]:\n",
        "    print(\"\\t-{}\".format(res))\n",
        "  print(\"\\n\")\n",
        "\n",
        "print(\"Model with embedding trained\")\n",
        "#Avec le deuxième modèle avec une couche d'embedding entrainée\n",
        "result = analyseComments(\"emb\", comments)\n",
        "\n",
        "for i, comment in enumerate(comments):\n",
        "  print(\"'{}':\".format(comment))\n",
        "  for res in result[i]:\n",
        "    print(\"\\t-{}\".format(res))\n",
        "  print(\"\\n\")"
      ],
      "metadata": {
        "colab": {
          "base_uri": "https://localhost:8080/"
        },
        "id": "kuY_UfYcFDtT",
        "outputId": "c748731b-3aff-4b67-8920-ecb24e492042"
      },
      "execution_count": null,
      "outputs": [
        {
          "output_type": "stream",
          "name": "stdout",
          "text": [
            "'the accuracy of our model is only 90%':\n",
            "\t-normal\n",
            "\n",
            "\n",
            "'this model is shit':\n",
            "\t-toxic\n",
            "\t-obscene\n",
            "\n",
            "\n",
            "'This model is really great!':\n",
            "\t-normal\n",
            "\n",
            "\n",
            "Model with embedding trained\n",
            "'the accuracy of our model is only 90%':\n",
            "\t-normal\n",
            "\n",
            "\n",
            "'this model is shit':\n",
            "\t-toxic\n",
            "\t-obscene\n",
            "\n",
            "\n",
            "'This model is really great!':\n",
            "\t-normal\n",
            "\n",
            "\n"
          ]
        }
      ]
    },
    {
      "cell_type": "markdown",
      "source": [
        "Pour le modèle Bidirectionnel"
      ],
      "metadata": {
        "id": "oGmxgp4iy1Tb"
      }
    },
    {
      "cell_type": "code",
      "source": [
        "comments = [\"Bidirectionnal is shit\", \"Not at all, bidirectionnal and dropout seems great\"]\n",
        "result = analyseComments(\"drop\", comments)\n",
        "for i, comment in enumerate(comments):\n",
        "  print(\"'{}':\".format(comment))\n",
        "  for res in result[i]:\n",
        "    print(\"\\t-{}\".format(res))\n",
        "  print(\"\\n\")"
      ],
      "metadata": {
        "id": "XsNWzC2oWcLo",
        "outputId": "9fe6cf72-a8e6-4854-d523-bb6666b75870",
        "colab": {
          "base_uri": "https://localhost:8080/"
        }
      },
      "execution_count": null,
      "outputs": [
        {
          "output_type": "stream",
          "name": "stdout",
          "text": [
            "'Bidirectionnal is shit':\n",
            "\t-toxic\n",
            "\t-obscene\n",
            "\n",
            "\n",
            "'Not at all, bidirectionnal and dropout seems great':\n",
            "\t-normal\n",
            "\n",
            "\n"
          ]
        }
      ]
    }
  ]
}