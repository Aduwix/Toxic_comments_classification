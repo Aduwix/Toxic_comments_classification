{
  "nbformat": 4,
  "nbformat_minor": 0,
  "metadata": {
    "colab": {
      "name": "Classification_commentaires_toxiques.ipynb",
      "provenance": [],
      "collapsed_sections": [],
      "include_colab_link": true
    },
    "kernelspec": {
      "name": "python3",
      "display_name": "Python 3"
    },
    "language_info": {
      "name": "python"
    },
    "accelerator": "GPU"
  },
  "cells": [
    {
      "cell_type": "markdown",
      "metadata": {
        "id": "view-in-github",
        "colab_type": "text"
      },
      "source": [
        "<a href=\"https://colab.research.google.com/github/Aduwix/Toxic_comments_classification/blob/main/Classification_commentaires_toxiques.ipynb\" target=\"_parent\"><img src=\"https://colab.research.google.com/assets/colab-badge.svg\" alt=\"Open In Colab\"/></a>"
      ]
    },
    {
      "cell_type": "markdown",
      "source": [
        "# Importation des packages"
      ],
      "metadata": {
        "id": "_lyJzHuKRNWX"
      }
    },
    {
      "cell_type": "code",
      "execution_count": 32,
      "metadata": {
        "id": "MUj96QiIQsJ_"
      },
      "outputs": [],
      "source": [
        "import numpy as np\n",
        "import pandas as pd\n",
        "import matplotlib.pyplot as plt\n",
        "import tensorflow as tf\n",
        "\n",
        "import re\n",
        "import string\n",
        "import nltk\n",
        "\n",
        "from nltk.corpus import stopwords\n",
        "from nltk.tokenize import word_tokenize\n",
        "\n",
        "from sklearn.feature_extraction.text import TfidfVectorizer \n",
        "from sklearn.model_selection import train_test_split\n",
        "from sklearn.ensemble import RandomForestClassifier\n",
        "from sklearn.multiclass import OneVsRestClassifier\n",
        "from sklearn.metrics import classification_report, confusion_matrix, accuracy_score\n",
        "\n",
        "#Réseaux de neurones\n",
        "from tensorflow.keras.preprocessing.sequence import pad_sequences\n",
        "from tensorflow.keras.layers import Embedding, LSTM, Dense, Dropout, Bidirectional\n",
        "from tensorflow.keras.preprocessing.text import Tokenizer\n",
        "from tensorflow.keras.models import Sequential\n",
        "from tensorflow.keras.optimizers import Adam\n",
        "from tensorflow.keras import regularizers\n",
        "\n",
        "from tensorflow.keras.preprocessing.text import Tokenizer\n",
        "from tensorflow.keras.preprocessing.sequence import pad_sequences"
      ]
    },
    {
      "cell_type": "markdown",
      "source": [
        "# Importation des données"
      ],
      "metadata": {
        "id": "xZLpUMItRWc0"
      }
    },
    {
      "cell_type": "markdown",
      "source": [
        "Ajoutez un raccourci de ce dossier à votre google drive :\n",
        "\n",
        "https://drive.google.com/drive/folders/1mx-CAzT10YKrmxHfYDP_1Oef7PVGUr7s?usp=sharing"
      ],
      "metadata": {
        "id": "cbE3MzVKRaV2"
      }
    },
    {
      "cell_type": "code",
      "source": [
        "from google.colab import drive\n",
        "drive.mount('/content/drive', force_remount=True)"
      ],
      "metadata": {
        "colab": {
          "base_uri": "https://localhost:8080/"
        },
        "id": "4FktfCVaRVrs",
        "outputId": "d733f9ce-65cd-4001-e1f9-a108c5257598"
      },
      "execution_count": 33,
      "outputs": [
        {
          "output_type": "stream",
          "name": "stdout",
          "text": [
            "Mounted at /content/drive\n"
          ]
        }
      ]
    },
    {
      "cell_type": "code",
      "source": [
        "data = pd.read_csv('/content/drive/MyDrive/data_classification_commentaires_toxiques/train.csv')\n",
        "data.head()"
      ],
      "metadata": {
        "colab": {
          "base_uri": "https://localhost:8080/",
          "height": 204
        },
        "id": "qky64Lq8Rocy",
        "outputId": "54a1f3e1-6e33-4b54-b6a8-92ac44147120"
      },
      "execution_count": 34,
      "outputs": [
        {
          "output_type": "execute_result",
          "data": {
            "text/plain": [
              "                 id                                       comment_text  toxic  \\\n",
              "0  0000997932d777bf  Explanation\\nWhy the edits made under my usern...      0   \n",
              "1  000103f0d9cfb60f  D'aww! He matches this background colour I'm s...      0   \n",
              "2  000113f07ec002fd  Hey man, I'm really not trying to edit war. It...      0   \n",
              "3  0001b41b1c6bb37e  \"\\nMore\\nI can't make any real suggestions on ...      0   \n",
              "4  0001d958c54c6e35  You, sir, are my hero. Any chance you remember...      0   \n",
              "\n",
              "   severe_toxic  obscene  threat  insult  identity_hate  \n",
              "0             0        0       0       0              0  \n",
              "1             0        0       0       0              0  \n",
              "2             0        0       0       0              0  \n",
              "3             0        0       0       0              0  \n",
              "4             0        0       0       0              0  "
            ],
            "text/html": [
              "\n",
              "  <div id=\"df-472212b7-c358-4e2b-8222-f386851361e8\">\n",
              "    <div class=\"colab-df-container\">\n",
              "      <div>\n",
              "<style scoped>\n",
              "    .dataframe tbody tr th:only-of-type {\n",
              "        vertical-align: middle;\n",
              "    }\n",
              "\n",
              "    .dataframe tbody tr th {\n",
              "        vertical-align: top;\n",
              "    }\n",
              "\n",
              "    .dataframe thead th {\n",
              "        text-align: right;\n",
              "    }\n",
              "</style>\n",
              "<table border=\"1\" class=\"dataframe\">\n",
              "  <thead>\n",
              "    <tr style=\"text-align: right;\">\n",
              "      <th></th>\n",
              "      <th>id</th>\n",
              "      <th>comment_text</th>\n",
              "      <th>toxic</th>\n",
              "      <th>severe_toxic</th>\n",
              "      <th>obscene</th>\n",
              "      <th>threat</th>\n",
              "      <th>insult</th>\n",
              "      <th>identity_hate</th>\n",
              "    </tr>\n",
              "  </thead>\n",
              "  <tbody>\n",
              "    <tr>\n",
              "      <th>0</th>\n",
              "      <td>0000997932d777bf</td>\n",
              "      <td>Explanation\\nWhy the edits made under my usern...</td>\n",
              "      <td>0</td>\n",
              "      <td>0</td>\n",
              "      <td>0</td>\n",
              "      <td>0</td>\n",
              "      <td>0</td>\n",
              "      <td>0</td>\n",
              "    </tr>\n",
              "    <tr>\n",
              "      <th>1</th>\n",
              "      <td>000103f0d9cfb60f</td>\n",
              "      <td>D'aww! He matches this background colour I'm s...</td>\n",
              "      <td>0</td>\n",
              "      <td>0</td>\n",
              "      <td>0</td>\n",
              "      <td>0</td>\n",
              "      <td>0</td>\n",
              "      <td>0</td>\n",
              "    </tr>\n",
              "    <tr>\n",
              "      <th>2</th>\n",
              "      <td>000113f07ec002fd</td>\n",
              "      <td>Hey man, I'm really not trying to edit war. It...</td>\n",
              "      <td>0</td>\n",
              "      <td>0</td>\n",
              "      <td>0</td>\n",
              "      <td>0</td>\n",
              "      <td>0</td>\n",
              "      <td>0</td>\n",
              "    </tr>\n",
              "    <tr>\n",
              "      <th>3</th>\n",
              "      <td>0001b41b1c6bb37e</td>\n",
              "      <td>\"\\nMore\\nI can't make any real suggestions on ...</td>\n",
              "      <td>0</td>\n",
              "      <td>0</td>\n",
              "      <td>0</td>\n",
              "      <td>0</td>\n",
              "      <td>0</td>\n",
              "      <td>0</td>\n",
              "    </tr>\n",
              "    <tr>\n",
              "      <th>4</th>\n",
              "      <td>0001d958c54c6e35</td>\n",
              "      <td>You, sir, are my hero. Any chance you remember...</td>\n",
              "      <td>0</td>\n",
              "      <td>0</td>\n",
              "      <td>0</td>\n",
              "      <td>0</td>\n",
              "      <td>0</td>\n",
              "      <td>0</td>\n",
              "    </tr>\n",
              "  </tbody>\n",
              "</table>\n",
              "</div>\n",
              "      <button class=\"colab-df-convert\" onclick=\"convertToInteractive('df-472212b7-c358-4e2b-8222-f386851361e8')\"\n",
              "              title=\"Convert this dataframe to an interactive table.\"\n",
              "              style=\"display:none;\">\n",
              "        \n",
              "  <svg xmlns=\"http://www.w3.org/2000/svg\" height=\"24px\"viewBox=\"0 0 24 24\"\n",
              "       width=\"24px\">\n",
              "    <path d=\"M0 0h24v24H0V0z\" fill=\"none\"/>\n",
              "    <path d=\"M18.56 5.44l.94 2.06.94-2.06 2.06-.94-2.06-.94-.94-2.06-.94 2.06-2.06.94zm-11 1L8.5 8.5l.94-2.06 2.06-.94-2.06-.94L8.5 2.5l-.94 2.06-2.06.94zm10 10l.94 2.06.94-2.06 2.06-.94-2.06-.94-.94-2.06-.94 2.06-2.06.94z\"/><path d=\"M17.41 7.96l-1.37-1.37c-.4-.4-.92-.59-1.43-.59-.52 0-1.04.2-1.43.59L10.3 9.45l-7.72 7.72c-.78.78-.78 2.05 0 2.83L4 21.41c.39.39.9.59 1.41.59.51 0 1.02-.2 1.41-.59l7.78-7.78 2.81-2.81c.8-.78.8-2.07 0-2.86zM5.41 20L4 18.59l7.72-7.72 1.47 1.35L5.41 20z\"/>\n",
              "  </svg>\n",
              "      </button>\n",
              "      \n",
              "  <style>\n",
              "    .colab-df-container {\n",
              "      display:flex;\n",
              "      flex-wrap:wrap;\n",
              "      gap: 12px;\n",
              "    }\n",
              "\n",
              "    .colab-df-convert {\n",
              "      background-color: #E8F0FE;\n",
              "      border: none;\n",
              "      border-radius: 50%;\n",
              "      cursor: pointer;\n",
              "      display: none;\n",
              "      fill: #1967D2;\n",
              "      height: 32px;\n",
              "      padding: 0 0 0 0;\n",
              "      width: 32px;\n",
              "    }\n",
              "\n",
              "    .colab-df-convert:hover {\n",
              "      background-color: #E2EBFA;\n",
              "      box-shadow: 0px 1px 2px rgba(60, 64, 67, 0.3), 0px 1px 3px 1px rgba(60, 64, 67, 0.15);\n",
              "      fill: #174EA6;\n",
              "    }\n",
              "\n",
              "    [theme=dark] .colab-df-convert {\n",
              "      background-color: #3B4455;\n",
              "      fill: #D2E3FC;\n",
              "    }\n",
              "\n",
              "    [theme=dark] .colab-df-convert:hover {\n",
              "      background-color: #434B5C;\n",
              "      box-shadow: 0px 1px 3px 1px rgba(0, 0, 0, 0.15);\n",
              "      filter: drop-shadow(0px 1px 2px rgba(0, 0, 0, 0.3));\n",
              "      fill: #FFFFFF;\n",
              "    }\n",
              "  </style>\n",
              "\n",
              "      <script>\n",
              "        const buttonEl =\n",
              "          document.querySelector('#df-472212b7-c358-4e2b-8222-f386851361e8 button.colab-df-convert');\n",
              "        buttonEl.style.display =\n",
              "          google.colab.kernel.accessAllowed ? 'block' : 'none';\n",
              "\n",
              "        async function convertToInteractive(key) {\n",
              "          const element = document.querySelector('#df-472212b7-c358-4e2b-8222-f386851361e8');\n",
              "          const dataTable =\n",
              "            await google.colab.kernel.invokeFunction('convertToInteractive',\n",
              "                                                     [key], {});\n",
              "          if (!dataTable) return;\n",
              "\n",
              "          const docLinkHtml = 'Like what you see? Visit the ' +\n",
              "            '<a target=\"_blank\" href=https://colab.research.google.com/notebooks/data_table.ipynb>data table notebook</a>'\n",
              "            + ' to learn more about interactive tables.';\n",
              "          element.innerHTML = '';\n",
              "          dataTable['output_type'] = 'display_data';\n",
              "          await google.colab.output.renderOutput(dataTable, element);\n",
              "          const docLink = document.createElement('div');\n",
              "          docLink.innerHTML = docLinkHtml;\n",
              "          element.appendChild(docLink);\n",
              "        }\n",
              "      </script>\n",
              "    </div>\n",
              "  </div>\n",
              "  "
            ]
          },
          "metadata": {},
          "execution_count": 34
        }
      ]
    },
    {
      "cell_type": "markdown",
      "source": [
        "On ne prend pas la totalité du dataset pour l'entraînement pour ne pas passer trop de temps sur l'apprentissage."
      ],
      "metadata": {
        "id": "fABUqgIWwHYt"
      }
    },
    {
      "cell_type": "code",
      "source": [
        "len(data.index)\n",
        "data = data.iloc[:20000, :]"
      ],
      "metadata": {
        "id": "RSPSuakVwFPu"
      },
      "execution_count": 35,
      "outputs": []
    },
    {
      "cell_type": "markdown",
      "source": [
        "# Etude du jeu de données"
      ],
      "metadata": {
        "id": "-kUWzBzISpsK"
      }
    },
    {
      "cell_type": "markdown",
      "source": [
        "Une première étape consiste à enlever certains caractères spéciaux présents dans les commentaires."
      ],
      "metadata": {
        "id": "p0ktlV3DwnZg"
      }
    },
    {
      "cell_type": "code",
      "source": [
        "data['comment_text'] = data['comment_text'].apply(lambda x : x.replace('\\ufeff', ''))\n",
        "data['comment_text'] = data['comment_text'].apply(lambda x : x.replace('\\xa0', ''))\n",
        "data['comment_text'] = data['comment_text'].apply(lambda x : x.replace('&#39;', ' '))"
      ],
      "metadata": {
        "id": "CAexGL7jS-VF"
      },
      "execution_count": 36,
      "outputs": []
    },
    {
      "cell_type": "markdown",
      "source": [
        "On veut maintenant essayer de comprendre notre jeu de données avec différentes caractéristiques, on commence par la fréquence des commentaires selon leur classe type."
      ],
      "metadata": {
        "id": "oJrkCk5nwtqY"
      }
    },
    {
      "cell_type": "code",
      "source": [
        "fig = plt.figure()\n",
        "ax = fig.add_axes([0,0,1,1])\n",
        "types = [\"Normal\", \"Toxic\", \"Severe Toxic\", \"Obscene\", \"Threat\", \"Insult\", \"Identity Hate\"]\n",
        "\n",
        "#On définit nos différents labels\n",
        "labels = data.columns[2:]\n",
        "\n",
        "values = [len(data[(data['toxic'] == 0) & (data['severe_toxic'] == 0) & (data['obscene'] == 0) & (data['threat'] == 0) & (data['insult'] == 0) & (data['identity_hate'] == 0)])]\n",
        "for column in labels:\n",
        "  values.append(data[column].value_counts().to_numpy()[1])\n",
        "\n",
        "ax.bar(types,values)\n",
        "plt.show()"
      ],
      "metadata": {
        "colab": {
          "base_uri": "https://localhost:8080/",
          "height": 336
        },
        "id": "73VmTHbCwucT",
        "outputId": "1caf1ee0-d6de-4390-ee32-f88ba7fb079e"
      },
      "execution_count": 37,
      "outputs": [
        {
          "output_type": "display_data",
          "data": {
            "text/plain": [
              "<Figure size 432x288 with 1 Axes>"
            ],
            "image/png": "[encoded data removed]"
          },
          "metadata": {
            "needs_background": "light"
          }
        }
      ]
    },
    {
      "cell_type": "markdown",
      "source": [
        "On remarque ici que le nombre de commentaires dits \"normaux\" est bien supérieur au nombre de commentaires toxiques de tous types. On remarque aussi que certaines classes sont plus présentes que d'autres: 'toxic', 'obscene' et 'insult' ont plus d'exemples que 'severe_toxic', 'threat' et 'identity hate'."
      ],
      "metadata": {
        "id": "xS9OmFkXwyFB"
      }
    },
    {
      "cell_type": "markdown",
      "source": [
        "On peut aussi regarder la taille de nos commentaires"
      ],
      "metadata": {
        "id": "10HNJENAGmJk"
      }
    },
    {
      "cell_type": "code",
      "source": [
        "data['comment_text'].str.len().plot()"
      ],
      "metadata": {
        "id": "h7rz6_wtGzTY",
        "outputId": "175c89d1-dba4-4723-afdb-3ba877bf2670",
        "colab": {
          "base_uri": "https://localhost:8080/",
          "height": 282
        }
      },
      "execution_count": 54,
      "outputs": [
        {
          "output_type": "execute_result",
          "data": {
            "text/plain": [
              "<matplotlib.axes._subplots.AxesSubplot at 0x7f3dccdc0c90>"
            ]
          },
          "metadata": {},
          "execution_count": 54
        },
        {
          "output_type": "display_data",
          "data": {
            "text/plain": [
              "<Figure size 432x288 with 1 Axes>"
            ],
            "image/png": "[encoded data removed]"
          },
          "metadata": {
            "needs_background": "light"
          }
        }
      ]
    },
    {
      "cell_type": "markdown",
      "source": [
        "On remarque que la longueur des commentaires semble uniformément distribuée."
      ],
      "metadata": {
        "id": "0vXSUW2YHvhq"
      }
    },
    {
      "cell_type": "code",
      "source": [
        "print(\"Taille Moyenne d'un commentaire (nombre de caractères): {} \".format(np.mean(data['comment_text'].str.len())))\n",
        "average_size = np.mean([len(comment.split()) for comment in data['comment_text']])\n",
        "print(\"Taille Moyenne d'un commentaire (nombre de mots): {} \".format(average_size))"
      ],
      "metadata": {
        "id": "lydp2kAJHsxZ",
        "outputId": "542a90c0-b9d6-4271-b142-af9c7f1635e1",
        "colab": {
          "base_uri": "https://localhost:8080/"
        }
      },
      "execution_count": 56,
      "outputs": [
        {
          "output_type": "stream",
          "name": "stdout",
          "text": [
            "Taille Moyenne d'un commentaire (nombre de caractères): 253.42685671417854 \n",
            "Taille Moyenne d'un commentaire (nombre de mots): 34.927131782945736 \n"
          ]
        }
      ]
    },
    {
      "cell_type": "code",
      "source": [
        "print(\"Taille Maximale d'un commentaire (nombre de caractères): {} \".format(np.max(data['comment_text'].str.len())))\n",
        "average_size = np.max([len(comment.split()) for comment in data['comment_text']])\n",
        "print(\"Taille Maximale d'un commentaire (nombre de mots): {} \".format(average_size))"
      ],
      "metadata": {
        "id": "BSs2L-fWIYtJ",
        "outputId": "93e8b7d4-e5f1-4930-9850-3bb7bf3bdc18",
        "colab": {
          "base_uri": "https://localhost:8080/"
        }
      },
      "execution_count": 58,
      "outputs": [
        {
          "output_type": "stream",
          "name": "stdout",
          "text": [
            "Taille Maximale d'un commentaire (nombre de caractères): 5000 \n",
            "Taille Maximale d'un commentaire (nombre de mots): 1099 \n"
          ]
        }
      ]
    },
    {
      "cell_type": "markdown",
      "source": [
        "# Préparation des données"
      ],
      "metadata": {
        "id": "YIzpSrAjSsAM"
      }
    },
    {
      "cell_type": "markdown",
      "source": [
        "L'objectif est maintenant de nettoyer le jeu de données. On va notamment essayer de remplacer les contractions et abreviations les plus courantes."
      ],
      "metadata": {
        "id": "kEVsO7quw0yq"
      }
    },
    {
      "cell_type": "code",
      "source": [
        "nltk.download('stopwords')\n",
        "nltk.download('punkt')\n",
        "stop_words = nltk.corpus.stopwords.words('english')\n",
        "corpus = []"
      ],
      "metadata": {
        "id": "1WMk85t8S_zX",
        "colab": {
          "base_uri": "https://localhost:8080/"
        },
        "outputId": "739fc882-1298-46be-bd67-52ada2e34bdf"
      },
      "execution_count": 38,
      "outputs": [
        {
          "output_type": "stream",
          "name": "stdout",
          "text": [
            "[nltk_data] Downloading package stopwords to /root/nltk_data...\n",
            "[nltk_data]   Package stopwords is already up-to-date!\n",
            "[nltk_data] Downloading package punkt to /root/nltk_data...\n",
            "[nltk_data]   Package punkt is already up-to-date!\n"
          ]
        }
      ]
    },
    {
      "cell_type": "markdown",
      "source": [
        "On définit plusieurs fonctions nous permettant de nettoyer les commentaires."
      ],
      "metadata": {
        "id": "ulN4woGfw5gS"
      }
    },
    {
      "cell_type": "code",
      "source": [
        "def clean(comment): \n",
        "            \n",
        "    # Contractions\n",
        "    comment = re.sub(r\"he's\", \"he is\", comment)\n",
        "    comment = re.sub(r\"there's\", \"there is\", comment)\n",
        "    comment = re.sub(r\"We're\", \"We are\", comment)\n",
        "    comment = re.sub(r\"That's\", \"That is\", comment)\n",
        "    comment = re.sub(r\"won't\", \"will not\", comment)\n",
        "    comment = re.sub(r\"they're\", \"they are\", comment)\n",
        "    comment = re.sub(r\"Can't\", \"Cannot\", comment)\n",
        "    comment = re.sub(r\"wasn't\", \"was not\", comment)\n",
        "    comment = re.sub(r\"don\\x89Ûªt\", \"do not\", comment)\n",
        "    comment = re.sub(r\"aren't\", \"are not\", comment)\n",
        "    comment = re.sub(r\"isn't\", \"is not\", comment)\n",
        "    comment = re.sub(r\"What's\", \"What is\", comment)\n",
        "    comment = re.sub(r\"haven't\", \"have not\", comment)\n",
        "    comment = re.sub(r\"hasn't\", \"has not\", comment)\n",
        "    comment = re.sub(r\"There's\", \"There is\", comment)\n",
        "    comment = re.sub(r\"He's\", \"He is\", comment)\n",
        "    comment = re.sub(r\"It's\", \"It is\", comment)\n",
        "    comment = re.sub(r\"You're\", \"You are\", comment)\n",
        "    comment = re.sub(r\"I'M\", \"I am\", comment)\n",
        "    comment = re.sub(r\"shouldn't\", \"should not\", comment)\n",
        "    comment = re.sub(r\"wouldn't\", \"would not\", comment)\n",
        "    comment = re.sub(r\"i'm\", \"I am\", comment)\n",
        "    comment = re.sub(r\"I\\x89Ûªm\", \"I am\", comment)\n",
        "    comment = re.sub(r\"I'm\", \"I am\", comment)\n",
        "    comment = re.sub(r\"Isn't\", \"is not\", comment)\n",
        "    comment = re.sub(r\"Here's\", \"Here is\", comment)\n",
        "    comment = re.sub(r\"you've\", \"you have\", comment)\n",
        "    comment = re.sub(r\"you\\x89Ûªve\", \"you have\", comment)\n",
        "    comment = re.sub(r\"we're\", \"we are\", comment)\n",
        "    comment = re.sub(r\"what's\", \"what is\", comment)\n",
        "    comment = re.sub(r\"couldn't\", \"could not\", comment)\n",
        "    comment = re.sub(r\"we've\", \"we have\", comment)\n",
        "    comment = re.sub(r\"it\\x89Ûªs\", \"it is\", comment)\n",
        "    comment = re.sub(r\"doesn\\x89Ûªt\", \"does not\", comment)\n",
        "    comment = re.sub(r\"It\\x89Ûªs\", \"It is\", comment)\n",
        "    comment = re.sub(r\"Here\\x89Ûªs\", \"Here is\", comment)\n",
        "    comment = re.sub(r\"who's\", \"who is\", comment)\n",
        "    comment = re.sub(r\"I\\x89Ûªve\", \"I have\", comment)\n",
        "    comment = re.sub(r\"y'all\", \"you all\", comment)\n",
        "    comment = re.sub(r\"can\\x89Ûªt\", \"cannot\", comment)\n",
        "    comment = re.sub(r\"would've\", \"would have\", comment)\n",
        "    comment = re.sub(r\"it'll\", \"it will\", comment)\n",
        "    comment = re.sub(r\"we'll\", \"we will\", comment)\n",
        "    comment = re.sub(r\"wouldn\\x89Ûªt\", \"would not\", comment)\n",
        "    comment = re.sub(r\"We've\", \"We have\", comment)\n",
        "    comment = re.sub(r\"he'll\", \"he will\", comment)\n",
        "    comment = re.sub(r\"Y'all\", \"You all\", comment)\n",
        "    comment = re.sub(r\"Weren't\", \"Were not\", comment)\n",
        "    comment = re.sub(r\"Didn't\", \"Did not\", comment)\n",
        "    comment = re.sub(r\"they'll\", \"they will\", comment)\n",
        "    comment = re.sub(r\"they'd\", \"they would\", comment)\n",
        "    comment = re.sub(r\"DON'T\", \"DO NOT\", comment)\n",
        "    comment = re.sub(r\"That\\x89Ûªs\", \"That is\", comment)\n",
        "    comment = re.sub(r\"they've\", \"they have\", comment)\n",
        "    comment = re.sub(r\"i'd\", \"I would\", comment)\n",
        "    comment = re.sub(r\"should've\", \"should have\", comment)\n",
        "    comment = re.sub(r\"You\\x89Ûªre\", \"You are\", comment)\n",
        "    comment = re.sub(r\"where's\", \"where is\", comment)\n",
        "    comment = re.sub(r\"Don\\x89Ûªt\", \"Do not\", comment)\n",
        "    comment = re.sub(r\"we'd\", \"we would\", comment)\n",
        "    comment = re.sub(r\"i'll\", \"I will\", comment)\n",
        "    comment = re.sub(r\"weren't\", \"were not\", comment)\n",
        "    comment = re.sub(r\"They're\", \"They are\", comment)\n",
        "    comment = re.sub(r\"Can\\x89Ûªt\", \"Cannot\", comment)\n",
        "    comment = re.sub(r\"you\\x89Ûªll\", \"you will\", comment)\n",
        "    comment = re.sub(r\"I\\x89Ûªd\", \"I would\", comment)\n",
        "    comment = re.sub(r\"let's\", \"let us\", comment)\n",
        "    comment = re.sub(r\"it's\", \"it is\", comment)\n",
        "    comment = re.sub(r\"can't\", \"cannot\", comment)\n",
        "    comment = re.sub(r\"don't\", \"do not\", comment)\n",
        "    comment = re.sub(r\"you're\", \"you are\", comment)\n",
        "    comment = re.sub(r\"i've\", \"I have\", comment)\n",
        "    comment = re.sub(r\"that's\", \"that is\", comment)\n",
        "    comment = re.sub(r\"i'll\", \"I will\", comment)\n",
        "    comment = re.sub(r\"doesn't\", \"does not\", comment)\n",
        "    comment = re.sub(r\"i'd\", \"I would\", comment)\n",
        "    comment = re.sub(r\"didn't\", \"did not\", comment)\n",
        "    comment = re.sub(r\"ain't\", \"am not\", comment)\n",
        "    comment = re.sub(r\"you'll\", \"you will\", comment)\n",
        "    comment = re.sub(r\"I've\", \"I have\", comment)\n",
        "    comment = re.sub(r\"Don't\", \"do not\", comment)\n",
        "    comment = re.sub(r\"I'll\", \"I will\", comment)\n",
        "    comment = re.sub(r\"I'd\", \"I would\", comment)\n",
        "    comment = re.sub(r\"Let's\", \"Let us\", comment)\n",
        "    comment = re.sub(r\"you'd\", \"You would\", comment)\n",
        "    comment = re.sub(r\"It's\", \"It is\", comment)\n",
        "    comment = re.sub(r\"Ain't\", \"am not\", comment)\n",
        "    comment = re.sub(r\"Haven't\", \"Have not\", comment)\n",
        "    comment = re.sub(r\"Could've\", \"Could have\", comment)\n",
        "    comment = re.sub(r\"youve\", \"you have\", comment)  \n",
        "    comment = re.sub(r\"donå«t\", \"do not\", comment)  \n",
        "    \n",
        "    comment = re.sub(r\"some1\", \"someone\", comment)\n",
        "    comment = re.sub(r\"yrs\", \"years\", comment)\n",
        "    comment = re.sub(r\"hrs\", \"hours\", comment)\n",
        "    comment = re.sub(r\"2morow|2moro\", \"tomorrow\", comment)\n",
        "    comment = re.sub(r\"2day\", \"today\", comment)\n",
        "    comment = re.sub(r\"4got|4gotten\", \"forget\", comment)\n",
        "    comment = re.sub(r\"b-day|bday\", \"b-day\", comment)\n",
        "    comment = re.sub(r\"mother's\", \"mother\", comment)\n",
        "    comment = re.sub(r\"mom's\", \"mom\", comment)\n",
        "    comment = re.sub(r\"dad's\", \"dad\", comment)\n",
        "    comment = re.sub(r\"hahah|hahaha|hahahaha\", \"haha\", comment)\n",
        "    comment = re.sub(r\"lmao|lolz|rofl\", \"lol\", comment)\n",
        "    comment = re.sub(r\"thanx|thnx\", \"thanks\", comment)\n",
        "    comment = re.sub(r\"goood\", \"good\", comment)\n",
        "    comment = re.sub(r\"some1\", \"someone\", comment)\n",
        "    comment = re.sub(r\"some1\", \"someone\", comment)\n",
        "    # Character entity references\n",
        "    comment = re.sub(r\"&gt;\", \">\", comment)\n",
        "    comment = re.sub(r\"&lt;\", \"<\", comment)\n",
        "    comment = re.sub(r\"&amp;\", \"&\", comment)\n",
        "    # Typos, slang and informal abbreviations\n",
        "    comment = re.sub(r\"w/e\", \"whatever\", comment)\n",
        "    comment = re.sub(r\"w/\", \"with\", comment)\n",
        "    comment = re.sub(r\"<3\", \"love\", comment)\n",
        "    # Urls\n",
        "    comment = re.sub(r\"http\\S+\", \"\", comment)\n",
        "    # Numbers\n",
        "    comment = re.sub(r'[0-9]', '', comment)\n",
        "    # Eliminating the mentions\n",
        "    comment = re.sub(\"(@[A-Za-z0-9_]+)\",\"\", comment)\n",
        "    # Remove punctuation and special chars (keep '!')\n",
        "    for p in string.punctuation.replace('!', ''):\n",
        "        comment = comment.replace(p, '')\n",
        "        \n",
        "    # ... and ..\n",
        "    comment = comment.replace('...', ' ... ')\n",
        "    if '...' not in comment:\n",
        "        comment = comment.replace('..', ' ... ')\n",
        "        \n",
        "    # Tokenize\n",
        "    comment_words = word_tokenize(comment)\n",
        "    \n",
        "    # Eliminating the word if its length is less than 3\n",
        "    comment = [w for w in comment_words if len(w)>2]\n",
        "    \n",
        "    # remove stopwords\n",
        "    comment = [w.lower() for w in comment if not w in stop_words]  \n",
        "    \n",
        "    corpus.append(comment)\n",
        "    \n",
        "    # join back\n",
        "    comment = ' '.join(comment)\n",
        "        \n",
        "        \n",
        "    return comment"
      ],
      "metadata": {
        "id": "1ea2Vnv1w58k"
      },
      "execution_count": 39,
      "outputs": []
    },
    {
      "cell_type": "code",
      "source": [
        "variable_name = \"\"\n",
        "abbreviations = {\n",
        "    \"$\" : \" dollar \",\n",
        "    \"€\" : \" euro \",\n",
        "    \"4ao\" : \"for adults only\",\n",
        "    \"a.m\" : \"before midday\",\n",
        "    \"a3\" : \"anytime anywhere anyplace\",\n",
        "    \"aamof\" : \"as a matter of fact\",\n",
        "    \"acct\" : \"account\",\n",
        "    \"adih\" : \"another day in hell\",\n",
        "    \"afaic\" : \"as far as i am concerned\",\n",
        "    \"afaict\" : \"as far as i can tell\",\n",
        "    \"afaik\" : \"as far as i know\",\n",
        "    \"afair\" : \"as far as i remember\",\n",
        "    \"afk\" : \"away from keyboard\",\n",
        "    \"app\" : \"application\",\n",
        "    \"approx\" : \"approximately\",\n",
        "    \"apps\" : \"applications\",\n",
        "    \"asap\" : \"as soon as possible\",\n",
        "    \"asl\" : \"age, sex, location\",\n",
        "    \"atk\" : \"at the keyboard\",\n",
        "    \"ave.\" : \"avenue\",\n",
        "    \"aymm\" : \"are you my mother\",\n",
        "    \"ayor\" : \"at your own risk\", \n",
        "    \"b&b\" : \"bed and breakfast\",\n",
        "    \"b+b\" : \"bed and breakfast\",\n",
        "    \"b.c\" : \"before christ\",\n",
        "    \"b2b\" : \"business to business\",\n",
        "    \"b2c\" : \"business to customer\",\n",
        "    \"b4\" : \"before\",\n",
        "    \"b4n\" : \"bye for now\",\n",
        "    \"b@u\" : \"back at you\",\n",
        "    \"bae\" : \"before anyone else\",\n",
        "    \"bak\" : \"back at keyboard\",\n",
        "    \"bbbg\" : \"bye bye be good\",\n",
        "    \"bbc\" : \"british broadcasting corporation\",\n",
        "    \"bbias\" : \"be back in a second\",\n",
        "    \"bbl\" : \"be back later\",\n",
        "    \"bbs\" : \"be back soon\",\n",
        "    \"be4\" : \"before\",\n",
        "    \"bfn\" : \"bye for now\",\n",
        "    \"blvd\" : \"boulevard\",\n",
        "    \"bout\" : \"about\",\n",
        "    \"brb\" : \"be right back\",\n",
        "    \"bros\" : \"brothers\",\n",
        "    \"brt\" : \"be right there\",\n",
        "    \"bsaaw\" : \"big smile and a wink\",\n",
        "    \"btw\" : \"by the way\",\n",
        "    \"bwl\" : \"bursting with laughter\",\n",
        "    \"c/o\" : \"care of\",\n",
        "    \"cet\" : \"central european time\",\n",
        "    \"cf\" : \"compare\",\n",
        "    \"cia\" : \"central intelligence agency\",\n",
        "    \"csl\" : \"can not stop laughing\",\n",
        "    \"cu\" : \"see you\",\n",
        "    \"cul8r\" : \"see you later\",\n",
        "    \"cv\" : \"curriculum vitae\",\n",
        "    \"cwot\" : \"complete waste of time\",\n",
        "    \"cya\" : \"see you\",\n",
        "    \"cyt\" : \"see you tomorrow\",\n",
        "    \"dae\" : \"does anyone else\",\n",
        "    \"dbmib\" : \"do not bother me i am busy\",\n",
        "    \"diy\" : \"do it yourself\",\n",
        "    \"dm\" : \"direct message\",\n",
        "    \"dwh\" : \"during work hours\",\n",
        "    \"e123\" : \"easy as one two three\",\n",
        "    \"eet\" : \"eastern european time\",\n",
        "    \"eg\" : \"example\",\n",
        "    \"embm\" : \"early morning business meeting\",\n",
        "    \"encl\" : \"enclosed\",\n",
        "    \"encl.\" : \"enclosed\",\n",
        "    \"etc\" : \"and so on\",\n",
        "    \"faq\" : \"frequently asked questions\",\n",
        "    \"fawc\" : \"for anyone who cares\",\n",
        "    \"fb\" : \"facebook\",\n",
        "    \"fc\" : \"fingers crossed\",\n",
        "    \"fig\" : \"figure\",\n",
        "    \"fimh\" : \"forever in my heart\", \n",
        "    \"ft.\" : \"feet\",\n",
        "    \"ft\" : \"featuring\",\n",
        "    \"ftl\" : \"for the loss\",\n",
        "    \"ftw\" : \"for the win\",\n",
        "    \"fwiw\" : \"for what it is worth\",\n",
        "    \"fyi\" : \"for your information\",\n",
        "    \"g9\" : \"genius\",\n",
        "    \"gahoy\" : \"get a hold of yourself\",\n",
        "    \"gal\" : \"get a life\",\n",
        "    \"gcse\" : \"general certificate of secondary education\",\n",
        "    \"gfn\" : \"gone for now\",\n",
        "    \"gg\" : \"good game\",\n",
        "    \"gl\" : \"good luck\",\n",
        "    \"glhf\" : \"good luck have fun\",\n",
        "    \"gmt\" : \"greenwich mean time\",\n",
        "    \"gmta\" : \"great minds think alike\",\n",
        "    \"gn\" : \"good night\",\n",
        "    \"g.o.a.t\" : \"greatest of all time\",\n",
        "    \"goat\" : \"greatest of all time\",\n",
        "    \"goi\" : \"get over it\",\n",
        "    \"gps\" : \"global positioning system\",\n",
        "    \"gr8\" : \"great\",\n",
        "    \"gratz\" : \"congratulations\",\n",
        "    \"gyal\" : \"girl\",\n",
        "    \"h&c\" : \"hot and cold\",\n",
        "    \"hp\" : \"horsepower\",\n",
        "    \"hr\" : \"hour\",\n",
        "    \"hrh\" : \"his royal highness\",\n",
        "    \"ht\" : \"height\",\n",
        "    \"ibrb\" : \"i will be right back\",\n",
        "    \"ic\" : \"i see\",\n",
        "    \"icq\" : \"i seek you\",\n",
        "    \"icymi\" : \"in case you missed it\",\n",
        "    \"idc\" : \"i do not care\",\n",
        "    \"idgadf\" : \"i do not give a damn fuck\",\n",
        "    \"idgaf\" : \"i do not give a fuck\",\n",
        "    \"idk\" : \"i do not know\",\n",
        "    \"ie\" : \"that is\",\n",
        "    \"i.e\" : \"that is\",\n",
        "    \"ifyp\" : \"i feel your pain\",\n",
        "    \"IG\" : \"instagram\",\n",
        "    \"iirc\" : \"if i remember correctly\",\n",
        "    \"ilu\" : \"i love you\",\n",
        "    \"ily\" : \"i love you\",\n",
        "    \"imho\" : \"in my humble opinion\",\n",
        "    \"imo\" : \"in my opinion\",\n",
        "    \"imu\" : \"i miss you\",\n",
        "    \"iow\" : \"in other words\",\n",
        "    \"irl\" : \"in real life\",\n",
        "    \"j4f\" : \"just for fun\",\n",
        "    \"jic\" : \"just in case\",\n",
        "    \"jk\" : \"just kidding\",\n",
        "    \"jsyk\" : \"just so you know\",\n",
        "    \"l8r\" : \"later\",\n",
        "    \"lb\" : \"pound\",\n",
        "    \"lbs\" : \"pounds\",\n",
        "    \"ldr\" : \"long distance relationship\",\n",
        "    \"lmao\" : \"laugh my ass off\",\n",
        "    \"lmfao\" : \"laugh my fucking ass off\",\n",
        "    \"lol\" : \"laughing out loud\",\n",
        "    \"ltd\" : \"limited\",\n",
        "    \"ltns\" : \"long time no see\",\n",
        "    \"m8\" : \"mate\",\n",
        "    \"mf\" : \"motherfucker\",\n",
        "    \"mfs\" : \"motherfuckers\",\n",
        "    \"mfw\" : \"my face when\",\n",
        "    \"mofo\" : \"motherfucker\",\n",
        "    \"mph\" : \"miles per hour\",\n",
        "    \"mr\" : \"mister\",\n",
        "    \"mrw\" : \"my reaction when\",\n",
        "    \"ms\" : \"miss\",\n",
        "    \"mte\" : \"my thoughts exactly\",\n",
        "    \"nagi\" : \"not a good idea\",\n",
        "    \"nbc\" : \"national broadcasting company\",\n",
        "    \"nbd\" : \"not big deal\",\n",
        "    \"nfs\" : \"not for sale\",\n",
        "    \"ngl\" : \"not going to lie\",\n",
        "    \"nhs\" : \"national health service\",\n",
        "    \"nrn\" : \"no reply necessary\",\n",
        "    \"nsfl\" : \"not safe for life\",\n",
        "    \"nsfw\" : \"not safe for work\",\n",
        "    \"nth\" : \"nice to have\",\n",
        "    \"nvr\" : \"never\",\n",
        "    \"nyc\" : \"new york city\",\n",
        "    \"oc\" : \"original content\",\n",
        "    \"og\" : \"original\",\n",
        "    \"ohp\" : \"overhead projector\",\n",
        "    \"oic\" : \"oh i see\",\n",
        "    \"omdb\" : \"over my dead body\",\n",
        "    \"omg\" : \"oh my god\",\n",
        "    \"omw\" : \"on my way\",\n",
        "    \"p.a\" : \"per annum\",\n",
        "    \"p.m\" : \"after midday\",\n",
        "    \"pm\" : \"prime minister\",\n",
        "    \"poc\" : \"people of color\",\n",
        "    \"pov\" : \"point of view\",\n",
        "    \"pp\" : \"pages\",\n",
        "    \"ppl\" : \"people\",\n",
        "    \"prw\" : \"parents are watching\",\n",
        "    \"ps\" : \"postscript\",\n",
        "    \"pt\" : \"point\",\n",
        "    \"ptb\" : \"please text back\",\n",
        "    \"pto\" : \"please turn over\",\n",
        "    \"qpsa\" : \"what happens\", \n",
        "    \"ratchet\" : \"rude\",\n",
        "    \"rbtl\" : \"read between the lines\",\n",
        "    \"rlrt\" : \"real life retweet\", \n",
        "    \"rofl\" : \"rolling on the floor laughing\",\n",
        "    \"roflol\" : \"rolling on the floor laughing out loud\",\n",
        "    \"rotflmao\" : \"rolling on the floor laughing my ass off\",\n",
        "    \"rt\" : \"retweet\",\n",
        "    \"ruok\" : \"are you ok\",\n",
        "    \"sfw\" : \"safe for work\",\n",
        "     \"sk8\" : \"skate\",\n",
        "    \"smh\" : \"shake my head\",\n",
        "    \"sq\" : \"square\",\n",
        "    \"srsly\" : \"seriously\", \n",
        "    \"ssdd\" : \"same stuff different day\",\n",
        "    \"tbh\" : \"to be honest\",\n",
        "    \"tbs\" : \"tablespooful\",\n",
        "    \"tbsp\" : \"tablespooful\",\n",
        "    \"tfw\" : \"that feeling when\",\n",
        "    \"thks\" : \"thank you\",\n",
        "    \"tho\" : \"though\",\n",
        "    \"thx\" : \"thank you\",\n",
        "    \"tia\" : \"thanks in advance\",\n",
        "    \"til\" : \"today i learned\",\n",
        "    \"tl;dr\" : \"too long i did not read\",\n",
        "    \"tldr\" : \"too long i did not read\",\n",
        "    \"tmb\" : \"tweet me back\",\n",
        "    \"tntl\" : \"trying not to laugh\",\n",
        "    \"ttyl\" : \"talk to you later\",\n",
        "    \"u\" : \"you\",\n",
        "    \"u2\" : \"you too\",\n",
        "    \"u4e\" : \"yours for ever\",\n",
        "    \"utc\" : \"coordinated universal time\",\n",
        "    \"w/\" : \"with\",\n",
        "    \"w/o\" : \"without\",\n",
        "    \"w8\" : \"wait\",\n",
        "    \"wassup\" : \"what is up\",\n",
        "    \"wb\" : \"welcome back\",\n",
        "    \"wtf\" : \"what the fuck\",\n",
        "    \"wtg\" : \"way to go\",\n",
        "    \"wtpa\" : \"where the party at\",\n",
        "    \"wuf\" : \"where are you from\",\n",
        "    \"wuzup\" : \"what is up\",\n",
        "    \"wywh\" : \"wish you were here\",\n",
        "    \"yd\" : \"yard\",\n",
        "    \"ygtr\" : \"you got that right\",\n",
        "    \"ynk\" : \"you never know\",\n",
        "    \"zzz\" : \"sleeping bored and tired\"\n",
        "}\n",
        "\n",
        "def convert_abbrev_in_text(comment):\n",
        "    t=[]\n",
        "    words=comment.split()\n",
        "    t = [abbreviations[w.lower()] if w.lower() in abbreviations.keys() else w for w in words]\n",
        "    return ' '.join(t) "
      ],
      "metadata": {
        "id": "zR4rjLDQw82b"
      },
      "execution_count": 40,
      "outputs": []
    },
    {
      "cell_type": "markdown",
      "source": [
        "La fonction prepare_string permet d'appliquer les deux traitements définis précédemment pour netoyer les commentaires."
      ],
      "metadata": {
        "id": "RQzYqwwxw_ZN"
      }
    },
    {
      "cell_type": "code",
      "source": [
        "def prepare_string(comment):\n",
        "  comment = clean(comment)\n",
        "  comment = convert_abbrev_in_text(comment)\n",
        "  return comment"
      ],
      "metadata": {
        "id": "1Na_5KzcxAv7"
      },
      "execution_count": 41,
      "outputs": []
    },
    {
      "cell_type": "code",
      "source": [
        "%%time\n",
        "data['comment_text'] = data['comment_text'].apply(lambda s : prepare_string(s))\n",
        "\n",
        "# Drop empty values from dataframe\n",
        "data['comment_text'].replace('', np.nan, inplace=True)\n",
        "data.dropna(subset=['comment_text'], inplace=True)"
      ],
      "metadata": {
        "colab": {
          "base_uri": "https://localhost:8080/"
        },
        "id": "SKbnzpjTxB6D",
        "outputId": "310ef3cb-f31f-484f-ffc5-07cbeea57f11"
      },
      "execution_count": 42,
      "outputs": [
        {
          "output_type": "stream",
          "name": "stdout",
          "text": [
            "CPU times: user 13.4 s, sys: 52.7 ms, total: 13.4 s\n",
            "Wall time: 13.4 s\n"
          ]
        }
      ]
    },
    {
      "cell_type": "code",
      "source": [
        "data.head(20)"
      ],
      "metadata": {
        "colab": {
          "base_uri": "https://localhost:8080/",
          "height": 669
        },
        "id": "DWTQi3ibxEe5",
        "outputId": "9739ef23-4d47-4257-dff3-575bcdaffe21"
      },
      "execution_count": 43,
      "outputs": [
        {
          "output_type": "execute_result",
          "data": {
            "text/plain": [
              "                  id                                       comment_text  \\\n",
              "0   0000997932d777bf  explanation why edits made username hardcore m...   \n",
              "1   000103f0d9cfb60f  daww matches background colour seemingly stuck...   \n",
              "2   000113f07ec002fd  hey man really trying edit war guy constantly ...   \n",
              "3   0001b41b1c6bb37e  more make real suggestions improvement wondere...   \n",
              "4   0001d958c54c6e35              you sir hero any chance remember page   \n",
              "5   00025465d4725e87           congratulations well use tools well talk   \n",
              "6   0002bcb3da6cb337             cocksucker before you piss around work   \n",
              "7   00031b1e95af7921  your vandalism matt shirvington article revert...   \n",
              "8   00037261f536c51d  sorry word nonsense offensive anyway intending...   \n",
              "9   00040093b2687caa               alignment subject contrary dulithgow   \n",
              "10  0005300084f90edc  fair use rationale imagewonjujpg thanks upload...   \n",
              "11  00054a5e18b50dd4                 bbq man lets discuss itmaybe phone   \n",
              "12  0005c987bdfc9d4b  hey talk what exclusive group talibanswho good...   \n",
              "13  0006f16e4e9f292e  before start throwing accusations warnings let...   \n",
              "14  00070ef96486d6f9  girl started arguments she stuck nose belong b...   \n",
              "15  00078f8ce7eb276d  juelz santanas age juelz santana years old cam...   \n",
              "16  0007e25b2121310b            bye look come think comming back tosser   \n",
              "17  000897889268bc93     redirect talkvoydan pop georgiev chernodrinski   \n",
              "18  0009801bd85e5806  the mitsurugi point made sense argue include h...   \n",
              "19  0009eaea3325de8c  mean bother see writing something regarding re...   \n",
              "\n",
              "    toxic  severe_toxic  obscene  threat  insult  identity_hate  \n",
              "0       0             0        0       0       0              0  \n",
              "1       0             0        0       0       0              0  \n",
              "2       0             0        0       0       0              0  \n",
              "3       0             0        0       0       0              0  \n",
              "4       0             0        0       0       0              0  \n",
              "5       0             0        0       0       0              0  \n",
              "6       1             1        1       0       1              0  \n",
              "7       0             0        0       0       0              0  \n",
              "8       0             0        0       0       0              0  \n",
              "9       0             0        0       0       0              0  \n",
              "10      0             0        0       0       0              0  \n",
              "11      0             0        0       0       0              0  \n",
              "12      1             0        0       0       0              0  \n",
              "13      0             0        0       0       0              0  \n",
              "14      0             0        0       0       0              0  \n",
              "15      0             0        0       0       0              0  \n",
              "16      1             0        0       0       0              0  \n",
              "17      0             0        0       0       0              0  \n",
              "18      0             0        0       0       0              0  \n",
              "19      0             0        0       0       0              0  "
            ],
            "text/html": [
              "\n",
              "  <div id=\"df-18ddbe9d-da69-4e88-9172-a64f58bcac3c\">\n",
              "    <div class=\"colab-df-container\">\n",
              "      <div>\n",
              "<style scoped>\n",
              "    .dataframe tbody tr th:only-of-type {\n",
              "        vertical-align: middle;\n",
              "    }\n",
              "\n",
              "    .dataframe tbody tr th {\n",
              "        vertical-align: top;\n",
              "    }\n",
              "\n",
              "    .dataframe thead th {\n",
              "        text-align: right;\n",
              "    }\n",
              "</style>\n",
              "<table border=\"1\" class=\"dataframe\">\n",
              "  <thead>\n",
              "    <tr style=\"text-align: right;\">\n",
              "      <th></th>\n",
              "      <th>id</th>\n",
              "      <th>comment_text</th>\n",
              "      <th>toxic</th>\n",
              "      <th>severe_toxic</th>\n",
              "      <th>obscene</th>\n",
              "      <th>threat</th>\n",
              "      <th>insult</th>\n",
              "      <th>identity_hate</th>\n",
              "    </tr>\n",
              "  </thead>\n",
              "  <tbody>\n",
              "    <tr>\n",
              "      <th>0</th>\n",
              "      <td>0000997932d777bf</td>\n",
              "      <td>explanation why edits made username hardcore m...</td>\n",
              "      <td>0</td>\n",
              "      <td>0</td>\n",
              "      <td>0</td>\n",
              "      <td>0</td>\n",
              "      <td>0</td>\n",
              "      <td>0</td>\n",
              "    </tr>\n",
              "    <tr>\n",
              "      <th>1</th>\n",
              "      <td>000103f0d9cfb60f</td>\n",
              "      <td>daww matches background colour seemingly stuck...</td>\n",
              "      <td>0</td>\n",
              "      <td>0</td>\n",
              "      <td>0</td>\n",
              "      <td>0</td>\n",
              "      <td>0</td>\n",
              "      <td>0</td>\n",
              "    </tr>\n",
              "    <tr>\n",
              "      <th>2</th>\n",
              "      <td>000113f07ec002fd</td>\n",
              "      <td>hey man really trying edit war guy constantly ...</td>\n",
              "      <td>0</td>\n",
              "      <td>0</td>\n",
              "      <td>0</td>\n",
              "      <td>0</td>\n",
              "      <td>0</td>\n",
              "      <td>0</td>\n",
              "    </tr>\n",
              "    <tr>\n",
              "      <th>3</th>\n",
              "      <td>0001b41b1c6bb37e</td>\n",
              "      <td>more make real suggestions improvement wondere...</td>\n",
              "      <td>0</td>\n",
              "      <td>0</td>\n",
              "      <td>0</td>\n",
              "      <td>0</td>\n",
              "      <td>0</td>\n",
              "      <td>0</td>\n",
              "    </tr>\n",
              "    <tr>\n",
              "      <th>4</th>\n",
              "      <td>0001d958c54c6e35</td>\n",
              "      <td>you sir hero any chance remember page</td>\n",
              "      <td>0</td>\n",
              "      <td>0</td>\n",
              "      <td>0</td>\n",
              "      <td>0</td>\n",
              "      <td>0</td>\n",
              "      <td>0</td>\n",
              "    </tr>\n",
              "    <tr>\n",
              "      <th>5</th>\n",
              "      <td>00025465d4725e87</td>\n",
              "      <td>congratulations well use tools well talk</td>\n",
              "      <td>0</td>\n",
              "      <td>0</td>\n",
              "      <td>0</td>\n",
              "      <td>0</td>\n",
              "      <td>0</td>\n",
              "      <td>0</td>\n",
              "    </tr>\n",
              "    <tr>\n",
              "      <th>6</th>\n",
              "      <td>0002bcb3da6cb337</td>\n",
              "      <td>cocksucker before you piss around work</td>\n",
              "      <td>1</td>\n",
              "      <td>1</td>\n",
              "      <td>1</td>\n",
              "      <td>0</td>\n",
              "      <td>1</td>\n",
              "      <td>0</td>\n",
              "    </tr>\n",
              "    <tr>\n",
              "      <th>7</th>\n",
              "      <td>00031b1e95af7921</td>\n",
              "      <td>your vandalism matt shirvington article revert...</td>\n",
              "      <td>0</td>\n",
              "      <td>0</td>\n",
              "      <td>0</td>\n",
              "      <td>0</td>\n",
              "      <td>0</td>\n",
              "      <td>0</td>\n",
              "    </tr>\n",
              "    <tr>\n",
              "      <th>8</th>\n",
              "      <td>00037261f536c51d</td>\n",
              "      <td>sorry word nonsense offensive anyway intending...</td>\n",
              "      <td>0</td>\n",
              "      <td>0</td>\n",
              "      <td>0</td>\n",
              "      <td>0</td>\n",
              "      <td>0</td>\n",
              "      <td>0</td>\n",
              "    </tr>\n",
              "    <tr>\n",
              "      <th>9</th>\n",
              "      <td>00040093b2687caa</td>\n",
              "      <td>alignment subject contrary dulithgow</td>\n",
              "      <td>0</td>\n",
              "      <td>0</td>\n",
              "      <td>0</td>\n",
              "      <td>0</td>\n",
              "      <td>0</td>\n",
              "      <td>0</td>\n",
              "    </tr>\n",
              "    <tr>\n",
              "      <th>10</th>\n",
              "      <td>0005300084f90edc</td>\n",
              "      <td>fair use rationale imagewonjujpg thanks upload...</td>\n",
              "      <td>0</td>\n",
              "      <td>0</td>\n",
              "      <td>0</td>\n",
              "      <td>0</td>\n",
              "      <td>0</td>\n",
              "      <td>0</td>\n",
              "    </tr>\n",
              "    <tr>\n",
              "      <th>11</th>\n",
              "      <td>00054a5e18b50dd4</td>\n",
              "      <td>bbq man lets discuss itmaybe phone</td>\n",
              "      <td>0</td>\n",
              "      <td>0</td>\n",
              "      <td>0</td>\n",
              "      <td>0</td>\n",
              "      <td>0</td>\n",
              "      <td>0</td>\n",
              "    </tr>\n",
              "    <tr>\n",
              "      <th>12</th>\n",
              "      <td>0005c987bdfc9d4b</td>\n",
              "      <td>hey talk what exclusive group talibanswho good...</td>\n",
              "      <td>1</td>\n",
              "      <td>0</td>\n",
              "      <td>0</td>\n",
              "      <td>0</td>\n",
              "      <td>0</td>\n",
              "      <td>0</td>\n",
              "    </tr>\n",
              "    <tr>\n",
              "      <th>13</th>\n",
              "      <td>0006f16e4e9f292e</td>\n",
              "      <td>before start throwing accusations warnings let...</td>\n",
              "      <td>0</td>\n",
              "      <td>0</td>\n",
              "      <td>0</td>\n",
              "      <td>0</td>\n",
              "      <td>0</td>\n",
              "      <td>0</td>\n",
              "    </tr>\n",
              "    <tr>\n",
              "      <th>14</th>\n",
              "      <td>00070ef96486d6f9</td>\n",
              "      <td>girl started arguments she stuck nose belong b...</td>\n",
              "      <td>0</td>\n",
              "      <td>0</td>\n",
              "      <td>0</td>\n",
              "      <td>0</td>\n",
              "      <td>0</td>\n",
              "      <td>0</td>\n",
              "    </tr>\n",
              "    <tr>\n",
              "      <th>15</th>\n",
              "      <td>00078f8ce7eb276d</td>\n",
              "      <td>juelz santanas age juelz santana years old cam...</td>\n",
              "      <td>0</td>\n",
              "      <td>0</td>\n",
              "      <td>0</td>\n",
              "      <td>0</td>\n",
              "      <td>0</td>\n",
              "      <td>0</td>\n",
              "    </tr>\n",
              "    <tr>\n",
              "      <th>16</th>\n",
              "      <td>0007e25b2121310b</td>\n",
              "      <td>bye look come think comming back tosser</td>\n",
              "      <td>1</td>\n",
              "      <td>0</td>\n",
              "      <td>0</td>\n",
              "      <td>0</td>\n",
              "      <td>0</td>\n",
              "      <td>0</td>\n",
              "    </tr>\n",
              "    <tr>\n",
              "      <th>17</th>\n",
              "      <td>000897889268bc93</td>\n",
              "      <td>redirect talkvoydan pop georgiev chernodrinski</td>\n",
              "      <td>0</td>\n",
              "      <td>0</td>\n",
              "      <td>0</td>\n",
              "      <td>0</td>\n",
              "      <td>0</td>\n",
              "      <td>0</td>\n",
              "    </tr>\n",
              "    <tr>\n",
              "      <th>18</th>\n",
              "      <td>0009801bd85e5806</td>\n",
              "      <td>the mitsurugi point made sense argue include h...</td>\n",
              "      <td>0</td>\n",
              "      <td>0</td>\n",
              "      <td>0</td>\n",
              "      <td>0</td>\n",
              "      <td>0</td>\n",
              "      <td>0</td>\n",
              "    </tr>\n",
              "    <tr>\n",
              "      <th>19</th>\n",
              "      <td>0009eaea3325de8c</td>\n",
              "      <td>mean bother see writing something regarding re...</td>\n",
              "      <td>0</td>\n",
              "      <td>0</td>\n",
              "      <td>0</td>\n",
              "      <td>0</td>\n",
              "      <td>0</td>\n",
              "      <td>0</td>\n",
              "    </tr>\n",
              "  </tbody>\n",
              "</table>\n",
              "</div>\n",
              "      <button class=\"colab-df-convert\" onclick=\"convertToInteractive('df-18ddbe9d-da69-4e88-9172-a64f58bcac3c')\"\n",
              "              title=\"Convert this dataframe to an interactive table.\"\n",
              "              style=\"display:none;\">\n",
              "        \n",
              "  <svg xmlns=\"http://www.w3.org/2000/svg\" height=\"24px\"viewBox=\"0 0 24 24\"\n",
              "       width=\"24px\">\n",
              "    <path d=\"M0 0h24v24H0V0z\" fill=\"none\"/>\n",
              "    <path d=\"M18.56 5.44l.94 2.06.94-2.06 2.06-.94-2.06-.94-.94-2.06-.94 2.06-2.06.94zm-11 1L8.5 8.5l.94-2.06 2.06-.94-2.06-.94L8.5 2.5l-.94 2.06-2.06.94zm10 10l.94 2.06.94-2.06 2.06-.94-2.06-.94-.94-2.06-.94 2.06-2.06.94z\"/><path d=\"M17.41 7.96l-1.37-1.37c-.4-.4-.92-.59-1.43-.59-.52 0-1.04.2-1.43.59L10.3 9.45l-7.72 7.72c-.78.78-.78 2.05 0 2.83L4 21.41c.39.39.9.59 1.41.59.51 0 1.02-.2 1.41-.59l7.78-7.78 2.81-2.81c.8-.78.8-2.07 0-2.86zM5.41 20L4 18.59l7.72-7.72 1.47 1.35L5.41 20z\"/>\n",
              "  </svg>\n",
              "      </button>\n",
              "      \n",
              "  <style>\n",
              "    .colab-df-container {\n",
              "      display:flex;\n",
              "      flex-wrap:wrap;\n",
              "      gap: 12px;\n",
              "    }\n",
              "\n",
              "    .colab-df-convert {\n",
              "      background-color: #E8F0FE;\n",
              "      border: none;\n",
              "      border-radius: 50%;\n",
              "      cursor: pointer;\n",
              "      display: none;\n",
              "      fill: #1967D2;\n",
              "      height: 32px;\n",
              "      padding: 0 0 0 0;\n",
              "      width: 32px;\n",
              "    }\n",
              "\n",
              "    .colab-df-convert:hover {\n",
              "      background-color: #E2EBFA;\n",
              "      box-shadow: 0px 1px 2px rgba(60, 64, 67, 0.3), 0px 1px 3px 1px rgba(60, 64, 67, 0.15);\n",
              "      fill: #174EA6;\n",
              "    }\n",
              "\n",
              "    [theme=dark] .colab-df-convert {\n",
              "      background-color: #3B4455;\n",
              "      fill: #D2E3FC;\n",
              "    }\n",
              "\n",
              "    [theme=dark] .colab-df-convert:hover {\n",
              "      background-color: #434B5C;\n",
              "      box-shadow: 0px 1px 3px 1px rgba(0, 0, 0, 0.15);\n",
              "      filter: drop-shadow(0px 1px 2px rgba(0, 0, 0, 0.3));\n",
              "      fill: #FFFFFF;\n",
              "    }\n",
              "  </style>\n",
              "\n",
              "      <script>\n",
              "        const buttonEl =\n",
              "          document.querySelector('#df-18ddbe9d-da69-4e88-9172-a64f58bcac3c button.colab-df-convert');\n",
              "        buttonEl.style.display =\n",
              "          google.colab.kernel.accessAllowed ? 'block' : 'none';\n",
              "\n",
              "        async function convertToInteractive(key) {\n",
              "          const element = document.querySelector('#df-18ddbe9d-da69-4e88-9172-a64f58bcac3c');\n",
              "          const dataTable =\n",
              "            await google.colab.kernel.invokeFunction('convertToInteractive',\n",
              "                                                     [key], {});\n",
              "          if (!dataTable) return;\n",
              "\n",
              "          const docLinkHtml = 'Like what you see? Visit the ' +\n",
              "            '<a target=\"_blank\" href=https://colab.research.google.com/notebooks/data_table.ipynb>data table notebook</a>'\n",
              "            + ' to learn more about interactive tables.';\n",
              "          element.innerHTML = '';\n",
              "          dataTable['output_type'] = 'display_data';\n",
              "          await google.colab.output.renderOutput(dataTable, element);\n",
              "          const docLink = document.createElement('div');\n",
              "          docLink.innerHTML = docLinkHtml;\n",
              "          element.appendChild(docLink);\n",
              "        }\n",
              "      </script>\n",
              "    </div>\n",
              "  </div>\n",
              "  "
            ]
          },
          "metadata": {},
          "execution_count": 43
        }
      ]
    },
    {
      "cell_type": "markdown",
      "source": [
        "Nos commentaires sont maintenant nettoyés et prêts à être traités."
      ],
      "metadata": {
        "id": "StU2bgttxF-d"
      }
    },
    {
      "cell_type": "markdown",
      "source": [
        "# Passage du texte dans un format structuré"
      ],
      "metadata": {
        "id": "-8AEuTKsSuLs"
      }
    },
    {
      "cell_type": "code",
      "source": [
        "corpus_size = int(10000)\n",
        "#corpus_size = int(800)\n",
        "#On va maintenant prendre un échantillon de notre dataset car TfidfVectorizer() a besoin d'énormément de ram pour ses calculs si on prend le dataset entier\n",
        "\n",
        "sample_data = data.iloc[:corpus_size, :]\n",
        "\n",
        "comments = sample_data['comment_text']\n",
        "\n",
        "#On récupère maintenant les labels\n",
        "y = sample_data.drop(columns=[\"comment_text\", \"id\"]).values[:int(corpus_size)]\n",
        "\n",
        "\n",
        "tfIdfVectorizer = TfidfVectorizer(ngram_range=(1,2), max_df=0.9, min_df=5, token_pattern='(\\S+)')\n",
        "X = tfIdfVectorizer.fit_transform(comments).toarray()"
      ],
      "metadata": {
        "id": "AfiItZEITBK3"
      },
      "execution_count": 44,
      "outputs": []
    },
    {
      "cell_type": "code",
      "source": [
        "X_train, X_test, y_train, y_test = train_test_split(X, y, test_size=.3, random_state=0)"
      ],
      "metadata": {
        "id": "ikFPX1HHxNnU"
      },
      "execution_count": 45,
      "outputs": []
    },
    {
      "cell_type": "markdown",
      "source": [
        "# Entraînement du modèle baseline"
      ],
      "metadata": {
        "id": "LxNIQgESTCmE"
      }
    },
    {
      "cell_type": "markdown",
      "source": [
        "Nous étions à la base partis sur un modèle de RandomForestClassifier comme dans les TP.\n",
        "Nous avons donc constaté le manque de précision du modèle et fait une analyse afin d'améliorer la précision.\n",
        "Mais nous nous sommes finalement rendu compte que ce modèle ne peut sortir qu'une seule classe à la fois. Autrement dit, un commentaire classé comme 'toxic' par le modèle ne sera jamais classé 'obscene' car le modèle ne pourra pas sortir deux labels en même temps.\n",
        "Il faut donc utiliser un modèle permettant de faire de la multi-label classification.\n",
        "On utilise ici OneVsRestClassifier."
      ],
      "metadata": {
        "id": "D442ozw9lS0A"
      }
    },
    {
      "cell_type": "code",
      "source": [
        "model = OneVsRestClassifier(RandomForestClassifier(n_estimators=15, random_state=1), n_jobs=-1)\n",
        "model.fit(X_train, y_train)"
      ],
      "metadata": {
        "id": "YgkPpzIzSQUi",
        "colab": {
          "base_uri": "https://localhost:8080/"
        },
        "outputId": "06ac0610-e4a9-466b-b119-d3d06c5f6a1c"
      },
      "execution_count": 46,
      "outputs": [
        {
          "output_type": "execute_result",
          "data": {
            "text/plain": [
              "OneVsRestClassifier(estimator=RandomForestClassifier(n_estimators=15,\n",
              "                                                     random_state=1),\n",
              "                    n_jobs=-1)"
            ]
          },
          "metadata": {},
          "execution_count": 46
        }
      ]
    },
    {
      "cell_type": "markdown",
      "source": [
        "On analyse maintenant les performances de notre modèle baseline"
      ],
      "metadata": {
        "id": "aX3lCL2YxSwb"
      }
    },
    {
      "cell_type": "markdown",
      "source": [
        "On regarde tout d'abord les performances sur les données d'entraînement"
      ],
      "metadata": {
        "id": "2bfzWsNK_7EZ"
      }
    },
    {
      "cell_type": "code",
      "source": [
        "print(y_train[4], y_train[10])\n",
        "print(model.predict([X_train[4], X_train[10]]))\n",
        "\n",
        "training_predictions = model.predict(X_train)\n",
        "print(classification_report(y_train,training_predictions, zero_division = 1))   \n",
        "\n",
        "print(accuracy_score(y_train, training_predictions))"
      ],
      "metadata": {
        "id": "yyWRJAlzo-43",
        "colab": {
          "base_uri": "https://localhost:8080/"
        },
        "outputId": "fe9854e6-36e4-41dc-dd48-c78bea647867"
      },
      "execution_count": 47,
      "outputs": [
        {
          "output_type": "stream",
          "name": "stdout",
          "text": [
            "[0 0 0 0 0 0] [0 0 0 0 0 0]\n",
            "[[0 0 0 0 0 0]\n",
            " [0 0 0 0 0 0]]\n",
            "              precision    recall  f1-score   support\n",
            "\n",
            "           0       1.00      0.97      0.98       667\n",
            "           1       1.00      0.93      0.96        71\n",
            "           2       1.00      0.97      0.99       360\n",
            "           3       1.00      0.78      0.88        23\n",
            "           4       1.00      0.96      0.98       323\n",
            "           5       1.00      0.87      0.93        55\n",
            "\n",
            "   micro avg       1.00      0.96      0.98      1499\n",
            "   macro avg       1.00      0.91      0.95      1499\n",
            "weighted avg       1.00      0.96      0.98      1499\n",
            " samples avg       1.00      1.00      1.00      1499\n",
            "\n",
            "0.9931428571428571\n"
          ]
        }
      ]
    },
    {
      "cell_type": "markdown",
      "source": [
        "On voit ici que nous avons une précision de 99%."
      ],
      "metadata": {
        "id": "k_VgD0w6A7dw"
      }
    },
    {
      "cell_type": "markdown",
      "source": [
        "Regardons maintenant les performances du modèle sur des données jamais rencontrées."
      ],
      "metadata": {
        "id": "_jUhEE2I__t7"
      }
    },
    {
      "cell_type": "code",
      "source": [
        "predictions = model.predict(X_test)\n",
        "print(classification_report(y_test,predictions, zero_division = 1))   \n",
        "\n",
        "print(accuracy_score(y_test, predictions))"
      ],
      "metadata": {
        "id": "86TfrwPyxSDq",
        "colab": {
          "base_uri": "https://localhost:8080/"
        },
        "outputId": "7eba4e9f-b6d3-4fc3-bcd8-238b16153328"
      },
      "execution_count": 48,
      "outputs": [
        {
          "output_type": "stream",
          "name": "stdout",
          "text": [
            "              precision    recall  f1-score   support\n",
            "\n",
            "           0       0.89      0.54      0.67       303\n",
            "           1       0.50      0.03      0.06        29\n",
            "           2       0.92      0.54      0.68       167\n",
            "           3       1.00      0.00      0.00        10\n",
            "           4       0.84      0.30      0.44       171\n",
            "           5       0.50      0.04      0.07        28\n",
            "\n",
            "   micro avg       0.88      0.43      0.58       708\n",
            "   macro avg       0.77      0.24      0.32       708\n",
            "weighted avg       0.85      0.43      0.56       708\n",
            " samples avg       0.99      0.93      0.93       708\n",
            "\n",
            "0.9053333333333333\n"
          ]
        }
      ]
    },
    {
      "cell_type": "markdown",
      "source": [
        "On remarque que nous avons une accuracy de 90%. Cela peut sembler correct mais on peut penser que, la dataset ayant en majorité des commentaires normaux, le modèle prédit qu'un commentaire est normal pour chaque type de commentaire."
      ],
      "metadata": {
        "id": "DN_K3-wXxWRC"
      }
    },
    {
      "cell_type": "code",
      "source": [
        "def analysePredictions(predictions, y_test):\n",
        "  num_col = len(predictions[0])\n",
        "  num_rows = len(predictions)\n",
        "\n",
        "  report = []\n",
        "\n",
        "  for label in range(num_col):\n",
        "    true_positive = false_positive = true_negative = false_negative = count = 0\n",
        "    for i in range(num_rows):\n",
        "      pred = predictions[i][label]\n",
        "      answer = y_test[i][label]\n",
        "      if pred == 1:\n",
        "        if answer == 1:\n",
        "          count += 1\n",
        "          true_positive += 1\n",
        "        else:\n",
        "          false_positive += 1\n",
        "      else:\n",
        "        if answer == 0:\n",
        "          true_negative += 1\n",
        "        else:\n",
        "          count += 1\n",
        "          false_negative += 1\n",
        "    report.append({\n",
        "        'COUNT': count,\n",
        "        'TP': true_positive,\n",
        "        'FP': false_positive,\n",
        "        'TN': true_negative,\n",
        "        'FN': false_negative\n",
        "    })\n",
        "  return report"
      ],
      "metadata": {
        "id": "yt2SiDX2xYl7"
      },
      "execution_count": 49,
      "outputs": []
    },
    {
      "cell_type": "code",
      "source": [
        "report = analysePredictions(predictions, y_test)\n",
        "\n",
        "for i, label in enumerate(labels):\n",
        "  print(\n",
        "  \"\"\"\n",
        "  {}:\n",
        "      Count: {}\n",
        "      \n",
        "        -True positive: {}\n",
        "        -False positive: {}\n",
        "        -True negative: {}\n",
        "        -False negative: {} \n",
        "\n",
        "{}\n",
        "  \"\"\".format(label, report[i]['COUNT'], report[i]['TP'], report[i]['FP'], report[i]['TN'], report[i]['FN'], confusion_matrix(y_test[:, i], predictions[:,i]))#On a aussi la possibilité d'utiliser confusion_matrix pour déterminer ces valeurs\n",
        "  )"
      ],
      "metadata": {
        "id": "o0pXZ9qqyyLL",
        "colab": {
          "base_uri": "https://localhost:8080/"
        },
        "outputId": "672c079c-ad9a-4cc6-af9a-99fc0baca7e1"
      },
      "execution_count": 50,
      "outputs": [
        {
          "output_type": "stream",
          "name": "stdout",
          "text": [
            "\n",
            "  toxic:\n",
            "      Count: 303\n",
            "      \n",
            "        -True positive: 163\n",
            "        -False positive: 21\n",
            "        -True negative: 2676\n",
            "        -False negative: 140 \n",
            "\n",
            "[[2676   21]\n",
            " [ 140  163]]\n",
            "  \n",
            "\n",
            "  severe_toxic:\n",
            "      Count: 29\n",
            "      \n",
            "        -True positive: 1\n",
            "        -False positive: 1\n",
            "        -True negative: 2970\n",
            "        -False negative: 28 \n",
            "\n",
            "[[2970    1]\n",
            " [  28    1]]\n",
            "  \n",
            "\n",
            "  obscene:\n",
            "      Count: 167\n",
            "      \n",
            "        -True positive: 91\n",
            "        -False positive: 8\n",
            "        -True negative: 2825\n",
            "        -False negative: 76 \n",
            "\n",
            "[[2825    8]\n",
            " [  76   91]]\n",
            "  \n",
            "\n",
            "  threat:\n",
            "      Count: 10\n",
            "      \n",
            "        -True positive: 0\n",
            "        -False positive: 0\n",
            "        -True negative: 2990\n",
            "        -False negative: 10 \n",
            "\n",
            "[[2990    0]\n",
            " [  10    0]]\n",
            "  \n",
            "\n",
            "  insult:\n",
            "      Count: 171\n",
            "      \n",
            "        -True positive: 51\n",
            "        -False positive: 10\n",
            "        -True negative: 2819\n",
            "        -False negative: 120 \n",
            "\n",
            "[[2819   10]\n",
            " [ 120   51]]\n",
            "  \n",
            "\n",
            "  identity_hate:\n",
            "      Count: 28\n",
            "      \n",
            "        -True positive: 1\n",
            "        -False positive: 1\n",
            "        -True negative: 2971\n",
            "        -False negative: 27 \n",
            "\n",
            "[[2971    1]\n",
            " [  27    1]]\n",
            "  \n"
          ]
        }
      ]
    },
    {
      "cell_type": "markdown",
      "source": [
        "En analysant ces indicateurs, on se rend alors compte qu'en réalité, le modèle n'arrive pas à classer les commentaires toxiques en général.\n",
        "La bonne accuracy provient ici du fait que la majorité des commentaires étant normaux et du fait que le modèle considère la grande majorité des commentaires comme normaux même s'ils certains toxiques.\n",
        "Le modèle n'est donc pas performant.\n",
        "La méthode utilisant le tfidf ne semble pas être réellement performante.\n",
        "En effet, le modèle ne semble pas être capable de généraliser."
      ],
      "metadata": {
        "id": "_LV5xeI7754P"
      }
    },
    {
      "cell_type": "markdown",
      "source": [
        "# Itération de la modélisation "
      ],
      "metadata": {
        "id": "2a8IWbTFTHXh"
      }
    },
    {
      "cell_type": "markdown",
      "source": [
        "Nous allons maintenant tenter d'amliorer les performances de notre modèle en passant par un réseau de neurones."
      ],
      "metadata": {
        "id": "K8XHIfOnCO_R"
      }
    },
    {
      "cell_type": "markdown",
      "source": [
        "Hyperparamètres"
      ],
      "metadata": {
        "id": "pzjEU3y9CmS_"
      }
    },
    {
      "cell_type": "code",
      "source": [
        "embedding_dim = 100    # Dimensions used for glove6b100\n",
        "max_length = 20        # Maximum size of a tweet\n",
        "trunc_type='post'      # Truncates the tweet if it is longer than max_length\n",
        "padding_type='post'    # Adds padding to the end of the tweet if it is shorter than max_length\n",
        "oov_tok = \"<OOV>\"      # Token \"<OOV>\" replaces words that are not part of the vocabulary (Out Of Vocabulary)\n",
        "training_size=len(corpus)\n",
        "test_portion=.25"
      ],
      "metadata": {
        "id": "rVR0eCkoTQSI"
      },
      "execution_count": 51,
      "outputs": []
    },
    {
      "cell_type": "code",
      "source": [
        "tokenizer = Tokenizer()\n",
        "tokenizer.fit_on_texts(sentences)"
      ],
      "metadata": {
        "id": "Qca8GmCNJMl5"
      },
      "execution_count": null,
      "outputs": []
    }
  ]
}